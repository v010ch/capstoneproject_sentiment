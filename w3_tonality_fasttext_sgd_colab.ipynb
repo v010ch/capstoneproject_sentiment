{
 "cells": [
  {
   "cell_type": "code",
   "execution_count": null,
   "metadata": {
    "executionInfo": {
     "elapsed": 219,
     "status": "ok",
     "timestamp": 1630386111762,
     "user": {
      "displayName": "Владимир Ахременко",
      "photoUrl": "",
      "userId": "12488346382028371111"
     },
     "user_tz": -180
    },
    "id": "StoqzkYuK43P"
   },
   "outputs": [],
   "source": []
  },
  {
   "cell_type": "markdown",
   "metadata": {
    "id": "oNOexGzJjbCm"
   },
   "source": [
    "Подготовка окружения"
   ]
  },
  {
   "cell_type": "code",
   "execution_count": null,
   "metadata": {
    "executionInfo": {
     "elapsed": 671,
     "status": "ok",
     "timestamp": 1630402384821,
     "user": {
      "displayName": "Владимир Ахременко",
      "photoUrl": "",
      "userId": "12488346382028371111"
     },
     "user_tz": -180
    },
    "id": "GFjpp_2xLt6D"
   },
   "outputs": [],
   "source": [
    "import json\n",
    "import zipfile\n",
    "import os"
   ]
  },
  {
   "cell_type": "code",
   "execution_count": null,
   "metadata": {
    "colab": {
     "base_uri": "https://localhost:8080/"
    },
    "executionInfo": {
     "elapsed": 3902,
     "status": "ok",
     "timestamp": 1630402404882,
     "user": {
      "displayName": "Владимир Ахременко",
      "photoUrl": "",
      "userId": "12488346382028371111"
     },
     "user_tz": -180
    },
    "id": "rdMuhWDILOXO",
    "outputId": "460c9af8-909b-4c79-832a-8047f587b459"
   },
   "outputs": [],
   "source": [
    "!pip install kaggle"
   ]
  },
  {
   "cell_type": "code",
   "execution_count": null,
   "metadata": {
    "colab": {
     "base_uri": "https://localhost:8080/"
    },
    "executionInfo": {
     "elapsed": 882,
     "status": "ok",
     "timestamp": 1630402407516,
     "user": {
      "displayName": "Владимир Ахременко",
      "photoUrl": "",
      "userId": "12488346382028371111"
     },
     "user_tz": -180
    },
    "id": "J9ZI6MWkLOaL",
    "outputId": "bcb60d8b-339d-461f-ec5c-03f39fa0df98"
   },
   "outputs": [],
   "source": [
    "!mkdir .kaggle\n",
    "!touch .kaggle/kaggle.json\n",
    "\n",
    "api_token = {\"username\":\"user\",\"key\":\"api-key\"}\n",
    "\n",
    "with open('/content/.kaggle/kaggle.json', 'w') as file:\n",
    "    json.dump(api_token, file)\n",
    "\n",
    "!chmod 600 /content/.kaggle/kaggle.json\n",
    "!kaggle config path -p /content"
   ]
  },
  {
   "cell_type": "code",
   "execution_count": null,
   "metadata": {
    "id": "5V67OGxIjoK2"
   },
   "outputs": [],
   "source": [
    "!mv .kaggle /root/"
   ]
  },
  {
   "cell_type": "code",
   "execution_count": null,
   "metadata": {
    "colab": {
     "base_uri": "https://localhost:8080/"
    },
    "executionInfo": {
     "elapsed": 2179,
     "status": "ok",
     "timestamp": 1630402426512,
     "user": {
      "displayName": "Владимир Ахременко",
      "photoUrl": "",
      "userId": "12488346382028371111"
     },
     "user_tz": -180
    },
    "id": "App-Kw7OLPRO",
    "outputId": "8abb969a-bfa2-4220-aee4-d0ea860991aa"
   },
   "outputs": [],
   "source": [
    "!kaggle competitions download -c simplesentiment"
   ]
  },
  {
   "cell_type": "code",
   "execution_count": null,
   "metadata": {
    "executionInfo": {
     "elapsed": 234,
     "status": "ok",
     "timestamp": 1630386127905,
     "user": {
      "displayName": "Владимир Ахременко",
      "photoUrl": "",
      "userId": "12488346382028371111"
     },
     "user_tz": -180
    },
    "id": "2DgfNebsMuBH"
   },
   "outputs": [],
   "source": []
  },
  {
   "cell_type": "code",
   "execution_count": null,
   "metadata": {
    "colab": {
     "base_uri": "https://localhost:8080/"
    },
    "executionInfo": {
     "elapsed": 48397,
     "status": "ok",
     "timestamp": 1630402495136,
     "user": {
      "displayName": "Владимир Ахременко",
      "photoUrl": "",
      "userId": "12488346382028371111"
     },
     "user_tz": -180
    },
    "id": "H6E5MfmRNFGL",
    "outputId": "510986a3-15e7-45db-9074-3cd6b642c583"
   },
   "outputs": [],
   "source": [
    "!pip install fasttext"
   ]
  },
  {
   "cell_type": "code",
   "execution_count": null,
   "metadata": {
    "executionInfo": {
     "elapsed": 255,
     "status": "ok",
     "timestamp": 1630404425119,
     "user": {
      "displayName": "Владимир Ахременко",
      "photoUrl": "",
      "userId": "12488346382028371111"
     },
     "user_tz": -180
    },
    "id": "0ernbfzfPYCe"
   },
   "outputs": [],
   "source": [
    "import pandas as pd\n",
    "import numpy as np\n",
    "import pickle as pkl\n",
    "import re"
   ]
  },
  {
   "cell_type": "code",
   "execution_count": null,
   "metadata": {
    "executionInfo": {
     "elapsed": 1032,
     "status": "ok",
     "timestamp": 1630402496513,
     "user": {
      "displayName": "Владимир Ахременко",
      "photoUrl": "",
      "userId": "12488346382028371111"
     },
     "user_tz": -180
    },
    "id": "qiJwSGkiQIfI"
   },
   "outputs": [],
   "source": [
    "from sklearn.pipeline import Pipeline\n",
    "from sklearn.model_selection import train_test_split\n",
    "\n",
    "from sklearn.feature_extraction.text import CountVectorizer, TfidfVectorizer\n",
    "\n",
    "from sklearn.linear_model import LogisticRegression, SGDClassifier\n",
    "from sklearn.svm import LinearSVC\n",
    "from sklearn.ensemble import RandomForestClassifier\n",
    "\n",
    "from sklearn.model_selection import GridSearchCV, cross_val_score \n",
    "\n",
    "#from sklearn.metrics import accuracy_score\n",
    "from sklearn.metrics import roc_auc_score\n",
    "from sklearn.metrics import confusion_matrix"
   ]
  },
  {
   "cell_type": "code",
   "execution_count": null,
   "metadata": {
    "executionInfo": {
     "elapsed": 7,
     "status": "ok",
     "timestamp": 1630402496513,
     "user": {
      "displayName": "Владимир Ахременко",
      "photoUrl": "",
      "userId": "12488346382028371111"
     },
     "user_tz": -180
    },
    "id": "YBhfTjZ4QJoA"
   },
   "outputs": [],
   "source": [
    "import fasttext"
   ]
  },
  {
   "cell_type": "code",
   "execution_count": null,
   "metadata": {
    "colab": {
     "base_uri": "https://localhost:8080/"
    },
    "executionInfo": {
     "elapsed": 6,
     "status": "ok",
     "timestamp": 1630402496513,
     "user": {
      "displayName": "Владимир Ахременко",
      "photoUrl": "",
      "userId": "12488346382028371111"
     },
     "user_tz": -180
    },
    "id": "uRmadzi6P1y_",
    "outputId": "62291419-b387-44f5-b821-8c7054c14099"
   },
   "outputs": [],
   "source": [
    "df = pd.read_csv('products_sentiment_train.tsv', \n",
    "                    header = None, \n",
    "                    index_col = None,\n",
    "                    sep = '\\t',\n",
    "                   )\n",
    "df.columns = ['text', 'target']\n",
    "df.shape"
   ]
  },
  {
   "cell_type": "code",
   "execution_count": null,
   "metadata": {
    "executionInfo": {
     "elapsed": 6,
     "status": "ok",
     "timestamp": 1630402496514,
     "user": {
      "displayName": "Владимир Ахременко",
      "photoUrl": "",
      "userId": "12488346382028371111"
     },
     "user_tz": -180
    },
    "id": "I68WcQUmP12F"
   },
   "outputs": [],
   "source": [
    "clean_text = lambda x: re.sub(r\"\\s+\", ' ', \n",
    "                              re.sub(r\"[\\d+]\", '',\n",
    "                                     re.sub(r\"[^\\w\\s]\", '', x.lower()).strip()\n",
    "                                    )\n",
    "                             )"
   ]
  },
  {
   "cell_type": "code",
   "execution_count": null,
   "metadata": {
    "executionInfo": {
     "elapsed": 6,
     "status": "ok",
     "timestamp": 1630402496514,
     "user": {
      "displayName": "Владимир Ахременко",
      "photoUrl": "",
      "userId": "12488346382028371111"
     },
     "user_tz": -180
    },
    "id": "trfglzU1P144"
   },
   "outputs": [],
   "source": [
    "df['text_cl'] = df.text.map(clean_text)\n",
    "df['text_cl'] = df.text_cl.map(lambda x: x.split())"
   ]
  },
  {
   "cell_type": "code",
   "execution_count": null,
   "metadata": {
    "executionInfo": {
     "elapsed": 6,
     "status": "ok",
     "timestamp": 1630402496515,
     "user": {
      "displayName": "Владимир Ахременко",
      "photoUrl": "",
      "userId": "12488346382028371111"
     },
     "user_tz": -180
    },
    "id": "ITC9rADLP17i"
   },
   "outputs": [],
   "source": []
  },
  {
   "cell_type": "code",
   "execution_count": null,
   "metadata": {
    "executionInfo": {
     "elapsed": 10,
     "status": "ok",
     "timestamp": 1630402496756,
     "user": {
      "displayName": "Владимир Ахременко",
      "photoUrl": "",
      "userId": "12488346382028371111"
     },
     "user_tz": -180
    },
    "id": "weN7tZliP1-W"
   },
   "outputs": [],
   "source": [
    "train, test, train_target, test_target = train_test_split(df.text_cl, df.target, \n",
    "                                                          test_size = 0.2, \n",
    "                                                          stratify = df.target, \n",
    "                                                          random_state = 52138,\n",
    "                                                         )"
   ]
  },
  {
   "cell_type": "code",
   "execution_count": null,
   "metadata": {
    "executionInfo": {
     "elapsed": 10,
     "status": "ok",
     "timestamp": 1630402496757,
     "user": {
      "displayName": "Владимир Ахременко",
      "photoUrl": "",
      "userId": "12488346382028371111"
     },
     "user_tz": -180
    },
    "id": "PwF32YJuQOfC"
   },
   "outputs": [],
   "source": [
    "# Трансфорование данных (отзыва) в вектор\n",
    "# требуется исключить слова, которые не встречались, т.к. выдаст ошибку\n",
    "# и полученные вектораотзыва усредняем по столбцам\n",
    "def transform_x2v_wv(inp_wv, inp_series):\n",
    "    transformed_ndarray = np.ndarray((inp_series.shape[0], inp_wv.get_dimension()))\n",
    "    \n",
    "    for row, idx in enumerate(inp_series.index):\n",
    "        vect = []    \n",
    "        for wrd in inp_series[idx]:\n",
    "            #if wrd in inp_wv:\n",
    "            vect.append(inp_wv.get_word_vector(wrd))\n",
    "\n",
    "        transformed_ndarray[row] = np.mean(vect, axis = 0)\n",
    "    \n",
    "    return transformed_ndarray"
   ]
  },
  {
   "cell_type": "code",
   "execution_count": null,
   "metadata": {
    "executionInfo": {
     "elapsed": 11,
     "status": "ok",
     "timestamp": 1630402496758,
     "user": {
      "displayName": "Владимир Ахременко",
      "photoUrl": "",
      "userId": "12488346382028371111"
     },
     "user_tz": -180
    },
    "id": "6kobNwYZa13O"
   },
   "outputs": [],
   "source": []
  },
  {
   "cell_type": "code",
   "execution_count": null,
   "metadata": {
    "executionInfo": {
     "elapsed": 12,
     "status": "ok",
     "timestamp": 1630402496759,
     "user": {
      "displayName": "Владимир Ахременко",
      "photoUrl": "",
      "userId": "12488346382028371111"
     },
     "user_tz": -180
    },
    "id": "n2eO0yPNauFU"
   },
   "outputs": [],
   "source": [
    "# Трансфорование данных (отзыва) в вектор\n",
    "# требуется исключить слова, которые не встречались, т.к. выдаст ошибку\n",
    "# и полученные вектораотзыва усредняем по столбцам\n",
    "def transform_x2v_model(inp_model, inp_series):\n",
    "    transformed_ndarray = np.ndarray((inp_series.shape[0], inp_model.dim()))\n",
    "    \n",
    "    for row, idx in enumerate(inp_series.index):\n",
    "        vect = []    \n",
    "        for wrd in inp_series[idx]:\n",
    "            #if wrd in inp_wv:\n",
    "            vect.append(inp_model.get_word_vector(wrd))\n",
    "\n",
    "        transformed_ndarray[row] = np.mean(vect, axis = 0)\n",
    "    \n",
    "    return transformed_ndarray"
   ]
  },
  {
   "cell_type": "code",
   "execution_count": null,
   "metadata": {
    "executionInfo": {
     "elapsed": 12,
     "status": "ok",
     "timestamp": 1630402496759,
     "user": {
      "displayName": "Владимир Ахременко",
      "photoUrl": "",
      "userId": "12488346382028371111"
     },
     "user_tz": -180
    },
    "id": "oi1MZdCxQOku"
   },
   "outputs": [],
   "source": [
    "pipe_cnt = Pipeline([#('w2v', W2VTransformer(size=100, min_count=1, seed=1)),\n",
    "                     ('clf', LogisticRegression()),\n",
    "                      ])\n",
    "\n",
    "parameters = [\n",
    "            {'clf': [LogisticRegression(max_iter = 150)]}, \n",
    "            {'clf': [LinearSVC(max_iter = 1500)]},\n",
    "            {'clf': [SGDClassifier()]}, \n",
    "            {'clf': [RandomForestClassifier()]},\n",
    "            #{'clf': [xgb.XGBClassifier(eval_metric = 'auc', use_label_encoder=False)]},\n",
    "                     #xgb.XGBClassifier(tree_method='gpu_hist', gpu_id=0),\n",
    "            #{'clf': [LGBMClassifier()]},\n",
    "]"
   ]
  },
  {
   "cell_type": "code",
   "execution_count": null,
   "metadata": {
    "executionInfo": {
     "elapsed": 12,
     "status": "ok",
     "timestamp": 1630402496760,
     "user": {
      "displayName": "Владимир Ахременко",
      "photoUrl": "",
      "userId": "12488346382028371111"
     },
     "user_tz": -180
    },
    "id": "6oefEJggQOnM"
   },
   "outputs": [],
   "source": [
    "\n",
    "#!wget https://dl.fbaipublicfiles.com/fasttext/supervised-models/amazon_review_polarity.bin\n",
    "#!wget https://dl.fbaipublicfiles.com/fasttext/supervised-models/amazon_review_full.bin\n",
    "\n",
    "#!wget https://dl.fbaipublicfiles.com/fasttext/supervised-models/yelp_review_polarity.bin\n",
    "#!wget https://dl.fbaipublicfiles.com/fasttext/supervised-models/yelp_review_full.bin"
   ]
  },
  {
   "cell_type": "code",
   "execution_count": null,
   "metadata": {
    "colab": {
     "base_uri": "https://localhost:8080/"
    },
    "executionInfo": {
     "elapsed": 313238,
     "status": "ok",
     "timestamp": 1630402825022,
     "user": {
      "displayName": "Владимир Ахременко",
      "photoUrl": "",
      "userId": "12488346382028371111"
     },
     "user_tz": -180
    },
    "id": "Az8YZXtkTlia",
    "outputId": "98b38a46-6f32-4e65-95eb-b0497193b5cd"
   },
   "outputs": [],
   "source": [
    "!wget https://dl.fbaipublicfiles.com/fasttext/vectors-crawl/cc.en.300.bin.gz\n",
    "!gunzip cc.en.300.bin.gz"
   ]
  },
  {
   "cell_type": "code",
   "execution_count": null,
   "metadata": {
    "executionInfo": {
     "elapsed": 8,
     "status": "ok",
     "timestamp": 1630385690915,
     "user": {
      "displayName": "Владимир Ахременко",
      "photoUrl": "",
      "userId": "12488346382028371111"
     },
     "user_tz": -180
    },
    "id": "aL6yrTAkZIyJ"
   },
   "outputs": [],
   "source": [
    "#!ls -la"
   ]
  },
  {
   "cell_type": "code",
   "execution_count": null,
   "metadata": {
    "colab": {
     "base_uri": "https://localhost:8080/"
    },
    "executionInfo": {
     "elapsed": 207812,
     "status": "ok",
     "timestamp": 1630403032821,
     "user": {
      "displayName": "Владимир Ахременко",
      "photoUrl": "",
      "userId": "12488346382028371111"
     },
     "user_tz": -180
    },
    "id": "u6TKgVQsPsan",
    "outputId": "f4673a3a-15f0-4e8c-a1e3-cba27b3a7fc9"
   },
   "outputs": [],
   "source": [
    "#model = fasttext.load_model(\"amazon_review_polarity.bin\")\n",
    "#model = fasttext.load_model(\"amazon_review_full.bin\")\n",
    "#model = fasttext.load_model(\"yelp_review_polarity.bin\")\n",
    "#model = fasttext.load_model(\"yelp_review_full.bin\")\n",
    "model = fasttext.load_model(\"cc.en.300.bin\")\n",
    "model.get_dimension()"
   ]
  },
  {
   "cell_type": "code",
   "execution_count": null,
   "metadata": {
    "executionInfo": {
     "elapsed": 3,
     "status": "ok",
     "timestamp": 1630386837769,
     "user": {
      "displayName": "Владимир Ахременко",
      "photoUrl": "",
      "userId": "12488346382028371111"
     },
     "user_tz": -180
    },
    "id": "Y0bUVjE7PwN2"
   },
   "outputs": [],
   "source": [
    "#$dir(model)"
   ]
  },
  {
   "cell_type": "code",
   "execution_count": null,
   "metadata": {
    "colab": {
     "base_uri": "https://localhost:8080/"
    },
    "executionInfo": {
     "elapsed": 10225,
     "status": "ok",
     "timestamp": 1630403048171,
     "user": {
      "displayName": "Владимир Ахременко",
      "photoUrl": "",
      "userId": "12488346382028371111"
     },
     "user_tz": -180
    },
    "id": "eCXcVKLePxqf",
    "outputId": "73eab1e3-5508-4e6a-e751-510198536a2d"
   },
   "outputs": [],
   "source": [
    "#train_x2v = np.nan_to_num(transform_x2v_kv(model, train))\n",
    "train_x2v = np.nan_to_num(transform_x2v_wv(model, train))\n",
    "\n",
    "grid = GridSearchCV(pipe_cnt, parameters, cv = 5, scoring = 'roc_auc', verbose = 1, n_jobs=-1)\n",
    "ret = grid.fit(train_x2v, train_target)"
   ]
  },
  {
   "cell_type": "code",
   "execution_count": null,
   "metadata": {
    "colab": {
     "base_uri": "https://localhost:8080/"
    },
    "executionInfo": {
     "elapsed": 10,
     "status": "ok",
     "timestamp": 1630403048172,
     "user": {
      "displayName": "Владимир Ахременко",
      "photoUrl": "",
      "userId": "12488346382028371111"
     },
     "user_tz": -180
    },
    "id": "KbkpbeB1RO3G",
    "outputId": "218d93ae-7dac-49fc-eba7-7f19744e7df4"
   },
   "outputs": [],
   "source": [
    "grid.best_score_, grid.best_estimator_['clf'].__class__"
   ]
  },
  {
   "cell_type": "code",
   "execution_count": null,
   "metadata": {
    "colab": {
     "base_uri": "https://localhost:8080/"
    },
    "executionInfo": {
     "elapsed": 8,
     "status": "ok",
     "timestamp": 1630403048173,
     "user": {
      "displayName": "Владимир Ахременко",
      "photoUrl": "",
      "userId": "12488346382028371111"
     },
     "user_tz": -180
    },
    "id": "ARfHpmCvSoC_",
    "outputId": "572513c2-0cd1-4668-cc5a-920d0989e03f"
   },
   "outputs": [],
   "source": [
    "[(el0, el1) for el0, el1 in zip(grid.cv_results_['mean_test_score'], grid.cv_results_['params'])]"
   ]
  },
  {
   "cell_type": "markdown",
   "metadata": {
    "id": "AuL7hSAuU6bk"
   },
   "source": [
    "amazon_review_polarity   \n",
    "(0.7970514863770441, sklearn.svm._classes.LinearSVC)   \n",
    "amazon_review_full   \n",
    "(0.8305306649627135, sklearn.linear_model._stochastic_gradient.SGDClassifier)   \n",
    "yelp_review_polarity   \n",
    "(0.7924044065017697, sklearn.linear_model._stochastic_gradient.SGDClassifier)   \n",
    "yelp_review_full   \n",
    "(0.7927665893943784, sklearn.linear_model._stochastic_gradient.SGDClassifier)   \n",
    "\n"
   ]
  },
  {
   "cell_type": "code",
   "execution_count": null,
   "metadata": {
    "executionInfo": {
     "elapsed": 290,
     "status": "ok",
     "timestamp": 1630403510207,
     "user": {
      "displayName": "Владимир Ахременко",
      "photoUrl": "",
      "userId": "12488346382028371111"
     },
     "user_tz": -180
    },
    "id": "qbsE7SFPU-ZV"
   },
   "outputs": [],
   "source": [
    "pipe_model = Pipeline([('clf', SGDClassifier()),\n",
    "])\n",
    "\n",
    "parameters_model = {'clf__loss': ['hinge', 'log', 'modified_huber', 'squared_hinge', 'perceptron'],\n",
    "              'clf__penalty': ['l1', 'l2'],\n",
    "              'clf__class_weight': [{0: 0.5 - shift, 1:0.5 + shift} for shift in np.linspace(-0.01, 0.01, 40)] + ['balanced'],\n",
    "              }"
   ]
  },
  {
   "cell_type": "code",
   "execution_count": null,
   "metadata": {
    "colab": {
     "base_uri": "https://localhost:8080/"
    },
    "executionInfo": {
     "elapsed": 210687,
     "status": "ok",
     "timestamp": 1630403721269,
     "user": {
      "displayName": "Владимир Ахременко",
      "photoUrl": "",
      "userId": "12488346382028371111"
     },
     "user_tz": -180
    },
    "id": "FuH2vfUGndXt",
    "outputId": "ab444a4f-d02e-4972-8a2d-c2fa1054de33"
   },
   "outputs": [],
   "source": [
    "grid_tune = GridSearchCV(pipe_model, parameters_model, cv = 5, scoring = 'roc_auc', verbose = 1, n_jobs=-1)\n",
    "grid_tune.fit(train_x2v, train_target)\n",
    "grid_tune.best_estimator_"
   ]
  },
  {
   "cell_type": "code",
   "execution_count": null,
   "metadata": {
    "colab": {
     "base_uri": "https://localhost:8080/"
    },
    "executionInfo": {
     "elapsed": 241,
     "status": "ok",
     "timestamp": 1630403769521,
     "user": {
      "displayName": "Владимир Ахременко",
      "photoUrl": "",
      "userId": "12488346382028371111"
     },
     "user_tz": -180
    },
    "id": "V5l2rfhXnycm",
    "outputId": "bc061c19-a3c4-4b27-8105-f92eb81eb631"
   },
   "outputs": [],
   "source": [
    "grid_tune.best_score_"
   ]
  },
  {
   "cell_type": "code",
   "execution_count": null,
   "metadata": {
    "id": "_1bw7XHFowXu"
   },
   "outputs": [],
   "source": []
  },
  {
   "cell_type": "code",
   "execution_count": null,
   "metadata": {
    "id": "Oxh663oosrPs"
   },
   "outputs": [],
   "source": []
  },
  {
   "cell_type": "code",
   "execution_count": null,
   "metadata": {
    "executionInfo": {
     "elapsed": 667,
     "status": "ok",
     "timestamp": 1630404888942,
     "user": {
      "displayName": "Владимир Ахременко",
      "photoUrl": "",
      "userId": "12488346382028371111"
     },
     "user_tz": -180
    },
    "id": "KLo9W63XtDa4"
   },
   "outputs": [],
   "source": [
    "train_ft = np.nan_to_num(transform_x2v_wv(model, df['text_cl']))"
   ]
  },
  {
   "cell_type": "code",
   "execution_count": null,
   "metadata": {
    "executionInfo": {
     "elapsed": 278,
     "status": "ok",
     "timestamp": 1630405204728,
     "user": {
      "displayName": "Владимир Ахременко",
      "photoUrl": "",
      "userId": "12488346382028371111"
     },
     "user_tz": -180
    },
    "id": "3xW8oaVPsra5"
   },
   "outputs": [],
   "source": [
    "#model_tuned = SGDClassifier(class_weight={0: 0.5089743589743589,\n",
    "#                                          1: 0.491025641025641},\n",
    "#                            learning_rate='optimal', loss='modified_huber',\n",
    "#                            penalty='l2',\n",
    "#                           )"
   ]
  },
  {
   "cell_type": "code",
   "execution_count": null,
   "metadata": {
    "executionInfo": {
     "elapsed": 250,
     "status": "ok",
     "timestamp": 1630405196161,
     "user": {
      "displayName": "Владимир Ахременко",
      "photoUrl": "",
      "userId": "12488346382028371111"
     },
     "user_tz": -180
    },
    "id": "asnZAbd0srjm"
   },
   "outputs": [],
   "source": [
    "#model_tuned.fit(train_ft, df.target)"
   ]
  },
  {
   "cell_type": "code",
   "execution_count": null,
   "metadata": {
    "executionInfo": {
     "elapsed": 230,
     "status": "ok",
     "timestamp": 1630404948687,
     "user": {
      "displayName": "Владимир Ахременко",
      "photoUrl": "",
      "userId": "12488346382028371111"
     },
     "user_tz": -180
    },
    "id": "_ncA6kCWsSzO"
   },
   "outputs": [],
   "source": [
    "#pred_train_ft = model_tuned.predict(train_ft)"
   ]
  },
  {
   "cell_type": "code",
   "execution_count": null,
   "metadata": {
    "executionInfo": {
     "elapsed": 228,
     "status": "ok",
     "timestamp": 1630405184423,
     "user": {
      "displayName": "Владимир Ахременко",
      "photoUrl": "",
      "userId": "12488346382028371111"
     },
     "user_tz": -180
    },
    "id": "DZl-rEiXsTa6"
   },
   "outputs": [],
   "source": [
    "pred_train_ft = grid_tune.best_estimator_.predict(train_ft)"
   ]
  },
  {
   "cell_type": "code",
   "execution_count": null,
   "metadata": {
    "colab": {
     "base_uri": "https://localhost:8080/"
    },
    "executionInfo": {
     "elapsed": 3,
     "status": "ok",
     "timestamp": 1630405184668,
     "user": {
      "displayName": "Владимир Ахременко",
      "photoUrl": "",
      "userId": "12488346382028371111"
     },
     "user_tz": -180
    },
    "id": "t3ZUu2Izsgvj",
    "outputId": "370491b1-b3b7-48ed-96c7-89612c5cbb40"
   },
   "outputs": [],
   "source": [
    "roc_auc_score(df.target, pred_train_ft)"
   ]
  },
  {
   "cell_type": "code",
   "execution_count": null,
   "metadata": {
    "colab": {
     "base_uri": "https://localhost:8080/"
    },
    "executionInfo": {
     "elapsed": 2,
     "status": "ok",
     "timestamp": 1630405185515,
     "user": {
      "displayName": "Владимир Ахременко",
      "photoUrl": "",
      "userId": "12488346382028371111"
     },
     "user_tz": -180
    },
    "id": "Fik7yAgNsjL5",
    "outputId": "1827692f-24bd-44da-cda0-1311372b0b11"
   },
   "outputs": [],
   "source": [
    "confusion_matrix(df.target, pred_train_ft)"
   ]
  },
  {
   "cell_type": "code",
   "execution_count": null,
   "metadata": {
    "executionInfo": {
     "elapsed": 259,
     "status": "ok",
     "timestamp": 1630405191496,
     "user": {
      "displayName": "Владимир Ахременко",
      "photoUrl": "",
      "userId": "12488346382028371111"
     },
     "user_tz": -180
    },
    "id": "BLbiMIVCsWwt"
   },
   "outputs": [],
   "source": [
    "with open('pred_train_ft.pkl', 'wb') as fd:\n",
    "    pkl.dump(pred_train_ft, fd)"
   ]
  },
  {
   "cell_type": "code",
   "execution_count": null,
   "metadata": {
    "id": "MotB1gT8sW3E"
   },
   "outputs": [],
   "source": []
  },
  {
   "cell_type": "markdown",
   "metadata": {
    "id": "k9MV30qdsKQo"
   },
   "source": [
    "# Предсказания для submit"
   ]
  },
  {
   "cell_type": "code",
   "execution_count": null,
   "metadata": {
    "colab": {
     "base_uri": "https://localhost:8080/"
    },
    "executionInfo": {
     "elapsed": 233,
     "status": "ok",
     "timestamp": 1630403972626,
     "user": {
      "displayName": "Владимир Ахременко",
      "photoUrl": "",
      "userId": "12488346382028371111"
     },
     "user_tz": -180
    },
    "id": "nz-TwGRIpigs",
    "outputId": "db043890-58b6-4041-96d7-5622a3613d96"
   },
   "outputs": [],
   "source": [
    "subm = pd.read_csv('products_sentiment_sample_submission.csv')\n",
    "subm.shape"
   ]
  },
  {
   "cell_type": "code",
   "execution_count": null,
   "metadata": {
    "colab": {
     "base_uri": "https://localhost:8080/"
    },
    "executionInfo": {
     "elapsed": 311,
     "status": "ok",
     "timestamp": 1630403797768,
     "user": {
      "displayName": "Владимир Ахременко",
      "photoUrl": "",
      "userId": "12488346382028371111"
     },
     "user_tz": -180
    },
    "id": "el1CmY_0o3pa",
    "outputId": "b0435a29-4246-4015-eb84-b183f549ccf5"
   },
   "outputs": [],
   "source": [
    "df_test = pd.read_csv('products_sentiment_test.tsv',\n",
    "                        index_col = None,\n",
    "                        sep = '\\t',\n",
    "                     )\n",
    "df_test.shape"
   ]
  },
  {
   "cell_type": "code",
   "execution_count": null,
   "metadata": {
    "executionInfo": {
     "elapsed": 240,
     "status": "ok",
     "timestamp": 1630403839367,
     "user": {
      "displayName": "Владимир Ахременко",
      "photoUrl": "",
      "userId": "12488346382028371111"
     },
     "user_tz": -180
    },
    "id": "OH4hs9iKo6Bm"
   },
   "outputs": [],
   "source": [
    "df_test['text_cl'] = df_test.text.map(clean_text)\n",
    "df_test['text_cl'] = df_test.text_cl.map(lambda x: x.split())"
   ]
  },
  {
   "cell_type": "code",
   "execution_count": null,
   "metadata": {
    "executionInfo": {
     "elapsed": 234,
     "status": "ok",
     "timestamp": 1630403885615,
     "user": {
      "displayName": "Владимир Ахременко",
      "photoUrl": "",
      "userId": "12488346382028371111"
     },
     "user_tz": -180
    },
    "id": "kDOvJzD8pEMO"
   },
   "outputs": [],
   "source": [
    "test_x2v = np.nan_to_num(transform_x2v_wv(model, df_test['text_cl']))"
   ]
  },
  {
   "cell_type": "code",
   "execution_count": null,
   "metadata": {
    "executionInfo": {
     "elapsed": 227,
     "status": "ok",
     "timestamp": 1630404999228,
     "user": {
      "displayName": "Владимир Ахременко",
      "photoUrl": "",
      "userId": "12488346382028371111"
     },
     "user_tz": -180
    },
    "id": "57G1N83GpPe-"
   },
   "outputs": [],
   "source": [
    "pred_test_ft = grid_tune.best_estimator_.predict(test_x2v)\n",
    "#pred_test_ft = model_tuned.predict(test_x2v)"
   ]
  },
  {
   "cell_type": "code",
   "execution_count": null,
   "metadata": {
    "executionInfo": {
     "elapsed": 230,
     "status": "ok",
     "timestamp": 1630405004020,
     "user": {
      "displayName": "Владимир Ахременко",
      "photoUrl": "",
      "userId": "12488346382028371111"
     },
     "user_tz": -180
    },
    "id": "p-7EhZNppa32"
   },
   "outputs": [],
   "source": [
    "subm.y = pred_test_ft"
   ]
  },
  {
   "cell_type": "code",
   "execution_count": null,
   "metadata": {
    "executionInfo": {
     "elapsed": 272,
     "status": "ok",
     "timestamp": 1630405012504,
     "user": {
      "displayName": "Владимир Ахременко",
      "photoUrl": "",
      "userId": "12488346382028371111"
     },
     "user_tz": -180
    },
    "id": "faajnEYHpb3O"
   },
   "outputs": [],
   "source": [
    "subm.to_csv('ft_ccen300_nols.csv', index=False)"
   ]
  },
  {
   "cell_type": "code",
   "execution_count": null,
   "metadata": {
    "executionInfo": {
     "elapsed": 2,
     "status": "ok",
     "timestamp": 1630404522256,
     "user": {
      "displayName": "Владимир Ахременко",
      "photoUrl": "",
      "userId": "12488346382028371111"
     },
     "user_tz": -180
    },
    "id": "Hjr6GMi8rY2x"
   },
   "outputs": [],
   "source": [
    "with open('pred_test_ft.pkl', 'wb') as fd:\n",
    "    pkl.dump(pred_test_ft, fd)"
   ]
  },
  {
   "cell_type": "code",
   "execution_count": null,
   "metadata": {
    "executionInfo": {
     "elapsed": 275,
     "status": "ok",
     "timestamp": 1630404328479,
     "user": {
      "displayName": "Владимир Ахременко",
      "photoUrl": "",
      "userId": "12488346382028371111"
     },
     "user_tz": -180
    },
    "id": "Ia6aVk1Hp1LG"
   },
   "outputs": [],
   "source": []
  },
  {
   "cell_type": "code",
   "execution_count": null,
   "metadata": {
    "executionInfo": {
     "elapsed": 658,
     "status": "ok",
     "timestamp": 1630404385700,
     "user": {
      "displayName": "Владимир Ахременко",
      "photoUrl": "",
      "userId": "12488346382028371111"
     },
     "user_tz": -180
    },
    "id": "oJr4CDRKq8-f"
   },
   "outputs": [],
   "source": []
  },
  {
   "cell_type": "markdown",
   "metadata": {
    "id": "MJrD9Drwr2hw"
   },
   "source": [
    "pb 0.78666"
   ]
  }
 ],
 "metadata": {
  "colab": {
   "authorship_tag": "ABX9TyO5DzzgQgfT7xGcyDzHm9XF",
   "collapsed_sections": [],
   "name": "w3_capstone_tonality_fasttext_colab.ipynb",
   "provenance": [],
   "toc_visible": true
  },
  "kernelspec": {
   "display_name": "Python 3",
   "language": "python",
   "name": "python3"
  },
  "language_info": {
   "codemirror_mode": {
    "name": "ipython",
    "version": 3
   },
   "file_extension": ".py",
   "mimetype": "text/x-python",
   "name": "python",
   "nbconvert_exporter": "python",
   "pygments_lexer": "ipython3",
   "version": "3.7.10"
  }
 },
 "nbformat": 4,
 "nbformat_minor": 4
}
