{
 "cells": [
  {
   "cell_type": "code",
   "execution_count": null,
   "id": "8918eba8-944d-46e1-9e47-2230477a898d",
   "metadata": {},
   "outputs": [],
   "source": []
  },
  {
   "cell_type": "markdown",
   "id": "73daf1b7-fc86-4b90-9c7e-4af03a169e72",
   "metadata": {},
   "source": [
    "# week4 in flask_app"
   ]
  },
  {
   "cell_type": "code",
   "execution_count": null,
   "id": "eb60e6cb-ec10-47c8-85be-8b9f76a45bd5",
   "metadata": {},
   "outputs": [],
   "source": []
  }
 ],
 "metadata": {
  "kernelspec": {
   "display_name": "Python 3",
   "language": "python",
   "name": "python3"
  },
  "language_info": {
   "codemirror_mode": {
    "name": "ipython",
    "version": 3
   },
   "file_extension": ".py",
   "mimetype": "text/x-python",
   "name": "python",
   "nbconvert_exporter": "python",
   "pygments_lexer": "ipython3",
   "version": "3.7.10"
  }
 },
 "nbformat": 4,
 "nbformat_minor": 5
}
