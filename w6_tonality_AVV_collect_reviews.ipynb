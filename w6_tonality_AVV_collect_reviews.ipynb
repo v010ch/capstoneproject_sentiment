{
 "cells": [
  {
   "cell_type": "code",
   "execution_count": null,
   "id": "cfd457ad-552f-4944-98c3-fde70c93ae0c",
   "metadata": {},
   "outputs": [],
   "source": [
    "import os\n",
    "from pathlib import Path\n",
    "import pickle as pkl\n",
    "import time\n",
    "from tqdm import notebook  as pbar\n",
    "from typing import Optional\n",
    "\n",
    "from selenium import webdriver\n",
    "#from selenium.webdriver.common.keys import Keys\n",
    "#from selenium.webdriver.common.by import By"
   ]
  },
  {
   "cell_type": "code",
   "execution_count": null,
   "id": "6c840ea4-c4d2-4f16-a923-ef5a255a7a20",
   "metadata": {},
   "outputs": [],
   "source": [
    "from selenium.webdriver.common.by import By"
   ]
  },
  {
   "cell_type": "code",
   "execution_count": null,
   "id": "cd76e57c-1783-4c2b-848d-a283e6a497ed",
   "metadata": {},
   "outputs": [],
   "source": [
    "from pandas import DataFrame, read_csv, concat\n",
    "import numpy as np\n",
    "from scipy import stats as sts"
   ]
  },
  {
   "cell_type": "code",
   "execution_count": null,
   "id": "6627f1df-30ed-4453-bc3b-3a669f6dd1e2",
   "metadata": {},
   "outputs": [],
   "source": [
    "#import seaborn as sns"
   ]
  },
  {
   "cell_type": "code",
   "execution_count": null,
   "id": "167708b3-cb1e-4fa4-956f-f181dc97f4b5",
   "metadata": {},
   "outputs": [],
   "source": [
    "%pylab inline"
   ]
  },
  {
   "cell_type": "markdown",
   "id": "e32a697b-b0ce-458c-8a1e-8816e57ba1b5",
   "metadata": {},
   "source": [
    "### Сбор отзывов для построения своего датасета"
   ]
  },
  {
   "cell_type": "markdown",
   "id": "d99c2b97-08a1-4fd4-a58e-a6528944fece",
   "metadata": {},
   "source": [
    "с форума проекта: \"Еще можно парсить https://irecommend.ru/ но будьте осторожны, он не такой терпеливый, если ставить задержку меньше 10 сек., то забанит.    \n",
    "Да, и в нем надо парсить html. Будьте готовы ждать пару-тройку десятков часов =)\"   \n",
    "Это вызов)))) Попробую получать быстрее."
   ]
  },
  {
   "cell_type": "markdown",
   "id": "4f963fb4-4a28-42f4-8732-bc369001b3fc",
   "metadata": {},
   "source": [
    "Из одной презентации на тему \"как получить данные, когда вам их не хотят отдавать\" я помню, что основная причина блока - это не соответствие   \n",
    "заголовка заголовку браузера. И в requests и в spacy есть возможность выставлять заголовки, но это приходится делать вручную, да и при смене   \n",
    "в браузерах их придется обновлять. Так же в своей практике сталкивался с тем, что часть страницы может быть сгенерирована js скриптом, это   \n",
    "приводит к тому, что requests и bs4 эти данные не увидят. Для обхода этого используют selenium, да вот руки не доходили попробовать.   \n",
    "Теперь есть шанс - будем использовать selenium."
   ]
  },
  {
   "cell_type": "markdown",
   "id": "024bff55-6239-4d68-a47f-641983b33e07",
   "metadata": {},
   "source": [
    "Хорошо, с заголовками разобрались, вторая известная мне причина блока - запросы чаще определенного промежутка. В презентации говорилось о 3х сек.   \n",
    "Достаточно долго, если нам необходимо собрать много отзывов. Попробуем ускорить.   \n",
    "Будем генерировать запросы с частотой из 3х распределений. В целом, нам нужны распределения скошенные влево. Используем gamma, chi2 и нормальное (куда уж без него).   \n",
    "Но так мы будем получать и значения задержки около 0, так и в 20 сек и более. Так что установим ограничение: запросы не могут быть меньше MIN_DELAY (мы же не   \n",
    "хотим попасть в блок и ждать сутки или более пока нас разблокируют, мы хотим побыстрее собрать данные и закончить неделю) и дольше MAX_DELAY."
   ]
  },
  {
   "cell_type": "markdown",
   "id": "772ffe4c-e460-4e20-9138-009355081219",
   "metadata": {},
   "source": [
    "Все, с исходными условиями разобрались - пробуем различные варианты."
   ]
  },
  {
   "cell_type": "code",
   "execution_count": null,
   "id": "c7b91e5c-d4d9-4577-a419-f6804baeb0fc",
   "metadata": {},
   "outputs": [],
   "source": [
    "PATH_DATA = os.path.join(Path.cwd(), 'data')"
   ]
  },
  {
   "cell_type": "code",
   "execution_count": null,
   "id": "16cbae4b-9b0e-47c3-873e-e3cd9fc6c506",
   "metadata": {},
   "outputs": [],
   "source": [
    "MIN_DELAY = 1.71#2.17 #2.673\n",
    "MAX_DELAY = 4.8 #7.22 #9.181"
   ]
  },
  {
   "cell_type": "code",
   "execution_count": null,
   "id": "21aef576-98af-4549-a111-173d9cae728d",
   "metadata": {},
   "outputs": [],
   "source": [
    "class UserEmulate:\n",
    "    def __init__(self, inp_min_delay: float, inp_max_delay: float) -> None:\n",
    "        self.min_delay = inp_min_delay\n",
    "        self.max_delay = inp_max_delay\n",
    "        \n",
    "        self.last_time = time.time()\n",
    "        self.numb_load = 0\n",
    "\n",
    "\n",
    "        \n",
    "        \n",
    "    def reset(self, inp_min_delay: Optional[float], inp_max_delay: Optional[float]) -> None:\n",
    "        \"\"\"\n",
    "        Сброс парметров и выставление новых мин и макс задержки\n",
    "        args\n",
    "            inp_min_delay - минимальная задержка между загрузками страниц (опционально)\n",
    "            inp_max_delay - максимальная задержка между загрузками страниц (опционально)\n",
    "        \"\"\"\n",
    "        self.last_time = time.time()\n",
    "        self.numb_load = 0\n",
    "        \n",
    "        if isinstance(inp_min_delay, float):\n",
    "            self.min_delay = inp_min_delay\n",
    "            \n",
    "        if isinstance(inp_max_delay, float):\n",
    "            self.max_delay = inp_max_delay\n",
    "        \n",
    "        \n",
    "        \n",
    "        \n",
    "    def pauserealuseremulate(self) -> None:\n",
    "        \"\"\"\n",
    "        Эмуляция задержки между кликами пользователя.\n",
    "        Каждый седьмой клик из нормального распределения\n",
    "        Каждый третий (при не кратности 7) из хи-квадрат\n",
    "        Остальные из гамма\n",
    "        \"\"\"\n",
    "        if self.numb_load %7 == 0:\n",
    "            pause_time = sts.norm.rvs(loc=2, scale=3, size=1)[0]\n",
    "        elif self.numb_load %3 == 0:\n",
    "            pause_time = sts.chi2.rvs(df = 1.7, loc = 0, scale = 1, size=1)[0]\n",
    "        else:\n",
    "            pause_time = sts.gamma.rvs(a = 1, loc = 1, scale = 2, size=1)[0]\n",
    "\n",
    "        if (time.time() - self.last_time) > pause_time:\n",
    "            return\n",
    "\n",
    "        if pause_time >= self.min_delay and pause_time <= self.max_delay:\n",
    "            #print(pause_time)\n",
    "            time.sleep(pause_time - abs(time.time() - self.last_time))\n",
    "            self.last_time = time.time()\n",
    "            self.numb_load += 1\n",
    "            pass\n",
    "        else:\n",
    "            pauserealuseremulate()\n",
    "\n",
    "        return"
   ]
  },
  {
   "cell_type": "code",
   "execution_count": null,
   "id": "5cf2c6f8-3f95-4af5-a5c3-46585b896581",
   "metadata": {},
   "outputs": [],
   "source": []
  },
  {
   "cell_type": "markdown",
   "id": "3da6da15-965e-4dae-aa9d-61bce55d0100",
   "metadata": {},
   "source": [
    "Загрузка списка уже загруженных отзывов, если загрузка осуществляется в несколько запусков"
   ]
  },
  {
   "cell_type": "code",
   "execution_count": null,
   "id": "f6c02fd3-beff-47a5-8ff0-a503ed0a3704",
   "metadata": {},
   "outputs": [],
   "source": [
    "if os.path.exists(os.path.join(PATH_DATA, 'loaded_links.pkl')):\n",
    "    with open(os.path.join(PATH_DATA, 'loaded_links.pkl'), 'rb') as fd:\n",
    "        loaded_links = pkl.load(fd)    \n",
    "else:\n",
    "    print('Create new dict!')\n",
    "    loaded_links = dict({'pages':   set(), \n",
    "                         'phones':  set(), \n",
    "                         'reviews': set(),\n",
    "                        })"
   ]
  },
  {
   "cell_type": "markdown",
   "id": "1691f674-a64c-4e03-a2d4-5a0a79c3822b",
   "metadata": {},
   "source": [
    "использовтаь будем Firefox. т.к. мы хотим мимикрировтаь под пользователя.   \n",
    "а при проверке на https://www.whatismybrowser.com/detect/what-http-headers-is-my-browser-sending?sort=dont-sort   \n",
    "у Chrome отображается различный заголовок у браузера которым пользуюсь и у selenium\n",
    "\n",
    "идти будем не по отзывам, а по моделям телефона. в обоих случаях отображается 100 страниц - всего 2000 отзывов/моделей,   \n",
    "но в каждой модели можно посмотреть все отзывы о ней - отзывов будет многим больше."
   ]
  },
  {
   "cell_type": "code",
   "execution_count": null,
   "id": "b582aff0-364e-492a-9e50-49427f584dc4",
   "metadata": {},
   "outputs": [],
   "source": [
    "#headers check\n",
    "#SITE = 'https://www.whatismybrowser.com/detect/what-http-headers-is-my-browser-sending?sort=dont-sort'\n",
    "#SITE = \"https://www.supermonitoring.com/blog/check-browser-http-headers/\"\n",
    "\n",
    "#get reviews\n",
    "#SITE = 'https://irecommend.ru/catalog/reviews/55'\n",
    "#SITE = 'https://irecommend.ru/catalog/list/55'\n",
    "\n",
    "sites = ['https://irecommend.ru/catalog/list/55'] + [f'https://irecommend.ru/catalog/list/55?page={ind}' for ind in range(1, 100)]"
   ]
  },
  {
   "cell_type": "code",
   "execution_count": null,
   "id": "7b3054e7-31b2-4c6b-82a6-2748c46b225c",
   "metadata": {},
   "outputs": [],
   "source": [
    "driver = webdriver.Firefox(executable_path = \"C:\\\\WebDrivers\\\\bin\\\\geckodriver\")\n",
    "ue = UserEmulate(MIN_DELAY, MAX_DELAY)"
   ]
  },
  {
   "cell_type": "code",
   "execution_count": null,
   "id": "5f2795df-3621-4159-825b-7ca4ca271e27",
   "metadata": {},
   "outputs": [],
   "source": []
  },
  {
   "cell_type": "markdown",
   "id": "e06765ce-cb0d-4fdf-8158-6a012f702286",
   "metadata": {},
   "source": [
    "Загружаем отзывы"
   ]
  },
  {
   "cell_type": "code",
   "execution_count": null,
   "id": "c2e638e8-bae1-459c-a1b2-9e2265072d74",
   "metadata": {},
   "outputs": [],
   "source": [
    "reviews_page_df = DataFrame()\n",
    "\n",
    "#for page_number, url in enumerate(sites[:9]):\n",
    "for page_number, url in pbar.tqdm(enumerate(sites[:40]), position=0, leave = True):\n",
    "    if url in loaded_links['pages']:\n",
    "        print(f'page link {url} already scraped!')\n",
    "        continue\n",
    "        \n",
    "    print(url)\n",
    "    # pause for emulate user behavior\n",
    "    ue.pauserealuseremulate()\n",
    "    # load url\n",
    "    driver.get(url)\n",
    "    # reviews by phones\n",
    "    #phone_names = driver.find_elements_by_class_name('title')\n",
    "    phone_names = driver.find_elements(By.CLASS_NAME, 'title')\n",
    "    phone_names = [el.text for el in phone_names]\n",
    "    # some data doubled. stay only one from two\n",
    "    #phones = driver.find_elements_by_class_name('read-all-reviews-link')\n",
    "    phones = driver.find_elements(By.CLASS_NAME, 'read-all-reviews-link')\n",
    "    phones = [el.get_property('href') for idx, el in enumerate(phones) if idx%2 == 0]\n",
    "    # number of reviews on this url\n",
    "    #ttl_size = driver.find_elements_by_class_name('counter')\n",
    "    ttl_size = driver.find_elements(By.CLASS_NAME, 'counter')\n",
    "    ttl_size = [int(el.get_property('innerHTML')) for idx, el in enumerate(ttl_size) if idx%2 == 0]\n",
    "    \n",
    "    tmp = [(el0, el1) for idx, (el0, el1) in enumerate(zip(phones, ttl_size))]\n",
    "    # there need to check if the review has already scraped\n",
    "    # and drop already scrapped\n",
    "    phones   = [el0 for el0, el1 in tmp]\n",
    "    ttl_size = [el1 for el0, el1 in tmp]\n",
    "    \n",
    "    reviews_page_df = DataFrame(index = range(sum(ttl_size)), columns = ['phone', 'review', 'rating', 'link'])\n",
    "    \n",
    "    index = 0\n",
    "    #for idx in tqdm(range(len(phones))):\n",
    "    for idx in pbar.tqdm(range(len(phones)), position=1, leave = True):\n",
    "    #for idx in pbar.tqdm(range(3), position=0, leave = True):\n",
    "        #print(phone_names[idx], phones[idx])\n",
    "        ue.pauserealuseremulate()\n",
    "        driver.get(phones[idx])\n",
    "        \n",
    "        #reviews = driver.find_elements_by_class_name('more')\n",
    "        reviews = driver.find_elements(By.CLASS_NAME, 'more')\n",
    "        reviews = [el.get_property('href') for el in reviews]\n",
    "        \n",
    "        #for review_link in pbar.tqdm(reviews, position=1, leave = True):\n",
    "        for review_link in reviews:\n",
    "            ue.pauserealuseremulate() \n",
    "            driver.get(review_link)\n",
    "            \n",
    "            # zero rating - just ad\n",
    "            #rating = driver.find_elements_by_class_name(\"fivestarWidgetStatic\")[1]\n",
    "            rating = driver.find_elements(By.CLASS_NAME, \"fivestarWidgetStatic\")[1]\n",
    "            #rating = len(rating.find_elements_by_class_name('on'))\n",
    "            rating = len(rating.find_elements(By.CLASS_NAME, 'on'))\n",
    "            #print(rating)\n",
    "            #text = driver.find_elements_by_class_name(\"views-field-teaser\")[0].text\n",
    "            text = driver.find_elements(By.CLASS_NAME, \"views-field-teaser\")[0].text\n",
    "            #print(text[:20])\n",
    "            reviews_page_df.loc[index, 'phone']  = phone_names[idx]\n",
    "            reviews_page_df.loc[index, 'review'] = text\n",
    "            reviews_page_df.loc[index, 'rating'] = rating\n",
    "            reviews_page_df.loc[index, 'link']   = review_link\n",
    "            index += 1\n",
    "            \n",
    "    \n",
    "    # save after each page\n",
    "    reviews_page_df.to_csv(os.path.join(PATH_DATA, f'reviews_own_page{page_number}.csv'))\n",
    "    loaded_links['pages'].add(url)\n",
    "    with open(os.path.join(PATH_DATA, 'loaded_links.pkl'), 'wb') as fd:\n",
    "        pkl.dump(loaded_links, fd)"
   ]
  },
  {
   "cell_type": "markdown",
   "id": "2f5de72f-0777-49cd-a82e-1983ca6fa228",
   "metadata": {},
   "source": [
    "Итого получилось порядка 2с на отзыв. Т.е. за 24 часа более 40000. Хорошо. Так же мы обошли ограничение в 10 сек и даже в 3 сек."
   ]
  },
  {
   "cell_type": "code",
   "execution_count": null,
   "id": "45e4f8c8-b001-4698-943e-8e6c50dc0062",
   "metadata": {},
   "outputs": [],
   "source": []
  },
  {
   "cell_type": "markdown",
   "id": "d385878a-65a1-4076-b8cb-6734aac1899c",
   "metadata": {},
   "source": [
    "Сохранял каждую страницу в отдельный файл. Совместим их."
   ]
  },
  {
   "cell_type": "code",
   "execution_count": null,
   "id": "b3ff3f4e-ab6c-4185-8d03-7f9ba4d37933",
   "metadata": {},
   "outputs": [],
   "source": [
    "review_df = DataFrame(columns = ['phone', 'review', 'rating', 'link'])\n",
    "#review_df"
   ]
  },
  {
   "cell_type": "code",
   "execution_count": null,
   "id": "24812c47-fc40-4e54-97ba-de296ef795f5",
   "metadata": {},
   "outputs": [],
   "source": [
    "for file in os.listdir('data'):\n",
    "    if file.startswith('review'):\n",
    "        print(file)\n",
    "        tmp_df = read_csv(os.path.join(PATH_DATA, file), index_col = 0)\n",
    "        review_df = concat((review_df, tmp_df), \n",
    "                           ignore_index = True\n",
    "                          )\n",
    "print(review_df.shape)\n",
    "review_df.dropna(axis = 0, inplace = True)\n",
    "print(review_df.shape)"
   ]
  },
  {
   "cell_type": "code",
   "execution_count": null,
   "id": "e76a3cb6-f3ba-466f-b0b5-d9afa858980e",
   "metadata": {},
   "outputs": [],
   "source": [
    "review_df.sample(10)"
   ]
  },
  {
   "cell_type": "markdown",
   "id": "838106d2-f0d3-4199-8683-e77109871157",
   "metadata": {},
   "source": [
    "Что нам известно об данном нам датасете:   \n",
    "- отзывы о телефонах;   \n",
    "- есть много жаргона и названий компаний на русском, много слитых слов, опечатки:\n",
    "  'кверти', 'рут', 'очень травится', 'полная френь', 'ценанадежность'\n",
    "- на первый взгляд очень мало положительных отзывов;\n",
    "- минимальная длина отзыва - 16, средняя - 116, максимальная - 531;  \n",
    "- все 'neg' дают 0.48888. все 'pos' - 0.51111."
   ]
  },
  {
   "cell_type": "code",
   "execution_count": null,
   "id": "aa1c164b-c3a5-43d9-9788-ea7ac9f98ad1",
   "metadata": {},
   "outputs": [],
   "source": []
  },
  {
   "cell_type": "markdown",
   "id": "7be2cabc-625a-4f3c-a46b-74e0aef52c1f",
   "metadata": {},
   "source": [
    "Необходимо собрать датасет примерно похожий на предоставленный:   \n",
    "длина не более 531, пропорции pos/neg ~50/50.   \n",
    "Отбросим слишком длинные отзывы из нашей выборки, затем уберем часть позитивных отзывов,   \n",
    "для уравнивания пропорций с оставшимися негативными после удаления длинных отзывов.   \n",
    "У нас в выборке 5 звезд, т.к. класса в тестовой выборке 2, без нейтрального, будем считать   \n",
    "все 5 и 4 звезд - за позитивные отзывы, 3 и менее - за негативные."
   ]
  },
  {
   "cell_type": "code",
   "execution_count": null,
   "id": "395e569f-51ef-4597-9996-4bbb488b5630",
   "metadata": {},
   "outputs": [],
   "source": [
    "review_df['review_length'] = review_df.review.map(lambda x: len(x.split(' ')))"
   ]
  },
  {
   "cell_type": "code",
   "execution_count": null,
   "id": "858f0c2c-cdcc-4e26-abac-3aee130dc382",
   "metadata": {},
   "outputs": [],
   "source": [
    "hist(review_df.review_length, bins = 20)"
   ]
  },
  {
   "cell_type": "code",
   "execution_count": null,
   "id": "f09d82d5-97da-4c0f-b134-123711a5286b",
   "metadata": {},
   "outputs": [],
   "source": [
    "review_df.rating.value_counts()"
   ]
  },
  {
   "cell_type": "code",
   "execution_count": null,
   "id": "77cb8a35-abbc-4b96-8192-b9c478bb73d8",
   "metadata": {},
   "outputs": [],
   "source": [
    "review_df.phone.value_counts()"
   ]
  },
  {
   "cell_type": "code",
   "execution_count": null,
   "id": "a4c7dbe4-047f-4ae8-8621-4ccfbf278861",
   "metadata": {},
   "outputs": [],
   "source": [
    "#lens = [len(review_df.loc[idx, 'review'].split(' ')) for idx in review_df.dropna(axis = 0).index]"
   ]
  },
  {
   "cell_type": "markdown",
   "id": "08ebe69b-6a52-4a2d-9d3e-608092e085e5",
   "metadata": {},
   "source": []
  },
  {
   "cell_type": "markdown",
   "id": "0779507e-f80f-4a9b-92c9-20e5fe773782",
   "metadata": {},
   "source": [
    "Максиммальную длину отзыва возьмем за 600. т.к. если взять 500 - то теряются почти 300 негативных отзывов."
   ]
  },
  {
   "cell_type": "code",
   "execution_count": null,
   "id": "8a98f98e-f4ed-4fc9-a252-d03db9f8e7e4",
   "metadata": {},
   "outputs": [],
   "source": [
    "train = review_df.query('review_length < 600')\n",
    "train.reset_index(inplace = True)\n",
    "train = train.drop(['index'], axis = 1)\n",
    "train.shape"
   ]
  },
  {
   "cell_type": "code",
   "execution_count": null,
   "id": "d47edf2c-d419-4a78-b7db-6351010e8a42",
   "metadata": {},
   "outputs": [],
   "source": [
    "train.query('rating <= 3').shape, train.query('rating > 3').shape"
   ]
  },
  {
   "cell_type": "markdown",
   "id": "ceb172ca-7e84-4fe5-83f8-2197d22f2741",
   "metadata": {},
   "source": [
    "удалим 10000 случайных положительных отзывов.   \n",
    "при получении не очень хорошего итогового результата можно повторять данный этап несколько раз для получения разных вборок."
   ]
  },
  {
   "cell_type": "code",
   "execution_count": null,
   "id": "d1b861e4-0bed-4c0a-bb87-6ac89108e336",
   "metadata": {},
   "outputs": [],
   "source": [
    "index_to_drop = np.random.choice(train.query('rating > 3').index, 10000, replace = False)\n",
    "len(set(index_to_drop))"
   ]
  },
  {
   "cell_type": "code",
   "execution_count": null,
   "id": "729d2635-405a-482b-a989-69cd2d64f1ab",
   "metadata": {},
   "outputs": [],
   "source": [
    "train.drop(train.index[index_to_drop], axis = 0, inplace = True)#.rating.value_counts()\n",
    "train.shape"
   ]
  },
  {
   "cell_type": "code",
   "execution_count": null,
   "id": "a52c8dc2-12b9-4b69-8c3a-7a93a136796d",
   "metadata": {},
   "outputs": [],
   "source": [
    "train.rating.value_counts()"
   ]
  },
  {
   "cell_type": "code",
   "execution_count": null,
   "id": "f2563362-6c2a-4983-a111-e47fc01596df",
   "metadata": {},
   "outputs": [],
   "source": [
    "train.to_csv(os.path.join(PATH_DATA, 'ru_train.csv'))"
   ]
  },
  {
   "cell_type": "markdown",
   "id": "d52bd640-7458-4de3-8c60-c4325cef3cae",
   "metadata": {},
   "source": [
    "Проверим только одну гипотезу: корреляция между длинной отзыва и оценкой"
   ]
  },
  {
   "cell_type": "code",
   "execution_count": null,
   "id": "6c7f47d6-ee6e-476a-8ff7-ec84686995f4",
   "metadata": {},
   "outputs": [],
   "source": [
    "train[['rating', 'review_length']].corr()"
   ]
  },
  {
   "cell_type": "markdown",
   "id": "142b6330-000f-42e4-a13c-0f984dd91bdd",
   "metadata": {},
   "source": [
    "Нет, корреляция не наблюдается.   \n",
    "Все, отзывы собраны, перейдем к обучению модели."
   ]
  },
  {
   "cell_type": "code",
   "execution_count": null,
   "id": "f696359b-9f55-464e-9222-ff2a7d656d18",
   "metadata": {},
   "outputs": [],
   "source": []
  }
 ],
 "metadata": {
  "kernelspec": {
   "display_name": "Python 3 (ipykernel)",
   "language": "python",
   "name": "python3"
  },
  "language_info": {
   "codemirror_mode": {
    "name": "ipython",
    "version": 3
   },
   "file_extension": ".py",
   "mimetype": "text/x-python",
   "name": "python",
   "nbconvert_exporter": "python",
   "pygments_lexer": "ipython3",
   "version": "3.9.12"
  }
 },
 "nbformat": 4,
 "nbformat_minor": 5
}
