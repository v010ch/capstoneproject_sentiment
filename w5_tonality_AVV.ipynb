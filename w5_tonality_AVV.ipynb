{
 "cells": [
  {
   "cell_type": "code",
   "execution_count": null,
   "id": "f6f4b8c1-243e-45d7-bcf5-bb5c6d7f5f0f",
   "metadata": {},
   "outputs": [],
   "source": []
  },
  {
   "cell_type": "code",
   "execution_count": 1,
   "id": "c17b6813-70c6-4126-a416-1f8fe4cd3e9a",
   "metadata": {},
   "outputs": [],
   "source": [
    "import requests\n",
    "from bs4 import BeautifulSoup as soup"
   ]
  },
  {
   "cell_type": "code",
   "execution_count": null,
   "id": "62ac99c8-e6c6-499c-a339-4aed6e9e1e23",
   "metadata": {},
   "outputs": [],
   "source": []
  },
  {
   "cell_type": "code",
   "execution_count": 2,
   "id": "692fd6f2-ded0-4a1f-a9c4-cb673cbc46a7",
   "metadata": {},
   "outputs": [],
   "source": [
    "task_a = 'https://en.wikipedia.org/wiki/Bias-variance_tradeoff'\n",
    "task_b = 'https://en.wikipedia.org/wiki/Category:Machine_learning_algorithms'"
   ]
  },
  {
   "cell_type": "code",
   "execution_count": null,
   "id": "1e42d289-a0a7-4d9c-a0ea-60bcbec1d59c",
   "metadata": {},
   "outputs": [],
   "source": []
  },
  {
   "cell_type": "markdown",
   "id": "7b6d64dc-2066-4426-8947-275999da8f28",
   "metadata": {},
   "source": [
    "### из статьи https://en.wikipedia.org/wiki/Bias-variance_tradeoff все заголовки верхнего уровня"
   ]
  },
  {
   "cell_type": "markdown",
   "id": "115a3fc3-187a-4217-b196-4c9509e0b88d",
   "metadata": {},
   "source": [
    "К заголовку первого уровня по идее относится только h1. Как то слишком упрощено получается.   \n",
    "Пройдемся по всем от h1 до h6. Просто на интерес."
   ]
  },
  {
   "cell_type": "markdown",
   "id": "dccf0207-cba6-4cba-ba68-7ea1e31084ab",
   "metadata": {},
   "source": [
    "При этом часть заголовков общая для почти всех страниц на вики. Исключим их в процессе."
   ]
  },
  {
   "cell_type": "code",
   "execution_count": 3,
   "id": "a3a239f0-12cc-4342-9791-98143ef9ebce",
   "metadata": {},
   "outputs": [],
   "source": [
    "stop_headers = set(['Personal tools', 'Namespaces', 'Variants', 'Views', 'More', 'Search', 'Navigation',\n",
    "                   'Contribute', 'Tools', 'Print/export', 'Languages', 'Navigation menu', 'Contents',\n",
    "                    'See also[edit]', 'References[edit]',\n",
    "                   ])"
   ]
  },
  {
   "cell_type": "code",
   "execution_count": 4,
   "id": "a19217d2-16bb-4603-9bf2-2aacf8ed587b",
   "metadata": {},
   "outputs": [
    {
     "name": "stdout",
     "output_type": "stream",
     "text": [
      "https://en.wikipedia.org/wiki/Bias-variance_tradeoff\n"
     ]
    }
   ],
   "source": [
    "print(task_a)\n",
    "req = requests.get(task_a)\n",
    "#page = soup(req.text, 'lxml')\n",
    "page = soup(req.text, 'html')"
   ]
  },
  {
   "cell_type": "code",
   "execution_count": 5,
   "id": "6e02e188-13a8-467e-a150-7cc61470b61b",
   "metadata": {},
   "outputs": [
    {
     "name": "stdout",
     "output_type": "stream",
     "text": [
      "h1\n",
      "Bias–variance tradeoff\n",
      "h2\n",
      "Motivation\n",
      "Bias–variance decomposition of mean squared error\n",
      "Approaches\n",
      "Applications\n",
      "h3\n",
      "Derivation\n",
      "k-nearest neighbors\n",
      "In regression\n",
      "In classification\n",
      "In reinforcement learning\n",
      "In human learning\n",
      "h4\n",
      "h5\n",
      "h6\n"
     ]
    }
   ],
   "source": [
    "for rank in range(6):\n",
    "    print(f'h{rank+1}')\n",
    "    finded = page.findAll(f'h{rank+1}')\n",
    "    \n",
    "    if len(finded) != 0:\n",
    "        for idx in range(len(finded)):\n",
    "            if finded[idx].text.strip() not in stop_headers:\n",
    "                if finded[idx].text.endswith('[edit]'):\n",
    "                    print(finded[idx].text[:-6])\n",
    "                else:\n",
    "                    print(finded[idx].text)"
   ]
  },
  {
   "cell_type": "markdown",
   "id": "14d07061-7342-46d7-b961-cb5ee4cefba9",
   "metadata": {},
   "source": [
    "Мы получили заголовки разделов, относящиеся только к теме статьи."
   ]
  },
  {
   "cell_type": "code",
   "execution_count": null,
   "id": "c4b96aee-f6bb-4a84-9354-aec27dc1830a",
   "metadata": {},
   "outputs": [],
   "source": []
  },
  {
   "cell_type": "code",
   "execution_count": null,
   "id": "11758c51-e0c0-4515-8de1-9f45711bd2ed",
   "metadata": {},
   "outputs": [],
   "source": []
  },
  {
   "cell_type": "markdown",
   "id": "b80413f8-a590-44a1-938a-d885048d04ef",
   "metadata": {},
   "source": [
    "### со страницы https://en.wikipedia.org/wiki/Category:Machine_learning_algorithms названия всех статей в категории Machine Learning Algorithms"
   ]
  },
  {
   "cell_type": "code",
   "execution_count": 6,
   "id": "19b25869-ebf1-464f-af22-c9273617f196",
   "metadata": {},
   "outputs": [
    {
     "name": "stdout",
     "output_type": "stream",
     "text": [
      "https://en.wikipedia.org/wiki/Category:Machine_learning_algorithms\n"
     ]
    }
   ],
   "source": [
    "print(task_b)\n",
    "req = requests.get(task_b)\n",
    "#page = soup(req.text, 'lxml')\n",
    "page = soup(req.text, 'html')"
   ]
  },
  {
   "cell_type": "code",
   "execution_count": 7,
   "id": "2836e990-fc03-42a3-b376-445aa45effdb",
   "metadata": {},
   "outputs": [],
   "source": [
    "finded = page.findAll('div', attrs={'class':'mw-category-group'})"
   ]
  },
  {
   "cell_type": "code",
   "execution_count": 8,
   "id": "61c0ac1b-f61f-4991-99b9-21241778463f",
   "metadata": {},
   "outputs": [
    {
     "data": {
      "text/plain": [
       "22"
      ]
     },
     "execution_count": 8,
     "metadata": {},
     "output_type": "execute_result"
    }
   ],
   "source": [
    "len(finded)"
   ]
  },
  {
   "cell_type": "code",
   "execution_count": 9,
   "id": "104ec833-1eb2-48d2-82dd-68b6fa107825",
   "metadata": {},
   "outputs": [
    {
     "name": "stdout",
     "output_type": "stream",
     "text": [
      "Adagrad\n",
      "Algorithms of Oppression\n",
      "Almeida–Pineda recurrent backpropagation\n",
      "Augmented Analytics\n",
      "Backpropagation\n",
      "Bioz\n",
      "Bootstrap aggregating\n",
      "CN2 algorithm\n",
      "Constructing skill trees\n",
      "Deep reinforcement learning\n",
      "Dehaene–Changeux model\n",
      "Diffusion map\n",
      "Dominance-based rough set approach\n",
      "Dynamic time warping\n",
      "Elastic net regularization\n",
      "Error-driven learning\n",
      "Evolutionary multimodal optimization\n",
      "Expectation–maximization algorithm\n",
      "Extremal Ensemble Learning\n",
      "FastICA\n",
      "Federated Learning of Cohorts\n",
      "Forward–backward algorithm\n",
      "GeneRec\n",
      "Genetic Algorithm for Rule Set Production\n",
      "Growing self-organizing map\n",
      "Hyper basis function network\n",
      "IDistance\n",
      "Incremental learning\n",
      "K-nearest neighbors algorithm\n",
      "Kernel methods for vector output\n",
      "Kernel principal component analysis\n",
      "Label propagation algorithm\n",
      "Lasso (statistics)\n",
      "Leabra\n",
      "Linde–Buzo–Gray algorithm\n",
      "Local outlier factor\n",
      "Logic learning machine\n",
      "LogitBoost\n",
      "Loss functions for classification\n",
      "Manifold alignment\n",
      "Minimum redundancy feature selection\n",
      "Mixture of experts\n",
      "Multiple kernel learning\n",
      "Non-negative matrix factorization\n",
      "Online machine learning\n",
      "Out-of-bag error\n",
      "Prefrontal cortex basal ganglia working memory\n",
      "Prototype methods\n",
      "PVLV\n",
      "Q-learning\n",
      "Quadratic unconstrained binary optimization\n",
      "Query-level feature\n",
      "Quickprop\n",
      "Radial basis function network\n",
      "Randomized weighted majority algorithm\n",
      "Repeated incremental pruning to produce error reduction (RIPPER)\n",
      "Rprop\n",
      "Rule-based machine learning\n",
      "Skill chaining\n",
      "Sparse PCA\n",
      "State–action–reward–state–action\n",
      "Stochastic gradient descent\n",
      "Structured kNN\n",
      "T-distributed stochastic neighbor embedding\n",
      "Triplet loss\n",
      "Universal Functions Originator\n",
      "Wake-sleep algorithm\n",
      "Weighted majority algorithm (machine learning)\n",
      "Zero-shot learning\n"
     ]
    }
   ],
   "source": [
    "total = 0\n",
    "for idx in range(len(finded)):\n",
    "    articles = finded[idx].findAll('a')\n",
    "    for el in range(len(articles)):\n",
    "        print(articles[el].text)\n",
    "        total += 1"
   ]
  },
  {
   "cell_type": "code",
   "execution_count": 10,
   "id": "e5526543-ccfe-490c-8571-81e47464c25b",
   "metadata": {},
   "outputs": [
    {
     "name": "stdout",
     "output_type": "stream",
     "text": [
      "69\n"
     ]
    }
   ],
   "source": [
    "print(total)"
   ]
  },
  {
   "cell_type": "markdown",
   "id": "cb50844f-f837-4ea1-9a29-ef4e6e3882f8",
   "metadata": {},
   "source": [
    "Посмотрим, можно ли было найти названия статей проще."
   ]
  },
  {
   "cell_type": "code",
   "execution_count": 11,
   "id": "b280e79c-b946-43db-a187-d1ee3320968c",
   "metadata": {},
   "outputs": [],
   "source": [
    "finded = page.findAll('a')"
   ]
  },
  {
   "cell_type": "code",
   "execution_count": 12,
   "id": "df869d6d-ee2b-4987-a9bf-00d1ef499826",
   "metadata": {},
   "outputs": [
    {
     "data": {
      "text/plain": [
       "142"
      ]
     },
     "execution_count": 12,
     "metadata": {},
     "output_type": "execute_result"
    }
   ],
   "source": [
    "len(finded)"
   ]
  },
  {
   "cell_type": "markdown",
   "id": "b086bed4-9d75-440a-af48-ada7c333dd64",
   "metadata": {},
   "source": [
    "Очевидно проще не выходит, т.к. собирает все ссылки на страницы, а не только необходимых разделов."
   ]
  },
  {
   "cell_type": "code",
   "execution_count": null,
   "id": "5b7a6650-c8db-4005-a201-4dcdc06b79f5",
   "metadata": {},
   "outputs": [],
   "source": []
  }
 ],
 "metadata": {
  "kernelspec": {
   "display_name": "Python 3",
   "language": "python",
   "name": "python3"
  },
  "language_info": {
   "codemirror_mode": {
    "name": "ipython",
    "version": 3
   },
   "file_extension": ".py",
   "mimetype": "text/x-python",
   "name": "python",
   "nbconvert_exporter": "python",
   "pygments_lexer": "ipython3",
   "version": "3.7.10"
  }
 },
 "nbformat": 4,
 "nbformat_minor": 5
}
