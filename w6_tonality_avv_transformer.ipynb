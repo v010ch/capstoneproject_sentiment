{
 "cells": [
  {
   "cell_type": "code",
   "execution_count": 1,
   "id": "a18554f8-4742-4392-a596-adb1b3185a9e",
   "metadata": {
    "id": "a18554f8-4742-4392-a596-adb1b3185a9e"
   },
   "outputs": [],
   "source": [
    "## ноутбук выполняется на колабе"
   ]
  },
  {
   "cell_type": "code",
   "execution_count": 2,
   "id": "1083e562-295a-4f4c-813f-935d1cadf503",
   "metadata": {},
   "outputs": [],
   "source": [
    "import os\n",
    "from typing import List\n",
    "import json\n",
    "from pathlib import Path\n",
    "import re\n",
    "import codecs\n",
    "import random\n",
    "import pickle as pkl\n",
    "\n",
    "import pandas as pd\n",
    "import numpy as np\n",
    "\n",
    "from sklearn.model_selection import train_test_split\n",
    "from sklearn.metrics import roc_auc_score"
   ]
  },
  {
   "cell_type": "code",
   "execution_count": null,
   "id": "8wrITcvAKIm_",
   "metadata": {
    "id": "8wrITcvAKIm_"
   },
   "outputs": [],
   "source": [
    "os.environ['KAGGLE_USERNAME'] = 'user_name'\n",
    "os.environ['KAGGLE_KEY'] = 'api_key'"
   ]
  },
  {
   "cell_type": "code",
   "execution_count": null,
   "id": "K500AvesKNW5",
   "metadata": {
    "colab": {
     "base_uri": "https://localhost:8080/"
    },
    "id": "K500AvesKNW5",
    "outputId": "7949ff2e-3140-4d8d-e44e-d32810416337"
   },
   "outputs": [],
   "source": [
    "!kaggle competitions download -c morecomplicatedsentiment"
   ]
  },
  {
   "cell_type": "markdown",
   "id": "6db66fc1-c69c-429a-a29e-0a550ff43936",
   "metadata": {},
   "source": [
    "По условиям задачи требуется в https://www.kaggle.com/c/morecomplicatedsentiment/ превзойти 0.85 по accuracy. Чтож.   \n",
    "Сейчас в nlp на голову всех выше трансформеры. Если поискать, то можно найти предобученный на рускоязычных отзывах   \n",
    "'blanchefort/rubert-base-cased-sentiment-rurewiews'. В принципе просто сабмит на этой модели дает 0.87777, что уже   \n",
    "удовлетворяет условиям задачи (точнее не совсем просто сабмит. модель подразумеваем еще и нейтральную тональность.   \n",
    "так что просто будем считать: если вероятность позитивного больше, чем негативного - отзыв позитивный. В противном   \n",
    "случае - негативный. Игнорируем нейтральный.)"
   ]
  },
  {
   "cell_type": "markdown",
   "id": "602ccfce-7588-41b8-961e-e51fa4511423",
   "metadata": {},
   "source": [
    "Но это выглядит странным. По заданию все же подразумевается обучение моделей. Хорошо, дообучим указанную модель на наших данных.   \n",
    "Посмотрим, что мы получим."
   ]
  },
  {
   "cell_type": "code",
   "execution_count": null,
   "id": "i1XiDE9fuZEI",
   "metadata": {
    "colab": {
     "base_uri": "https://localhost:8080/"
    },
    "id": "i1XiDE9fuZEI",
    "outputId": "86781d73-2a53-4ff2-a398-8087967379dc"
   },
   "outputs": [],
   "source": [
    "!pip install transformers"
   ]
  },
  {
   "cell_type": "code",
   "execution_count": null,
   "id": "WjpM7o0gcIwx",
   "metadata": {
    "id": "WjpM7o0gcIwx"
   },
   "outputs": [],
   "source": [
    "#!pip install datasets"
   ]
  },
  {
   "cell_type": "code",
   "execution_count": null,
   "id": "398df135-8e92-4adf-a020-b41480bcaba6",
   "metadata": {
    "id": "398df135-8e92-4adf-a020-b41480bcaba6"
   },
   "outputs": [],
   "source": [
    "import torch\n",
    "from transformers import AutoModelForSequenceClassification\n",
    "from transformers import BertTokenizerFast\n",
    "from transformers import AutoTokenizer\n",
    "from transformers import Trainer, TrainingArguments\n",
    "\n",
    "#from datasets import load_metric"
   ]
  },
  {
   "cell_type": "markdown",
   "id": "80866e16-073e-400c-941a-260ce97c2cc1",
   "metadata": {},
   "source": [
    "Подключаем гугл диск с данными"
   ]
  },
  {
   "cell_type": "code",
   "execution_count": null,
   "id": "652048d2-651a-4fe0-8b77-bc1ca38f5443",
   "metadata": {
    "colab": {
     "base_uri": "https://localhost:8080/"
    },
    "id": "652048d2-651a-4fe0-8b77-bc1ca38f5443",
    "outputId": "1a0b59d9-5e6d-4871-a821-3cd33c303717"
   },
   "outputs": [],
   "source": [
    "from google.colab import drive\n",
    "drive.mount('/content/drive')"
   ]
  },
  {
   "cell_type": "code",
   "execution_count": null,
   "id": "2bdb12cb-adae-4407-9b85-4b07b2adb003",
   "metadata": {
    "id": "2bdb12cb-adae-4407-9b85-4b07b2adb003"
   },
   "outputs": [],
   "source": [
    "PATH_DATA = os.path.join(Path.cwd(), 'drive', 'MyDrive')\n",
    "PATH_SUBM = os.path.join(Path.cwd(), 'submissions')"
   ]
  },
  {
   "cell_type": "code",
   "execution_count": null,
   "id": "WoF6Bx5btPQt",
   "metadata": {
    "id": "WoF6Bx5btPQt"
   },
   "outputs": [],
   "source": [
    "#ls /content/drive/MyDrive"
   ]
  },
  {
   "cell_type": "code",
   "execution_count": null,
   "id": "HR9mjYe5tPYL",
   "metadata": {
    "id": "HR9mjYe5tPYL"
   },
   "outputs": [],
   "source": []
  },
  {
   "cell_type": "markdown",
   "id": "1d45564a-122f-4559-bdeb-ffa19d934c5c",
   "metadata": {
    "id": "1d45564a-122f-4559-bdeb-ffa19d934c5c"
   },
   "source": [
    "## Загружаем предобрабатываем собранные нами данные"
   ]
  },
  {
   "cell_type": "code",
   "execution_count": null,
   "id": "004cbf26-9c4f-4acd-aab8-c5463e39d4ad",
   "metadata": {
    "colab": {
     "base_uri": "https://localhost:8080/"
    },
    "id": "004cbf26-9c4f-4acd-aab8-c5463e39d4ad",
    "outputId": "ccf07492-62ca-46a0-91d7-962971e313cc"
   },
   "outputs": [],
   "source": [
    "df = pd.read_csv(os.path.join(PATH_DATA,'ru_train.csv'))\n",
    "df.shape"
   ]
  },
  {
   "cell_type": "code",
   "execution_count": null,
   "id": "84fd2926-f341-4412-b510-69797a9e54ae",
   "metadata": {
    "colab": {
     "base_uri": "https://localhost:8080/",
     "height": 206
    },
    "id": "84fd2926-f341-4412-b510-69797a9e54ae",
    "outputId": "fefa9259-1423-480e-c0d6-2a509269b24b"
   },
   "outputs": [],
   "source": [
    "df.head()"
   ]
  },
  {
   "cell_type": "markdown",
   "id": "59cc3f08-9dc6-4dc7-8014-3abcf40432f7",
   "metadata": {
    "id": "59cc3f08-9dc6-4dc7-8014-3abcf40432f7"
   },
   "source": [
    "Очищаем данные"
   ]
  },
  {
   "cell_type": "code",
   "execution_count": null,
   "id": "3293e002-f0ce-437c-b35c-e0d4f19b9d2c",
   "metadata": {
    "id": "3293e002-f0ce-437c-b35c-e0d4f19b9d2c"
   },
   "outputs": [],
   "source": [
    "#clean_text = lambda x:' '.join(re.sub('\\n|\\r|\\t|[^а-яa-z]', ' ', x.lower()).split())\n",
    "clean_text = lambda x:' '.join(re.sub('\\n|\\r|\\t|[^а-я]', ' ', x.lower()).split())"
   ]
  },
  {
   "cell_type": "code",
   "execution_count": null,
   "id": "d1b651a6-7375-419e-816a-589cce0aafb9",
   "metadata": {
    "id": "d1b651a6-7375-419e-816a-589cce0aafb9"
   },
   "outputs": [],
   "source": [
    "df['clean_text'] = df.review.map(clean_text)"
   ]
  },
  {
   "cell_type": "markdown",
   "id": "15f45f56-905f-43d1-bea1-16ec53ec623d",
   "metadata": {},
   "source": [
    "Подразумевается, что 2 класса: позитивный (возьмем оценки 4 и 5) и негативный (возьмем оценки 1, 2 и 3). "
   ]
  },
  {
   "cell_type": "code",
   "execution_count": null,
   "id": "EB8rBiOiUhAf",
   "metadata": {
    "id": "EB8rBiOiUhAf"
   },
   "outputs": [],
   "source": [
    "# 0: NEUTRAL\n",
    "# 1: POSITIVE\n",
    "# 2: NEGATIVE"
   ]
  },
  {
   "cell_type": "code",
   "execution_count": null,
   "id": "de33cafe-c71a-4655-845d-c75e737fde49",
   "metadata": {
    "id": "de33cafe-c71a-4655-845d-c75e737fde49"
   },
   "outputs": [],
   "source": [
    "#set_tone = lambda x: 'pos' if int(x) >= 4 else 'neg'\n",
    "set_tone = lambda x: 1 if int(x) >= 4 else 2\n",
    "df['tone'] = df.rating.map(set_tone)"
   ]
  },
  {
   "cell_type": "markdown",
   "id": "17a1c705-4900-4910-ab76-eff68c8235da",
   "metadata": {
    "id": "7024da54-a38f-4519-abd6-42ab2f2c2ae5"
   },
   "source": [
    "Перемешиваем отзывы"
   ]
  },
  {
   "cell_type": "code",
   "execution_count": null,
   "id": "NkOnZB9rjwYj",
   "metadata": {
    "id": "NkOnZB9rjwYj"
   },
   "outputs": [],
   "source": [
    "df = df.sample(frac=1).reset_index(drop=True)\n",
    "df.drop(['Unnamed: 0'], axis = 1, inplace = True)\n",
    "df.head()"
   ]
  },
  {
   "cell_type": "code",
   "execution_count": null,
   "id": "4b0oHhpNj9kZ",
   "metadata": {
    "id": "4b0oHhpNj9kZ"
   },
   "outputs": [],
   "source": []
  },
  {
   "cell_type": "code",
   "execution_count": null,
   "id": "ooyEZSr1j4I0",
   "metadata": {
    "colab": {
     "base_uri": "https://localhost:8080/",
     "height": 293
    },
    "id": "ooyEZSr1j4I0",
    "outputId": "5a98a702-104f-48dc-e096-7546f7243298"
   },
   "outputs": [],
   "source": []
  },
  {
   "cell_type": "markdown",
   "id": "c74886f6-73d6-44f6-a809-8363bbdca74e",
   "metadata": {},
   "source": [
    "Прдготовливаем тренировочную и тестовую выборки"
   ]
  },
  {
   "cell_type": "code",
   "execution_count": null,
   "id": "2465e2d6-6a07-459b-9022-8448f8509db4",
   "metadata": {
    "colab": {
     "base_uri": "https://localhost:8080/"
    },
    "id": "2465e2d6-6a07-459b-9022-8448f8509db4",
    "outputId": "ebde2a1a-4671-4c0a-b865-61ab79af09c4"
   },
   "outputs": [],
   "source": [
    "train, test, train_lbl, test_lbl = train_test_split(df.clean_text, df.tone, \n",
    "                                                   test_size = 0.2, stratify = df.tone,\n",
    "                                                  random_state = 354274)\n",
    "train.shape, test.shape, train_lbl.shape, test_lbl.shape"
   ]
  },
  {
   "cell_type": "code",
   "execution_count": null,
   "id": "41b876cb-5ee1-4a7c-ade3-a83f67d1f41d",
   "metadata": {
    "colab": {
     "base_uri": "https://localhost:8080/"
    },
    "id": "41b876cb-5ee1-4a7c-ade3-a83f67d1f41d",
    "outputId": "f7e3548d-1da5-453a-e842-e083fcfb456c"
   },
   "outputs": [],
   "source": [
    "train_lbl.value_counts(), test_lbl.value_counts()"
   ]
  },
  {
   "cell_type": "markdown",
   "id": "9ceafe27-6af8-4f3a-8862-663ac7e5b25d",
   "metadata": {
    "id": "4f66177e-0a60-4ca2-a127-52125e598829"
   },
   "source": [
    "Так же на интререс попробуем еще несколько моделей, обученных на не отзывах. Но просто модели, без дообучения."
   ]
  },
  {
   "cell_type": "code",
   "execution_count": null,
   "id": "9387c7ae-edfe-4603-8d41-726e19bcc714",
   "metadata": {
    "id": "9387c7ae-edfe-4603-8d41-726e19bcc714"
   },
   "outputs": [],
   "source": [
    "#task='sentiment'\n",
    "#PRE_TRAINED_MODEL_NAME = f\"blanchefort/rubert-base-cased-{task}\"\n",
    "\n",
    "#PRE_TRAINED_MODEL_NAME = 'blanchefort/rubert-base-cased-sentiment-rusentiment'\n",
    "PRE_TRAINED_MODEL_NAME = 'blanchefort/rubert-base-cased-sentiment-rurewiews'\n",
    "\n",
    "MODEL_FOLDER = 'ru-blanchefort-rurewiews2'\n",
    "\n",
    "MAX_LENGTH = 512"
   ]
  },
  {
   "cell_type": "markdown",
   "id": "778cbed1-590c-4e34-9250-3f53e21e059b",
   "metadata": {},
   "source": [
    "Загружаем токенайзер, переводящий данные в embeddings, модель.   \n",
    "Переводим наши данные в torch.tensor, необходимый для обучения."
   ]
  },
  {
   "cell_type": "code",
   "execution_count": null,
   "id": "930f82bd-d255-4365-a8a1-f2be47df14a0",
   "metadata": {
    "id": "930f82bd-d255-4365-a8a1-f2be47df14a0"
   },
   "outputs": [],
   "source": [
    "tokenizer = AutoTokenizer.from_pretrained(PRE_TRAINED_MODEL_NAME)"
   ]
  },
  {
   "cell_type": "code",
   "execution_count": null,
   "id": "f5ba59ec-6fac-49e5-9980-4f3ddb0da835",
   "metadata": {
    "id": "f5ba59ec-6fac-49e5-9980-4f3ddb0da835"
   },
   "outputs": [],
   "source": [
    "train_tokens = tokenizer(list(train.values), truncation=True, padding=True, max_length=MAX_LENGTH)\n",
    "test_tokens  = tokenizer(list(test.values),  truncation=True, padding=True, max_length=MAX_LENGTH)"
   ]
  },
  {
   "cell_type": "code",
   "execution_count": null,
   "id": "86219159-b407-44bf-b488-c16d1e4d655e",
   "metadata": {
    "id": "86219159-b407-44bf-b488-c16d1e4d655e"
   },
   "outputs": [],
   "source": [
    "class TonalityDataset(torch.utils.data.Dataset):\n",
    "    def __init__(self, encodings, labels: List[str]) -> None:\n",
    "        self.encodings = encodings\n",
    "        self.labels = labels\n",
    "\n",
    "    def __getitem__(self, idx: int) -> int:\n",
    "        \"\"\"\n",
    "        Получение метки класса из тензора\n",
    "        args:\n",
    "            idx - индекс требуемой метки класса\n",
    "        return:\n",
    "            ште - метка класса\n",
    "        \"\"\"\n",
    "        item = {k: torch.tensor(v[idx]) for k, v in self.encodings.items()}\n",
    "        item[\"labels\"] = torch.tensor([self.labels[idx]])\n",
    "        \n",
    "        return item\n",
    "\n",
    "    def __len__(self) -> int:\n",
    "        return len(self.labels)"
   ]
  },
  {
   "cell_type": "code",
   "execution_count": null,
   "id": "b8fffe4c-46a4-4d98-8635-bcfeb7e0010e",
   "metadata": {
    "id": "b8fffe4c-46a4-4d98-8635-bcfeb7e0010e"
   },
   "outputs": [],
   "source": [
    "train_dataset = TonalityDataset(train_tokens, train_lbl.values)\n",
    "test_dataset  = TonalityDataset(test_tokens,  test_lbl.values)"
   ]
  },
  {
   "cell_type": "code",
   "execution_count": null,
   "id": "jh8bx3BR-_va",
   "metadata": {
    "id": "jh8bx3BR-_va"
   },
   "outputs": [],
   "source": [
    "# 0: NEUTRAL\n",
    "# 1: POSITIVE\n",
    "# 2: NEGATIVE\n",
    "def compute_metrics(pred) -> Dict:\n",
    "    \"\"\"\n",
    "    Расчет метрики roc-auc для расчитанных и истиных значениях классов\n",
    "    \"\"\"\n",
    "    \n",
    "    labels = pred.label_ids\n",
    "    preds = pred.predictions.argmax(-1)\n",
    "    # calculate roc_auc_score using sklearn's function\n",
    "    rocauc = roc_auc_score(labels, preds)\n",
    "    \n",
    "    return {\n",
    "        'roc-auc': rocauc,\n",
    "    }"
   ]
  },
  {
   "cell_type": "code",
   "execution_count": null,
   "id": "ebc7b58e-c1c1-48d8-b3e8-6dc4d71faf4d",
   "metadata": {
    "id": "ebc7b58e-c1c1-48d8-b3e8-6dc4d71faf4d"
   },
   "outputs": [],
   "source": [
    "training_args = TrainingArguments(\n",
    "    output_dir=f'/content/drive/MyDrive/models/{MODEL_FOLDER}/results',          # output directory\n",
    "    num_train_epochs=1,              # total number of training epochs\n",
    "    #per_device_train_batch_size=16,  # batch size per device during training\n",
    "    #per_device_eval_batch_size=20,   # batch size for evaluation\n",
    "    per_device_train_batch_size=8,  # batch size per device during training\n",
    "    per_device_eval_batch_size=16,   # batch size for evaluation\n",
    "    warmup_steps=300,                # number of warmup steps for learning rate scheduler\n",
    "    weight_decay=0.01,               # strength of weight decay\n",
    "    #logging_dir=f'/content/drive/MyDrive/models/{MODEL_FOLDER}/logs',            # directory for storing logs\n",
    "    #logging_first_step  = True, \n",
    "    load_best_model_at_end=True,     # load the best model when finished training (default metric is loss)\n",
    "    # but you can specify `metric_for_best_model` argument to change to accuracy or other metric\n",
    "    #metric_for_best_model = compute_metrics,\n",
    "    greater_is_better = True,    # if use roc-auc inside 'metric_for_best_model'\n",
    "    logging_steps=50,               # log & save weights each logging_steps\n",
    "    evaluation_strategy=\"steps\",    #\"epoch\" # evaluate each `logging_steps`\n",
    "\n",
    "    seed = 112,\n",
    ")"
   ]
  },
  {
   "cell_type": "code",
   "execution_count": null,
   "id": "cf008157-1445-4399-b3d1-074945a0c184",
   "metadata": {
    "id": "cf008157-1445-4399-b3d1-074945a0c184"
   },
   "outputs": [],
   "source": [
    "#no roc-auc metric on current moment\n",
    "#load_metric('rocauc')\n",
    "#https://github.com/huggingface/datasets/tree/master/metrics"
   ]
  },
  {
   "cell_type": "code",
   "execution_count": null,
   "id": "f79a79b7-3e56-4c81-9feb-3d7b2af415c7",
   "metadata": {
    "id": "f79a79b7-3e56-4c81-9feb-3d7b2af415c7"
   },
   "outputs": [],
   "source": [
    "model = AutoModelForSequenceClassification.from_pretrained(PRE_TRAINED_MODEL_NAME,)\n",
    "model.classifier"
   ]
  },
  {
   "cell_type": "markdown",
   "id": "4c91cfda-e27a-4ff2-bcf6-004492fe4d06",
   "metadata": {},
   "source": [
    "Будет переобучен слой классификатора.   \n",
    "Выходной слой подразумевает выход на 3 класса. Изменить возможно, но легко не удалось, необходимо лезть в дебри pytorch, но я его пока не знаю.   \n",
    "Ничего страшного. У нас нет нейтральных отзывов. Так что вероятность нейтральных отзывов должна занулиться.   "
   ]
  },
  {
   "cell_type": "code",
   "execution_count": null,
   "id": "QAuYDwWpCDL8",
   "metadata": {
    "id": "QAuYDwWpCDL8"
   },
   "outputs": [],
   "source": [
    "#не использовулось в финальном решении, т.к. веса джля не исполльзуемого класса и так будут занулены\n",
    "\n",
    "#заменяем голову модели на выход для 2х классов\n",
    "#model.classifier = torch.nn.Linear(in_features=768, out_features=2, bias=True)\n",
    "#model.classifier"
   ]
  },
  {
   "cell_type": "code",
   "execution_count": null,
   "id": "JPO3TMNoCR3n",
   "metadata": {
    "id": "JPO3TMNoCR3n"
   },
   "outputs": [],
   "source": [
    "trainer = Trainer(\n",
    "    model=model,                         # the instantiated Transformers model to be trained\n",
    "    args=training_args,                  # training arguments, defined above\n",
    "    train_dataset=train_dataset,         # training dataset\n",
    "    eval_dataset=test_dataset,           # evaluation dataset\n",
    "    compute_metrics=compute_metrics,     # the callback that computes metrics of interest\n",
    ")"
   ]
  },
  {
   "cell_type": "markdown",
   "id": "465ac2c1-f56a-4317-920d-71e3bf32d609",
   "metadata": {
    "id": "uQQrxyDzt0SK"
   },
   "source": [
    "Считаем на cpu. В зависимости от нагрузки colab может успеть просчитать все (благо поставил только 1 эпоху).\n",
    "У меня не удавалось, так что сохраняем промежуточные состояния на google drive и, после сброса colab 8ми часовой сессии,   \n",
    "вновь запускаем подсчет."
   ]
  },
  {
   "cell_type": "code",
   "execution_count": null,
   "id": "j1GFO3SWCR6R",
   "metadata": {
    "id": "j1GFO3SWCR6R"
   },
   "outputs": [],
   "source": [
    "#trainer.train()"
   ]
  },
  {
   "cell_type": "code",
   "execution_count": null,
   "id": "MhqNRrgOCR9F",
   "metadata": {
    "colab": {
     "base_uri": "https://localhost:8080/",
     "height": 457,
     "referenced_widgets": [
      "7c0ed5a7c233413990f86fbe0b6aff88",
      "077166de4dfa4770a52bab343b9cdc73",
      "d335341bf14d463ca7122c562f62378e",
      "fa47568ce560452a9a8dfe2271d809b2",
      "4770d62fdf014d29b51b3972de68555c",
      "02f78f437977475ab5913f19658742fb",
      "1aef704ee7924f438c81c95ce4675cd1",
      "c302d58691a74f6b99927eaf61477e9f",
      "2b7991ba517347449052957a6451b8e0",
      "106d7187a6b041dcbc0ce5bc5dd6d029",
      "849f36e98e8f4d13b3f65194e038c103"
     ]
    },
    "id": "MhqNRrgOCR9F",
    "outputId": "a59df637-f265-40a6-deab-9bfec2b6b600"
   },
   "outputs": [],
   "source": [
    "trainer.train(resume_from_checkpoint = True)"
   ]
  },
  {
   "cell_type": "code",
   "execution_count": null,
   "id": "kZu5ooLyCR_0",
   "metadata": {
    "colab": {
     "base_uri": "https://localhost:8080/"
    },
    "id": "kZu5ooLyCR_0",
    "outputId": "6597b162-02e6-4b8f-ca9c-10a3a4af0e6b"
   },
   "outputs": [],
   "source": [
    "model.save_pretrained(os.path.join('/content/drive/MyDrive/models/', f'{submname}'))"
   ]
  },
  {
   "cell_type": "code",
   "execution_count": null,
   "id": "uIhCugKqCSCR",
   "metadata": {
    "id": "uIhCugKqCSCR"
   },
   "outputs": [],
   "source": []
  },
  {
   "cell_type": "markdown",
   "id": "8531d198-9d99-4914-8dc4-550b9faaa53e",
   "metadata": {
    "id": "-EUBmjA6lPM_"
   },
   "source": [
    "Делаем сабмит."
   ]
  },
  {
   "cell_type": "code",
   "execution_count": null,
   "id": "c6d98131-fa55-41af-9728-e357da7f72fd",
   "metadata": {
    "id": "c6d98131-fa55-41af-9728-e357da7f72fd"
   },
   "outputs": [],
   "source": [
    "with codecs.open(os.path.join('.', 'test.csv'), encoding='utf-8') as fd:\n",
    "    data = fd.read()"
   ]
  },
  {
   "cell_type": "code",
   "execution_count": null,
   "id": "1d9434f0-a0d6-47d3-8670-568bd3b813d9",
   "metadata": {
    "colab": {
     "base_uri": "https://localhost:8080/"
    },
    "id": "1d9434f0-a0d6-47d3-8670-568bd3b813d9",
    "outputId": "fbc0e870-1073-49ec-d9ed-808b3aff8b52"
   },
   "outputs": [],
   "source": [
    "data = data.lower().split('</review>\\n\\n<review>')\n",
    "data[0] = data[0][8:]\n",
    "data[-1] = data[-1][:-11]\n",
    "\n",
    "len(data)"
   ]
  },
  {
   "cell_type": "code",
   "execution_count": null,
   "id": "U7TjtlnGY5c1",
   "metadata": {
    "id": "U7TjtlnGY5c1"
   },
   "outputs": [],
   "source": [
    "data = list(map(clean_text, data))"
   ]
  },
  {
   "cell_type": "code",
   "execution_count": null,
   "id": "wKWLI_ypRxSZ",
   "metadata": {
    "id": "wKWLI_ypRxSZ"
   },
   "outputs": [],
   "source": [
    "#data = list(map(lambda x: ' '.join([el for el in x.split() if el not in russian_stopwords]), data))"
   ]
  },
  {
   "cell_type": "code",
   "execution_count": null,
   "id": "980815de-913f-4510-b483-b916f56819c4",
   "metadata": {
    "id": "980815de-913f-4510-b483-b916f56819c4"
   },
   "outputs": [],
   "source": []
  },
  {
   "cell_type": "markdown",
   "id": "a0c739ac-f82c-4a94-bf1f-a8f142f59325",
   "metadata": {
    "id": "a0c739ac-f82c-4a94-bf1f-a8f142f59325"
   },
   "source": [
    "### Посмотрим на получившиеся данные"
   ]
  },
  {
   "cell_type": "code",
   "execution_count": null,
   "id": "a31dae3a-f8bf-41c1-a965-270c6a8cc936",
   "metadata": {
    "colab": {
     "base_uri": "https://localhost:8080/",
     "height": 87
    },
    "id": "a31dae3a-f8bf-41c1-a965-270c6a8cc936",
    "outputId": "ddbda4e0-a33a-4495-c345-b5f2026346aa"
   },
   "outputs": [],
   "source": [
    "data[random.randrange(100)]"
   ]
  },
  {
   "cell_type": "code",
   "execution_count": null,
   "id": "a869254b-c129-4c87-b384-3d612d6ff84d",
   "metadata": {
    "colab": {
     "base_uri": "https://localhost:8080/"
    },
    "id": "a869254b-c129-4c87-b384-3d612d6ff84d",
    "outputId": "6605bd66-50fe-4dd7-9f26-8f6ecb0a3151"
   },
   "outputs": [],
   "source": [
    "np.mean([len(el.split()) for el in data])"
   ]
  },
  {
   "cell_type": "markdown",
   "id": "ffeb337d-ce58-4b39-ad7d-9a209d2ada05",
   "metadata": {
    "id": "ffeb337d-ce58-4b39-ad7d-9a209d2ada05"
   },
   "source": []
  },
  {
   "cell_type": "code",
   "execution_count": null,
   "id": "77ff54b9-f87b-4ead-88aa-3e0dbc625576",
   "metadata": {
    "id": "77ff54b9-f87b-4ead-88aa-3e0dbc625576"
   },
   "outputs": [],
   "source": [
    "subm = pd.read_csv(os.path.join('.', 'sample_submission.csv'))"
   ]
  },
  {
   "cell_type": "code",
   "execution_count": null,
   "id": "28621fa5-ed28-404d-b69e-fee4288ef983",
   "metadata": {
    "colab": {
     "base_uri": "https://localhost:8080/"
    },
    "id": "28621fa5-ed28-404d-b69e-fee4288ef983",
    "outputId": "799479cd-a63e-498a-e698-0a21e4fc2cc4"
   },
   "outputs": [],
   "source": [
    "subm.y.value_counts()"
   ]
  },
  {
   "cell_type": "code",
   "execution_count": null,
   "id": "0c6cd4bf-9398-428f-a3cd-dafcbcae097e",
   "metadata": {
    "id": "0c6cd4bf-9398-428f-a3cd-dafcbcae097e"
   },
   "outputs": [],
   "source": [
    "#subm.y = ['pos'] * subm.shape[0]"
   ]
  },
  {
   "cell_type": "code",
   "execution_count": null,
   "id": "d61c9a30-22b5-483d-837a-c233c77c1f37",
   "metadata": {
    "id": "d61c9a30-22b5-483d-837a-c233c77c1f37"
   },
   "outputs": [],
   "source": [
    "@torch.no_grad()\n",
    "def predict(text: List[str]) -> List[float, float]:\n",
    "    \"\"\"\n",
    "    Предсказываем метки класса для отзывов\n",
    "    args:\n",
    "        text - тексты отзывов\n",
    "    return:\n",
    "        вероятности классов\n",
    "    \"\"\"\n",
    "    inputs = tokenizer(text, max_length=512, padding=True, truncation=True, return_tensors='pt')\n",
    "    outputs = model(**inputs)\n",
    "    predicted = torch.nn.functional.softmax(outputs.logits, dim=1)\n",
    "    #predicted = torch.argmax(predicted, dim=1).numpy()\n",
    "    return predicted"
   ]
  },
  {
   "cell_type": "code",
   "execution_count": null,
   "id": "19baf52c-f78b-4457-ae29-fd08f68f8030",
   "metadata": {
    "colab": {
     "base_uri": "https://localhost:8080/"
    },
    "id": "19baf52c-f78b-4457-ae29-fd08f68f8030",
    "outputId": "ef16f409-9cbf-49cb-bdd1-18baa16bf22a"
   },
   "outputs": [],
   "source": [
    "%%time\n",
    "pred = predict(data)"
   ]
  },
  {
   "cell_type": "code",
   "execution_count": null,
   "id": "3dOrFPfHK1pg",
   "metadata": {
    "colab": {
     "base_uri": "https://localhost:8080/"
    },
    "id": "3dOrFPfHK1pg",
    "outputId": "43fb2e14-86bd-42b4-cb57-a800dabc65b6"
   },
   "outputs": [],
   "source": [
    "# по вероятностям классов разделим на позитивные и неготивные отзывы\n",
    "for idx in subm.index:\n",
    "    if pred[idx][1].item() > pred[idx][2].item():\n",
    "        subm.loc[idx, 'y'] = 'pos'\n",
    "    else:\n",
    "        subm.loc[idx, 'y'] = 'neg'\n",
    "\n",
    "subm.y.value_counts()"
   ]
  },
  {
   "cell_type": "code",
   "execution_count": null,
   "id": "XNRwrTU0K1s3",
   "metadata": {
    "id": "XNRwrTU0K1s3"
   },
   "outputs": [],
   "source": []
  },
  {
   "cell_type": "markdown",
   "id": "d9eac145-6abb-433c-a02c-c99bc96ff254",
   "metadata": {
    "id": "y2Z4X4aqMJTo"
   },
   "source": [
    "Сохраним в сабмит"
   ]
  },
  {
   "cell_type": "code",
   "execution_count": null,
   "id": "ecb30512-9157-45d0-9d66-d08594031230",
   "metadata": {
    "id": "ecb30512-9157-45d0-9d66-d08594031230"
   },
   "outputs": [],
   "source": [
    "submname = 'ru-blanchefort-rurewiew_tuned_1epochs'\n",
    "subm.to_csv(os.path.join('.', f'{submname}.csv'), index = False)"
   ]
  },
  {
   "cell_type": "code",
   "execution_count": null,
   "id": "42279ed1-6f7f-4727-98d9-feaab9d15430",
   "metadata": {
    "colab": {
     "base_uri": "https://localhost:8080/",
     "height": 17
    },
    "id": "42279ed1-6f7f-4727-98d9-feaab9d15430",
    "outputId": "da51b010-83ee-465a-ed6d-409ed681b3b2"
   },
   "outputs": [],
   "source": [
    "from google.colab import files\n",
    "files.download(f'{submname}.csv') "
   ]
  },
  {
   "cell_type": "code",
   "execution_count": null,
   "id": "w5fO_t3RL96g",
   "metadata": {
    "id": "w5fO_t3RL96g"
   },
   "outputs": [],
   "source": []
  },
  {
   "cell_type": "markdown",
   "id": "9d14c87d-4920-4521-af9b-236499ff18c8",
   "metadata": {},
   "source": [
    "## Получили 0.97777 на pb"
   ]
  },
  {
   "cell_type": "code",
   "execution_count": null,
   "id": "86f08ca5-c9a6-404a-a392-f3f4b1485937",
   "metadata": {},
   "outputs": [],
   "source": []
  },
  {
   "cell_type": "code",
   "execution_count": null,
   "id": "UuGHamHgL6YI",
   "metadata": {
    "id": "UuGHamHgL6YI"
   },
   "outputs": [],
   "source": [
    "results:\n",
    "XXXXXXX ru-blanchefort-rurewiew_stem\n",
    "neg    87\n",
    "pos    13\n",
    "\n",
    "0.72222 ru-blanchefort-sentiment \n",
    "neg    26\n",
    "pos    74\n",
    "\n",
    "0.78888 ru-blanchefort-rusentiment \n",
    "neg    70\n",
    "pos    30\n",
    "\n",
    "0.81111 ru-blanchefort-rurewiew_lemm\n",
    "neg    68\n",
    "pos    32\n",
    "\n",
    "0.85555 ru-blanchefort-rurewiew_nosw\n",
    "neg    65\n",
    "pos    35\n",
    "\n",
    "0.87777 ru-blanchefort-rurewiew\n",
    "neg    61\n",
    "pos    39\n",
    "\n",
    "0.97777 ru-blanchefort-rurewiew_tuned_1epochs\n",
    "neg    49\n",
    "pos    51"
   ]
  }
 ],
 "metadata": {
  "colab": {
   "collapsed_sections": [],
   "name": "w6_tonality_avv_bert_ru.ipynb",
   "provenance": []
  },
  "kernelspec": {
   "display_name": "Python 3 (ipykernel)",
   "language": "python",
   "name": "python3"
  },
  "language_info": {
   "codemirror_mode": {
    "name": "ipython",
    "version": 3
   },
   "file_extension": ".py",
   "mimetype": "text/x-python",
   "name": "python",
   "nbconvert_exporter": "python",
   "pygments_lexer": "ipython3",
   "version": "3.9.12"
  },
  "widgets": {
   "application/vnd.jupyter.widget-state+json": {
    "02f78f437977475ab5913f19658742fb": {
     "model_module": "@jupyter-widgets/controls",
     "model_module_version": "1.5.0",
     "model_name": "DescriptionStyleModel",
     "state": {
      "_model_module": "@jupyter-widgets/controls",
      "_model_module_version": "1.5.0",
      "_model_name": "DescriptionStyleModel",
      "_view_count": null,
      "_view_module": "@jupyter-widgets/base",
      "_view_module_version": "1.2.0",
      "_view_name": "StyleView",
      "description_width": ""
     }
    },
    "077166de4dfa4770a52bab343b9cdc73": {
     "model_module": "@jupyter-widgets/base",
     "model_module_version": "1.2.0",
     "model_name": "LayoutModel",
     "state": {
      "_model_module": "@jupyter-widgets/base",
      "_model_module_version": "1.2.0",
      "_model_name": "LayoutModel",
      "_view_count": null,
      "_view_module": "@jupyter-widgets/base",
      "_view_module_version": "1.2.0",
      "_view_name": "LayoutView",
      "align_content": null,
      "align_items": null,
      "align_self": null,
      "border": null,
      "bottom": null,
      "display": null,
      "flex": null,
      "flex_flow": null,
      "grid_area": null,
      "grid_auto_columns": null,
      "grid_auto_flow": null,
      "grid_auto_rows": null,
      "grid_column": null,
      "grid_gap": null,
      "grid_row": null,
      "grid_template_areas": null,
      "grid_template_columns": null,
      "grid_template_rows": null,
      "height": null,
      "justify_content": null,
      "justify_items": null,
      "left": null,
      "margin": null,
      "max_height": null,
      "max_width": null,
      "min_height": null,
      "min_width": null,
      "object_fit": null,
      "object_position": null,
      "order": null,
      "overflow": null,
      "overflow_x": null,
      "overflow_y": null,
      "padding": null,
      "right": null,
      "top": null,
      "visibility": null,
      "width": null
     }
    },
    "106d7187a6b041dcbc0ce5bc5dd6d029": {
     "model_module": "@jupyter-widgets/controls",
     "model_module_version": "1.5.0",
     "model_name": "DescriptionStyleModel",
     "state": {
      "_model_module": "@jupyter-widgets/controls",
      "_model_module_version": "1.5.0",
      "_model_name": "DescriptionStyleModel",
      "_view_count": null,
      "_view_module": "@jupyter-widgets/base",
      "_view_module_version": "1.2.0",
      "_view_name": "StyleView",
      "description_width": ""
     }
    },
    "1aef704ee7924f438c81c95ce4675cd1": {
     "model_module": "@jupyter-widgets/base",
     "model_module_version": "1.2.0",
     "model_name": "LayoutModel",
     "state": {
      "_model_module": "@jupyter-widgets/base",
      "_model_module_version": "1.2.0",
      "_model_name": "LayoutModel",
      "_view_count": null,
      "_view_module": "@jupyter-widgets/base",
      "_view_module_version": "1.2.0",
      "_view_name": "LayoutView",
      "align_content": null,
      "align_items": null,
      "align_self": null,
      "border": null,
      "bottom": null,
      "display": null,
      "flex": null,
      "flex_flow": null,
      "grid_area": null,
      "grid_auto_columns": null,
      "grid_auto_flow": null,
      "grid_auto_rows": null,
      "grid_column": null,
      "grid_gap": null,
      "grid_row": null,
      "grid_template_areas": null,
      "grid_template_columns": null,
      "grid_template_rows": null,
      "height": null,
      "justify_content": null,
      "justify_items": null,
      "left": null,
      "margin": null,
      "max_height": null,
      "max_width": null,
      "min_height": null,
      "min_width": null,
      "object_fit": null,
      "object_position": null,
      "order": null,
      "overflow": null,
      "overflow_x": null,
      "overflow_y": null,
      "padding": null,
      "right": null,
      "top": null,
      "visibility": null,
      "width": null
     }
    },
    "2b7991ba517347449052957a6451b8e0": {
     "model_module": "@jupyter-widgets/base",
     "model_module_version": "1.2.0",
     "model_name": "LayoutModel",
     "state": {
      "_model_module": "@jupyter-widgets/base",
      "_model_module_version": "1.2.0",
      "_model_name": "LayoutModel",
      "_view_count": null,
      "_view_module": "@jupyter-widgets/base",
      "_view_module_version": "1.2.0",
      "_view_name": "LayoutView",
      "align_content": null,
      "align_items": null,
      "align_self": null,
      "border": null,
      "bottom": null,
      "display": null,
      "flex": null,
      "flex_flow": null,
      "grid_area": null,
      "grid_auto_columns": null,
      "grid_auto_flow": null,
      "grid_auto_rows": null,
      "grid_column": null,
      "grid_gap": null,
      "grid_row": null,
      "grid_template_areas": null,
      "grid_template_columns": null,
      "grid_template_rows": null,
      "height": null,
      "justify_content": null,
      "justify_items": null,
      "left": null,
      "margin": null,
      "max_height": null,
      "max_width": null,
      "min_height": null,
      "min_width": null,
      "object_fit": null,
      "object_position": null,
      "order": null,
      "overflow": null,
      "overflow_x": null,
      "overflow_y": null,
      "padding": null,
      "right": null,
      "top": null,
      "visibility": null,
      "width": null
     }
    },
    "4770d62fdf014d29b51b3972de68555c": {
     "model_module": "@jupyter-widgets/controls",
     "model_module_version": "1.5.0",
     "model_name": "HTMLModel",
     "state": {
      "_dom_classes": [],
      "_model_module": "@jupyter-widgets/controls",
      "_model_module_version": "1.5.0",
      "_model_name": "HTMLModel",
      "_view_count": null,
      "_view_module": "@jupyter-widgets/controls",
      "_view_module_version": "1.5.0",
      "_view_name": "HTMLView",
      "description": "",
      "description_tooltip": null,
      "layout": "IPY_MODEL_849f36e98e8f4d13b3f65194e038c103",
      "placeholder": "​",
      "style": "IPY_MODEL_106d7187a6b041dcbc0ce5bc5dd6d029",
      "value": " 450/450 [00:01&lt;00:00, 759.26it/s]"
     }
    },
    "7c0ed5a7c233413990f86fbe0b6aff88": {
     "model_module": "@jupyter-widgets/controls",
     "model_module_version": "1.5.0",
     "model_name": "HBoxModel",
     "state": {
      "_dom_classes": [],
      "_model_module": "@jupyter-widgets/controls",
      "_model_module_version": "1.5.0",
      "_model_name": "HBoxModel",
      "_view_count": null,
      "_view_module": "@jupyter-widgets/controls",
      "_view_module_version": "1.5.0",
      "_view_name": "HBoxView",
      "box_style": "",
      "children": [
       "IPY_MODEL_d335341bf14d463ca7122c562f62378e",
       "IPY_MODEL_fa47568ce560452a9a8dfe2271d809b2",
       "IPY_MODEL_4770d62fdf014d29b51b3972de68555c"
      ],
      "layout": "IPY_MODEL_077166de4dfa4770a52bab343b9cdc73"
     }
    },
    "849f36e98e8f4d13b3f65194e038c103": {
     "model_module": "@jupyter-widgets/base",
     "model_module_version": "1.2.0",
     "model_name": "LayoutModel",
     "state": {
      "_model_module": "@jupyter-widgets/base",
      "_model_module_version": "1.2.0",
      "_model_name": "LayoutModel",
      "_view_count": null,
      "_view_module": "@jupyter-widgets/base",
      "_view_module_version": "1.2.0",
      "_view_name": "LayoutView",
      "align_content": null,
      "align_items": null,
      "align_self": null,
      "border": null,
      "bottom": null,
      "display": null,
      "flex": null,
      "flex_flow": null,
      "grid_area": null,
      "grid_auto_columns": null,
      "grid_auto_flow": null,
      "grid_auto_rows": null,
      "grid_column": null,
      "grid_gap": null,
      "grid_row": null,
      "grid_template_areas": null,
      "grid_template_columns": null,
      "grid_template_rows": null,
      "height": null,
      "justify_content": null,
      "justify_items": null,
      "left": null,
      "margin": null,
      "max_height": null,
      "max_width": null,
      "min_height": null,
      "min_width": null,
      "object_fit": null,
      "object_position": null,
      "order": null,
      "overflow": null,
      "overflow_x": null,
      "overflow_y": null,
      "padding": null,
      "right": null,
      "top": null,
      "visibility": null,
      "width": null
     }
    },
    "c302d58691a74f6b99927eaf61477e9f": {
     "model_module": "@jupyter-widgets/controls",
     "model_module_version": "1.5.0",
     "model_name": "ProgressStyleModel",
     "state": {
      "_model_module": "@jupyter-widgets/controls",
      "_model_module_version": "1.5.0",
      "_model_name": "ProgressStyleModel",
      "_view_count": null,
      "_view_module": "@jupyter-widgets/base",
      "_view_module_version": "1.2.0",
      "_view_name": "StyleView",
      "bar_color": null,
      "description_width": ""
     }
    },
    "d335341bf14d463ca7122c562f62378e": {
     "model_module": "@jupyter-widgets/controls",
     "model_module_version": "1.5.0",
     "model_name": "HTMLModel",
     "state": {
      "_dom_classes": [],
      "_model_module": "@jupyter-widgets/controls",
      "_model_module_version": "1.5.0",
      "_model_name": "HTMLModel",
      "_view_count": null,
      "_view_module": "@jupyter-widgets/controls",
      "_view_module_version": "1.5.0",
      "_view_name": "HTMLView",
      "description": "",
      "description_tooltip": null,
      "layout": "IPY_MODEL_1aef704ee7924f438c81c95ce4675cd1",
      "placeholder": "​",
      "style": "IPY_MODEL_02f78f437977475ab5913f19658742fb",
      "value": "Skipping the first batches: 100%"
     }
    },
    "fa47568ce560452a9a8dfe2271d809b2": {
     "model_module": "@jupyter-widgets/controls",
     "model_module_version": "1.5.0",
     "model_name": "FloatProgressModel",
     "state": {
      "_dom_classes": [],
      "_model_module": "@jupyter-widgets/controls",
      "_model_module_version": "1.5.0",
      "_model_name": "FloatProgressModel",
      "_view_count": null,
      "_view_module": "@jupyter-widgets/controls",
      "_view_module_version": "1.5.0",
      "_view_name": "ProgressView",
      "bar_style": "success",
      "description": "",
      "description_tooltip": null,
      "layout": "IPY_MODEL_2b7991ba517347449052957a6451b8e0",
      "max": 450,
      "min": 0,
      "orientation": "horizontal",
      "style": "IPY_MODEL_c302d58691a74f6b99927eaf61477e9f",
      "value": 450
     }
    }
   }
  }
 },
 "nbformat": 4,
 "nbformat_minor": 5
}
