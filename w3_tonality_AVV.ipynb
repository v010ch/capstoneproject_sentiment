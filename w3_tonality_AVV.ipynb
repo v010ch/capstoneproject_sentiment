{
 "cells": [
  {
   "cell_type": "code",
   "execution_count": null,
   "id": "aa913ec9-8b9b-4da9-b3e2-29739908e877",
   "metadata": {},
   "outputs": [],
   "source": []
  },
  {
   "cell_type": "markdown",
   "id": "d19998d7-2052-434a-8e8f-2d5b2717817e",
   "metadata": {},
   "source": [
    "# Kagle inclass https://www.kaggle.com/c/simplesentiment/overview"
   ]
  },
  {
   "cell_type": "code",
   "execution_count": 1,
   "id": "854a6403-a7a9-48ab-8724-9749d2c987d7",
   "metadata": {},
   "outputs": [],
   "source": [
    "import os\n",
    "from pathlib import Path\n",
    "\n",
    "import pandas as pd\n",
    "import numpy as np\n",
    "\n",
    "from itertools import product\n",
    "import warnings\n",
    "from tqdm import tqdm\n",
    "\n",
    "import re"
   ]
  },
  {
   "cell_type": "code",
   "execution_count": 2,
   "id": "69475ddb-8fca-424f-8c4b-faf4ed4589b5",
   "metadata": {},
   "outputs": [],
   "source": [
    "import nltk\n",
    "#nltk.download('movie_reviews')\n",
    "#nltk.download('stopwords')\n",
    "#nltk.download('wordnet')\n",
    "#nltk.download('rslp')\n",
    "\n",
    "import nltk.stem as st"
   ]
  },
  {
   "cell_type": "code",
   "execution_count": 3,
   "id": "6886b13f-4308-4529-8ab0-79c07b58d7c9",
   "metadata": {},
   "outputs": [
    {
     "name": "stderr",
     "output_type": "stream",
     "text": [
      "unable to import 'smart_open.gcs', disabling that module\n"
     ]
    }
   ],
   "source": [
    "import spacy\n",
    "\n",
    "from gensim.models.doc2vec import Doc2Vec, TaggedDocument\n",
    "from gensim.sklearn_api import W2VTransformer"
   ]
  },
  {
   "cell_type": "code",
   "execution_count": 76,
   "id": "c4803372-156f-4f0a-9bd7-b92147a81d22",
   "metadata": {},
   "outputs": [
    {
     "name": "stderr",
     "output_type": "stream",
     "text": [
      "C:\\Users\\_v010ch_\\Anaconda3\\lib\\site-packages\\ipykernel\\ipkernel.py:287: DeprecationWarning: `should_run_async` will not call `transform_cell` automatically in the future. Please pass the result to `transformed_cell` argument and any exception that happen during thetransform in `preprocessing_exc_tuple` in IPython 7.17 and above.\n",
      "  and should_run_async(code)\n"
     ]
    }
   ],
   "source": [
    "from sklearn.pipeline import Pipeline\n",
    "from sklearn.model_selection import train_test_split\n",
    "\n",
    "#from sklearn.feature_extraction.text import CountVectorizer, TfidfVectorizer\n",
    "\n",
    "from sklearn.linear_model import LogisticRegression, SGDClassifier\n",
    "from sklearn.svm import LinearSVC\n",
    "from sklearn.svm import SVC\n",
    "from sklearn.ensemble import RandomForestClassifier\n",
    "\n",
    "from sklearn.model_selection import GridSearchCV, cross_val_score \n",
    "\n",
    "#from sklearn.metrics import accuracy_score\n",
    "from sklearn.metrics import roc_auc_score\n",
    "from sklearn.metrics import confusion_matrix"
   ]
  },
  {
   "cell_type": "code",
   "execution_count": 45,
   "id": "ad524463-2a53-413f-be4c-6d34a1f4d409",
   "metadata": {},
   "outputs": [
    {
     "name": "stderr",
     "output_type": "stream",
     "text": [
      "C:\\Users\\_v010ch_\\Anaconda3\\lib\\site-packages\\ipykernel\\ipkernel.py:287: DeprecationWarning: `should_run_async` will not call `transform_cell` automatically in the future. Please pass the result to `transformed_cell` argument and any exception that happen during thetransform in `preprocessing_exc_tuple` in IPython 7.17 and above.\n",
      "  and should_run_async(code)\n"
     ]
    }
   ],
   "source": [
    "import xgboost as xgb\n",
    "from lightgbm import LGBMClassifier"
   ]
  },
  {
   "cell_type": "code",
   "execution_count": null,
   "id": "d04baa48-ea21-4909-bf90-8070ac37ca79",
   "metadata": {},
   "outputs": [],
   "source": []
  },
  {
   "cell_type": "code",
   "execution_count": 6,
   "id": "fe13466e-b55c-45e2-9104-a68353409c4a",
   "metadata": {},
   "outputs": [],
   "source": [
    "PATH_DATA = os.path.join(Path.cwd(), 'data')\n",
    "PATH_SUBM = os.path.join(Path.cwd(), 'submissions')"
   ]
  },
  {
   "cell_type": "code",
   "execution_count": null,
   "id": "05ba9f60-3cd9-4175-8966-9545f228c0b3",
   "metadata": {},
   "outputs": [],
   "source": []
  },
  {
   "cell_type": "code",
   "execution_count": null,
   "id": "cb26e42a-f8fa-433a-ba40-14bd89d87e14",
   "metadata": {},
   "outputs": [],
   "source": []
  },
  {
   "cell_type": "code",
   "execution_count": 8,
   "id": "1e2f5190-0526-492f-b12a-4d04ab2ec4cf",
   "metadata": {},
   "outputs": [
    {
     "data": {
      "text/plain": [
       "(2000, 2)"
      ]
     },
     "execution_count": 8,
     "metadata": {},
     "output_type": "execute_result"
    }
   ],
   "source": [
    "df = pd.read_csv(os.path.join(PATH_DATA, 'products_sentiment_train.tsv'), \n",
    "                    header = None, \n",
    "                    index_col = None,\n",
    "                    sep = '\\t',\n",
    "                   )\n",
    "df.columns = ['text', 'target']\n",
    "df.shape"
   ]
  },
  {
   "cell_type": "code",
   "execution_count": 9,
   "id": "bc37556f-9c6d-471d-8bad-9450ffe5c5e0",
   "metadata": {},
   "outputs": [
    {
     "data": {
      "text/html": [
       "<div>\n",
       "<style scoped>\n",
       "    .dataframe tbody tr th:only-of-type {\n",
       "        vertical-align: middle;\n",
       "    }\n",
       "\n",
       "    .dataframe tbody tr th {\n",
       "        vertical-align: top;\n",
       "    }\n",
       "\n",
       "    .dataframe thead th {\n",
       "        text-align: right;\n",
       "    }\n",
       "</style>\n",
       "<table border=\"1\" class=\"dataframe\">\n",
       "  <thead>\n",
       "    <tr style=\"text-align: right;\">\n",
       "      <th></th>\n",
       "      <th>text</th>\n",
       "      <th>target</th>\n",
       "    </tr>\n",
       "  </thead>\n",
       "  <tbody>\n",
       "    <tr>\n",
       "      <th>0</th>\n",
       "      <td>2 . take around 10,000 640x480 pictures .</td>\n",
       "      <td>1</td>\n",
       "    </tr>\n",
       "    <tr>\n",
       "      <th>1</th>\n",
       "      <td>i downloaded a trial version of computer assoc...</td>\n",
       "      <td>1</td>\n",
       "    </tr>\n",
       "    <tr>\n",
       "      <th>2</th>\n",
       "      <td>the wrt54g plus the hga7t is a perfect solutio...</td>\n",
       "      <td>1</td>\n",
       "    </tr>\n",
       "    <tr>\n",
       "      <th>3</th>\n",
       "      <td>i dont especially like how music files are uns...</td>\n",
       "      <td>0</td>\n",
       "    </tr>\n",
       "    <tr>\n",
       "      <th>4</th>\n",
       "      <td>i was using the cheapie pail ... and it worked...</td>\n",
       "      <td>1</td>\n",
       "    </tr>\n",
       "  </tbody>\n",
       "</table>\n",
       "</div>"
      ],
      "text/plain": [
       "                                                text  target\n",
       "0          2 . take around 10,000 640x480 pictures .       1\n",
       "1  i downloaded a trial version of computer assoc...       1\n",
       "2  the wrt54g plus the hga7t is a perfect solutio...       1\n",
       "3  i dont especially like how music files are uns...       0\n",
       "4  i was using the cheapie pail ... and it worked...       1"
      ]
     },
     "execution_count": 9,
     "metadata": {},
     "output_type": "execute_result"
    }
   ],
   "source": [
    "df.head()"
   ]
  },
  {
   "cell_type": "code",
   "execution_count": 10,
   "id": "27bfaa9c-a3d8-49c3-afad-7a6b72e29b61",
   "metadata": {},
   "outputs": [
    {
     "data": {
      "text/plain": [
       "1    1274\n",
       "0     726\n",
       "Name: target, dtype: int64"
      ]
     },
     "execution_count": 10,
     "metadata": {},
     "output_type": "execute_result"
    }
   ],
   "source": [
    "df.target.value_counts()"
   ]
  },
  {
   "cell_type": "markdown",
   "id": "f7ab77d4-4390-4185-aee3-cdb8fe6f543b",
   "metadata": {},
   "source": [
    "Классы явно не сбалансированы.   \n",
    "Т.к. мы работаем с текстами есть следующие варианты:   \n",
    "    1. добавить негативные примеры. + увеличение выборки, баланс классов. - необходимо найти размеченную, подходящую под тематику, выборку   \n",
    "    2. дублировать некоторые строки, например те, в которых ошибается модель   \n",
    "    3. настроить параметр class_weights\n",
    "    "
   ]
  },
  {
   "cell_type": "markdown",
   "id": "b47ea4a2-bc6b-4447-a45f-7ca11aa3ff7c",
   "metadata": {},
   "source": [
    "### Приводим к строчным (на всякий) и очищаем по порядку:"
   ]
  },
  {
   "cell_type": "code",
   "execution_count": 11,
   "id": "c632dfbc-c6c1-4f68-ac08-b4785d1ee9ce",
   "metadata": {},
   "outputs": [],
   "source": [
    "# - все спецсимволы\n",
    "# - все цифры\n",
    "# - заменяем множественные пробелы на единичные"
   ]
  },
  {
   "cell_type": "code",
   "execution_count": 12,
   "id": "a2b4a766-4c49-4d30-8664-95012ce0e204",
   "metadata": {},
   "outputs": [],
   "source": [
    "clean_text = lambda x: re.sub(r\"\\s+\", ' ', \n",
    "                              re.sub(r\"[\\d+]\", '',\n",
    "                                     re.sub(r\"[^\\w\\s]\", '', x.lower()).strip()\n",
    "                                    )\n",
    "                             )"
   ]
  },
  {
   "cell_type": "code",
   "execution_count": 13,
   "id": "1a2bfa07-89ff-4daa-a37d-55b27e124d18",
   "metadata": {},
   "outputs": [],
   "source": [
    "df['text_cl'] = df.text.map(clean_text)"
   ]
  },
  {
   "cell_type": "code",
   "execution_count": null,
   "id": "03bd0db8-a7b3-4fdf-8e15-6fcdfd109955",
   "metadata": {},
   "outputs": [],
   "source": []
  },
  {
   "cell_type": "code",
   "execution_count": 14,
   "id": "25bec617-8b6c-443d-8ac7-44cc8d859289",
   "metadata": {},
   "outputs": [],
   "source": [
    "#tagged_data[:5]"
   ]
  },
  {
   "cell_type": "code",
   "execution_count": 15,
   "id": "4ebe910c-215e-4ee7-8bc2-bebd8b8c378c",
   "metadata": {},
   "outputs": [],
   "source": [
    "#lem_text(\"don't\"), lem_text(\"i'll\")"
   ]
  },
  {
   "cell_type": "code",
   "execution_count": 16,
   "id": "45767ae7-4aca-450c-86ad-49edd2f18fdd",
   "metadata": {},
   "outputs": [],
   "source": [
    "#stem_text(\"don't\"), stem_text(\"i'll\")"
   ]
  },
  {
   "cell_type": "markdown",
   "id": "f03e0355-6acc-4e2a-8104-b00938f79e81",
   "metadata": {},
   "source": [
    "### Лемматизация & стемминг"
   ]
  },
  {
   "cell_type": "code",
   "execution_count": 17,
   "id": "90f3667d-dc06-4f32-9a51-2cf9c92afe78",
   "metadata": {},
   "outputs": [],
   "source": [
    "lemm = st.WordNetLemmatizer()\n",
    "lem_text = lambda x: ' '.join([lemm.lemmatize(el) for el in x.split()])\n",
    "\n",
    "\n",
    "stemm = st.RSLPStemmer()\n",
    "stem_text = lambda x: ' '.join([stemm.stem(el) for el in x.split()])"
   ]
  },
  {
   "cell_type": "code",
   "execution_count": 18,
   "id": "9dc61288-9788-4db3-8452-dac9012b55ff",
   "metadata": {},
   "outputs": [],
   "source": [
    "df['text_cl'] = df.text.map(clean_text)\n",
    "df['text_cl'] = df.text_cl.map(lem_text)\n",
    "df['text_cl'] = df.text_cl.map(stem_text)"
   ]
  },
  {
   "cell_type": "code",
   "execution_count": 19,
   "id": "05617b59-46d5-400c-a81d-688db183f3df",
   "metadata": {},
   "outputs": [],
   "source": [
    "df['text_cl'] = df.text_cl.map(lambda x: x.split())"
   ]
  },
  {
   "cell_type": "code",
   "execution_count": 20,
   "id": "d258fa2d-f5c4-45b4-8458-99b6452f57dc",
   "metadata": {},
   "outputs": [
    {
     "data": {
      "text/html": [
       "<div>\n",
       "<style scoped>\n",
       "    .dataframe tbody tr th:only-of-type {\n",
       "        vertical-align: middle;\n",
       "    }\n",
       "\n",
       "    .dataframe tbody tr th {\n",
       "        vertical-align: top;\n",
       "    }\n",
       "\n",
       "    .dataframe thead th {\n",
       "        text-align: right;\n",
       "    }\n",
       "</style>\n",
       "<table border=\"1\" class=\"dataframe\">\n",
       "  <thead>\n",
       "    <tr style=\"text-align: right;\">\n",
       "      <th></th>\n",
       "      <th>text</th>\n",
       "      <th>target</th>\n",
       "      <th>text_cl</th>\n",
       "    </tr>\n",
       "  </thead>\n",
       "  <tbody>\n",
       "    <tr>\n",
       "      <th>0</th>\n",
       "      <td>2 . take around 10,000 640x480 pictures .</td>\n",
       "      <td>1</td>\n",
       "      <td>[tak, around, x, pictur]</td>\n",
       "    </tr>\n",
       "    <tr>\n",
       "      <th>1</th>\n",
       "      <td>i downloaded a trial version of computer assoc...</td>\n",
       "      <td>1</td>\n",
       "      <td>[i, downloaded, a, trial, version, of, comput,...</td>\n",
       "    </tr>\n",
       "    <tr>\n",
       "      <th>2</th>\n",
       "      <td>the wrt54g plus the hga7t is a perfect solutio...</td>\n",
       "      <td>1</td>\n",
       "      <td>[the, wrtg, plu, the, hgat, is, a, perfect, so...</td>\n",
       "    </tr>\n",
       "    <tr>\n",
       "      <th>3</th>\n",
       "      <td>i dont especially like how music files are uns...</td>\n",
       "      <td>0</td>\n",
       "      <td>[i, dont, especially, lik, how, music, fil, ar...</td>\n",
       "    </tr>\n",
       "    <tr>\n",
       "      <th>4</th>\n",
       "      <td>i was using the cheapie pail ... and it worked...</td>\n",
       "      <td>1</td>\n",
       "      <td>[i, wa, using, the, cheapi, pail, and, it, wor...</td>\n",
       "    </tr>\n",
       "  </tbody>\n",
       "</table>\n",
       "</div>"
      ],
      "text/plain": [
       "                                                text  target  \\\n",
       "0          2 . take around 10,000 640x480 pictures .       1   \n",
       "1  i downloaded a trial version of computer assoc...       1   \n",
       "2  the wrt54g plus the hga7t is a perfect solutio...       1   \n",
       "3  i dont especially like how music files are uns...       0   \n",
       "4  i was using the cheapie pail ... and it worked...       1   \n",
       "\n",
       "                                             text_cl  \n",
       "0                           [tak, around, x, pictur]  \n",
       "1  [i, downloaded, a, trial, version, of, comput,...  \n",
       "2  [the, wrtg, plu, the, hgat, is, a, perfect, so...  \n",
       "3  [i, dont, especially, lik, how, music, fil, ar...  \n",
       "4  [i, wa, using, the, cheapi, pail, and, it, wor...  "
      ]
     },
     "execution_count": 20,
     "metadata": {},
     "output_type": "execute_result"
    }
   ],
   "source": [
    "df.head()"
   ]
  },
  {
   "cell_type": "code",
   "execution_count": null,
   "id": "952b8c6e-32cd-45c2-a453-1f8d5ab02581",
   "metadata": {},
   "outputs": [],
   "source": []
  },
  {
   "cell_type": "code",
   "execution_count": null,
   "id": "de5cbb90-92e0-4abb-bc2b-a8893dcf4d64",
   "metadata": {},
   "outputs": [],
   "source": []
  },
  {
   "cell_type": "markdown",
   "id": "9f874b41-7609-48d0-b42d-5f2a1163eea8",
   "metadata": {},
   "source": [
    "### Подготавливаем к обучению по сетке"
   ]
  },
  {
   "cell_type": "code",
   "execution_count": 21,
   "id": "e4fc99e2-a08f-48e4-af55-fc5f8cada4c0",
   "metadata": {},
   "outputs": [],
   "source": [
    "train, test, train_target, test_target = train_test_split(df.text_cl, df.target, \n",
    "                                                          test_size = 0.2, \n",
    "                                                          stratify = df.target, \n",
    "                                                          random_state = 52138,\n",
    "                                                         )"
   ]
  },
  {
   "cell_type": "code",
   "execution_count": null,
   "id": "d446bd07-6793-4161-9fc8-80a96ed18521",
   "metadata": {},
   "outputs": [],
   "source": []
  },
  {
   "cell_type": "markdown",
   "id": "a23086a0-c1c1-4e8f-ac6b-a948fcff3e64",
   "metadata": {},
   "source": [
    "### Параметры для перебора"
   ]
  },
  {
   "cell_type": "code",
   "execution_count": 24,
   "id": "da8553dc-f6cc-4668-b7f3-6926480f91bc",
   "metadata": {},
   "outputs": [],
   "source": [
    "pipe_cnt = Pipeline([#('w2v', W2VTransformer(size=100, min_count=1, seed=1)),\n",
    "                     ('clf', LogisticRegression()),\n",
    "                      ])"
   ]
  },
  {
   "cell_type": "code",
   "execution_count": 25,
   "id": "029fa072-2d02-424e-943d-61f83dc184af",
   "metadata": {},
   "outputs": [],
   "source": [
    "parameters_v0 = {\n",
    "        'clf': [LogisticRegression(), \n",
    "                LinearSVC(),\n",
    "                #SGDClassifier(), \n",
    "                #RandomForestClassifier(),\n",
    "                #xgb.XGBClassifier(tree_method='gpu_hist', gpu_id=0),\n",
    "                #xgb.XGBClassifier(eval_metric = 'auc'),\n",
    "               ],\n",
    "    }"
   ]
  },
  {
   "cell_type": "code",
   "execution_count": 60,
   "id": "e4a4affa-47ae-44a7-afbc-b87ea3a73a67",
   "metadata": {},
   "outputs": [],
   "source": [
    "parameters = [\n",
    "            {'clf': [LogisticRegression()]}, \n",
    "            {'clf': [LinearSVC(max_iter = 1500)]},\n",
    "            #{'clf': [SGDClassifier()]}, \n",
    "            #{'clf': [RandomForestClassifier()]},\n",
    "            #{'clf': [xgb.XGBClassifier(eval_metric = 'auc', use_label_encoder=False)]},\n",
    "                     #xgb.XGBClassifier(tree_method='gpu_hist', gpu_id=0),\n",
    "            #{'clf': [LGBMClassifier()]},\n",
    "]"
   ]
  },
  {
   "cell_type": "code",
   "execution_count": 63,
   "id": "57311b4e-95a0-443f-8ee8-3503867fbe03",
   "metadata": {},
   "outputs": [
    {
     "data": {
      "text/plain": [
       "8"
      ]
     },
     "execution_count": 63,
     "metadata": {},
     "output_type": "execute_result"
    }
   ],
   "source": [
    "par_size = [300, 200,]# 100, 50]#10, 20, 30, 50, ]\n",
    "par_window = [5,]# 4, 3,]# 2]\n",
    "#par_hs = [1,]# 0]\n",
    "par_niter = [50, 40,]# 30,]# 75,]# 100]#3, 5, 10, 50]\n",
    "par_min_count = [5, 3,]# 10, 2, 1]\n",
    "len(list(product(par_size, \n",
    "                 par_window, \n",
    "                 #par_hs, \n",
    "                 par_niter, \n",
    "                 par_min_count)))"
   ]
  },
  {
   "cell_type": "code",
   "execution_count": 97,
   "id": "757b51ac-a6e0-45cb-afea-f3d0c5cf0ff5",
   "metadata": {},
   "outputs": [
    {
     "name": "stderr",
     "output_type": "stream",
     "text": [
      "C:\\Users\\_v010ch_\\Anaconda3\\lib\\site-packages\\ipykernel\\ipkernel.py:287: DeprecationWarning: `should_run_async` will not call `transform_cell` automatically in the future. Please pass the result to `transformed_cell` argument and any exception that happen during thetransform in `preprocessing_exc_tuple` in IPython 7.17 and above.\n",
      "  and should_run_async(code)\n"
     ]
    }
   ],
   "source": [
    "# Трансфорование данных (отзыва) в вектор\n",
    "# требуется исключить слова, которые не встречались, т.к. выдаст ошибку\n",
    "# и полученные вектораотзыва усредняем по столбцам\n",
    "def transform_x2v(inp_model, inp_series):\n",
    "    transformed_ndarray = np.ndarray((inp_series.shape[0], inp_model.gensim_model.vector_size))\n",
    "    \n",
    "    for row, idx in enumerate(inp_series.index):\n",
    "        \n",
    "        tr_string = ''\n",
    "        for wrd in inp_series[idx]:\n",
    "            if wrd in inp_model.gensim_model.wv.vocab:\n",
    "                tr_string = ' '.join([tr_string, wrd])\n",
    "\n",
    "        transformed_ndarray[row] = np.mean(inp_model.transform(tr_string.split()), axis = 0)\n",
    "    \n",
    "    return transformed_ndarray"
   ]
  },
  {
   "cell_type": "code",
   "execution_count": 68,
   "id": "05a71ef3-4489-4f08-9818-e21fae17f9a2",
   "metadata": {},
   "outputs": [
    {
     "name": "stderr",
     "output_type": "stream",
     "text": [
      "C:\\Users\\_v010ch_\\Anaconda3\\lib\\site-packages\\ipykernel\\ipkernel.py:287: DeprecationWarning: `should_run_async` will not call `transform_cell` automatically in the future. Please pass the result to `transformed_cell` argument and any exception that happen during thetransform in `preprocessing_exc_tuple` in IPython 7.17 and above.\n",
      "  and should_run_async(code)\n",
      "100%|████████████████████████████████████████████████████████████████████████████████████| 8/8 [00:35<00:00,  4.48s/it]"
     ]
    },
    {
     "name": "stdout",
     "output_type": "stream",
     "text": [
      "Wall time: 35.8 s\n"
     ]
    },
    {
     "name": "stderr",
     "output_type": "stream",
     "text": [
      "\n"
     ]
    }
   ],
   "source": [
    "%%time\n",
    "warnings.filterwarnings(\"ignore\")\n",
    "\n",
    "\n",
    "scores = [('model', (0, 0, 0, 0), 0) for idx in range(5)]\n",
    "for (sz, wind, it, mc) in tqdm(product(par_size, par_window, par_niter, par_min_count), \n",
    "                              total = len(list(product(par_size, par_window, par_niter, par_min_count)))):\n",
    "    model_x2v = W2VTransformer(size=sz, window = wind, hs = 1, iter = it, min_count = mc,\n",
    "                               seed = 16544873\n",
    "                              )\n",
    "    #model_x2v.fit(train)\n",
    "    model_x2v.fit(df.text_cl)\n",
    "    #train_x2v = transform_x2v(model_x2v, train)\n",
    "    train_x2v = np.nan_to_num(transform_x2v(model_x2v, train))\n",
    "\n",
    "    grid = GridSearchCV(pipe_cnt, parameters, cv = 5, scoring = 'roc_auc', verbose = 0, n_jobs=-1)\n",
    "    ret = grid.fit(train_x2v, train_target)\n",
    "    if grid.best_score_ > scores[4][2]:\n",
    "        scores[4] = (grid.best_estimator_['clf'].__class__, (sz, wind, it, mc), grid.best_score_)\n",
    "        scores.sort(key=lambda tup: tup[2], reverse = True)\n",
    "\n",
    "\n",
    "\n",
    "#warnings.filterwarnings(\"always\")\n",
    "warnings.filterwarnings(\"default\")"
   ]
  },
  {
   "cell_type": "markdown",
   "id": "4e75a063-805a-49ee-957a-5994434eb010",
   "metadata": {},
   "source": [
    "Посмотрим на несколько лучших результатов"
   ]
  },
  {
   "cell_type": "code",
   "execution_count": 69,
   "id": "fe329c1a-0ec2-4bfd-81a9-672f6983066b",
   "metadata": {},
   "outputs": [
    {
     "name": "stderr",
     "output_type": "stream",
     "text": [
      "C:\\Users\\_v010ch_\\Anaconda3\\lib\\site-packages\\ipykernel\\ipkernel.py:287: DeprecationWarning: `should_run_async` will not call `transform_cell` automatically in the future. Please pass the result to `transformed_cell` argument and any exception that happen during thetransform in `preprocessing_exc_tuple` in IPython 7.17 and above.\n",
      "  and should_run_async(code)\n"
     ]
    },
    {
     "data": {
      "text/plain": [
       "[(sklearn.svm._classes.LinearSVC, (200, 5, 50, 5), 0.8453186181634458),\n",
       " (sklearn.svm._classes.LinearSVC, (300, 5, 50, 5), 0.8447524810100875),\n",
       " (sklearn.svm._classes.LinearSVC, (200, 5, 40, 5), 0.8438951796456868),\n",
       " (sklearn.svm._classes.LinearSVC, (300, 5, 40, 5), 0.8374836539390291),\n",
       " (sklearn.svm._classes.LinearSVC, (300, 5, 50, 3), 0.8334031755938449)]"
      ]
     },
     "execution_count": 69,
     "metadata": {},
     "output_type": "execute_result"
    }
   ],
   "source": [
    "scores"
   ]
  },
  {
   "cell_type": "raw",
   "id": "2c7ecca9-8234-4975-b74a-79d1d856ce30",
   "metadata": {},
   "source": [
    "[(sklearn.svm._classes.LinearSVC, (200, 5, 50, 5), 0.8453186181634458),\n",
    " (sklearn.svm._classes.LinearSVC, (300, 5, 50, 5), 0.8447524810100875),\n",
    " (sklearn.svm._classes.LinearSVC, (200, 5, 40, 5), 0.8438951796456868),\n",
    " (sklearn.svm._classes.LinearSVC, (300, 5, 40, 5), 0.8374836539390291),\n",
    " (sklearn.svm._classes.LinearSVC, (300, 5, 50, 3), 0.8334031755938449)]"
   ]
  },
  {
   "cell_type": "markdown",
   "id": "1b11149c-70c8-484b-952a-455f7185a3a2",
   "metadata": {},
   "source": [
    "Промежуточные выводы /параметры для W2VTransformer:\n",
    "- размер embedded вектора - 200\n",
    "- max расстояние между словами всегда 5\n",
    "- hs всегда 1\n",
    "- кол-во итерций построения словаря - 50\n",
    "- модель - LinearSVC\n"
   ]
  },
  {
   "cell_type": "code",
   "execution_count": null,
   "id": "f1f29de7-7b58-42b7-9d39-f9295099db44",
   "metadata": {},
   "outputs": [],
   "source": []
  },
  {
   "cell_type": "markdown",
   "id": "70796698-0a61-4cd9-a709-759e07534c64",
   "metadata": {},
   "source": [
    "### Попробуем определить причины ошибок по тесту"
   ]
  },
  {
   "cell_type": "code",
   "execution_count": 70,
   "id": "860e09bf-763d-4b4d-970c-6881cb39be62",
   "metadata": {},
   "outputs": [
    {
     "name": "stderr",
     "output_type": "stream",
     "text": [
      "C:\\Users\\_v010ch_\\Anaconda3\\lib\\site-packages\\ipykernel\\ipkernel.py:287: DeprecationWarning: `should_run_async` will not call `transform_cell` automatically in the future. Please pass the result to `transformed_cell` argument and any exception that happen during thetransform in `preprocessing_exc_tuple` in IPython 7.17 and above.\n",
      "  and should_run_async(code)\n",
      "C:\\Users\\_v010ch_\\Anaconda3\\lib\\site-packages\\numpy\\core\\fromnumeric.py:3420: RuntimeWarning: Mean of empty slice.\n",
      "  out=out, **kwargs)\n",
      "C:\\Users\\_v010ch_\\Anaconda3\\lib\\site-packages\\numpy\\core\\_methods.py:181: RuntimeWarning: invalid value encountered in true_divide\n",
      "  ret, rcount, out=ret, casting='unsafe', subok=False)\n"
     ]
    },
    {
     "data": {
      "text/plain": [
       "LinearSVC(max_iter=1500)"
      ]
     },
     "execution_count": 70,
     "metadata": {},
     "output_type": "execute_result"
    }
   ],
   "source": [
    "model_x2v = W2VTransformer(size=200, window = 5, hs = 1, iter = 50, min_count = 5,\n",
    "                           seed = 16544873\n",
    "                          )\n",
    "#model_x2v.fit(train)\n",
    "model_x2v.fit(df.text_cl)\n",
    "#train_x2v = transform_x2v(model_x2v, train)\n",
    "train_x2v = np.nan_to_num(transform_x2v(model_x2v, train))\n",
    "\n",
    "model = LinearSVC(max_iter = 2500)\n",
    "model.fit(train_x2v, train_target)"
   ]
  },
  {
   "cell_type": "code",
   "execution_count": 73,
   "id": "3fed59ea-e51b-4aba-9b6c-baf5ccb45a4d",
   "metadata": {},
   "outputs": [
    {
     "name": "stderr",
     "output_type": "stream",
     "text": [
      "C:\\Users\\_v010ch_\\Anaconda3\\lib\\site-packages\\ipykernel\\ipkernel.py:287: DeprecationWarning: `should_run_async` will not call `transform_cell` automatically in the future. Please pass the result to `transformed_cell` argument and any exception that happen during thetransform in `preprocessing_exc_tuple` in IPython 7.17 and above.\n",
      "  and should_run_async(code)\n"
     ]
    }
   ],
   "source": [
    "test_pred = model.predict(np.nan_to_num(transform_x2v(model_x2v, test)))"
   ]
  },
  {
   "cell_type": "code",
   "execution_count": 74,
   "id": "232faca2-3a87-40eb-8348-d6ff568a3589",
   "metadata": {},
   "outputs": [
    {
     "name": "stderr",
     "output_type": "stream",
     "text": [
      "C:\\Users\\_v010ch_\\Anaconda3\\lib\\site-packages\\ipykernel\\ipkernel.py:287: DeprecationWarning: `should_run_async` will not call `transform_cell` automatically in the future. Please pass the result to `transformed_cell` argument and any exception that happen during thetransform in `preprocessing_exc_tuple` in IPython 7.17 and above.\n",
      "  and should_run_async(code)\n"
     ]
    },
    {
     "data": {
      "text/plain": [
       "array([[ 81,  64],\n",
       "       [ 45, 210]], dtype=int64)"
      ]
     },
     "execution_count": 74,
     "metadata": {},
     "output_type": "execute_result"
    }
   ],
   "source": [
    "confusion_matrix(test_target, test_pred)"
   ]
  },
  {
   "cell_type": "markdown",
   "id": "1ddad068-288d-4da1-90e0-e1ddb47e9f3c",
   "metadata": {},
   "source": [
    "только половина отрицательных отзывов, посмотрим их"
   ]
  },
  {
   "cell_type": "code",
   "execution_count": 75,
   "id": "dae13fe2-6412-40ed-89d8-7368720723e7",
   "metadata": {
    "collapsed": true,
    "jupyter": {
     "outputs_hidden": true
    },
    "tags": []
   },
   "outputs": [
    {
     "name": "stdout",
     "output_type": "stream",
     "text": [
      "328 0 ( i never know when the champ is full as there is no way too tell . even though not particularly aesthetic , how about making the champ clear and see-through ? ) so , i lift the lid and find a wad of diaper , which i must remove , usually stuck inside the lid itself because the bag is too full .\n",
      "1736 0 it is slightly larger than an ipod , no doubt about it . \n",
      "1650 0 the gprs web access is sloooooooooooooow !\n",
      "1638 0 i know this unit will have problems in the future and the $ 40 for the 2 year \" no questions asked \" replacement warranty will be worth it , since creative will only warrant it for 90 days - which in itself is totally ridiculous ! \n",
      "931 1 it is the most bang-for-the-buck out there . \n",
      "315 1 norton pops up a window about the intrusions and gives me as much detail as possible about where the intrusion is coming from .\n",
      "736 0 while the software may not be as easy as i-tunes , it is not difficult to use by any stretch .\n",
      "1972 1 my first impression was positive . \n",
      "1777 0 it also has a stock tracking app built in ( also useless ) and a somewhat useful application which converts all types of metrics ( currency , length , area , etc ) . \n",
      "358 1 but it comes with a tank of a case and if you cut a piece out where the screen is you can always keep it in the case and still access everything . \n",
      "558 0 it 's oftentimes hard to get a good grip on the router , activate the chuck lock , and get enough muscle behind the wrench to get the collet loosened up .\n",
      "1624 0 bluetooth does not work on this phone .\n",
      "1722 0 even the \" shorter \" battery life , though , has not impaired my positive experience with the zen micro in any way .\n",
      "797 1 i still give the ipod five stars , though , as it could have been something i did incorrectly during the install ( though i did follow the onscreen prompts ) so i 'll give apple the benefit of the doubt .\n",
      "1831 0 so , don 't buy this or upgrade .\n",
      "1867 1 i had no problems following their installation instructions . \n",
      "1704 0 this isn 't uncommon in cameras , though , just as long as you bring your charger and spare batteries , you should be fine .\n",
      "1382 1 my sd500 focuses flawlessly , does not \" whine \" during video , and my pictures are razor sharp .\n",
      "1909 0 the zoom lens unit feels fragile and it is worth buying a good camera bag if you are going put to carry it round a lot . \n",
      "1202 0 nagatives of the player itself : you need to do a little work before having full enjoyement of this player .\n",
      "1367 0 and supply those stupid white headphones .\n",
      "1771 1 4 ) usb 2.0 means fast data transfers ( 1 song / sec ! ). \n",
      "169 1 however , the ipod does not come close to the number of extra features that the ' zen micro ' has to offer .\n",
      "1854 1 broadband hooked up to this wireless setup flies .\n",
      "108 1 at first i had a problem with some smell , then i realized if you flip the lid back and always keep the same side facing in - then there is no smell at all !\n",
      "1236 0 i can not find a carrier for this phone i like , end up just tossing it in my purse .\n",
      "1593 0 3 ) with mediasource being so easy , i found no use for the bundled nomad explorer software . \n",
      "1456 1 the auto-focus performs well , but i love having the 12 optional scene modes - they are dummy-proof , and correspond to many situations in which i would actually seek to use the camera . \n",
      "1268 0 if you want to rename a cd title that you have already transferred , you will become frustrated quite quickly . \n",
      "419 1 the wood can be pushed thru fast or slow with little bog .\n",
      "369 1 clear the call logs once in a while to speed up the phone people ! ! !\n",
      "1560 0 the reason i rated it a four is because of that darn diopter adjustment dial. its very small and hard to turn so you can 't get an accurate adjustment ( for those of you who do n't know what a diopter adjustment is , it is to adjust the focus of the viewfinder to your eyesight . ) \n",
      "759 0 however , configuration of my system and actual setup of the router for wireless use took me more than 3 hours , and briefly made me reconsider my choice to forego the airport and its notoriously easy setup .\n",
      "1565 0 the 6610 has the radio function which is utterly useless . \n",
      "1992 1 the player does seem to play dvds adequately enough . \n",
      "612 0 a lot of people are having problems with the firmware update required to use the player for napster to go .. the firmware is beta and they are are a lot of bugs in it .\n",
      "923 1 the controls are on the side instead of on the front , which i like , because that 's where my thumb is when i hold the thing ! \n",
      "1435 0 on average , indoor shots with a flash are not quite as good as 35mm . \n",
      "640 0 fm receiver - it has none . \n",
      "794 0 the dynamic playlists ( \" now playing \" , i belive creative calls it ) feels very awkward at times and some menus simply take to long to get to and operate .. . \n",
      "135 1 reviews for sound quality are generally ( but not universally ) positive . \n",
      "1192 0 3 ) the lack of an intermediate resolution setting , as other reviewers have suggested , is a problem , but that problem is meaningless with a larger compactflash memory card\n",
      "1156 1 the dvd player is fine . \n",
      "255 1 i dont know what other people are saying , but the software is awesome . \n",
      "564 0 i could hardly use it without a recharge in 2 days !\n",
      "987 1 it is no more heavy than any other powerful router and not as bad as some porter cable models i tried .\n",
      "637 1 not only is it functional and runs super smooth & fast , but it is also eye candy . \n",
      "78 0 essentially , the cd included with the package is , for the most part , worthless .\n",
      "1697 1 i was worried that 4 megapixel photos would download more slowly , but there 's no difference in working with the files . \n",
      "390 1 unlike some of the other people who received a \" lemon \" , my dvd player came in perfect working condition . \n",
      "1002 1 track # , name , artist , album and genre is automatically-retrieved via internet-labeled , and properly catergorized into the zen .\n",
      "186 0 i am an advanced computer user , so i cannot even imagine how a new or novice user would ever get this terrible program to work !\n",
      "865 1 goes ~ 3 days after a charge .\n",
      "626 0 that is , you cannot access the internet at all .\n",
      "1133 0 so , you might inquire , why don 't they make it a first priority to carefully , simply explain how download music from your music library to their device ? ? ? this seems academic to me .\n",
      "1271 0 this is not an enterprise piece of hardware that you will find in an office or corporate environment .\n",
      "540 0 - radio quality : weak reception\n",
      "926 0 on occasion i 'm not able to connect to the phone with isync via bluetooth but i found that rebooting the phone seems to solve this problem .\n",
      "1252 1 their website had a download that helped remove those , although i had to manually remove a good number of files from the \" programs \" directory .\n",
      "1104 1 transferring files couldn 't be easier thanks to the included software bundle .\n",
      "292 1 i find all of the controls well-placed and not flimsy in the least . \n",
      "669 0 i downloaded the new firmware which was supposed to take care of the problem , but it hasn 't worked .\n",
      "515 0 the quick sync is n't any good becuase it either needs to be configured properly or just is n't very useful . \n",
      "1986 0 1 . pictures wo n't transfer to pc directly from the camera using the included transfer cable . \n",
      "1717 0 - the battery life leaves a lot to be desired .\n",
      "326 0 you can 't change the battery , so i don 't know what i 'm going to do in a year or so .\n",
      "748 1 i did not conduct a rigorous test , but just took some identical shots in identical lighting with both cameras , and the canon won hands down .\n",
      "1249 0 the included memory card is too small . \n",
      "1058 1 the larger lens of the g3 gives better picture quality in low light , and the 4-times optical zooms gets you just that much closer . \n",
      "1063 0 for example , in auto mode you can 't use the flash redeye reduction , you must be in manual mode for that .\n",
      "991 1 i 've used the speakerphone for almost two hours once and the battery did not even go down one single bar . \n",
      "891 1 i 'm not sure why all the bad reviews , my computer isn 't especially slowed down and i have win ' 98 .\n",
      "636 0 the zoom function on this camera is so loud that sometimes you will be unable to use it if you find yourself in a situation where you must be quiet .\n",
      "672 0 the player feels very delicate , as if i 'm holding an actual hard drive . \n",
      "653 1 hold button-- suprisingly not all mp3s have this ; this allows you to have all the buttons unusable , so that you don 't accidently hit something in your pocket .\n",
      "1035 0 the one other thing i observed while i had the nomad is that the front cover , which is taken off to have access to the battery , seemed to come undone very easily . \n",
      "980 1 it holds plenty of songs .\n",
      "1753 1 i would put the hitachi up with the best !\n",
      "24 0 the creative mediasource software that comes with the zen micro is cluttered , and excludes my favorite feature in itunes , the ability to automatically copy everything you import into a certain folder .\n",
      "933 0 who in the hell needs a frigging * vga * camera on their cellphone ? ? ?\n",
      "1762 0 i will never buy a creative product again . \n",
      "1125 1 i also liked the fact that you can save custom playlist you made on the player not just the computer ! \n",
      "276 0 for one thing , the diapers always get jammed in it .\n",
      "827 1 - equipment included is average , but that is n't a big deal since thats not what you are buying it for . \n",
      "789 0 what is added in functionality ( battery replacement ) detracts in build quality as the face plate is prone to popping off . \n",
      "1066 1 handsfree future is good , but not too exciting .\n",
      "1460 0 as mentioned in other reviews the headphones are useless and need to be replaced right away ! \n",
      "1555 1 this holds alot and does not take up alot of space .\n",
      "1492 0 i have to move pictures off of it every day so i have room for more pictures the next , and i don 't have enough money to buy the 256 meg card that i 've had my eye on for a while .\n",
      "1825 1 pros : - excellent sound , even with the headphones that come out of the box , but it absolutely rocked with my bose quietcomfort 2 set .\n",
      "1135 0 again , this doesn 't affect regular mp3 files - just subscription drm-encoded files , like those from napster-to-go or yahoo music unlimited .\n",
      "236 1 but it ; you won 't regret it .\n",
      "1745 0 i have excellent hearing but the volume level on this phone is especially quiet . \n",
      "1733 0 navigation could be better , but there is n't really anything the zen xtra can 't do once you 've gotten comfortable with it . \n",
      "650 0 i send my camera to nikon for servicing , took them a whole 6 weeks to diagnose the problem . \n",
      "925 1 5 stars all the way !\n",
      "1339 0 the flaw is inside the zen .\n",
      "156 0 luckily the soft start helped before it took the wood and tossed it or worse case , a finger .\n",
      "1965 1 4 ) one nice thing about nokias is that they have a ton of ring tone and game choices .\n",
      "257 0 it also has unproven battery life . \n",
      "1558 0 it is embarassing getting phone calls from family members telling you that the dvd player you gave them less that 3 months ago is no longer working . \n",
      "134 0 i loved it until it broke , but less than a month is not an acceptible period of time for something to work . \n",
      "1863 0 doesn 't have alot of good games on it .\n",
      "1073 0 i also put a bend in the wrench so i can remove and install bits from the top of the table .\n",
      "1746 0 my main complaints are that it should be deeper or wider as it doesn 't even fit a smaller sized garbage bag .\n",
      "1821 1 the eax settings are somewhat superfluous but not really a negative . \n",
      "1110 1 6 the nikon coolpix line is a well-established line so you know support and parts are going to be available even when nikon releases a newer model . \n",
      "81 0 the strap is horrible and gets in the way of parts of the camera you need access to . \n",
      "357 0 also , the earbuds that came with it sound great but are uncomfortable ( although my wife didn 't have a problem ) , so i bought a pair of over-the-ear headphones .\n"
     ]
    },
    {
     "name": "stderr",
     "output_type": "stream",
     "text": [
      "C:\\Users\\_v010ch_\\Anaconda3\\lib\\site-packages\\ipykernel\\ipkernel.py:287: DeprecationWarning: `should_run_async` will not call `transform_cell` automatically in the future. Please pass the result to `transformed_cell` argument and any exception that happen during thetransform in `preprocessing_exc_tuple` in IPython 7.17 and above.\n",
      "  and should_run_async(code)\n"
     ]
    }
   ],
   "source": [
    "for idx in range(test.shape[0]):\n",
    "    if test_pred[idx] != test_target[test.index[idx]]:\n",
    "        print(test.index[idx],test_target[test.index[idx]], df.loc[test.index[idx]].text)"
   ]
  },
  {
   "cell_type": "markdown",
   "id": "770cdb3d-5f80-4994-b68d-7de9eed8c4b5",
   "metadata": {},
   "source": [
    "Если посмотреть на отзывы, в которых модель ошиблась - то в них нет ничего необычного.   \n",
    "Большая часть однозначно определяется как положительные или отрицательные.   \n",
    "Предполагаю, что влияют 2 фактора: несбалансированность класса и не больша выборка для обучения\n",
    "Попробуем исправить, настроив class_weights"
   ]
  },
  {
   "cell_type": "code",
   "execution_count": null,
   "id": "06ff906e-1c61-48e1-b4c0-a776d0b0a3ed",
   "metadata": {},
   "outputs": [],
   "source": []
  },
  {
   "cell_type": "markdown",
   "id": "c52196d5-eabc-402f-8660-3b37b660f2a1",
   "metadata": {},
   "source": [
    "# Пробуем настроить параметры алгоритма"
   ]
  },
  {
   "cell_type": "markdown",
   "id": "b69287d8-4966-4960-9ea8-3459dd9531f9",
   "metadata": {},
   "source": [
    "#### в 3-4 итерации. в начале ищем приближенные лучшие значения(закомментированные параметры ниже),   \n",
    "#### потом их уточняем"
   ]
  },
  {
   "cell_type": "code",
   "execution_count": 87,
   "id": "13f9721d-87f6-421d-9194-2c0043bb9774",
   "metadata": {},
   "outputs": [
    {
     "name": "stderr",
     "output_type": "stream",
     "text": [
      "C:\\Users\\_v010ch_\\Anaconda3\\lib\\site-packages\\ipykernel\\ipkernel.py:287: DeprecationWarning: `should_run_async` will not call `transform_cell` automatically in the future. Please pass the result to `transformed_cell` argument and any exception that happen during thetransform in `preprocessing_exc_tuple` in IPython 7.17 and above.\n",
      "  and should_run_async(code)\n"
     ]
    }
   ],
   "source": [
    "pipe_cnt = Pipeline([('clf', SVC()),\n",
    "                      ])"
   ]
  },
  {
   "cell_type": "code",
   "execution_count": 115,
   "id": "9ad641c7-38dc-4771-a719-c79d7ddf15d0",
   "metadata": {},
   "outputs": [
    {
     "name": "stderr",
     "output_type": "stream",
     "text": [
      "C:\\Users\\_v010ch_\\Anaconda3\\lib\\site-packages\\ipykernel\\ipkernel.py:287: DeprecationWarning: `should_run_async` will not call `transform_cell` automatically in the future. Please pass the result to `transformed_cell` argument and any exception that happen during thetransform in `preprocessing_exc_tuple` in IPython 7.17 and above.\n",
      "  and should_run_async(code)\n"
     ]
    }
   ],
   "source": [
    "model_parameters = {\n",
    "    'clf__max_iter' : [2500, 2000],# 1500],\n",
    "    'clf__kernel': ['linear'],# 'poly', 'rbf', 'sigmoid',],\n",
    "    #'clf__C': np.logspace(-2, 2, 10),\n",
    "    'clf__C': np.linspace(1.7, 2, 40),\n",
    "    #'clf__class_weight': [{0: 0.5 - shift, 1:0.5 + shift} for shift in np.linspace(-0.1, 0.1, 20)],# + ['balanced'],\n",
    "    'clf__class_weight': [{0: 0.56 - shift, 1:0.44 + shift} for shift in np.linspace(-0.01, 0.01, 20)]# + ['balanced'],\n",
    "}"
   ]
  },
  {
   "cell_type": "code",
   "execution_count": 133,
   "id": "f288db75-7a2e-4e80-8c03-2c33cb502c27",
   "metadata": {},
   "outputs": [
    {
     "name": "stderr",
     "output_type": "stream",
     "text": [
      "C:\\Users\\_v010ch_\\Anaconda3\\lib\\site-packages\\ipykernel\\ipkernel.py:287: DeprecationWarning: `should_run_async` will not call `transform_cell` automatically in the future. Please pass the result to `transformed_cell` argument and any exception that happen during thetransform in `preprocessing_exc_tuple` in IPython 7.17 and above.\n",
      "  and should_run_async(code)\n",
      "C:\\Users\\_v010ch_\\Anaconda3\\lib\\site-packages\\numpy\\core\\fromnumeric.py:3420: RuntimeWarning: Mean of empty slice.\n",
      "  out=out, **kwargs)\n",
      "C:\\Users\\_v010ch_\\Anaconda3\\lib\\site-packages\\numpy\\core\\_methods.py:181: RuntimeWarning: invalid value encountered in true_divide\n",
      "  ret, rcount, out=ret, casting='unsafe', subok=False)\n"
     ]
    },
    {
     "name": "stdout",
     "output_type": "stream",
     "text": [
      "Fitting 5 folds for each of 3200 candidates, totalling 16000 fits\n",
      "Wall time: 27min 31s\n"
     ]
    },
    {
     "name": "stderr",
     "output_type": "stream",
     "text": [
      "C:\\Users\\_v010ch_\\Anaconda3\\lib\\site-packages\\sklearn\\svm\\_base.py:258: ConvergenceWarning: Solver terminated early (max_iter=2000).  Consider pre-processing your data with StandardScaler or MinMaxScaler.\n",
      "  % self.max_iter, ConvergenceWarning)\n"
     ]
    },
    {
     "data": {
      "text/plain": [
       "Pipeline(steps=[('clf',\n",
       "                 SVC(C=2.41025641025641,\n",
       "                     class_weight={0: 0.5246153846153846,\n",
       "                                   1: 0.47538461538461535},\n",
       "                     kernel='linear', max_iter=2000))])"
      ]
     },
     "execution_count": 133,
     "metadata": {},
     "output_type": "execute_result"
    }
   ],
   "source": [
    "%%time\n",
    "\n",
    "model_x2v = W2VTransformer(size=200, window = 5, hs = 1, iter = 50, min_count = 5,\n",
    "                           seed = 16544873\n",
    "                          )\n",
    "model_x2v.fit(df.text_cl)\n",
    "train_x2v = np.nan_to_num(transform_x2v(model_x2v, train))\n",
    "\n",
    "grid_tune = GridSearchCV(pipe_cnt, model_parameters, cv = 5, scoring = 'roc_auc', verbose = 1, n_jobs=-1)\n",
    "grid_tune.fit(train_x2v, train_target)\n",
    "grid_tune.best_estimator_"
   ]
  },
  {
   "cell_type": "code",
   "execution_count": 145,
   "id": "5fcc15ae-151c-47ec-bb8c-b9fb7d908c4c",
   "metadata": {},
   "outputs": [
    {
     "name": "stderr",
     "output_type": "stream",
     "text": [
      "C:\\Users\\_v010ch_\\Anaconda3\\lib\\site-packages\\ipykernel\\ipkernel.py:287: DeprecationWarning: `should_run_async` will not call `transform_cell` automatically in the future. Please pass the result to `transformed_cell` argument and any exception that happen during thetransform in `preprocessing_exc_tuple` in IPython 7.17 and above.\n",
      "  and should_run_async(code)\n"
     ]
    },
    {
     "data": {
      "text/plain": [
       "{'clf__C': 2.41025641025641,\n",
       " 'clf__class_weight': {0: 0.5246153846153846, 1: 0.47538461538461535},\n",
       " 'clf__kernel': 'linear',\n",
       " 'clf__max_iter': 2000}"
      ]
     },
     "execution_count": 145,
     "metadata": {},
     "output_type": "execute_result"
    }
   ],
   "source": [
    "grid_tune.best_params_"
   ]
  },
  {
   "cell_type": "code",
   "execution_count": 146,
   "id": "153558a8-a70a-4cea-b3b8-ee61227d9c82",
   "metadata": {},
   "outputs": [
    {
     "data": {
      "text/plain": [
       "0.8421785955761616"
      ]
     },
     "execution_count": 146,
     "metadata": {},
     "output_type": "execute_result"
    }
   ],
   "source": [
    "grid_tune.best_score_"
   ]
  },
  {
   "cell_type": "raw",
   "id": "57313f74-67d6-474c-924e-d1bd692980ed",
   "metadata": {},
   "source": [
    "0.842950668330993"
   ]
  },
  {
   "cell_type": "markdown",
   "id": "e766706b-058b-404b-b945-ddbb31ff8fc9",
   "metadata": {},
   "source": [
    "Посмотрим на несколько лучших результатов, после чего уточняем параметры и повторяем (несколько раз) GridSearchCV"
   ]
  },
  {
   "cell_type": "code",
   "execution_count": 136,
   "id": "f31a0e9e-5111-4867-adb6-16c5cf1b21b7",
   "metadata": {},
   "outputs": [
    {
     "name": "stdout",
     "output_type": "stream",
     "text": [
      "clf__max_iter\n",
      "[2000 2000 2000 2000 2500]\n",
      "clf__kernel\n",
      "['linear' 'linear' 'linear' 'linear' 'linear']\n",
      "clf__C\n",
      "[2.217948717948718 2.282051282051282 2.3333333333333335 2.41025641025641\n",
      " 2.4743589743589745]\n",
      "clf__class_weight\n",
      "[{0: 0.538974358974359, 1: 0.461025641025641}\n",
      " {0: 0.5287179487179487, 1: 0.47128205128205125}\n",
      " {0: 0.5317948717948718, 1: 0.46820512820512816}\n",
      " {0: 0.5246153846153846, 1: 0.47538461538461535}\n",
      " {0: 0.5333333333333333, 1: 0.4666666666666666}]\n"
     ]
    },
    {
     "name": "stderr",
     "output_type": "stream",
     "text": [
      "C:\\Users\\_v010ch_\\Anaconda3\\lib\\site-packages\\ipykernel\\ipkernel.py:287: DeprecationWarning: `should_run_async` will not call `transform_cell` automatically in the future. Please pass the result to `transformed_cell` argument and any exception that happen during thetransform in `preprocessing_exc_tuple` in IPython 7.17 and above.\n",
      "  and should_run_async(code)\n"
     ]
    }
   ],
   "source": [
    "interested_tune = np.where(grid_tune.cv_results_['rank_test_score'] <= 5)\n",
    "for field in model_parameters.keys():\n",
    "    print(field)\n",
    "    for idx in interested_tune:\n",
    "        print(grid_tune.cv_results_['param_' + field][idx])"
   ]
  },
  {
   "cell_type": "code",
   "execution_count": 137,
   "id": "2eaf0ac5-455e-4a22-8977-517954a9b314",
   "metadata": {},
   "outputs": [
    {
     "name": "stderr",
     "output_type": "stream",
     "text": [
      "C:\\Users\\_v010ch_\\Anaconda3\\lib\\site-packages\\ipykernel\\ipkernel.py:287: DeprecationWarning: `should_run_async` will not call `transform_cell` automatically in the future. Please pass the result to `transformed_cell` argument and any exception that happen during thetransform in `preprocessing_exc_tuple` in IPython 7.17 and above.\n",
      "  and should_run_async(code)\n"
     ]
    },
    {
     "data": {
      "text/plain": [
       "array([0.84135114, 0.84157144, 0.84194523, 0.8421786 , 0.8413351 ])"
      ]
     },
     "execution_count": 137,
     "metadata": {},
     "output_type": "execute_result"
    }
   ],
   "source": [
    "grid_tune.cv_results_['mean_test_score'][np.where(grid_tune.cv_results_['rank_test_score'] <= 5)]"
   ]
  },
  {
   "cell_type": "raw",
   "id": "0b53b249-70c0-4b61-a4db-8e05142ecaf1",
   "metadata": {},
   "source": [
    "array([0.84258561, 0.84246868, 0.84295067, 0.84274984, 0.84246112])"
   ]
  },
  {
   "cell_type": "code",
   "execution_count": null,
   "id": "bae98688-89b4-4582-8106-66c19334b451",
   "metadata": {},
   "outputs": [],
   "source": []
  },
  {
   "cell_type": "code",
   "execution_count": null,
   "id": "9779dc70-8f39-4349-9f9b-44e162c9b898",
   "metadata": {},
   "outputs": [],
   "source": []
  },
  {
   "cell_type": "markdown",
   "id": "f8fb46e8-ba55-4d53-b740-2c27b81a8333",
   "metadata": {},
   "source": [
    "Остановимся на следующих параметрах:    \n",
    "    \n",
    "SVC\n",
    "kernel = 'linear'\n",
    "C =  2.41025641025641\n",
    "сlass_weight = {0: 0.5246153846153846, 1: 0.47538461538461535}\n",
    "max_iter = 2000"
   ]
  },
  {
   "cell_type": "markdown",
   "id": "35068e68-8a8b-4ddd-9d58-23b81ecd9315",
   "metadata": {},
   "source": [
    "Получим модель и submission для выбранных параметров"
   ]
  },
  {
   "cell_type": "code",
   "execution_count": null,
   "id": "f262624a-7a19-468e-8499-4d40d6b45688",
   "metadata": {},
   "outputs": [],
   "source": []
  },
  {
   "cell_type": "markdown",
   "id": "3d281fb7-cba5-4d09-a79d-0852d734d31d",
   "metadata": {},
   "source": [
    "### Подготавливаем данные для обучения финальной модели и прогноза"
   ]
  },
  {
   "cell_type": "code",
   "execution_count": 147,
   "id": "b3c603f1-c77a-417c-bd63-dcf3b37182d2",
   "metadata": {},
   "outputs": [
    {
     "data": {
      "text/plain": [
       "(500, 2)"
      ]
     },
     "execution_count": 147,
     "metadata": {},
     "output_type": "execute_result"
    }
   ],
   "source": [
    "df_test = pd.read_csv(os.path.join(PATH_DATA, 'products_sentiment_test.tsv'),\n",
    "                        index_col = None,\n",
    "                        sep = '\\t',\n",
    "                     )\n",
    "df_test.shape"
   ]
  },
  {
   "cell_type": "code",
   "execution_count": 148,
   "id": "70b5a934-3000-4922-b2ff-d16426af6a51",
   "metadata": {},
   "outputs": [],
   "source": [
    "#df_test.head(), df_test.tail()"
   ]
  },
  {
   "cell_type": "code",
   "execution_count": 149,
   "id": "14bee620-0129-47dc-9c21-70243ddda251",
   "metadata": {},
   "outputs": [
    {
     "data": {
      "text/plain": [
       "(500, 2)"
      ]
     },
     "execution_count": 149,
     "metadata": {},
     "output_type": "execute_result"
    }
   ],
   "source": [
    "subm = pd.read_csv(os.path.join(PATH_DATA, 'products_sentiment_sample_submission.csv'))\n",
    "subm.shape"
   ]
  },
  {
   "cell_type": "code",
   "execution_count": 150,
   "id": "660ab72b-b6a8-40b6-9aab-8aea2f4a8025",
   "metadata": {},
   "outputs": [],
   "source": [
    "#subm.head(), subm.tail()"
   ]
  },
  {
   "cell_type": "code",
   "execution_count": 151,
   "id": "3c44d375-a519-4525-9dc2-23aedccd9392",
   "metadata": {},
   "outputs": [],
   "source": [
    "test_df = df_test.text.map(clean_text)\n",
    "test_df = test_df.map(lem_text)\n",
    "test_df = test_df.map(stem_text)\n",
    "test_df = test_df.map(lambda x: x.split())"
   ]
  },
  {
   "cell_type": "code",
   "execution_count": 152,
   "id": "e63ae80d-f80b-40d5-9be7-6819ebf90ce4",
   "metadata": {},
   "outputs": [],
   "source": [
    "test_x2v = np.nan_to_num(transform_x2v(model_x2v, test_df))"
   ]
  },
  {
   "cell_type": "code",
   "execution_count": null,
   "id": "5da2bace-a685-47aa-b8fb-18d6eabdea8b",
   "metadata": {},
   "outputs": [],
   "source": []
  },
  {
   "cell_type": "markdown",
   "id": "59629b89-af97-48a3-a039-babc3b782ac8",
   "metadata": {},
   "source": [
    "### Финальная модель для прогноза и прогноз"
   ]
  },
  {
   "cell_type": "code",
   "execution_count": null,
   "id": "b948b97e-f426-452c-9388-dfb814a0c355",
   "metadata": {},
   "outputs": [],
   "source": []
  },
  {
   "cell_type": "code",
   "execution_count": 153,
   "id": "67d9614e-2d0d-4675-a37d-c80090e1be02",
   "metadata": {},
   "outputs": [],
   "source": [
    "pred = grid_tune.best_estimator_.predict(test_x2v)\n",
    "subm.y = pred"
   ]
  },
  {
   "cell_type": "code",
   "execution_count": 154,
   "id": "19718671-9309-4e2c-b553-c5a4d1712b7d",
   "metadata": {},
   "outputs": [
    {
     "name": "stderr",
     "output_type": "stream",
     "text": [
      "C:\\Users\\_v010ch_\\Anaconda3\\lib\\site-packages\\ipykernel\\ipkernel.py:287: DeprecationWarning: `should_run_async` will not call `transform_cell` automatically in the future. Please pass the result to `transformed_cell` argument and any exception that happen during thetransform in `preprocessing_exc_tuple` in IPython 7.17 and above.\n",
      "  and should_run_async(code)\n"
     ]
    }
   ],
   "source": [
    "subm.to_csv(os.path.join(PATH_SUBM, 'gensim_w2v_own_lsvc_tuned.csv'), index = False)"
   ]
  },
  {
   "cell_type": "code",
   "execution_count": null,
   "id": "1ec538e4-88e4-46ad-a281-81dbca45af48",
   "metadata": {},
   "outputs": [],
   "source": []
  },
  {
   "cell_type": "markdown",
   "id": "6d4c4bcb-67da-4311-a74c-9b6ec76683ce",
   "metadata": {},
   "source": [
    "pb 0.74000"
   ]
  },
  {
   "cell_type": "code",
   "execution_count": null,
   "id": "13fbb650-e30c-4851-8a39-df0ca9433162",
   "metadata": {},
   "outputs": [],
   "source": []
  }
 ],
 "metadata": {
  "kernelspec": {
   "display_name": "Python 3",
   "language": "python",
   "name": "python3"
  },
  "language_info": {
   "codemirror_mode": {
    "name": "ipython",
    "version": 3
   },
   "file_extension": ".py",
   "mimetype": "text/x-python",
   "name": "python",
   "nbconvert_exporter": "python",
   "pygments_lexer": "ipython3",
   "version": "3.7.10"
  }
 },
 "nbformat": 4,
 "nbformat_minor": 5
}
