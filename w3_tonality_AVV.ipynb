{
 "cells": [
  {
   "cell_type": "code",
   "execution_count": null,
   "id": "aa913ec9-8b9b-4da9-b3e2-29739908e877",
   "metadata": {
    "id": "aa913ec9-8b9b-4da9-b3e2-29739908e877"
   },
   "outputs": [],
   "source": []
  },
  {
   "cell_type": "markdown",
   "id": "d19998d7-2052-434a-8e8f-2d5b2717817e",
   "metadata": {
    "id": "d19998d7-2052-434a-8e8f-2d5b2717817e"
   },
   "source": [
    "# Kagle inclass https://www.kaggle.com/c/simplesentiment/overview"
   ]
  },
  {
   "cell_type": "markdown",
   "id": "L5lPePf6LlFS",
   "metadata": {
    "id": "L5lPePf6LlFS"
   },
   "source": [
    "Работа выполнена в colab.   \n",
    "Состоит из 2-х частей  \n",
    "- обучение модели\n",
    "- предсказание submission\n",
    "\n",
    "При предсказании, по неустановленной на данный момент причине, модель не справляется с объемом 500 строк и падает по памяти. Поэтому данная часть повторяется несколько раз: загрузка модели, обработка части строк, сохранение результата. После обработки всех строк результат объединяется.   \n",
    "Для прода такой подхож не подходит, а для kaggle сгодится."
   ]
  },
  {
   "cell_type": "markdown",
   "id": "b1VtRTMJMpzR",
   "metadata": {
    "id": "b1VtRTMJMpzR"
   },
   "source": [
    "ОБщая часть: загрузка библиотек, данных. Настройка окружения kaggle."
   ]
  },
  {
   "cell_type": "code",
   "execution_count": null,
   "id": "854a6403-a7a9-48ab-8724-9749d2c987d7",
   "metadata": {
    "executionInfo": {
     "elapsed": 342,
     "status": "ok",
     "timestamp": 1630700337340,
     "user": {
      "displayName": "Владимир Ахременко",
      "photoUrl": "",
      "userId": "12488346382028371111"
     },
     "user_tz": -180
    },
    "id": "854a6403-a7a9-48ab-8724-9749d2c987d7"
   },
   "outputs": [],
   "source": [
    "import os\n",
    "from pathlib import Path\n",
    "import json\n",
    "\n",
    "import pandas as pd\n",
    "import numpy as np\n",
    "import pickle as pkl\n",
    "\n",
    "import re\n",
    "import random"
   ]
  },
  {
   "cell_type": "code",
   "execution_count": null,
   "id": "c4803372-156f-4f0a-9bd7-b92147a81d22",
   "metadata": {
    "executionInfo": {
     "elapsed": 460,
     "status": "ok",
     "timestamp": 1630700338615,
     "user": {
      "displayName": "Владимир Ахременко",
      "photoUrl": "",
      "userId": "12488346382028371111"
     },
     "user_tz": -180
    },
    "id": "c4803372-156f-4f0a-9bd7-b92147a81d22"
   },
   "outputs": [],
   "source": [
    "#from sklearn.pipeline import Pipeline\n",
    "from sklearn.model_selection import train_test_split\n",
    "\n",
    "#from sklearn.feature_extraction.text import CountVectorizer, TfidfVectorizer\n",
    "\n",
    "#from sklearn.linear_model import LogisticRegression, SGDClassifier\n",
    "#from sklearn.svm import LinearSVC\n",
    "#from sklearn.svm import SVC\n",
    "#from sklearn.ensemble import RandomForestClassifier\n",
    "\n",
    "#from sklearn.model_selection import GridSearchCV, cross_val_score \n",
    "\n",
    "#from sklearn.metrics import accuracy_score\n",
    "from sklearn.metrics import roc_auc_score\n",
    "from sklearn.metrics import confusion_matrix"
   ]
  },
  {
   "cell_type": "code",
   "execution_count": null,
   "id": "jpkYqtKwDORT",
   "metadata": {
    "executionInfo": {
     "elapsed": 4710,
     "status": "ok",
     "timestamp": 1630700343323,
     "user": {
      "displayName": "Владимир Ахременко",
      "photoUrl": "",
      "userId": "12488346382028371111"
     },
     "user_tz": -180
    },
    "id": "jpkYqtKwDORT"
   },
   "outputs": [],
   "source": [
    "import torch"
   ]
  },
  {
   "cell_type": "code",
   "execution_count": null,
   "id": "ad524463-2a53-413f-be4c-6d34a1f4d409",
   "metadata": {
    "executionInfo": {
     "elapsed": 9288,
     "status": "ok",
     "timestamp": 1630700352610,
     "user": {
      "displayName": "Владимир Ахременко",
      "photoUrl": "",
      "userId": "12488346382028371111"
     },
     "user_tz": -180
    },
    "id": "ad524463-2a53-413f-be4c-6d34a1f4d409"
   },
   "outputs": [],
   "source": [
    "import transformers\n",
    "from transformers import BertModel \n",
    "from transformers import BertTokenizer\n",
    "from transformers import Trainer, TrainingArguments\n",
    "\n",
    "from transformers.file_utils import is_tf_available, is_torch_available\n",
    "from transformers import pipeline"
   ]
  },
  {
   "cell_type": "code",
   "execution_count": null,
   "id": "Pf_CMre3DWU-",
   "metadata": {
    "executionInfo": {
     "elapsed": 21,
     "status": "ok",
     "timestamp": 1630700352613,
     "user": {
      "displayName": "Владимир Ахременко",
      "photoUrl": "",
      "userId": "12488346382028371111"
     },
     "user_tz": -180
    },
    "id": "Pf_CMre3DWU-"
   },
   "outputs": [],
   "source": [
    "from transformers import BertForSequenceClassification"
   ]
  },
  {
   "cell_type": "code",
   "execution_count": null,
   "id": "d04baa48-ea21-4909-bf90-8070ac37ca79",
   "metadata": {
    "executionInfo": {
     "elapsed": 21,
     "status": "ok",
     "timestamp": 1630700352614,
     "user": {
      "displayName": "Владимир Ахременко",
      "photoUrl": "",
      "userId": "12488346382028371111"
     },
     "user_tz": -180
    },
    "id": "d04baa48-ea21-4909-bf90-8070ac37ca79"
   },
   "outputs": [],
   "source": []
  },
  {
   "cell_type": "code",
   "execution_count": null,
   "id": "fe13466e-b55c-45e2-9104-a68353409c4a",
   "metadata": {
    "executionInfo": {
     "elapsed": 20,
     "status": "ok",
     "timestamp": 1630700352614,
     "user": {
      "displayName": "Владимир Ахременко",
      "photoUrl": "",
      "userId": "12488346382028371111"
     },
     "user_tz": -180
    },
    "id": "fe13466e-b55c-45e2-9104-a68353409c4a"
   },
   "outputs": [],
   "source": [
    "PATH_DATA = os.path.join(Path.cwd(), 'data')\n",
    "PATH_SUBM = os.path.join(Path.cwd(), 'submissions')"
   ]
  },
  {
   "cell_type": "code",
   "execution_count": null,
   "id": "05ba9f60-3cd9-4175-8966-9545f228c0b3",
   "metadata": {
    "executionInfo": {
     "elapsed": 20,
     "status": "ok",
     "timestamp": 1630700352614,
     "user": {
      "displayName": "Владимир Ахременко",
      "photoUrl": "",
      "userId": "12488346382028371111"
     },
     "user_tz": -180
    },
    "id": "05ba9f60-3cd9-4175-8966-9545f228c0b3"
   },
   "outputs": [],
   "source": []
  },
  {
   "cell_type": "code",
   "execution_count": null,
   "id": "FGhLP_IImvR1",
   "metadata": {
    "colab": {
     "base_uri": "https://localhost:8080/"
    },
    "executionInfo": {
     "elapsed": 1335,
     "status": "ok",
     "timestamp": 1630700353929,
     "user": {
      "displayName": "Владимир Ахременко",
      "photoUrl": "",
      "userId": "12488346382028371111"
     },
     "user_tz": -180
    },
    "id": "FGhLP_IImvR1",
    "outputId": "5a3649cd-d485-4748-bf65-1b5034d0164d"
   },
   "outputs": [],
   "source": [
    "!mkdir .kaggle\n",
    "!touch .kaggle/kaggle.json\n",
    "\n",
    "api_token = {\"username\":\"user\",\"key\":\"api-key\"}\n",
    "\n",
    "with open('/content/.kaggle/kaggle.json', 'w') as file:\n",
    "    json.dump(api_token, file)\n",
    "\n",
    "!chmod 600 /content/.kaggle/kaggle.json\n",
    "!kaggle config path -p /content"
   ]
  },
  {
   "cell_type": "code",
   "execution_count": null,
   "id": "1t7_unoymrJd",
   "metadata": {
    "colab": {
     "base_uri": "https://localhost:8080/"
    },
    "executionInfo": {
     "elapsed": 11,
     "status": "ok",
     "timestamp": 1630700353930,
     "user": {
      "displayName": "Владимир Ахременко",
      "photoUrl": "",
      "userId": "12488346382028371111"
     },
     "user_tz": -180
    },
    "id": "1t7_unoymrJd",
    "outputId": "4ebd9f58-49dc-4583-d72a-ea45f43166cf"
   },
   "outputs": [],
   "source": [
    "!mv .kaggle /root/"
   ]
  },
  {
   "cell_type": "code",
   "execution_count": null,
   "id": "c5MRen9qmnV8",
   "metadata": {
    "colab": {
     "base_uri": "https://localhost:8080/"
    },
    "executionInfo": {
     "elapsed": 2273,
     "status": "ok",
     "timestamp": 1630700356199,
     "user": {
      "displayName": "Владимир Ахременко",
      "photoUrl": "",
      "userId": "12488346382028371111"
     },
     "user_tz": -180
    },
    "id": "c5MRen9qmnV8",
    "outputId": "89118c77-89b0-4f3c-f963-b3d5a35c2bf8"
   },
   "outputs": [],
   "source": [
    "!kaggle competitions download -c simplesentiment"
   ]
  },
  {
   "cell_type": "markdown",
   "id": "9b82f1b0-9407-4705-8df6-68b4f979140d",
   "metadata": {
    "id": "9b82f1b0-9407-4705-8df6-68b4f979140d"
   },
   "source": [
    "Получаем верные метки. Для второй части нас здесь интересует df.target, seed и лямбда функция clean_text."
   ]
  },
  {
   "cell_type": "code",
   "execution_count": null,
   "id": "wYDy2YeANYx-",
   "metadata": {
    "executionInfo": {
     "elapsed": 4,
     "status": "ok",
     "timestamp": 1630700356199,
     "user": {
      "displayName": "Владимир Ахременко",
      "photoUrl": "",
      "userId": "12488346382028371111"
     },
     "user_tz": -180
    },
    "id": "wYDy2YeANYx-"
   },
   "outputs": [],
   "source": [
    "def set_seed(seed: int):\n",
    "    \"\"\"\n",
    "    Helper function for reproducible behavior to set the seed in ``random``, ``numpy``, ``torch`` and/or ``tf`` (if\n",
    "    installed).\n",
    "\n",
    "    Args:\n",
    "        seed (:obj:`int`): The seed to set.\n",
    "    \"\"\"\n",
    "    random.seed(seed)\n",
    "    np.random.seed(seed)\n",
    "    if is_torch_available():\n",
    "        torch.manual_seed(seed)\n",
    "        torch.cuda.manual_seed_all(seed)\n",
    "        # ^^ safe to call this function even if cuda is not available\n",
    "    if is_tf_available():\n",
    "        import tensorflow as tf\n",
    "\n",
    "        tf.random.set_seed(seed)"
   ]
  },
  {
   "cell_type": "code",
   "execution_count": null,
   "id": "h6F1xM0HNcXp",
   "metadata": {
    "executionInfo": {
     "elapsed": 5,
     "status": "ok",
     "timestamp": 1630700356200,
     "user": {
      "displayName": "Владимир Ахременко",
      "photoUrl": "",
      "userId": "12488346382028371111"
     },
     "user_tz": -180
    },
    "id": "h6F1xM0HNcXp"
   },
   "outputs": [],
   "source": [
    "set_seed(522)"
   ]
  },
  {
   "cell_type": "code",
   "execution_count": null,
   "id": "d446bd07-6793-4161-9fc8-80a96ed18521",
   "metadata": {
    "colab": {
     "base_uri": "https://localhost:8080/"
    },
    "executionInfo": {
     "elapsed": 379,
     "status": "ok",
     "timestamp": 1630700356575,
     "user": {
      "displayName": "Владимир Ахременко",
      "photoUrl": "",
      "userId": "12488346382028371111"
     },
     "user_tz": -180
    },
    "id": "d446bd07-6793-4161-9fc8-80a96ed18521",
    "outputId": "2c900444-02ca-4101-de5b-a6fe3c78aaf7"
   },
   "outputs": [],
   "source": [
    "df = pd.read_csv(os.path.join('./', 'products_sentiment_train.tsv'), \n",
    "                    header = None, \n",
    "                    index_col = None,\n",
    "                    sep = '\\t',\n",
    "                   )\n",
    "df.columns = ['text', 'target']\n",
    "df.shape"
   ]
  },
  {
   "cell_type": "code",
   "execution_count": null,
   "id": "e99981a8-cd4b-481c-849f-5aedeabb1e87",
   "metadata": {
    "executionInfo": {
     "elapsed": 3,
     "status": "ok",
     "timestamp": 1630700356576,
     "user": {
      "displayName": "Владимир Ахременко",
      "photoUrl": "",
      "userId": "12488346382028371111"
     },
     "user_tz": -180
    },
    "id": "e99981a8-cd4b-481c-849f-5aedeabb1e87"
   },
   "outputs": [],
   "source": [
    "clean_text = lambda x: re.sub(r\"\\s+\", ' ', \n",
    "                              re.sub(r\"[\\d+]\", '',\n",
    "                                     re.sub(r\"[^\\w\\s]\", '', x.lower()).strip()\n",
    "                                    )\n",
    "                             )"
   ]
  },
  {
   "cell_type": "markdown",
   "id": "zs9VPADvNAS7",
   "metadata": {
    "id": "zs9VPADvNAS7"
   },
   "source": [
    "При предсказании можно переходить ко второй части."
   ]
  },
  {
   "cell_type": "markdown",
   "id": "Y3N-ML5RT62m",
   "metadata": {
    "id": "Y3N-ML5RT62m"
   },
   "source": [
    "Часть 1 (продолжение). Построение модели."
   ]
  },
  {
   "cell_type": "code",
   "execution_count": null,
   "id": "4bb2dd71-5a68-4ac7-b75c-940c9684659e",
   "metadata": {
    "executionInfo": {
     "elapsed": 378,
     "status": "ok",
     "timestamp": 1630694654858,
     "user": {
      "displayName": "Владимир Ахременко",
      "photoUrl": "",
      "userId": "12488346382028371111"
     },
     "user_tz": -180
    },
    "id": "4bb2dd71-5a68-4ac7-b75c-940c9684659e"
   },
   "outputs": [],
   "source": [
    "df['text_cl'] = df.text.map(clean_text)"
   ]
  },
  {
   "cell_type": "code",
   "execution_count": null,
   "id": "d2a5aca2-1e59-452c-94b2-7552f148cb6c",
   "metadata": {
    "executionInfo": {
     "elapsed": 2,
     "status": "ok",
     "timestamp": 1630694656010,
     "user": {
      "displayName": "Владимир Ахременко",
      "photoUrl": "",
      "userId": "12488346382028371111"
     },
     "user_tz": -180
    },
    "id": "d2a5aca2-1e59-452c-94b2-7552f148cb6c"
   },
   "outputs": [],
   "source": [
    "train, test, train_target, test_target = train_test_split(df.text, df.target, \n",
    "                                                          test_size = 0.2, \n",
    "                                                          stratify = df.target, \n",
    "                                                          random_state = 52138,\n",
    "                                                         )"
   ]
  },
  {
   "cell_type": "code",
   "execution_count": null,
   "id": "2816e557-1b79-42e2-8fb6-2bc57ea422c0",
   "metadata": {
    "executionInfo": {
     "elapsed": 2,
     "status": "ok",
     "timestamp": 1630694657297,
     "user": {
      "displayName": "Владимир Ахременко",
      "photoUrl": "",
      "userId": "12488346382028371111"
     },
     "user_tz": -180
    },
    "id": "2816e557-1b79-42e2-8fb6-2bc57ea422c0"
   },
   "outputs": [],
   "source": []
  },
  {
   "cell_type": "markdown",
   "id": "d41b9230-488a-4cd7-8486-cf56e4ed77a4",
   "metadata": {
    "id": "d41b9230-488a-4cd7-8486-cf56e4ed77a4"
   },
   "source": [
    "Устанавливаем transformers, если не установлен."
   ]
  },
  {
   "cell_type": "code",
   "execution_count": null,
   "id": "13eb1b3b-a3a9-450e-a1f1-9b7a6dd38b41",
   "metadata": {
    "colab": {
     "base_uri": "https://localhost:8080/"
    },
    "executionInfo": {
     "elapsed": 6854,
     "status": "ok",
     "timestamp": 1630679758115,
     "user": {
      "displayName": "Владимир Ахременко",
      "photoUrl": "",
      "userId": "12488346382028371111"
     },
     "user_tz": -180
    },
    "id": "13eb1b3b-a3a9-450e-a1f1-9b7a6dd38b41",
    "outputId": "c15e7c33-26d8-462d-c4e5-fa5d6f5b7763"
   },
   "outputs": [],
   "source": [
    "!pip install transformers"
   ]
  },
  {
   "cell_type": "code",
   "execution_count": null,
   "id": "f71b3a14-9546-458d-817b-54f69f3dddb1",
   "metadata": {
    "executionInfo": {
     "elapsed": 373,
     "status": "ok",
     "timestamp": 1630695933455,
     "user": {
      "displayName": "Владимир Ахременко",
      "photoUrl": "",
      "userId": "12488346382028371111"
     },
     "user_tz": -180
    },
    "id": "f71b3a14-9546-458d-817b-54f69f3dddb1"
   },
   "outputs": [],
   "source": []
  },
  {
   "cell_type": "markdown",
   "id": "p4TK9ua3Nn_o",
   "metadata": {
    "id": "p4TK9ua3Nn_o"
   },
   "source": [
    "Загружаем выбраннную для transfer learning модель."
   ]
  },
  {
   "cell_type": "code",
   "execution_count": null,
   "id": "25b897cf-bf01-49c8-ae62-4b8a8b00a004",
   "metadata": {
    "colab": {
     "base_uri": "https://localhost:8080/",
     "height": 145,
     "referenced_widgets": [
      "315d38ac385c44fcbf8e84a6e7a7df2d",
      "94356085d4184dc292afe006f8a1895f",
      "6b71e15181e64d5d9d58fec3a6806314",
      "c0a55e4e8054433b926ee64c445fdc62",
      "c2a9dfa438f044a487a3fec6d1d320d4",
      "a71d3bc65eb34f158cad31383bae20c4",
      "48e2e3a744a6453fbc67df1e07b21b65",
      "e6a3074b22d44909a2357509245d3bb5",
      "3ca01753c2b949b79f978a7671386d65",
      "928ef04f4c58490abaf40e3180fbee87",
      "4af817f7570f4232834bca7d6cb1143a",
      "f637edd7351342aa9bd5b54a8bfd36f4",
      "c0fa051b5bea4b9bb97f3df58289cf52",
      "a719a0b696624e7b861c199d5048c8e9",
      "3e1389a2eb6246bfb6d6e9e0096c326b",
      "3e4b464f03c9471bb71390e11d2781e1",
      "5e65c9758f4148d1ba983310b41e4b32",
      "f6d40e5dd24f495a9276ba6ce066ae54",
      "9bcae312acc44a4590cd3743c5fb141f",
      "34ccb8b8f0994c1cab8705a8f533bf75",
      "0f53ca31dfdf457889eb3c5312e68bde",
      "ebef23a3d86e4a71a60a6e565d7406b2",
      "033cb980d8304c4ba66607f52ab5a75b",
      "2c8d59c770064fa8b2a212208e89ffb6",
      "d89858254e984a07a039a4b31167c8fd",
      "5f6491133d134579a8813d5dfd6df411",
      "9d0b0d5499e4467587dd9e4b331f794e",
      "db5451787b224ff1ae6f7f8fb27e1c2e",
      "f3094684cde944f5a2df2e006fdf0c51",
      "8e82841bbc3242c0bbf20c9891e659bb",
      "248f86fa26194b0cb8ae12c82ca8d0d6",
      "4ad8ca7a9d774cfba399dd4f3d74d895",
      "1c4e30c4888f4bb68eeeaee5e43d247b",
      "c91d135d30eb46e2a87f97a7d4cf9d4f",
      "8fd6167d440d47e3acd1fd5df2f49b58",
      "b96dfe7dfdfc4a1ea330bf74b318fcc5",
      "95f43f2e12f94df4b30744b6d0d34e2b",
      "f03e50412dba4162819cac0c692f2dd5",
      "6b8ac93c2c874e08b44b538258592e9c",
      "7c2d14680c914acdbfca74fd1e1f52ab",
      "bccc40042c1545c0a2fb11b955a0dee6",
      "3779e68151d04bdd83fae7cf3ba56f23",
      "95f7365fb34f4ba780663c383e121ac9",
      "847ec45c58fa4fc1882e6f318670a9c3"
     ]
    },
    "executionInfo": {
     "elapsed": 5295,
     "status": "ok",
     "timestamp": 1630679791269,
     "user": {
      "displayName": "Владимир Ахременко",
      "photoUrl": "",
      "userId": "12488346382028371111"
     },
     "user_tz": -180
    },
    "id": "25b897cf-bf01-49c8-ae62-4b8a8b00a004",
    "outputId": "f63b1bb4-1467-44a8-fa85-954cd1cefa22"
   },
   "outputs": [],
   "source": [
    "PRE_TRAINED_MODEL_NAME = 'bert-base-cased'\n",
    "#PRE_TRAINED_MODEL_NAME = \"siebert//sentiment-roberta-large-english\"\n",
    "tokenizer = BertTokenizer.from_pretrained(PRE_TRAINED_MODEL_NAME)"
   ]
  },
  {
   "cell_type": "code",
   "execution_count": null,
   "id": "5f6114bd-8313-4eb8-bc88-db0af300823a",
   "metadata": {
    "colab": {
     "base_uri": "https://localhost:8080/"
    },
    "executionInfo": {
     "elapsed": 345,
     "status": "ok",
     "timestamp": 1630679796474,
     "user": {
      "displayName": "Владимир Ахременко",
      "photoUrl": "",
      "userId": "12488346382028371111"
     },
     "user_tz": -180
    },
    "id": "5f6114bd-8313-4eb8-bc88-db0af300823a",
    "outputId": "744ff5ad-6d83-432f-81fe-6ca37b6cb6c2"
   },
   "outputs": [],
   "source": [
    "max(df.text_cl.map(lambda x: len(x.split()))), max(df.text.map(lambda x: len(x.split())))"
   ]
  },
  {
   "cell_type": "markdown",
   "id": "2137a3e3-aa43-4119-8ea4-a9e8c11736e0",
   "metadata": {
    "id": "2137a3e3-aa43-4119-8ea4-a9e8c11736e0"
   },
   "source": [
    "в выбранной для обучения части датасета максимальная длинна отзыва - 92 слова. возьмем максимальную длинну - 96, кратную 8."
   ]
  },
  {
   "cell_type": "code",
   "execution_count": null,
   "id": "ff9c7826-32a8-4214-830d-68beaad80d2c",
   "metadata": {
    "executionInfo": {
     "elapsed": 378,
     "status": "ok",
     "timestamp": 1630698737062,
     "user": {
      "displayName": "Владимир Ахременко",
      "photoUrl": "",
      "userId": "12488346382028371111"
     },
     "user_tz": -180
    },
    "id": "ff9c7826-32a8-4214-830d-68beaad80d2c"
   },
   "outputs": [],
   "source": [
    "max_length = 96"
   ]
  },
  {
   "cell_type": "code",
   "execution_count": null,
   "id": "0e219d2a-384e-4622-a257-4a9d9d047fc1",
   "metadata": {
    "executionInfo": {
     "elapsed": 547,
     "status": "ok",
     "timestamp": 1630698742144,
     "user": {
      "displayName": "Владимир Ахременко",
      "photoUrl": "",
      "userId": "12488346382028371111"
     },
     "user_tz": -180
    },
    "id": "0e219d2a-384e-4622-a257-4a9d9d047fc1"
   },
   "outputs": [],
   "source": [
    "#tokenizer(['hello people twinky', 'world'], truncation=True, padding=True, max_length=max_length)"
   ]
  },
  {
   "cell_type": "code",
   "execution_count": null,
   "id": "c69fa6ea-54b2-40a3-b9c6-3da004aef8cb",
   "metadata": {
    "executionInfo": {
     "elapsed": 329,
     "status": "ok",
     "timestamp": 1630698744229,
     "user": {
      "displayName": "Владимир Ахременко",
      "photoUrl": "",
      "userId": "12488346382028371111"
     },
     "user_tz": -180
    },
    "id": "c69fa6ea-54b2-40a3-b9c6-3da004aef8cb"
   },
   "outputs": [],
   "source": [
    "#tokenizer(['hello', 'world'], truncation=True, padding=True, max_length=max_length)"
   ]
  },
  {
   "cell_type": "code",
   "execution_count": null,
   "id": "bc5f91d3-b6eb-4567-bb1e-991493299e56",
   "metadata": {
    "executionInfo": {
     "elapsed": 774,
     "status": "ok",
     "timestamp": 1630679805405,
     "user": {
      "displayName": "Владимир Ахременко",
      "photoUrl": "",
      "userId": "12488346382028371111"
     },
     "user_tz": -180
    },
    "id": "bc5f91d3-b6eb-4567-bb1e-991493299e56"
   },
   "outputs": [],
   "source": [
    "train_tokens = tokenizer(list(train.values), truncation=True, padding=True, max_length=max_length)"
   ]
  },
  {
   "cell_type": "code",
   "execution_count": null,
   "id": "c58f0fb9-bb60-4c7c-83b5-ed1523d1f31c",
   "metadata": {
    "executionInfo": {
     "elapsed": 338,
     "status": "ok",
     "timestamp": 1630679806108,
     "user": {
      "displayName": "Владимир Ахременко",
      "photoUrl": "",
      "userId": "12488346382028371111"
     },
     "user_tz": -180
    },
    "id": "c58f0fb9-bb60-4c7c-83b5-ed1523d1f31c"
   },
   "outputs": [],
   "source": [
    "test_tokens = tokenizer(list(test.values), truncation=True, padding=True, max_length=max_length)"
   ]
  },
  {
   "cell_type": "markdown",
   "id": "7BEVv6tiOMaR",
   "metadata": {
    "id": "7BEVv6tiOMaR"
   },
   "source": [
    "В модель необходимо передать данные в виде torch tensor. Подготавливаем."
   ]
  },
  {
   "cell_type": "code",
   "execution_count": null,
   "id": "b69f0dfb-55da-440b-999a-5ff1ef1e50aa",
   "metadata": {
    "executionInfo": {
     "elapsed": 3,
     "status": "ok",
     "timestamp": 1630679807256,
     "user": {
      "displayName": "Владимир Ахременко",
      "photoUrl": "",
      "userId": "12488346382028371111"
     },
     "user_tz": -180
    },
    "id": "b69f0dfb-55da-440b-999a-5ff1ef1e50aa"
   },
   "outputs": [],
   "source": [
    "class TonalityDataset(torch.utils.data.Dataset):\n",
    "    def __init__(self, encodings, labels):\n",
    "        self.encodings = encodings\n",
    "        self.labels = labels\n",
    "\n",
    "    def __getitem__(self, idx):\n",
    "        item = {k: torch.tensor(v[idx]) for k, v in self.encodings.items()}\n",
    "        item[\"labels\"] = torch.tensor([self.labels[idx]])\n",
    "        return item\n",
    "\n",
    "    def __len__(self):\n",
    "        return len(self.labels)"
   ]
  },
  {
   "cell_type": "code",
   "execution_count": null,
   "id": "95ce1aac-2232-42f6-a090-28a1496c741d",
   "metadata": {
    "executionInfo": {
     "elapsed": 8,
     "status": "ok",
     "timestamp": 1630679808160,
     "user": {
      "displayName": "Владимир Ахременко",
      "photoUrl": "",
      "userId": "12488346382028371111"
     },
     "user_tz": -180
    },
    "id": "95ce1aac-2232-42f6-a090-28a1496c741d"
   },
   "outputs": [],
   "source": [
    "train_dataset = TonalityDataset(train_tokens, train_target.values)\n",
    "test_dataset  = TonalityDataset(test_tokens,  test_target.values)"
   ]
  },
  {
   "cell_type": "code",
   "execution_count": null,
   "id": "b2063154-ceb0-4a73-ba6c-881b276b3236",
   "metadata": {
    "executionInfo": {
     "elapsed": 3,
     "status": "ok",
     "timestamp": 1630679809647,
     "user": {
      "displayName": "Владимир Ахременко",
      "photoUrl": "",
      "userId": "12488346382028371111"
     },
     "user_tz": -180
    },
    "id": "b2063154-ceb0-4a73-ba6c-881b276b3236"
   },
   "outputs": [],
   "source": []
  },
  {
   "cell_type": "markdown",
   "id": "67J_0XS-OeEo",
   "metadata": {
    "id": "67J_0XS-OeEo"
   },
   "source": [
    "Дообучаем модель на наших данных."
   ]
  },
  {
   "cell_type": "code",
   "execution_count": null,
   "id": "6c89fb11-9a1c-452e-80ea-e7524974ca61",
   "metadata": {
    "colab": {
     "base_uri": "https://localhost:8080/",
     "height": 154,
     "referenced_widgets": [
      "2ab7476edbf04de884145a168f3efe90",
      "8168aff315694df9b0b9d044cdeb635f",
      "522c2212837a4ee5b23a23519f2e65b0",
      "5c5acf11d972454fb18321c663a890fe",
      "8657b051084d4312b4e5787a8bdafcd9",
      "eb41da741fbc4563a5e62fbcb35bc198",
      "5d8682dbe09a4f2b98bd6ddc1ca69652",
      "0c9d0e0582d84e02a1b9fffcdc7c4b7c",
      "7bc30838112248889371787047c16420",
      "aee2354b9c74496fb5a0b99c6d570fd2",
      "4a6e03efef8e489da34d5008f4b06b04"
     ]
    },
    "executionInfo": {
     "elapsed": 12228,
     "status": "ok",
     "timestamp": 1630679827396,
     "user": {
      "displayName": "Владимир Ахременко",
      "photoUrl": "",
      "userId": "12488346382028371111"
     },
     "user_tz": -180
    },
    "id": "6c89fb11-9a1c-452e-80ea-e7524974ca61",
    "outputId": "d17d5fc6-93ba-4b8e-b438-9d5610a95190"
   },
   "outputs": [],
   "source": [
    "model = BertForSequenceClassification.from_pretrained(PRE_TRAINED_MODEL_NAME, \n",
    "                                                      num_labels = df.target.value_counts().shape[0])#.to(\"cuda\")"
   ]
  },
  {
   "cell_type": "code",
   "execution_count": null,
   "id": "0284fd84-c337-49e5-a0bb-a59a04d329c5",
   "metadata": {
    "executionInfo": {
     "elapsed": 16,
     "status": "ok",
     "timestamp": 1630679827396,
     "user": {
      "displayName": "Владимир Ахременко",
      "photoUrl": "",
      "userId": "12488346382028371111"
     },
     "user_tz": -180
    },
    "id": "0284fd84-c337-49e5-a0bb-a59a04d329c5"
   },
   "outputs": [],
   "source": [
    "training_args = TrainingArguments(\n",
    "    output_dir='./results',          # output directory\n",
    "    num_train_epochs=3,              # total number of training epochs\n",
    "    per_device_train_batch_size=16,  # batch size per device during training\n",
    "    per_device_eval_batch_size=20,   # batch size for evaluation\n",
    "    warmup_steps=400,                # number of warmup steps for learning rate scheduler\n",
    "    weight_decay=0.01,               # strength of weight decay\n",
    "    logging_dir='./logs',            # directory for storing logs\n",
    "    load_best_model_at_end=True,     # load the best model when finished training (default metric is loss)\n",
    "    # but you can specify `metric_for_best_model` argument to change to accuracy or other metric\n",
    "    logging_steps=50,               # log & save weights each logging_steps\n",
    "    evaluation_strategy=\"steps\",     # evaluate each `logging_steps`\n",
    ")"
   ]
  },
  {
   "cell_type": "code",
   "execution_count": null,
   "id": "33b6035d-c928-41e1-8896-9b27496709d5",
   "metadata": {
    "executionInfo": {
     "elapsed": 465,
     "status": "ok",
     "timestamp": 1630679835102,
     "user": {
      "displayName": "Владимир Ахременко",
      "photoUrl": "",
      "userId": "12488346382028371111"
     },
     "user_tz": -180
    },
    "id": "33b6035d-c928-41e1-8896-9b27496709d5"
   },
   "outputs": [],
   "source": [
    "def compute_metrics(pred):\n",
    "    labels = pred.label_ids\n",
    "    preds = pred.predictions.argmax(-1)\n",
    "    # calculate accuracy using sklearn's function\n",
    "    rocauc = roc_auc_score(labels, preds)\n",
    "    return {\n",
    "        'roc-auc': rocauc,\n",
    "    }"
   ]
  },
  {
   "cell_type": "code",
   "execution_count": null,
   "id": "888a3e7b-4bc4-4ebc-9241-959748eb7883",
   "metadata": {
    "executionInfo": {
     "elapsed": 4,
     "status": "ok",
     "timestamp": 1630679837024,
     "user": {
      "displayName": "Владимир Ахременко",
      "photoUrl": "",
      "userId": "12488346382028371111"
     },
     "user_tz": -180
    },
    "id": "888a3e7b-4bc4-4ebc-9241-959748eb7883"
   },
   "outputs": [],
   "source": [
    "trainer = Trainer(\n",
    "    model=model,                         # the instantiated Transformers model to be trained\n",
    "    args=training_args,                  # training arguments, defined above\n",
    "    train_dataset=train_dataset,         # training dataset\n",
    "    eval_dataset=test_dataset,          # evaluation dataset\n",
    "    compute_metrics=compute_metrics,     # the callback that computes metrics of interest\n",
    ")"
   ]
  },
  {
   "cell_type": "code",
   "execution_count": null,
   "id": "9bc7dc85-6a8c-4f9e-8a6c-0b600ee272a2",
   "metadata": {
    "colab": {
     "base_uri": "https://localhost:8080/",
     "height": 1000
    },
    "executionInfo": {
     "elapsed": 13701463,
     "status": "ok",
     "timestamp": 1630693540165,
     "user": {
      "displayName": "Владимир Ахременко",
      "photoUrl": "",
      "userId": "12488346382028371111"
     },
     "user_tz": -180
    },
    "id": "9bc7dc85-6a8c-4f9e-8a6c-0b600ee272a2",
    "outputId": "d0d05d9d-367e-4134-cf2b-c48b167582bb"
   },
   "outputs": [],
   "source": [
    "trainer.train()"
   ]
  },
  {
   "cell_type": "code",
   "execution_count": null,
   "id": "cd27b89e-d497-4c8b-9f8f-452c2f08daef",
   "metadata": {
    "colab": {
     "base_uri": "https://localhost:8080/",
     "height": 190
    },
    "executionInfo": {
     "elapsed": 311568,
     "status": "ok",
     "timestamp": 1630693857508,
     "user": {
      "displayName": "Владимир Ахременко",
      "photoUrl": "",
      "userId": "12488346382028371111"
     },
     "user_tz": -180
    },
    "id": "cd27b89e-d497-4c8b-9f8f-452c2f08daef",
    "outputId": "17b422e6-f616-487a-e243-c91f6e49b506"
   },
   "outputs": [],
   "source": [
    "trainer.evaluate()"
   ]
  },
  {
   "cell_type": "code",
   "execution_count": null,
   "id": "9bf95718-78a0-47cb-a215-2d8bf9d8db5b",
   "metadata": {
    "colab": {
     "base_uri": "https://localhost:8080/"
    },
    "executionInfo": {
     "elapsed": 1573,
     "status": "ok",
     "timestamp": 1630693892703,
     "user": {
      "displayName": "Владимир Ахременко",
      "photoUrl": "",
      "userId": "12488346382028371111"
     },
     "user_tz": -180
    },
    "id": "9bf95718-78a0-47cb-a215-2d8bf9d8db5b",
    "outputId": "01fb619b-3e8d-4a8b-d7e4-a43bb001c391"
   },
   "outputs": [],
   "source": [
    "model_path = \"capstone_tonality_bert_base_cased_v1\"\n",
    "model.save_pretrained(model_path)\n",
    "tokenizer.save_pretrained(model_path)"
   ]
  },
  {
   "cell_type": "code",
   "execution_count": null,
   "id": "0b539887-7989-4178-a389-09c5445cbb8b",
   "metadata": {
    "executionInfo": {
     "elapsed": 336,
     "status": "ok",
     "timestamp": 1630698886435,
     "user": {
      "displayName": "Владимир Ахременко",
      "photoUrl": "",
      "userId": "12488346382028371111"
     },
     "user_tz": -180
    },
    "id": "0b539887-7989-4178-a389-09c5445cbb8b"
   },
   "outputs": [],
   "source": []
  },
  {
   "cell_type": "code",
   "execution_count": null,
   "id": "zxrr38n4Oae9",
   "metadata": {
    "executionInfo": {
     "elapsed": 334,
     "status": "ok",
     "timestamp": 1630698889232,
     "user": {
      "displayName": "Владимир Ахременко",
      "photoUrl": "",
      "userId": "12488346382028371111"
     },
     "user_tz": -180
    },
    "id": "zxrr38n4Oae9"
   },
   "outputs": [],
   "source": []
  },
  {
   "cell_type": "code",
   "execution_count": null,
   "id": "TrbiNJwUi_zU",
   "metadata": {
    "executionInfo": {
     "elapsed": 334,
     "status": "ok",
     "timestamp": 1630698892248,
     "user": {
      "displayName": "Владимир Ахременко",
      "photoUrl": "",
      "userId": "12488346382028371111"
     },
     "user_tz": -180
    },
    "id": "TrbiNJwUi_zU"
   },
   "outputs": [],
   "source": []
  },
  {
   "cell_type": "markdown",
   "id": "xBCCnUKIOsu9",
   "metadata": {
    "id": "xBCCnUKIOsu9"
   },
   "source": [
    "Часть 2. Подготовка прогноза."
   ]
  },
  {
   "cell_type": "markdown",
   "id": "pc5oRr3_Ot_8",
   "metadata": {
    "id": "pc5oRr3_Ot_8"
   },
   "source": [
    "загружаем токенизатор/модель."
   ]
  },
  {
   "cell_type": "code",
   "execution_count": null,
   "id": "QPICQuC_i_3X",
   "metadata": {
    "executionInfo": {
     "elapsed": 2,
     "status": "ok",
     "timestamp": 1630700357818,
     "user": {
      "displayName": "Владимир Ахременко",
      "photoUrl": "",
      "userId": "12488346382028371111"
     },
     "user_tz": -180
    },
    "id": "QPICQuC_i_3X"
   },
   "outputs": [],
   "source": [
    "model_path = \"capstone_tonality_bert_base_cased_v1\""
   ]
  },
  {
   "cell_type": "code",
   "execution_count": null,
   "id": "1YjAyCpUOami",
   "metadata": {
    "executionInfo": {
     "elapsed": 1,
     "status": "ok",
     "timestamp": 1630700358246,
     "user": {
      "displayName": "Владимир Ахременко",
      "photoUrl": "",
      "userId": "12488346382028371111"
     },
     "user_tz": -180
    },
    "id": "1YjAyCpUOami"
   },
   "outputs": [],
   "source": [
    "tokenizer = BertTokenizer.from_pretrained(model_path)"
   ]
  },
  {
   "cell_type": "code",
   "execution_count": null,
   "id": "nsZgRb6gnf86",
   "metadata": {
    "executionInfo": {
     "elapsed": 12930,
     "status": "ok",
     "timestamp": 1630700371810,
     "user": {
      "displayName": "Владимир Ахременко",
      "photoUrl": "",
      "userId": "12488346382028371111"
     },
     "user_tz": -180
    },
    "id": "nsZgRb6gnf86"
   },
   "outputs": [],
   "source": [
    "model = BertForSequenceClassification.from_pretrained(model_path, \n",
    "                                                      num_labels = df.target.value_counts().shape[0])"
   ]
  },
  {
   "cell_type": "code",
   "execution_count": null,
   "id": "JHhv8la8ngAi",
   "metadata": {
    "executionInfo": {
     "elapsed": 19,
     "status": "ok",
     "timestamp": 1630700371811,
     "user": {
      "displayName": "Владимир Ахременко",
      "photoUrl": "",
      "userId": "12488346382028371111"
     },
     "user_tz": -180
    },
    "id": "JHhv8la8ngAi"
   },
   "outputs": [],
   "source": [
    "#dir(model)"
   ]
  },
  {
   "cell_type": "code",
   "execution_count": null,
   "id": "E9WHglC8oXk4",
   "metadata": {
    "executionInfo": {
     "elapsed": 19,
     "status": "ok",
     "timestamp": 1630700371812,
     "user": {
      "displayName": "Владимир Ахременко",
      "photoUrl": "",
      "userId": "12488346382028371111"
     },
     "user_tz": -180
    },
    "id": "E9WHglC8oXk4"
   },
   "outputs": [],
   "source": []
  },
  {
   "cell_type": "markdown",
   "id": "Z6Q5LMppO3Et",
   "metadata": {
    "id": "Z6Q5LMppO3Et"
   },
   "source": [
    "Данные для прогноза."
   ]
  },
  {
   "cell_type": "code",
   "execution_count": null,
   "id": "9d30e48e-01d6-44f3-99b1-0d4d7b39877b",
   "metadata": {
    "colab": {
     "base_uri": "https://localhost:8080/"
    },
    "executionInfo": {
     "elapsed": 19,
     "status": "ok",
     "timestamp": 1630700371812,
     "user": {
      "displayName": "Владимир Ахременко",
      "photoUrl": "",
      "userId": "12488346382028371111"
     },
     "user_tz": -180
    },
    "id": "9d30e48e-01d6-44f3-99b1-0d4d7b39877b",
    "outputId": "81af803b-491a-4b97-f2c7-cc461bd75ab8"
   },
   "outputs": [],
   "source": [
    "df_subm = pd.read_csv(os.path.join('./', 'products_sentiment_test.tsv'),\n",
    "                        index_col = None,\n",
    "                        sep = '\\t',\n",
    "                     )\n",
    "df_subm.shape"
   ]
  },
  {
   "cell_type": "code",
   "execution_count": null,
   "id": "gOvuNM-vOD-t",
   "metadata": {
    "executionInfo": {
     "elapsed": 15,
     "status": "ok",
     "timestamp": 1630700371813,
     "user": {
      "displayName": "Владимир Ахременко",
      "photoUrl": "",
      "userId": "12488346382028371111"
     },
     "user_tz": -180
    },
    "id": "gOvuNM-vOD-t"
   },
   "outputs": [],
   "source": [
    "df_subm['text_cl'] = df_subm.text.map(clean_text)"
   ]
  },
  {
   "cell_type": "code",
   "execution_count": null,
   "id": "z0jTESUcrAQx",
   "metadata": {
    "executionInfo": {
     "elapsed": 14,
     "status": "ok",
     "timestamp": 1630700371813,
     "user": {
      "displayName": "Владимир Ахременко",
      "photoUrl": "",
      "userId": "12488346382028371111"
     },
     "user_tz": -180
    },
    "id": "z0jTESUcrAQx"
   },
   "outputs": [],
   "source": [
    "max_length = 96"
   ]
  },
  {
   "cell_type": "code",
   "execution_count": null,
   "id": "dTkBuNdWB9rW",
   "metadata": {
    "executionInfo": {
     "elapsed": 14,
     "status": "ok",
     "timestamp": 1630700371813,
     "user": {
      "displayName": "Владимир Ахременко",
      "photoUrl": "",
      "userId": "12488346382028371111"
     },
     "user_tz": -180
    },
    "id": "dTkBuNdWB9rW"
   },
   "outputs": [],
   "source": [
    "#%%time\n",
    "#print(tt)\n",
    "#outputs = list()\n",
    "#for idx in range(5):\n",
    "#  print(idx)\n",
    "#  subm_tokens = tokenizer(list(df_subm['text_cl'].values[idx*100:(idx+1)*100]), \n",
    "#                        truncation=True, padding=True, max_length=max_length, \n",
    "#                        return_tensors=\"pt\"\n",
    "#                        )\n",
    "#  outputs.append(model(**subm_tokens))"
   ]
  },
  {
   "cell_type": "markdown",
   "id": "vRVIgoNaQPB2",
   "metadata": {
    "id": "vRVIgoNaQPB2"
   },
   "source": [
    "Подмассив задаем через idx = 0..4"
   ]
  },
  {
   "cell_type": "code",
   "execution_count": null,
   "id": "PCufTW8_NvoB",
   "metadata": {
    "colab": {
     "base_uri": "https://localhost:8080/"
    },
    "executionInfo": {
     "elapsed": 332,
     "status": "ok",
     "timestamp": 1630700536936,
     "user": {
      "displayName": "Владимир Ахременко",
      "photoUrl": "",
      "userId": "12488346382028371111"
     },
     "user_tz": -180
    },
    "id": "PCufTW8_NvoB",
    "outputId": "ff76f5a5-f4f4-4306-81e6-f23d014d2cdd"
   },
   "outputs": [],
   "source": [
    "%%time\n",
    "#idx = 0..4\n",
    "idx = 4\n",
    "subm_tokens = tokenizer(list(df_subm['text_cl'].values[idx*100:(idx + 1)*100]), \n",
    "                        truncation=True, padding=True, max_length=max_length, \n",
    "                        return_tensors=\"pt\"\n",
    "                        )"
   ]
  },
  {
   "cell_type": "code",
   "execution_count": null,
   "id": "9xk50vvfmmfa",
   "metadata": {
    "executionInfo": {
     "elapsed": 3,
     "status": "ok",
     "timestamp": 1630700537460,
     "user": {
      "displayName": "Владимир Ахременко",
      "photoUrl": "",
      "userId": "12488346382028371111"
     },
     "user_tz": -180
    },
    "id": "9xk50vvfmmfa"
   },
   "outputs": [],
   "source": [
    "#subm_tokens"
   ]
  },
  {
   "cell_type": "markdown",
   "id": "eR7p0pNrPQPf",
   "metadata": {
    "id": "eR7p0pNrPQPf"
   },
   "source": [
    "Предсказываем для выбранного подмассива. Переводим в вероятности. Выбираем класс по максимому."
   ]
  },
  {
   "cell_type": "code",
   "execution_count": null,
   "id": "CLZ39XfnOJth",
   "metadata": {
    "colab": {
     "base_uri": "https://localhost:8080/"
    },
    "executionInfo": {
     "elapsed": 58467,
     "status": "ok",
     "timestamp": 1630700595924,
     "user": {
      "displayName": "Владимир Ахременко",
      "photoUrl": "",
      "userId": "12488346382028371111"
     },
     "user_tz": -180
    },
    "id": "CLZ39XfnOJth",
    "outputId": "8c9c8eee-06ec-4101-a1eb-95a1780c3738"
   },
   "outputs": [],
   "source": [
    "%%time\n",
    "outp = model(**subm_tokens)"
   ]
  },
  {
   "cell_type": "code",
   "execution_count": null,
   "id": "TVpmtCVurNcV",
   "metadata": {
    "executionInfo": {
     "elapsed": 18,
     "status": "ok",
     "timestamp": 1630700595925,
     "user": {
      "displayName": "Владимир Ахременко",
      "photoUrl": "",
      "userId": "12488346382028371111"
     },
     "user_tz": -180
    },
    "id": "TVpmtCVurNcV"
   },
   "outputs": [],
   "source": [
    "#type(outp_p1)"
   ]
  },
  {
   "cell_type": "code",
   "execution_count": null,
   "id": "Q_Ko4d4fSyPw",
   "metadata": {
    "executionInfo": {
     "elapsed": 18,
     "status": "ok",
     "timestamp": 1630700595925,
     "user": {
      "displayName": "Владимир Ахременко",
      "photoUrl": "",
      "userId": "12488346382028371111"
     },
     "user_tz": -180
    },
    "id": "Q_Ko4d4fSyPw"
   },
   "outputs": [],
   "source": [
    "#outp"
   ]
  },
  {
   "cell_type": "code",
   "execution_count": null,
   "id": "RF3QHdJnGyg1",
   "metadata": {
    "executionInfo": {
     "elapsed": 17,
     "status": "ok",
     "timestamp": 1630700595925,
     "user": {
      "displayName": "Владимир Ахременко",
      "photoUrl": "",
      "userId": "12488346382028371111"
     },
     "user_tz": -180
    },
    "id": "RF3QHdJnGyg1"
   },
   "outputs": [],
   "source": [
    "outp = outp[0].softmax(1)"
   ]
  },
  {
   "cell_type": "markdown",
   "id": "T5osDJmzQhlA",
   "metadata": {
    "id": "T5osDJmzQhlA"
   },
   "source": [
    "Сохраняем не класс, а обе вероятности. На случай если будем настраивать порог."
   ]
  },
  {
   "cell_type": "code",
   "execution_count": null,
   "id": "plGInpW3Q6w5",
   "metadata": {
    "executionInfo": {
     "elapsed": 16,
     "status": "ok",
     "timestamp": 1630700595926,
     "user": {
      "displayName": "Владимир Ахременко",
      "photoUrl": "",
      "userId": "12488346382028371111"
     },
     "user_tz": -180
    },
    "id": "plGInpW3Q6w5"
   },
   "outputs": [],
   "source": [
    "with open(os.path.join('./', f'outp_p{idx}.pkl'), 'wb') as fd:\n",
    "    pkl.dump(outp, fd)"
   ]
  },
  {
   "cell_type": "code",
   "execution_count": null,
   "id": "NTtHa84BQc96",
   "metadata": {
    "executionInfo": {
     "elapsed": 15,
     "status": "ok",
     "timestamp": 1630700595926,
     "user": {
      "displayName": "Владимир Ахременко",
      "photoUrl": "",
      "userId": "12488346382028371111"
     },
     "user_tz": -180
    },
    "id": "NTtHa84BQc96"
   },
   "outputs": [],
   "source": [
    "#outp"
   ]
  },
  {
   "cell_type": "markdown",
   "id": "nBL_48u6RSB5",
   "metadata": {
    "id": "nBL_48u6RSB5"
   },
   "source": [
    "Загружаем все подготовленные веростности."
   ]
  },
  {
   "cell_type": "code",
   "execution_count": null,
   "id": "5an4DYI5ReEm",
   "metadata": {
    "executionInfo": {
     "elapsed": 334,
     "status": "ok",
     "timestamp": 1630700905753,
     "user": {
      "displayName": "Владимир Ахременко",
      "photoUrl": "",
      "userId": "12488346382028371111"
     },
     "user_tz": -180
    },
    "id": "5an4DYI5ReEm"
   },
   "outputs": [],
   "source": [
    "submit_y = list()\n",
    "for idx in range(5):\n",
    "    with open(os.path.join('./', f'outp_p{idx}.pkl'), 'rb') as fd:\n",
    "        outp = pkl.load(fd)\n",
    "  \n",
    "      submit_y += list(map(lambda x: x.argmax().item(), outp))"
   ]
  },
  {
   "cell_type": "code",
   "execution_count": null,
   "id": "PN52TExNVsaQ",
   "metadata": {
    "colab": {
     "base_uri": "https://localhost:8080/"
    },
    "executionInfo": {
     "elapsed": 7,
     "status": "ok",
     "timestamp": 1630700906952,
     "user": {
      "displayName": "Владимир Ахременко",
      "photoUrl": "",
      "userId": "12488346382028371111"
     },
     "user_tz": -180
    },
    "id": "PN52TExNVsaQ",
    "outputId": "d636ff8b-6e78-4307-93f1-1029f89d98e6"
   },
   "outputs": [],
   "source": [
    "len(submit_y)"
   ]
  },
  {
   "cell_type": "code",
   "execution_count": null,
   "id": "16pSYPZiFa42",
   "metadata": {
    "executionInfo": {
     "elapsed": 319,
     "status": "ok",
     "timestamp": 1630700911299,
     "user": {
      "displayName": "Владимир Ахременко",
      "photoUrl": "",
      "userId": "12488346382028371111"
     },
     "user_tz": -180
    },
    "id": "16pSYPZiFa42"
   },
   "outputs": [],
   "source": [
    "#outp_p1[0].softmax(1)[5].argmax().item()"
   ]
  },
  {
   "cell_type": "code",
   "execution_count": null,
   "id": "wb-lzPPOOmba",
   "metadata": {
    "colab": {
     "base_uri": "https://localhost:8080/"
    },
    "executionInfo": {
     "elapsed": 436,
     "status": "ok",
     "timestamp": 1630700916653,
     "user": {
      "displayName": "Владимир Ахременко",
      "photoUrl": "",
      "userId": "12488346382028371111"
     },
     "user_tz": -180
    },
    "id": "wb-lzPPOOmba",
    "outputId": "21424376-46a7-4d26-f616-cbc9be712937"
   },
   "outputs": [],
   "source": [
    "subm = pd.read_csv(os.path.join('./', 'products_sentiment_sample_submission.csv'))\n",
    "subm.shape"
   ]
  },
  {
   "cell_type": "code",
   "execution_count": null,
   "id": "_zyEwg0yspPO",
   "metadata": {
    "executionInfo": {
     "elapsed": 333,
     "status": "ok",
     "timestamp": 1630700935053,
     "user": {
      "displayName": "Владимир Ахременко",
      "photoUrl": "",
      "userId": "12488346382028371111"
     },
     "user_tz": -180
    },
    "id": "_zyEwg0yspPO"
   },
   "outputs": [],
   "source": [
    "subm.y = submit_y"
   ]
  },
  {
   "cell_type": "code",
   "execution_count": null,
   "id": "63-fjY_LOuRp",
   "metadata": {
    "executionInfo": {
     "elapsed": 369,
     "status": "ok",
     "timestamp": 1630701082010,
     "user": {
      "displayName": "Владимир Ахременко",
      "photoUrl": "",
      "userId": "12488346382028371111"
     },
     "user_tz": -180
    },
    "id": "63-fjY_LOuRp"
   },
   "outputs": [],
   "source": [
    "subm.to_csv(os.path.join('./', 'bert_base_cased.csv'), index = False)"
   ]
  },
  {
   "cell_type": "code",
   "execution_count": null,
   "id": "Wax25HDQqh0Q",
   "metadata": {
    "colab": {
     "base_uri": "https://localhost:8080/"
    },
    "executionInfo": {
     "elapsed": 408,
     "status": "ok",
     "timestamp": 1630701085515,
     "user": {
      "displayName": "Владимир Ахременко",
      "photoUrl": "",
      "userId": "12488346382028371111"
     },
     "user_tz": -180
    },
    "id": "Wax25HDQqh0Q",
    "outputId": "25492957-7945-4dcb-9db4-75736876bc91"
   },
   "outputs": [],
   "source": [
    "!ls"
   ]
  },
  {
   "cell_type": "code",
   "execution_count": null,
   "id": "1Vvzg41-r1kV",
   "metadata": {
    "executionInfo": {
     "elapsed": 373,
     "status": "ok",
     "timestamp": 1630701137623,
     "user": {
      "displayName": "Владимир Ахременко",
      "photoUrl": "",
      "userId": "12488346382028371111"
     },
     "user_tz": -180
    },
    "id": "1Vvzg41-r1kV"
   },
   "outputs": [],
   "source": []
  },
  {
   "cell_type": "code",
   "execution_count": null,
   "id": "lLu9hKcLXLUc",
   "metadata": {
    "id": "lLu9hKcLXLUc"
   },
   "outputs": [],
   "source": []
  },
  {
   "cell_type": "code",
   "execution_count": null,
   "id": "wYA3894cXLXn",
   "metadata": {
    "colab": {
     "base_uri": "https://localhost:8080/",
     "height": 17
    },
    "executionInfo": {
     "elapsed": 340,
     "status": "ok",
     "timestamp": 1630701150061,
     "user": {
      "displayName": "Владимир Ахременко",
      "photoUrl": "",
      "userId": "12488346382028371111"
     },
     "user_tz": -180
    },
    "id": "wYA3894cXLXn",
    "outputId": "9ec598a7-dbe8-41f5-b6cc-9c233a1b6a2b"
   },
   "outputs": [],
   "source": [
    "from google.colab import files\n",
    "files.download('bert_base_cased.csv') "
   ]
  },
  {
   "cell_type": "markdown",
   "id": "89213b69-58bb-4cca-8254-3d556a83c6c1",
   "metadata": {
    "id": "wKoo-5NoXNxR"
   },
   "source": [
    "pb 0.85111"
   ]
  },
  {
   "cell_type": "code",
   "execution_count": null,
   "id": "c17581b5-287a-48fa-9df0-6823d191cd98",
   "metadata": {},
   "outputs": [],
   "source": []
  }
 ],
 "metadata": {
  "colab": {
   "collapsed_sections": [],
   "name": "w3_tonality_AVV.ipynb",
   "provenance": []
  },
  "kernelspec": {
   "display_name": "Python 3",
   "language": "python",
   "name": "python3"
  },
  "language_info": {
   "codemirror_mode": {
    "name": "ipython",
    "version": 3
   },
   "file_extension": ".py",
   "mimetype": "text/x-python",
   "name": "python",
   "nbconvert_exporter": "python",
   "pygments_lexer": "ipython3",
   "version": "3.7.10"
  },
  "widgets": {
   "application/vnd.jupyter.widget-state+json": {
    "033cb980d8304c4ba66607f52ab5a75b": {
     "model_module": "@jupyter-widgets/controls",
     "model_module_version": "1.5.0",
     "model_name": "HBoxModel",
     "state": {
      "_dom_classes": [],
      "_model_module": "@jupyter-widgets/controls",
      "_model_module_version": "1.5.0",
      "_model_name": "HBoxModel",
      "_view_count": null,
      "_view_module": "@jupyter-widgets/controls",
      "_view_module_version": "1.5.0",
      "_view_name": "HBoxView",
      "box_style": "",
      "children": [
       "IPY_MODEL_d89858254e984a07a039a4b31167c8fd",
       "IPY_MODEL_5f6491133d134579a8813d5dfd6df411",
       "IPY_MODEL_9d0b0d5499e4467587dd9e4b331f794e"
      ],
      "layout": "IPY_MODEL_2c8d59c770064fa8b2a212208e89ffb6"
     }
    },
    "0c9d0e0582d84e02a1b9fffcdc7c4b7c": {
     "model_module": "@jupyter-widgets/controls",
     "model_module_version": "1.5.0",
     "model_name": "ProgressStyleModel",
     "state": {
      "_model_module": "@jupyter-widgets/controls",
      "_model_module_version": "1.5.0",
      "_model_name": "ProgressStyleModel",
      "_view_count": null,
      "_view_module": "@jupyter-widgets/base",
      "_view_module_version": "1.2.0",
      "_view_name": "StyleView",
      "bar_color": null,
      "description_width": ""
     }
    },
    "0f53ca31dfdf457889eb3c5312e68bde": {
     "model_module": "@jupyter-widgets/controls",
     "model_module_version": "1.5.0",
     "model_name": "DescriptionStyleModel",
     "state": {
      "_model_module": "@jupyter-widgets/controls",
      "_model_module_version": "1.5.0",
      "_model_name": "DescriptionStyleModel",
      "_view_count": null,
      "_view_module": "@jupyter-widgets/base",
      "_view_module_version": "1.2.0",
      "_view_name": "StyleView",
      "description_width": ""
     }
    },
    "1c4e30c4888f4bb68eeeaee5e43d247b": {
     "model_module": "@jupyter-widgets/base",
     "model_module_version": "1.2.0",
     "model_name": "LayoutModel",
     "state": {
      "_model_module": "@jupyter-widgets/base",
      "_model_module_version": "1.2.0",
      "_model_name": "LayoutModel",
      "_view_count": null,
      "_view_module": "@jupyter-widgets/base",
      "_view_module_version": "1.2.0",
      "_view_name": "LayoutView",
      "align_content": null,
      "align_items": null,
      "align_self": null,
      "border": null,
      "bottom": null,
      "display": null,
      "flex": null,
      "flex_flow": null,
      "grid_area": null,
      "grid_auto_columns": null,
      "grid_auto_flow": null,
      "grid_auto_rows": null,
      "grid_column": null,
      "grid_gap": null,
      "grid_row": null,
      "grid_template_areas": null,
      "grid_template_columns": null,
      "grid_template_rows": null,
      "height": null,
      "justify_content": null,
      "justify_items": null,
      "left": null,
      "margin": null,
      "max_height": null,
      "max_width": null,
      "min_height": null,
      "min_width": null,
      "object_fit": null,
      "object_position": null,
      "order": null,
      "overflow": null,
      "overflow_x": null,
      "overflow_y": null,
      "padding": null,
      "right": null,
      "top": null,
      "visibility": null,
      "width": null
     }
    },
    "248f86fa26194b0cb8ae12c82ca8d0d6": {
     "model_module": "@jupyter-widgets/base",
     "model_module_version": "1.2.0",
     "model_name": "LayoutModel",
     "state": {
      "_model_module": "@jupyter-widgets/base",
      "_model_module_version": "1.2.0",
      "_model_name": "LayoutModel",
      "_view_count": null,
      "_view_module": "@jupyter-widgets/base",
      "_view_module_version": "1.2.0",
      "_view_name": "LayoutView",
      "align_content": null,
      "align_items": null,
      "align_self": null,
      "border": null,
      "bottom": null,
      "display": null,
      "flex": null,
      "flex_flow": null,
      "grid_area": null,
      "grid_auto_columns": null,
      "grid_auto_flow": null,
      "grid_auto_rows": null,
      "grid_column": null,
      "grid_gap": null,
      "grid_row": null,
      "grid_template_areas": null,
      "grid_template_columns": null,
      "grid_template_rows": null,
      "height": null,
      "justify_content": null,
      "justify_items": null,
      "left": null,
      "margin": null,
      "max_height": null,
      "max_width": null,
      "min_height": null,
      "min_width": null,
      "object_fit": null,
      "object_position": null,
      "order": null,
      "overflow": null,
      "overflow_x": null,
      "overflow_y": null,
      "padding": null,
      "right": null,
      "top": null,
      "visibility": null,
      "width": null
     }
    },
    "2ab7476edbf04de884145a168f3efe90": {
     "model_module": "@jupyter-widgets/controls",
     "model_module_version": "1.5.0",
     "model_name": "HBoxModel",
     "state": {
      "_dom_classes": [],
      "_model_module": "@jupyter-widgets/controls",
      "_model_module_version": "1.5.0",
      "_model_name": "HBoxModel",
      "_view_count": null,
      "_view_module": "@jupyter-widgets/controls",
      "_view_module_version": "1.5.0",
      "_view_name": "HBoxView",
      "box_style": "",
      "children": [
       "IPY_MODEL_522c2212837a4ee5b23a23519f2e65b0",
       "IPY_MODEL_5c5acf11d972454fb18321c663a890fe",
       "IPY_MODEL_8657b051084d4312b4e5787a8bdafcd9"
      ],
      "layout": "IPY_MODEL_8168aff315694df9b0b9d044cdeb635f"
     }
    },
    "2c8d59c770064fa8b2a212208e89ffb6": {
     "model_module": "@jupyter-widgets/base",
     "model_module_version": "1.2.0",
     "model_name": "LayoutModel",
     "state": {
      "_model_module": "@jupyter-widgets/base",
      "_model_module_version": "1.2.0",
      "_model_name": "LayoutModel",
      "_view_count": null,
      "_view_module": "@jupyter-widgets/base",
      "_view_module_version": "1.2.0",
      "_view_name": "LayoutView",
      "align_content": null,
      "align_items": null,
      "align_self": null,
      "border": null,
      "bottom": null,
      "display": null,
      "flex": null,
      "flex_flow": null,
      "grid_area": null,
      "grid_auto_columns": null,
      "grid_auto_flow": null,
      "grid_auto_rows": null,
      "grid_column": null,
      "grid_gap": null,
      "grid_row": null,
      "grid_template_areas": null,
      "grid_template_columns": null,
      "grid_template_rows": null,
      "height": null,
      "justify_content": null,
      "justify_items": null,
      "left": null,
      "margin": null,
      "max_height": null,
      "max_width": null,
      "min_height": null,
      "min_width": null,
      "object_fit": null,
      "object_position": null,
      "order": null,
      "overflow": null,
      "overflow_x": null,
      "overflow_y": null,
      "padding": null,
      "right": null,
      "top": null,
      "visibility": null,
      "width": null
     }
    },
    "315d38ac385c44fcbf8e84a6e7a7df2d": {
     "model_module": "@jupyter-widgets/controls",
     "model_module_version": "1.5.0",
     "model_name": "HBoxModel",
     "state": {
      "_dom_classes": [],
      "_model_module": "@jupyter-widgets/controls",
      "_model_module_version": "1.5.0",
      "_model_name": "HBoxModel",
      "_view_count": null,
      "_view_module": "@jupyter-widgets/controls",
      "_view_module_version": "1.5.0",
      "_view_name": "HBoxView",
      "box_style": "",
      "children": [
       "IPY_MODEL_6b71e15181e64d5d9d58fec3a6806314",
       "IPY_MODEL_c0a55e4e8054433b926ee64c445fdc62",
       "IPY_MODEL_c2a9dfa438f044a487a3fec6d1d320d4"
      ],
      "layout": "IPY_MODEL_94356085d4184dc292afe006f8a1895f"
     }
    },
    "34ccb8b8f0994c1cab8705a8f533bf75": {
     "model_module": "@jupyter-widgets/base",
     "model_module_version": "1.2.0",
     "model_name": "LayoutModel",
     "state": {
      "_model_module": "@jupyter-widgets/base",
      "_model_module_version": "1.2.0",
      "_model_name": "LayoutModel",
      "_view_count": null,
      "_view_module": "@jupyter-widgets/base",
      "_view_module_version": "1.2.0",
      "_view_name": "LayoutView",
      "align_content": null,
      "align_items": null,
      "align_self": null,
      "border": null,
      "bottom": null,
      "display": null,
      "flex": null,
      "flex_flow": null,
      "grid_area": null,
      "grid_auto_columns": null,
      "grid_auto_flow": null,
      "grid_auto_rows": null,
      "grid_column": null,
      "grid_gap": null,
      "grid_row": null,
      "grid_template_areas": null,
      "grid_template_columns": null,
      "grid_template_rows": null,
      "height": null,
      "justify_content": null,
      "justify_items": null,
      "left": null,
      "margin": null,
      "max_height": null,
      "max_width": null,
      "min_height": null,
      "min_width": null,
      "object_fit": null,
      "object_position": null,
      "order": null,
      "overflow": null,
      "overflow_x": null,
      "overflow_y": null,
      "padding": null,
      "right": null,
      "top": null,
      "visibility": null,
      "width": null
     }
    },
    "3779e68151d04bdd83fae7cf3ba56f23": {
     "model_module": "@jupyter-widgets/base",
     "model_module_version": "1.2.0",
     "model_name": "LayoutModel",
     "state": {
      "_model_module": "@jupyter-widgets/base",
      "_model_module_version": "1.2.0",
      "_model_name": "LayoutModel",
      "_view_count": null,
      "_view_module": "@jupyter-widgets/base",
      "_view_module_version": "1.2.0",
      "_view_name": "LayoutView",
      "align_content": null,
      "align_items": null,
      "align_self": null,
      "border": null,
      "bottom": null,
      "display": null,
      "flex": null,
      "flex_flow": null,
      "grid_area": null,
      "grid_auto_columns": null,
      "grid_auto_flow": null,
      "grid_auto_rows": null,
      "grid_column": null,
      "grid_gap": null,
      "grid_row": null,
      "grid_template_areas": null,
      "grid_template_columns": null,
      "grid_template_rows": null,
      "height": null,
      "justify_content": null,
      "justify_items": null,
      "left": null,
      "margin": null,
      "max_height": null,
      "max_width": null,
      "min_height": null,
      "min_width": null,
      "object_fit": null,
      "object_position": null,
      "order": null,
      "overflow": null,
      "overflow_x": null,
      "overflow_y": null,
      "padding": null,
      "right": null,
      "top": null,
      "visibility": null,
      "width": null
     }
    },
    "3ca01753c2b949b79f978a7671386d65": {
     "model_module": "@jupyter-widgets/base",
     "model_module_version": "1.2.0",
     "model_name": "LayoutModel",
     "state": {
      "_model_module": "@jupyter-widgets/base",
      "_model_module_version": "1.2.0",
      "_model_name": "LayoutModel",
      "_view_count": null,
      "_view_module": "@jupyter-widgets/base",
      "_view_module_version": "1.2.0",
      "_view_name": "LayoutView",
      "align_content": null,
      "align_items": null,
      "align_self": null,
      "border": null,
      "bottom": null,
      "display": null,
      "flex": null,
      "flex_flow": null,
      "grid_area": null,
      "grid_auto_columns": null,
      "grid_auto_flow": null,
      "grid_auto_rows": null,
      "grid_column": null,
      "grid_gap": null,
      "grid_row": null,
      "grid_template_areas": null,
      "grid_template_columns": null,
      "grid_template_rows": null,
      "height": null,
      "justify_content": null,
      "justify_items": null,
      "left": null,
      "margin": null,
      "max_height": null,
      "max_width": null,
      "min_height": null,
      "min_width": null,
      "object_fit": null,
      "object_position": null,
      "order": null,
      "overflow": null,
      "overflow_x": null,
      "overflow_y": null,
      "padding": null,
      "right": null,
      "top": null,
      "visibility": null,
      "width": null
     }
    },
    "3e1389a2eb6246bfb6d6e9e0096c326b": {
     "model_module": "@jupyter-widgets/controls",
     "model_module_version": "1.5.0",
     "model_name": "FloatProgressModel",
     "state": {
      "_dom_classes": [],
      "_model_module": "@jupyter-widgets/controls",
      "_model_module_version": "1.5.0",
      "_model_name": "FloatProgressModel",
      "_view_count": null,
      "_view_module": "@jupyter-widgets/controls",
      "_view_module_version": "1.5.0",
      "_view_name": "ProgressView",
      "bar_style": "success",
      "description": "",
      "description_tooltip": null,
      "layout": "IPY_MODEL_34ccb8b8f0994c1cab8705a8f533bf75",
      "max": 29,
      "min": 0,
      "orientation": "horizontal",
      "style": "IPY_MODEL_9bcae312acc44a4590cd3743c5fb141f",
      "value": 29
     }
    },
    "3e4b464f03c9471bb71390e11d2781e1": {
     "model_module": "@jupyter-widgets/controls",
     "model_module_version": "1.5.0",
     "model_name": "HTMLModel",
     "state": {
      "_dom_classes": [],
      "_model_module": "@jupyter-widgets/controls",
      "_model_module_version": "1.5.0",
      "_model_name": "HTMLModel",
      "_view_count": null,
      "_view_module": "@jupyter-widgets/controls",
      "_view_module_version": "1.5.0",
      "_view_name": "HTMLView",
      "description": "",
      "description_tooltip": null,
      "layout": "IPY_MODEL_ebef23a3d86e4a71a60a6e565d7406b2",
      "placeholder": "​",
      "style": "IPY_MODEL_0f53ca31dfdf457889eb3c5312e68bde",
      "value": " 29.0/29.0 [00:00&lt;00:00, 817B/s]"
     }
    },
    "48e2e3a744a6453fbc67df1e07b21b65": {
     "model_module": "@jupyter-widgets/base",
     "model_module_version": "1.2.0",
     "model_name": "LayoutModel",
     "state": {
      "_model_module": "@jupyter-widgets/base",
      "_model_module_version": "1.2.0",
      "_model_name": "LayoutModel",
      "_view_count": null,
      "_view_module": "@jupyter-widgets/base",
      "_view_module_version": "1.2.0",
      "_view_name": "LayoutView",
      "align_content": null,
      "align_items": null,
      "align_self": null,
      "border": null,
      "bottom": null,
      "display": null,
      "flex": null,
      "flex_flow": null,
      "grid_area": null,
      "grid_auto_columns": null,
      "grid_auto_flow": null,
      "grid_auto_rows": null,
      "grid_column": null,
      "grid_gap": null,
      "grid_row": null,
      "grid_template_areas": null,
      "grid_template_columns": null,
      "grid_template_rows": null,
      "height": null,
      "justify_content": null,
      "justify_items": null,
      "left": null,
      "margin": null,
      "max_height": null,
      "max_width": null,
      "min_height": null,
      "min_width": null,
      "object_fit": null,
      "object_position": null,
      "order": null,
      "overflow": null,
      "overflow_x": null,
      "overflow_y": null,
      "padding": null,
      "right": null,
      "top": null,
      "visibility": null,
      "width": null
     }
    },
    "4a6e03efef8e489da34d5008f4b06b04": {
     "model_module": "@jupyter-widgets/base",
     "model_module_version": "1.2.0",
     "model_name": "LayoutModel",
     "state": {
      "_model_module": "@jupyter-widgets/base",
      "_model_module_version": "1.2.0",
      "_model_name": "LayoutModel",
      "_view_count": null,
      "_view_module": "@jupyter-widgets/base",
      "_view_module_version": "1.2.0",
      "_view_name": "LayoutView",
      "align_content": null,
      "align_items": null,
      "align_self": null,
      "border": null,
      "bottom": null,
      "display": null,
      "flex": null,
      "flex_flow": null,
      "grid_area": null,
      "grid_auto_columns": null,
      "grid_auto_flow": null,
      "grid_auto_rows": null,
      "grid_column": null,
      "grid_gap": null,
      "grid_row": null,
      "grid_template_areas": null,
      "grid_template_columns": null,
      "grid_template_rows": null,
      "height": null,
      "justify_content": null,
      "justify_items": null,
      "left": null,
      "margin": null,
      "max_height": null,
      "max_width": null,
      "min_height": null,
      "min_width": null,
      "object_fit": null,
      "object_position": null,
      "order": null,
      "overflow": null,
      "overflow_x": null,
      "overflow_y": null,
      "padding": null,
      "right": null,
      "top": null,
      "visibility": null,
      "width": null
     }
    },
    "4ad8ca7a9d774cfba399dd4f3d74d895": {
     "model_module": "@jupyter-widgets/controls",
     "model_module_version": "1.5.0",
     "model_name": "DescriptionStyleModel",
     "state": {
      "_model_module": "@jupyter-widgets/controls",
      "_model_module_version": "1.5.0",
      "_model_name": "DescriptionStyleModel",
      "_view_count": null,
      "_view_module": "@jupyter-widgets/base",
      "_view_module_version": "1.2.0",
      "_view_name": "StyleView",
      "description_width": ""
     }
    },
    "4af817f7570f4232834bca7d6cb1143a": {
     "model_module": "@jupyter-widgets/base",
     "model_module_version": "1.2.0",
     "model_name": "LayoutModel",
     "state": {
      "_model_module": "@jupyter-widgets/base",
      "_model_module_version": "1.2.0",
      "_model_name": "LayoutModel",
      "_view_count": null,
      "_view_module": "@jupyter-widgets/base",
      "_view_module_version": "1.2.0",
      "_view_name": "LayoutView",
      "align_content": null,
      "align_items": null,
      "align_self": null,
      "border": null,
      "bottom": null,
      "display": null,
      "flex": null,
      "flex_flow": null,
      "grid_area": null,
      "grid_auto_columns": null,
      "grid_auto_flow": null,
      "grid_auto_rows": null,
      "grid_column": null,
      "grid_gap": null,
      "grid_row": null,
      "grid_template_areas": null,
      "grid_template_columns": null,
      "grid_template_rows": null,
      "height": null,
      "justify_content": null,
      "justify_items": null,
      "left": null,
      "margin": null,
      "max_height": null,
      "max_width": null,
      "min_height": null,
      "min_width": null,
      "object_fit": null,
      "object_position": null,
      "order": null,
      "overflow": null,
      "overflow_x": null,
      "overflow_y": null,
      "padding": null,
      "right": null,
      "top": null,
      "visibility": null,
      "width": null
     }
    },
    "522c2212837a4ee5b23a23519f2e65b0": {
     "model_module": "@jupyter-widgets/controls",
     "model_module_version": "1.5.0",
     "model_name": "HTMLModel",
     "state": {
      "_dom_classes": [],
      "_model_module": "@jupyter-widgets/controls",
      "_model_module_version": "1.5.0",
      "_model_name": "HTMLModel",
      "_view_count": null,
      "_view_module": "@jupyter-widgets/controls",
      "_view_module_version": "1.5.0",
      "_view_name": "HTMLView",
      "description": "",
      "description_tooltip": null,
      "layout": "IPY_MODEL_5d8682dbe09a4f2b98bd6ddc1ca69652",
      "placeholder": "​",
      "style": "IPY_MODEL_eb41da741fbc4563a5e62fbcb35bc198",
      "value": "Downloading: 100%"
     }
    },
    "5c5acf11d972454fb18321c663a890fe": {
     "model_module": "@jupyter-widgets/controls",
     "model_module_version": "1.5.0",
     "model_name": "FloatProgressModel",
     "state": {
      "_dom_classes": [],
      "_model_module": "@jupyter-widgets/controls",
      "_model_module_version": "1.5.0",
      "_model_name": "FloatProgressModel",
      "_view_count": null,
      "_view_module": "@jupyter-widgets/controls",
      "_view_module_version": "1.5.0",
      "_view_name": "ProgressView",
      "bar_style": "success",
      "description": "",
      "description_tooltip": null,
      "layout": "IPY_MODEL_7bc30838112248889371787047c16420",
      "max": 435779157,
      "min": 0,
      "orientation": "horizontal",
      "style": "IPY_MODEL_0c9d0e0582d84e02a1b9fffcdc7c4b7c",
      "value": 435779157
     }
    },
    "5d8682dbe09a4f2b98bd6ddc1ca69652": {
     "model_module": "@jupyter-widgets/base",
     "model_module_version": "1.2.0",
     "model_name": "LayoutModel",
     "state": {
      "_model_module": "@jupyter-widgets/base",
      "_model_module_version": "1.2.0",
      "_model_name": "LayoutModel",
      "_view_count": null,
      "_view_module": "@jupyter-widgets/base",
      "_view_module_version": "1.2.0",
      "_view_name": "LayoutView",
      "align_content": null,
      "align_items": null,
      "align_self": null,
      "border": null,
      "bottom": null,
      "display": null,
      "flex": null,
      "flex_flow": null,
      "grid_area": null,
      "grid_auto_columns": null,
      "grid_auto_flow": null,
      "grid_auto_rows": null,
      "grid_column": null,
      "grid_gap": null,
      "grid_row": null,
      "grid_template_areas": null,
      "grid_template_columns": null,
      "grid_template_rows": null,
      "height": null,
      "justify_content": null,
      "justify_items": null,
      "left": null,
      "margin": null,
      "max_height": null,
      "max_width": null,
      "min_height": null,
      "min_width": null,
      "object_fit": null,
      "object_position": null,
      "order": null,
      "overflow": null,
      "overflow_x": null,
      "overflow_y": null,
      "padding": null,
      "right": null,
      "top": null,
      "visibility": null,
      "width": null
     }
    },
    "5e65c9758f4148d1ba983310b41e4b32": {
     "model_module": "@jupyter-widgets/controls",
     "model_module_version": "1.5.0",
     "model_name": "DescriptionStyleModel",
     "state": {
      "_model_module": "@jupyter-widgets/controls",
      "_model_module_version": "1.5.0",
      "_model_name": "DescriptionStyleModel",
      "_view_count": null,
      "_view_module": "@jupyter-widgets/base",
      "_view_module_version": "1.2.0",
      "_view_name": "StyleView",
      "description_width": ""
     }
    },
    "5f6491133d134579a8813d5dfd6df411": {
     "model_module": "@jupyter-widgets/controls",
     "model_module_version": "1.5.0",
     "model_name": "FloatProgressModel",
     "state": {
      "_dom_classes": [],
      "_model_module": "@jupyter-widgets/controls",
      "_model_module_version": "1.5.0",
      "_model_name": "FloatProgressModel",
      "_view_count": null,
      "_view_module": "@jupyter-widgets/controls",
      "_view_module_version": "1.5.0",
      "_view_name": "ProgressView",
      "bar_style": "success",
      "description": "",
      "description_tooltip": null,
      "layout": "IPY_MODEL_248f86fa26194b0cb8ae12c82ca8d0d6",
      "max": 435797,
      "min": 0,
      "orientation": "horizontal",
      "style": "IPY_MODEL_8e82841bbc3242c0bbf20c9891e659bb",
      "value": 435797
     }
    },
    "6b71e15181e64d5d9d58fec3a6806314": {
     "model_module": "@jupyter-widgets/controls",
     "model_module_version": "1.5.0",
     "model_name": "HTMLModel",
     "state": {
      "_dom_classes": [],
      "_model_module": "@jupyter-widgets/controls",
      "_model_module_version": "1.5.0",
      "_model_name": "HTMLModel",
      "_view_count": null,
      "_view_module": "@jupyter-widgets/controls",
      "_view_module_version": "1.5.0",
      "_view_name": "HTMLView",
      "description": "",
      "description_tooltip": null,
      "layout": "IPY_MODEL_48e2e3a744a6453fbc67df1e07b21b65",
      "placeholder": "​",
      "style": "IPY_MODEL_a71d3bc65eb34f158cad31383bae20c4",
      "value": "Downloading: 100%"
     }
    },
    "6b8ac93c2c874e08b44b538258592e9c": {
     "model_module": "@jupyter-widgets/controls",
     "model_module_version": "1.5.0",
     "model_name": "DescriptionStyleModel",
     "state": {
      "_model_module": "@jupyter-widgets/controls",
      "_model_module_version": "1.5.0",
      "_model_name": "DescriptionStyleModel",
      "_view_count": null,
      "_view_module": "@jupyter-widgets/base",
      "_view_module_version": "1.2.0",
      "_view_name": "StyleView",
      "description_width": ""
     }
    },
    "7bc30838112248889371787047c16420": {
     "model_module": "@jupyter-widgets/base",
     "model_module_version": "1.2.0",
     "model_name": "LayoutModel",
     "state": {
      "_model_module": "@jupyter-widgets/base",
      "_model_module_version": "1.2.0",
      "_model_name": "LayoutModel",
      "_view_count": null,
      "_view_module": "@jupyter-widgets/base",
      "_view_module_version": "1.2.0",
      "_view_name": "LayoutView",
      "align_content": null,
      "align_items": null,
      "align_self": null,
      "border": null,
      "bottom": null,
      "display": null,
      "flex": null,
      "flex_flow": null,
      "grid_area": null,
      "grid_auto_columns": null,
      "grid_auto_flow": null,
      "grid_auto_rows": null,
      "grid_column": null,
      "grid_gap": null,
      "grid_row": null,
      "grid_template_areas": null,
      "grid_template_columns": null,
      "grid_template_rows": null,
      "height": null,
      "justify_content": null,
      "justify_items": null,
      "left": null,
      "margin": null,
      "max_height": null,
      "max_width": null,
      "min_height": null,
      "min_width": null,
      "object_fit": null,
      "object_position": null,
      "order": null,
      "overflow": null,
      "overflow_x": null,
      "overflow_y": null,
      "padding": null,
      "right": null,
      "top": null,
      "visibility": null,
      "width": null
     }
    },
    "7c2d14680c914acdbfca74fd1e1f52ab": {
     "model_module": "@jupyter-widgets/base",
     "model_module_version": "1.2.0",
     "model_name": "LayoutModel",
     "state": {
      "_model_module": "@jupyter-widgets/base",
      "_model_module_version": "1.2.0",
      "_model_name": "LayoutModel",
      "_view_count": null,
      "_view_module": "@jupyter-widgets/base",
      "_view_module_version": "1.2.0",
      "_view_name": "LayoutView",
      "align_content": null,
      "align_items": null,
      "align_self": null,
      "border": null,
      "bottom": null,
      "display": null,
      "flex": null,
      "flex_flow": null,
      "grid_area": null,
      "grid_auto_columns": null,
      "grid_auto_flow": null,
      "grid_auto_rows": null,
      "grid_column": null,
      "grid_gap": null,
      "grid_row": null,
      "grid_template_areas": null,
      "grid_template_columns": null,
      "grid_template_rows": null,
      "height": null,
      "justify_content": null,
      "justify_items": null,
      "left": null,
      "margin": null,
      "max_height": null,
      "max_width": null,
      "min_height": null,
      "min_width": null,
      "object_fit": null,
      "object_position": null,
      "order": null,
      "overflow": null,
      "overflow_x": null,
      "overflow_y": null,
      "padding": null,
      "right": null,
      "top": null,
      "visibility": null,
      "width": null
     }
    },
    "8168aff315694df9b0b9d044cdeb635f": {
     "model_module": "@jupyter-widgets/base",
     "model_module_version": "1.2.0",
     "model_name": "LayoutModel",
     "state": {
      "_model_module": "@jupyter-widgets/base",
      "_model_module_version": "1.2.0",
      "_model_name": "LayoutModel",
      "_view_count": null,
      "_view_module": "@jupyter-widgets/base",
      "_view_module_version": "1.2.0",
      "_view_name": "LayoutView",
      "align_content": null,
      "align_items": null,
      "align_self": null,
      "border": null,
      "bottom": null,
      "display": null,
      "flex": null,
      "flex_flow": null,
      "grid_area": null,
      "grid_auto_columns": null,
      "grid_auto_flow": null,
      "grid_auto_rows": null,
      "grid_column": null,
      "grid_gap": null,
      "grid_row": null,
      "grid_template_areas": null,
      "grid_template_columns": null,
      "grid_template_rows": null,
      "height": null,
      "justify_content": null,
      "justify_items": null,
      "left": null,
      "margin": null,
      "max_height": null,
      "max_width": null,
      "min_height": null,
      "min_width": null,
      "object_fit": null,
      "object_position": null,
      "order": null,
      "overflow": null,
      "overflow_x": null,
      "overflow_y": null,
      "padding": null,
      "right": null,
      "top": null,
      "visibility": null,
      "width": null
     }
    },
    "847ec45c58fa4fc1882e6f318670a9c3": {
     "model_module": "@jupyter-widgets/base",
     "model_module_version": "1.2.0",
     "model_name": "LayoutModel",
     "state": {
      "_model_module": "@jupyter-widgets/base",
      "_model_module_version": "1.2.0",
      "_model_name": "LayoutModel",
      "_view_count": null,
      "_view_module": "@jupyter-widgets/base",
      "_view_module_version": "1.2.0",
      "_view_name": "LayoutView",
      "align_content": null,
      "align_items": null,
      "align_self": null,
      "border": null,
      "bottom": null,
      "display": null,
      "flex": null,
      "flex_flow": null,
      "grid_area": null,
      "grid_auto_columns": null,
      "grid_auto_flow": null,
      "grid_auto_rows": null,
      "grid_column": null,
      "grid_gap": null,
      "grid_row": null,
      "grid_template_areas": null,
      "grid_template_columns": null,
      "grid_template_rows": null,
      "height": null,
      "justify_content": null,
      "justify_items": null,
      "left": null,
      "margin": null,
      "max_height": null,
      "max_width": null,
      "min_height": null,
      "min_width": null,
      "object_fit": null,
      "object_position": null,
      "order": null,
      "overflow": null,
      "overflow_x": null,
      "overflow_y": null,
      "padding": null,
      "right": null,
      "top": null,
      "visibility": null,
      "width": null
     }
    },
    "8657b051084d4312b4e5787a8bdafcd9": {
     "model_module": "@jupyter-widgets/controls",
     "model_module_version": "1.5.0",
     "model_name": "HTMLModel",
     "state": {
      "_dom_classes": [],
      "_model_module": "@jupyter-widgets/controls",
      "_model_module_version": "1.5.0",
      "_model_name": "HTMLModel",
      "_view_count": null,
      "_view_module": "@jupyter-widgets/controls",
      "_view_module_version": "1.5.0",
      "_view_name": "HTMLView",
      "description": "",
      "description_tooltip": null,
      "layout": "IPY_MODEL_4a6e03efef8e489da34d5008f4b06b04",
      "placeholder": "​",
      "style": "IPY_MODEL_aee2354b9c74496fb5a0b99c6d570fd2",
      "value": " 436M/436M [00:09&lt;00:00, 45.8MB/s]"
     }
    },
    "8e82841bbc3242c0bbf20c9891e659bb": {
     "model_module": "@jupyter-widgets/controls",
     "model_module_version": "1.5.0",
     "model_name": "ProgressStyleModel",
     "state": {
      "_model_module": "@jupyter-widgets/controls",
      "_model_module_version": "1.5.0",
      "_model_name": "ProgressStyleModel",
      "_view_count": null,
      "_view_module": "@jupyter-widgets/base",
      "_view_module_version": "1.2.0",
      "_view_name": "StyleView",
      "bar_color": null,
      "description_width": ""
     }
    },
    "8fd6167d440d47e3acd1fd5df2f49b58": {
     "model_module": "@jupyter-widgets/base",
     "model_module_version": "1.2.0",
     "model_name": "LayoutModel",
     "state": {
      "_model_module": "@jupyter-widgets/base",
      "_model_module_version": "1.2.0",
      "_model_name": "LayoutModel",
      "_view_count": null,
      "_view_module": "@jupyter-widgets/base",
      "_view_module_version": "1.2.0",
      "_view_name": "LayoutView",
      "align_content": null,
      "align_items": null,
      "align_self": null,
      "border": null,
      "bottom": null,
      "display": null,
      "flex": null,
      "flex_flow": null,
      "grid_area": null,
      "grid_auto_columns": null,
      "grid_auto_flow": null,
      "grid_auto_rows": null,
      "grid_column": null,
      "grid_gap": null,
      "grid_row": null,
      "grid_template_areas": null,
      "grid_template_columns": null,
      "grid_template_rows": null,
      "height": null,
      "justify_content": null,
      "justify_items": null,
      "left": null,
      "margin": null,
      "max_height": null,
      "max_width": null,
      "min_height": null,
      "min_width": null,
      "object_fit": null,
      "object_position": null,
      "order": null,
      "overflow": null,
      "overflow_x": null,
      "overflow_y": null,
      "padding": null,
      "right": null,
      "top": null,
      "visibility": null,
      "width": null
     }
    },
    "928ef04f4c58490abaf40e3180fbee87": {
     "model_module": "@jupyter-widgets/controls",
     "model_module_version": "1.5.0",
     "model_name": "DescriptionStyleModel",
     "state": {
      "_model_module": "@jupyter-widgets/controls",
      "_model_module_version": "1.5.0",
      "_model_name": "DescriptionStyleModel",
      "_view_count": null,
      "_view_module": "@jupyter-widgets/base",
      "_view_module_version": "1.2.0",
      "_view_name": "StyleView",
      "description_width": ""
     }
    },
    "94356085d4184dc292afe006f8a1895f": {
     "model_module": "@jupyter-widgets/base",
     "model_module_version": "1.2.0",
     "model_name": "LayoutModel",
     "state": {
      "_model_module": "@jupyter-widgets/base",
      "_model_module_version": "1.2.0",
      "_model_name": "LayoutModel",
      "_view_count": null,
      "_view_module": "@jupyter-widgets/base",
      "_view_module_version": "1.2.0",
      "_view_name": "LayoutView",
      "align_content": null,
      "align_items": null,
      "align_self": null,
      "border": null,
      "bottom": null,
      "display": null,
      "flex": null,
      "flex_flow": null,
      "grid_area": null,
      "grid_auto_columns": null,
      "grid_auto_flow": null,
      "grid_auto_rows": null,
      "grid_column": null,
      "grid_gap": null,
      "grid_row": null,
      "grid_template_areas": null,
      "grid_template_columns": null,
      "grid_template_rows": null,
      "height": null,
      "justify_content": null,
      "justify_items": null,
      "left": null,
      "margin": null,
      "max_height": null,
      "max_width": null,
      "min_height": null,
      "min_width": null,
      "object_fit": null,
      "object_position": null,
      "order": null,
      "overflow": null,
      "overflow_x": null,
      "overflow_y": null,
      "padding": null,
      "right": null,
      "top": null,
      "visibility": null,
      "width": null
     }
    },
    "95f43f2e12f94df4b30744b6d0d34e2b": {
     "model_module": "@jupyter-widgets/controls",
     "model_module_version": "1.5.0",
     "model_name": "FloatProgressModel",
     "state": {
      "_dom_classes": [],
      "_model_module": "@jupyter-widgets/controls",
      "_model_module_version": "1.5.0",
      "_model_name": "FloatProgressModel",
      "_view_count": null,
      "_view_module": "@jupyter-widgets/controls",
      "_view_module_version": "1.5.0",
      "_view_name": "ProgressView",
      "bar_style": "success",
      "description": "",
      "description_tooltip": null,
      "layout": "IPY_MODEL_3779e68151d04bdd83fae7cf3ba56f23",
      "max": 570,
      "min": 0,
      "orientation": "horizontal",
      "style": "IPY_MODEL_bccc40042c1545c0a2fb11b955a0dee6",
      "value": 570
     }
    },
    "95f7365fb34f4ba780663c383e121ac9": {
     "model_module": "@jupyter-widgets/controls",
     "model_module_version": "1.5.0",
     "model_name": "DescriptionStyleModel",
     "state": {
      "_model_module": "@jupyter-widgets/controls",
      "_model_module_version": "1.5.0",
      "_model_name": "DescriptionStyleModel",
      "_view_count": null,
      "_view_module": "@jupyter-widgets/base",
      "_view_module_version": "1.2.0",
      "_view_name": "StyleView",
      "description_width": ""
     }
    },
    "9bcae312acc44a4590cd3743c5fb141f": {
     "model_module": "@jupyter-widgets/controls",
     "model_module_version": "1.5.0",
     "model_name": "ProgressStyleModel",
     "state": {
      "_model_module": "@jupyter-widgets/controls",
      "_model_module_version": "1.5.0",
      "_model_name": "ProgressStyleModel",
      "_view_count": null,
      "_view_module": "@jupyter-widgets/base",
      "_view_module_version": "1.2.0",
      "_view_name": "StyleView",
      "bar_color": null,
      "description_width": ""
     }
    },
    "9d0b0d5499e4467587dd9e4b331f794e": {
     "model_module": "@jupyter-widgets/controls",
     "model_module_version": "1.5.0",
     "model_name": "HTMLModel",
     "state": {
      "_dom_classes": [],
      "_model_module": "@jupyter-widgets/controls",
      "_model_module_version": "1.5.0",
      "_model_name": "HTMLModel",
      "_view_count": null,
      "_view_module": "@jupyter-widgets/controls",
      "_view_module_version": "1.5.0",
      "_view_name": "HTMLView",
      "description": "",
      "description_tooltip": null,
      "layout": "IPY_MODEL_1c4e30c4888f4bb68eeeaee5e43d247b",
      "placeholder": "​",
      "style": "IPY_MODEL_4ad8ca7a9d774cfba399dd4f3d74d895",
      "value": " 436k/436k [00:00&lt;00:00, 1.20MB/s]"
     }
    },
    "a719a0b696624e7b861c199d5048c8e9": {
     "model_module": "@jupyter-widgets/controls",
     "model_module_version": "1.5.0",
     "model_name": "HTMLModel",
     "state": {
      "_dom_classes": [],
      "_model_module": "@jupyter-widgets/controls",
      "_model_module_version": "1.5.0",
      "_model_name": "HTMLModel",
      "_view_count": null,
      "_view_module": "@jupyter-widgets/controls",
      "_view_module_version": "1.5.0",
      "_view_name": "HTMLView",
      "description": "",
      "description_tooltip": null,
      "layout": "IPY_MODEL_f6d40e5dd24f495a9276ba6ce066ae54",
      "placeholder": "​",
      "style": "IPY_MODEL_5e65c9758f4148d1ba983310b41e4b32",
      "value": "Downloading: 100%"
     }
    },
    "a71d3bc65eb34f158cad31383bae20c4": {
     "model_module": "@jupyter-widgets/controls",
     "model_module_version": "1.5.0",
     "model_name": "DescriptionStyleModel",
     "state": {
      "_model_module": "@jupyter-widgets/controls",
      "_model_module_version": "1.5.0",
      "_model_name": "DescriptionStyleModel",
      "_view_count": null,
      "_view_module": "@jupyter-widgets/base",
      "_view_module_version": "1.2.0",
      "_view_name": "StyleView",
      "description_width": ""
     }
    },
    "aee2354b9c74496fb5a0b99c6d570fd2": {
     "model_module": "@jupyter-widgets/controls",
     "model_module_version": "1.5.0",
     "model_name": "DescriptionStyleModel",
     "state": {
      "_model_module": "@jupyter-widgets/controls",
      "_model_module_version": "1.5.0",
      "_model_name": "DescriptionStyleModel",
      "_view_count": null,
      "_view_module": "@jupyter-widgets/base",
      "_view_module_version": "1.2.0",
      "_view_name": "StyleView",
      "description_width": ""
     }
    },
    "b96dfe7dfdfc4a1ea330bf74b318fcc5": {
     "model_module": "@jupyter-widgets/controls",
     "model_module_version": "1.5.0",
     "model_name": "HTMLModel",
     "state": {
      "_dom_classes": [],
      "_model_module": "@jupyter-widgets/controls",
      "_model_module_version": "1.5.0",
      "_model_name": "HTMLModel",
      "_view_count": null,
      "_view_module": "@jupyter-widgets/controls",
      "_view_module_version": "1.5.0",
      "_view_name": "HTMLView",
      "description": "",
      "description_tooltip": null,
      "layout": "IPY_MODEL_7c2d14680c914acdbfca74fd1e1f52ab",
      "placeholder": "​",
      "style": "IPY_MODEL_6b8ac93c2c874e08b44b538258592e9c",
      "value": "Downloading: 100%"
     }
    },
    "bccc40042c1545c0a2fb11b955a0dee6": {
     "model_module": "@jupyter-widgets/controls",
     "model_module_version": "1.5.0",
     "model_name": "ProgressStyleModel",
     "state": {
      "_model_module": "@jupyter-widgets/controls",
      "_model_module_version": "1.5.0",
      "_model_name": "ProgressStyleModel",
      "_view_count": null,
      "_view_module": "@jupyter-widgets/base",
      "_view_module_version": "1.2.0",
      "_view_name": "StyleView",
      "bar_color": null,
      "description_width": ""
     }
    },
    "c0a55e4e8054433b926ee64c445fdc62": {
     "model_module": "@jupyter-widgets/controls",
     "model_module_version": "1.5.0",
     "model_name": "FloatProgressModel",
     "state": {
      "_dom_classes": [],
      "_model_module": "@jupyter-widgets/controls",
      "_model_module_version": "1.5.0",
      "_model_name": "FloatProgressModel",
      "_view_count": null,
      "_view_module": "@jupyter-widgets/controls",
      "_view_module_version": "1.5.0",
      "_view_name": "ProgressView",
      "bar_style": "success",
      "description": "",
      "description_tooltip": null,
      "layout": "IPY_MODEL_3ca01753c2b949b79f978a7671386d65",
      "max": 213450,
      "min": 0,
      "orientation": "horizontal",
      "style": "IPY_MODEL_e6a3074b22d44909a2357509245d3bb5",
      "value": 213450
     }
    },
    "c0fa051b5bea4b9bb97f3df58289cf52": {
     "model_module": "@jupyter-widgets/base",
     "model_module_version": "1.2.0",
     "model_name": "LayoutModel",
     "state": {
      "_model_module": "@jupyter-widgets/base",
      "_model_module_version": "1.2.0",
      "_model_name": "LayoutModel",
      "_view_count": null,
      "_view_module": "@jupyter-widgets/base",
      "_view_module_version": "1.2.0",
      "_view_name": "LayoutView",
      "align_content": null,
      "align_items": null,
      "align_self": null,
      "border": null,
      "bottom": null,
      "display": null,
      "flex": null,
      "flex_flow": null,
      "grid_area": null,
      "grid_auto_columns": null,
      "grid_auto_flow": null,
      "grid_auto_rows": null,
      "grid_column": null,
      "grid_gap": null,
      "grid_row": null,
      "grid_template_areas": null,
      "grid_template_columns": null,
      "grid_template_rows": null,
      "height": null,
      "justify_content": null,
      "justify_items": null,
      "left": null,
      "margin": null,
      "max_height": null,
      "max_width": null,
      "min_height": null,
      "min_width": null,
      "object_fit": null,
      "object_position": null,
      "order": null,
      "overflow": null,
      "overflow_x": null,
      "overflow_y": null,
      "padding": null,
      "right": null,
      "top": null,
      "visibility": null,
      "width": null
     }
    },
    "c2a9dfa438f044a487a3fec6d1d320d4": {
     "model_module": "@jupyter-widgets/controls",
     "model_module_version": "1.5.0",
     "model_name": "HTMLModel",
     "state": {
      "_dom_classes": [],
      "_model_module": "@jupyter-widgets/controls",
      "_model_module_version": "1.5.0",
      "_model_name": "HTMLModel",
      "_view_count": null,
      "_view_module": "@jupyter-widgets/controls",
      "_view_module_version": "1.5.0",
      "_view_name": "HTMLView",
      "description": "",
      "description_tooltip": null,
      "layout": "IPY_MODEL_4af817f7570f4232834bca7d6cb1143a",
      "placeholder": "​",
      "style": "IPY_MODEL_928ef04f4c58490abaf40e3180fbee87",
      "value": " 213k/213k [00:00&lt;00:00, 590kB/s]"
     }
    },
    "c91d135d30eb46e2a87f97a7d4cf9d4f": {
     "model_module": "@jupyter-widgets/controls",
     "model_module_version": "1.5.0",
     "model_name": "HBoxModel",
     "state": {
      "_dom_classes": [],
      "_model_module": "@jupyter-widgets/controls",
      "_model_module_version": "1.5.0",
      "_model_name": "HBoxModel",
      "_view_count": null,
      "_view_module": "@jupyter-widgets/controls",
      "_view_module_version": "1.5.0",
      "_view_name": "HBoxView",
      "box_style": "",
      "children": [
       "IPY_MODEL_b96dfe7dfdfc4a1ea330bf74b318fcc5",
       "IPY_MODEL_95f43f2e12f94df4b30744b6d0d34e2b",
       "IPY_MODEL_f03e50412dba4162819cac0c692f2dd5"
      ],
      "layout": "IPY_MODEL_8fd6167d440d47e3acd1fd5df2f49b58"
     }
    },
    "d89858254e984a07a039a4b31167c8fd": {
     "model_module": "@jupyter-widgets/controls",
     "model_module_version": "1.5.0",
     "model_name": "HTMLModel",
     "state": {
      "_dom_classes": [],
      "_model_module": "@jupyter-widgets/controls",
      "_model_module_version": "1.5.0",
      "_model_name": "HTMLModel",
      "_view_count": null,
      "_view_module": "@jupyter-widgets/controls",
      "_view_module_version": "1.5.0",
      "_view_name": "HTMLView",
      "description": "",
      "description_tooltip": null,
      "layout": "IPY_MODEL_f3094684cde944f5a2df2e006fdf0c51",
      "placeholder": "​",
      "style": "IPY_MODEL_db5451787b224ff1ae6f7f8fb27e1c2e",
      "value": "Downloading: 100%"
     }
    },
    "db5451787b224ff1ae6f7f8fb27e1c2e": {
     "model_module": "@jupyter-widgets/controls",
     "model_module_version": "1.5.0",
     "model_name": "DescriptionStyleModel",
     "state": {
      "_model_module": "@jupyter-widgets/controls",
      "_model_module_version": "1.5.0",
      "_model_name": "DescriptionStyleModel",
      "_view_count": null,
      "_view_module": "@jupyter-widgets/base",
      "_view_module_version": "1.2.0",
      "_view_name": "StyleView",
      "description_width": ""
     }
    },
    "e6a3074b22d44909a2357509245d3bb5": {
     "model_module": "@jupyter-widgets/controls",
     "model_module_version": "1.5.0",
     "model_name": "ProgressStyleModel",
     "state": {
      "_model_module": "@jupyter-widgets/controls",
      "_model_module_version": "1.5.0",
      "_model_name": "ProgressStyleModel",
      "_view_count": null,
      "_view_module": "@jupyter-widgets/base",
      "_view_module_version": "1.2.0",
      "_view_name": "StyleView",
      "bar_color": null,
      "description_width": ""
     }
    },
    "eb41da741fbc4563a5e62fbcb35bc198": {
     "model_module": "@jupyter-widgets/controls",
     "model_module_version": "1.5.0",
     "model_name": "DescriptionStyleModel",
     "state": {
      "_model_module": "@jupyter-widgets/controls",
      "_model_module_version": "1.5.0",
      "_model_name": "DescriptionStyleModel",
      "_view_count": null,
      "_view_module": "@jupyter-widgets/base",
      "_view_module_version": "1.2.0",
      "_view_name": "StyleView",
      "description_width": ""
     }
    },
    "ebef23a3d86e4a71a60a6e565d7406b2": {
     "model_module": "@jupyter-widgets/base",
     "model_module_version": "1.2.0",
     "model_name": "LayoutModel",
     "state": {
      "_model_module": "@jupyter-widgets/base",
      "_model_module_version": "1.2.0",
      "_model_name": "LayoutModel",
      "_view_count": null,
      "_view_module": "@jupyter-widgets/base",
      "_view_module_version": "1.2.0",
      "_view_name": "LayoutView",
      "align_content": null,
      "align_items": null,
      "align_self": null,
      "border": null,
      "bottom": null,
      "display": null,
      "flex": null,
      "flex_flow": null,
      "grid_area": null,
      "grid_auto_columns": null,
      "grid_auto_flow": null,
      "grid_auto_rows": null,
      "grid_column": null,
      "grid_gap": null,
      "grid_row": null,
      "grid_template_areas": null,
      "grid_template_columns": null,
      "grid_template_rows": null,
      "height": null,
      "justify_content": null,
      "justify_items": null,
      "left": null,
      "margin": null,
      "max_height": null,
      "max_width": null,
      "min_height": null,
      "min_width": null,
      "object_fit": null,
      "object_position": null,
      "order": null,
      "overflow": null,
      "overflow_x": null,
      "overflow_y": null,
      "padding": null,
      "right": null,
      "top": null,
      "visibility": null,
      "width": null
     }
    },
    "f03e50412dba4162819cac0c692f2dd5": {
     "model_module": "@jupyter-widgets/controls",
     "model_module_version": "1.5.0",
     "model_name": "HTMLModel",
     "state": {
      "_dom_classes": [],
      "_model_module": "@jupyter-widgets/controls",
      "_model_module_version": "1.5.0",
      "_model_name": "HTMLModel",
      "_view_count": null,
      "_view_module": "@jupyter-widgets/controls",
      "_view_module_version": "1.5.0",
      "_view_name": "HTMLView",
      "description": "",
      "description_tooltip": null,
      "layout": "IPY_MODEL_847ec45c58fa4fc1882e6f318670a9c3",
      "placeholder": "​",
      "style": "IPY_MODEL_95f7365fb34f4ba780663c383e121ac9",
      "value": " 570/570 [00:00&lt;00:00, 13.9kB/s]"
     }
    },
    "f3094684cde944f5a2df2e006fdf0c51": {
     "model_module": "@jupyter-widgets/base",
     "model_module_version": "1.2.0",
     "model_name": "LayoutModel",
     "state": {
      "_model_module": "@jupyter-widgets/base",
      "_model_module_version": "1.2.0",
      "_model_name": "LayoutModel",
      "_view_count": null,
      "_view_module": "@jupyter-widgets/base",
      "_view_module_version": "1.2.0",
      "_view_name": "LayoutView",
      "align_content": null,
      "align_items": null,
      "align_self": null,
      "border": null,
      "bottom": null,
      "display": null,
      "flex": null,
      "flex_flow": null,
      "grid_area": null,
      "grid_auto_columns": null,
      "grid_auto_flow": null,
      "grid_auto_rows": null,
      "grid_column": null,
      "grid_gap": null,
      "grid_row": null,
      "grid_template_areas": null,
      "grid_template_columns": null,
      "grid_template_rows": null,
      "height": null,
      "justify_content": null,
      "justify_items": null,
      "left": null,
      "margin": null,
      "max_height": null,
      "max_width": null,
      "min_height": null,
      "min_width": null,
      "object_fit": null,
      "object_position": null,
      "order": null,
      "overflow": null,
      "overflow_x": null,
      "overflow_y": null,
      "padding": null,
      "right": null,
      "top": null,
      "visibility": null,
      "width": null
     }
    },
    "f637edd7351342aa9bd5b54a8bfd36f4": {
     "model_module": "@jupyter-widgets/controls",
     "model_module_version": "1.5.0",
     "model_name": "HBoxModel",
     "state": {
      "_dom_classes": [],
      "_model_module": "@jupyter-widgets/controls",
      "_model_module_version": "1.5.0",
      "_model_name": "HBoxModel",
      "_view_count": null,
      "_view_module": "@jupyter-widgets/controls",
      "_view_module_version": "1.5.0",
      "_view_name": "HBoxView",
      "box_style": "",
      "children": [
       "IPY_MODEL_a719a0b696624e7b861c199d5048c8e9",
       "IPY_MODEL_3e1389a2eb6246bfb6d6e9e0096c326b",
       "IPY_MODEL_3e4b464f03c9471bb71390e11d2781e1"
      ],
      "layout": "IPY_MODEL_c0fa051b5bea4b9bb97f3df58289cf52"
     }
    },
    "f6d40e5dd24f495a9276ba6ce066ae54": {
     "model_module": "@jupyter-widgets/base",
     "model_module_version": "1.2.0",
     "model_name": "LayoutModel",
     "state": {
      "_model_module": "@jupyter-widgets/base",
      "_model_module_version": "1.2.0",
      "_model_name": "LayoutModel",
      "_view_count": null,
      "_view_module": "@jupyter-widgets/base",
      "_view_module_version": "1.2.0",
      "_view_name": "LayoutView",
      "align_content": null,
      "align_items": null,
      "align_self": null,
      "border": null,
      "bottom": null,
      "display": null,
      "flex": null,
      "flex_flow": null,
      "grid_area": null,
      "grid_auto_columns": null,
      "grid_auto_flow": null,
      "grid_auto_rows": null,
      "grid_column": null,
      "grid_gap": null,
      "grid_row": null,
      "grid_template_areas": null,
      "grid_template_columns": null,
      "grid_template_rows": null,
      "height": null,
      "justify_content": null,
      "justify_items": null,
      "left": null,
      "margin": null,
      "max_height": null,
      "max_width": null,
      "min_height": null,
      "min_width": null,
      "object_fit": null,
      "object_position": null,
      "order": null,
      "overflow": null,
      "overflow_x": null,
      "overflow_y": null,
      "padding": null,
      "right": null,
      "top": null,
      "visibility": null,
      "width": null
     }
    }
   }
  }
 },
 "nbformat": 4,
 "nbformat_minor": 5
}
