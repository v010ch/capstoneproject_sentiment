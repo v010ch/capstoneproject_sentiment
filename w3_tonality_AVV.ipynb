{
 "cells": [
  {
   "cell_type": "code",
   "execution_count": null,
   "id": "aa913ec9-8b9b-4da9-b3e2-29739908e877",
   "metadata": {},
   "outputs": [],
   "source": []
  },
  {
   "cell_type": "markdown",
   "id": "d19998d7-2052-434a-8e8f-2d5b2717817e",
   "metadata": {},
   "source": [
    "# Kagle inclass https://www.kaggle.com/c/simplesentiment/overview"
   ]
  },
  {
   "cell_type": "code",
   "execution_count": null,
   "id": "854a6403-a7a9-48ab-8724-9749d2c987d7",
   "metadata": {},
   "outputs": [],
   "source": [
    "import os\n",
    "from pathlib import Path\n",
    "\n",
    "import pandas as pd\n",
    "import numpy as np"
   ]
  },
  {
   "cell_type": "code",
   "execution_count": null,
   "id": "69475ddb-8fca-424f-8c4b-faf4ed4589b5",
   "metadata": {},
   "outputs": [],
   "source": [
    "import nltk\n",
    "#nltk.download('movie_reviews')\n",
    "#nltk.download('stopwords')\n",
    "#nltk.download('wordnet')\n",
    "#nltk.download('rslp')\n",
    "\n",
    "import nltk.stem as st\n",
    "\n",
    "#import re"
   ]
  },
  {
   "cell_type": "code",
   "execution_count": null,
   "id": "c4803372-156f-4f0a-9bd7-b92147a81d22",
   "metadata": {},
   "outputs": [],
   "source": [
    "from sklearn.pipeline import Pipeline\n",
    "from sklearn.model_selection import train_test_split\n",
    "\n",
    "from sklearn.feature_extraction.text import CountVectorizer, TfidfVectorizer\n",
    "\n",
    "from sklearn.linear_model import LogisticRegression, SGDClassifier\n",
    "from sklearn.svm import LinearSVC\n",
    "from sklearn.ensemble import RandomForestClassifier\n",
    "\n",
    "from sklearn.model_selection import GridSearchCV, cross_val_score \n",
    "\n",
    "#from sklearn.metrics import accuracy_score\n",
    "from sklearn.metrics import roc_auc_score\n",
    "from sklearn.metrics import confusion_matrix"
   ]
  },
  {
   "cell_type": "code",
   "execution_count": null,
   "id": "ad524463-2a53-413f-be4c-6d34a1f4d409",
   "metadata": {},
   "outputs": [],
   "source": [
    "#import xgboost as xgb"
   ]
  },
  {
   "cell_type": "code",
   "execution_count": null,
   "id": "d04baa48-ea21-4909-bf90-8070ac37ca79",
   "metadata": {},
   "outputs": [],
   "source": []
  },
  {
   "cell_type": "code",
   "execution_count": null,
   "id": "fe13466e-b55c-45e2-9104-a68353409c4a",
   "metadata": {},
   "outputs": [],
   "source": [
    "PATH_DATA = os.path.join(Path.cwd(), 'data')\n",
    "PATH_SUBM = os.path.join(Path.cwd(), 'submissions')"
   ]
  },
  {
   "cell_type": "code",
   "execution_count": null,
   "id": "05ba9f60-3cd9-4175-8966-9545f228c0b3",
   "metadata": {},
   "outputs": [],
   "source": []
  },
  {
   "cell_type": "code",
   "execution_count": null,
   "id": "5bb103f3-b1ec-40b8-b5ac-8eaf135380b1",
   "metadata": {},
   "outputs": [],
   "source": []
  },
  {
   "cell_type": "code",
   "execution_count": null,
   "id": "1e2f5190-0526-492f-b12a-4d04ab2ec4cf",
   "metadata": {},
   "outputs": [],
   "source": [
    "df = pd.read_csv(os.path.join(PATH_DATA, 'products_sentiment_train.tsv'), \n",
    "                    header = None, \n",
    "                    index_col = None,\n",
    "                    sep = '\\t',\n",
    "                   )\n",
    "df.columns = ['text', 'target']\n",
    "df.shape"
   ]
  },
  {
   "cell_type": "code",
   "execution_count": null,
   "id": "bc37556f-9c6d-471d-8bad-9450ffe5c5e0",
   "metadata": {},
   "outputs": [],
   "source": [
    "df.head()"
   ]
  },
  {
   "cell_type": "code",
   "execution_count": null,
   "id": "27bfaa9c-a3d8-49c3-afad-7a6b72e29b61",
   "metadata": {},
   "outputs": [],
   "source": [
    "df.target.value_counts()"
   ]
  },
  {
   "cell_type": "markdown",
   "id": "f7ab77d4-4390-4185-aee3-cdb8fe6f543b",
   "metadata": {},
   "source": [
    "Классы явно не сбалансированы.   \n",
    "Т.к. мы работаем с текстами есть следующие варианты:   \n",
    "    1. добавить негативные примеры. + увеличение выборки, баланс классов. - необходимо найти размеченную, подходящую под тематику, выборку   \n",
    "    2. дублировать некоторые строки, например те, в которых ошибается модель   \n",
    "    3. настроить параметр class_weights\n",
    "    "
   ]
  },
  {
   "cell_type": "markdown",
   "id": "b47ea4a2-bc6b-4447-a45f-7ca11aa3ff7c",
   "metadata": {},
   "source": [
    "### Приводим к строчным (на всякий) и очищаем по порядку:"
   ]
  },
  {
   "cell_type": "code",
   "execution_count": null,
   "id": "c632dfbc-c6c1-4f68-ac08-b4785d1ee9ce",
   "metadata": {},
   "outputs": [],
   "source": [
    "# - все спецсимволы\n",
    "# - все цифры\n",
    "# - заменяем множественные пробелы на единичные"
   ]
  },
  {
   "cell_type": "code",
   "execution_count": null,
   "id": "a2b4a766-4c49-4d30-8664-95012ce0e204",
   "metadata": {},
   "outputs": [],
   "source": [
    "clean_text = lambda x: re.sub(r\"\\s+\", ' ', \n",
    "                              re.sub(r\"[\\d+]\", '',\n",
    "                                     re.sub(r\"[^\\w\\s]\", '', x.lower()).strip()\n",
    "                                    )\n",
    "                             )"
   ]
  },
  {
   "cell_type": "code",
   "execution_count": null,
   "id": "1a2bfa07-89ff-4daa-a37d-55b27e124d18",
   "metadata": {},
   "outputs": [],
   "source": [
    "df['text_cl'] = df.text.map(clean_text)"
   ]
  },
  {
   "cell_type": "code",
   "execution_count": null,
   "id": "03bd0db8-a7b3-4fdf-8e15-6fcdfd109955",
   "metadata": {},
   "outputs": [],
   "source": []
  },
  {
   "cell_type": "code",
   "execution_count": null,
   "id": "25bec617-8b6c-443d-8ac7-44cc8d859289",
   "metadata": {},
   "outputs": [],
   "source": []
  },
  {
   "cell_type": "code",
   "execution_count": null,
   "id": "4ebe910c-215e-4ee7-8bc2-bebd8b8c378c",
   "metadata": {},
   "outputs": [],
   "source": [
    "#lem_text(\"don't\"), lem_text(\"i'll\")"
   ]
  },
  {
   "cell_type": "code",
   "execution_count": null,
   "id": "45767ae7-4aca-450c-86ad-49edd2f18fdd",
   "metadata": {},
   "outputs": [],
   "source": [
    "#stem_text(\"don't\"), stem_text(\"i'll\")"
   ]
  },
  {
   "cell_type": "markdown",
   "id": "f03e0355-6acc-4e2a-8104-b00938f79e81",
   "metadata": {},
   "source": [
    "### Лемматизация & стемминг"
   ]
  },
  {
   "cell_type": "code",
   "execution_count": null,
   "id": "90f3667d-dc06-4f32-9a51-2cf9c92afe78",
   "metadata": {},
   "outputs": [],
   "source": [
    "lemm = st.WordNetLemmatizer()\n",
    "lem_text = lambda x: ' '.join([lemm.lemmatize(el) for el in x.split()])\n",
    "\n",
    "\n",
    "#stemm = st.PorterStemmer()\n",
    "#stemm = st.Cistem()\n",
    "#stemm = st.LancasterStemmer()\n",
    "\n",
    "#stemm = st.ISRIStemmer()\n",
    "stemm = st.RSLPStemmer()\n",
    "stem_text = lambda x: ' '.join([stemm.stem(el) for el in x.split()])"
   ]
  },
  {
   "cell_type": "code",
   "execution_count": null,
   "id": "9dc61288-9788-4db3-8452-dac9012b55ff",
   "metadata": {},
   "outputs": [],
   "source": [
    "df['text_cl'] = df.text.map(clean_text)\n",
    "df['text_cl'] = df.text_cl.map(lem_text)\n",
    "df['text_cl'] = df.text_cl.map(stem_text)"
   ]
  },
  {
   "cell_type": "code",
   "execution_count": null,
   "id": "d258fa2d-f5c4-45b4-8458-99b6452f57dc",
   "metadata": {},
   "outputs": [],
   "source": [
    "df.head()"
   ]
  },
  {
   "cell_type": "markdown",
   "id": "9f874b41-7609-48d0-b42d-5f2a1163eea8",
   "metadata": {},
   "source": [
    "### Подготавливаем к обучению по сетке"
   ]
  },
  {
   "cell_type": "code",
   "execution_count": null,
   "id": "e4fc99e2-a08f-48e4-af55-fc5f8cada4c0",
   "metadata": {},
   "outputs": [],
   "source": [
    "train, test, train_target, test_target = train_test_split(df.text_cl, df.target, \n",
    "                                                          test_size = 0.2, \n",
    "                                                          stratify = df.target, \n",
    "                                                          random_state = 52138,\n",
    "                                                         )"
   ]
  },
  {
   "cell_type": "markdown",
   "id": "a23086a0-c1c1-4e8f-ac6b-a948fcff3e64",
   "metadata": {},
   "source": [
    "### параметры для перебора"
   ]
  },
  {
   "cell_type": "code",
   "execution_count": null,
   "id": "da8553dc-f6cc-4668-b7f3-6926480f91bc",
   "metadata": {},
   "outputs": [],
   "source": [
    "pipe_cnt = Pipeline([('vect', CountVectorizer()), \n",
    "                     ('clf', SGDClassifier()),\n",
    "                      ])"
   ]
  },
  {
   "cell_type": "code",
   "execution_count": null,
   "id": "029fa072-2d02-424e-943d-61f83dc184af",
   "metadata": {},
   "outputs": [],
   "source": [
    "parameters = [\n",
    "    {\n",
    "        'vect': [CountVectorizer(), TfidfVectorizer()],\n",
    "        #'vect__analyzer': ['word','char_wb'],\n",
    "        'vect__analyzer': ['char_wb'],\n",
    "        #'vect__ngram_range': [(1, 1), (1, 2), (2, 2), (2, 3), (2, 4), (3, 4), (3, 5), (2, 5)],\n",
    "        'vect__ngram_range': [(2, 4), (3, 4), (3, 5), (2, 5)],\n",
    "        'vect__stop_words': [None, nltk.corpus.stopwords.words('english')],\n",
    "        'vect__max_df': [0.75, 1.0],\n",
    "        'vect__min_df': [10, 1,],# 50],\n",
    "        'clf': [LogisticRegression(), \n",
    "                LinearSVC(),\n",
    "                SGDClassifier(), \n",
    "                RandomForestClassifier()\n",
    "                #xgb.XGBClassifier(tree_method='gpu_hist', gpu_id=0),\n",
    "                #xgb.XGBClassifier(eval_metric = 'auc'),\n",
    "               ],\n",
    "    },\n",
    "    \n",
    "]"
   ]
  },
  {
   "cell_type": "code",
   "execution_count": null,
   "id": "05a71ef3-4489-4f08-9818-e21fae17f9a2",
   "metadata": {},
   "outputs": [],
   "source": [
    "grid = GridSearchCV(pipe_cnt, parameters, cv = 5, scoring = 'roc_auc', verbose = 2, n_jobs=-1)"
   ]
  },
  {
   "cell_type": "code",
   "execution_count": null,
   "id": "603a9199-fdea-4d6d-bc24-336726a44ed8",
   "metadata": {},
   "outputs": [],
   "source": [
    "%%time\n",
    "grid.fit(train, train_target)\n",
    "grid.best_estimator_"
   ]
  },
  {
   "cell_type": "code",
   "execution_count": null,
   "id": "8ed7945e-3801-4acf-9342-17125e895885",
   "metadata": {},
   "outputs": [],
   "source": [
    "grid.best_params_"
   ]
  },
  {
   "cell_type": "code",
   "execution_count": null,
   "id": "4147af83-8439-4350-a3e1-653d2462b198",
   "metadata": {},
   "outputs": [],
   "source": [
    "grid.best_score_"
   ]
  },
  {
   "cell_type": "code",
   "execution_count": null,
   "id": "fe329c1a-0ec2-4bfd-81a9-672f6983066b",
   "metadata": {},
   "outputs": [],
   "source": [
    "grid.cv_results_.keys()"
   ]
  },
  {
   "cell_type": "markdown",
   "id": "b126f8e3-9c4e-45e0-84c9-ff2b05b119a5",
   "metadata": {},
   "source": [
    "Посмотрим на несколько лучших результатов"
   ]
  },
  {
   "cell_type": "code",
   "execution_count": null,
   "id": "e4a83e91-0403-4dcd-891d-31c299999ccc",
   "metadata": {},
   "outputs": [],
   "source": [
    "#grid.cv_results_['rank_test_score']"
   ]
  },
  {
   "cell_type": "code",
   "execution_count": null,
   "id": "2461676a-c933-432e-8ed6-3e8d371e1d4f",
   "metadata": {},
   "outputs": [],
   "source": [
    "interested = np.where(grid.cv_results_['rank_test_score'] <= 5)\n",
    "for field in parameters[0].keys():\n",
    "    print(field)\n",
    "    for idx in interested:\n",
    "        print(grid.cv_results_['param_' + field][idx])"
   ]
  },
  {
   "cell_type": "markdown",
   "id": "1b11149c-70c8-484b-952a-455f7185a3a2",
   "metadata": {},
   "source": [
    "Промежуточные выводы:\n",
    "- токенизация всегда TfidfVectorizer\n",
    "- метод разбиения - char_wb\n",
    "- ngram_range - (3, 4) для 1х и 3х результатов, (3,5) для 5х.\n",
    "   включу ngram_range в перебор при настройке параметров\n",
    "- модель - LogisticRegression\n",
    "- min_df - всегда 1\n",
    "- max_df - 0.75 для 3х результатов, 1.0 для 1х и 5х. \n",
    "   включу max_df в перебор при настройке параметров\n",
    "- стоп слова не влияют никаким образом (что очень удивительно)\n"
   ]
  },
  {
   "cell_type": "code",
   "execution_count": null,
   "id": "f1f29de7-7b58-42b7-9d39-f9295099db44",
   "metadata": {},
   "outputs": [],
   "source": []
  },
  {
   "cell_type": "markdown",
   "id": "70796698-0a61-4cd9-a709-759e07534c64",
   "metadata": {},
   "source": [
    "### Попробуем определить причины ошибок по тесту"
   ]
  },
  {
   "cell_type": "code",
   "execution_count": null,
   "id": "8ecfb73f-fdb1-4b35-b693-00ba8acd0fda",
   "metadata": {},
   "outputs": [],
   "source": [
    "vectorizer = TfidfVectorizer(analyzer='char_wb', ngram_range=(3, 4), \n",
    "                             max_df=1.0, min_df=1, \n",
    "                             stop_words=None\n",
    "                            )\n",
    "vectorizer.fit(train)"
   ]
  },
  {
   "cell_type": "code",
   "execution_count": null,
   "id": "860e09bf-763d-4b4d-970c-6881cb39be62",
   "metadata": {},
   "outputs": [],
   "source": [
    "model = LogisticRegression(\n",
    ")\n",
    "model.fit(vectorizer.transform(train), train_target)"
   ]
  },
  {
   "cell_type": "code",
   "execution_count": null,
   "id": "3fed59ea-e51b-4aba-9b6c-baf5ccb45a4d",
   "metadata": {},
   "outputs": [],
   "source": [
    "test_pred = model.predict(vectorizer.transform(test))"
   ]
  },
  {
   "cell_type": "code",
   "execution_count": null,
   "id": "232faca2-3a87-40eb-8348-d6ff568a3589",
   "metadata": {},
   "outputs": [],
   "source": [
    "confusion_matrix(test_target, test_pred)"
   ]
  },
  {
   "cell_type": "markdown",
   "id": "1ddad068-288d-4da1-90e0-e1ddb47e9f3c",
   "metadata": {},
   "source": [
    "только половина отрицательных отзывов, посмотрим их"
   ]
  },
  {
   "cell_type": "code",
   "execution_count": null,
   "id": "dae13fe2-6412-40ed-89d8-7368720723e7",
   "metadata": {},
   "outputs": [],
   "source": [
    "for idx in range(test.shape[0]):\n",
    "    if test_pred[idx] != test_target[test.index[idx]]:\n",
    "        print(test.index[idx],test_target[test.index[idx]], df.loc[test.index[idx]].text)"
   ]
  },
  {
   "cell_type": "markdown",
   "id": "770cdb3d-5f80-4994-b68d-7de9eed8c4b5",
   "metadata": {},
   "source": [
    "Если посмотреть на отзывы, в которых модель ошиблась - то в них нет ничего необычного.   \n",
    "Большая часть однозначно определяется как положителбные или отрицательные.   \n",
    "Предполагаю, что влияют 2 фактора: несбалансированность класса и предел возможностей tf-idf   \n",
    "Попробуем исправить, настроив class_weights"
   ]
  },
  {
   "cell_type": "code",
   "execution_count": null,
   "id": "06ff906e-1c61-48e1-b4c0-a776d0b0a3ed",
   "metadata": {},
   "outputs": [],
   "source": []
  },
  {
   "cell_type": "markdown",
   "id": "c52196d5-eabc-402f-8660-3b37b660f2a1",
   "metadata": {},
   "source": [
    "# Пробуем настроить параметры алгоритма"
   ]
  },
  {
   "cell_type": "markdown",
   "id": "b69287d8-4966-4960-9ea8-3459dd9531f9",
   "metadata": {},
   "source": [
    "#### в 3-4 итерации. в начале ищем приближенные лучшие значения(закомментированные параметры ниже),   \n",
    "#### потом их уточняем"
   ]
  },
  {
   "cell_type": "code",
   "execution_count": null,
   "id": "13f9721d-87f6-421d-9194-2c0043bb9774",
   "metadata": {},
   "outputs": [],
   "source": [
    "pipe_cnt = Pipeline([('vect', TfidfVectorizer(analyzer='char_wb')), \n",
    "                     ('clf', LogisticRegression()),\n",
    "                      ])"
   ]
  },
  {
   "cell_type": "code",
   "execution_count": null,
   "id": "9ad641c7-38dc-4771-a719-c79d7ddf15d0",
   "metadata": {},
   "outputs": [],
   "source": [
    "model_parameters = {\n",
    "    'vect__ngram_range': [(3, 4), ], #(3, 5)],\n",
    "    #'vect__max_df': [0.75, 0.65, 0.85,], #1.0],\n",
    "    'vect__max_df': [0.75],\n",
    "    'clf__solver': ['liblinear',], #'lbfgs'],\n",
    "    'clf__penalty': ['l2',], #'l1'], \n",
    "    #'clf__C': np.logspace(1, 5, 10),\n",
    "    'clf__C': np.linspace(1.69, 1.74, 20),\n",
    "    #'clf__class_weight': [{0: 0.5 - shift, 1:0.5 + shift} for shift in np.linspace(-0.1, 0.1, 20)],# + ['balanced'],\n",
    "    'clf__class_weight': [{0: 0.59 - shift, 1:0.41 + shift} for shift in np.linspace(-0.001, 0.001, 50)],# + ['balanced'],\n",
    "    'clf__max_iter': [50, 75],# 100, 200],\n",
    "}"
   ]
  },
  {
   "cell_type": "code",
   "execution_count": null,
   "id": "a8370bc5-fbf6-44a8-af49-4b08fab155b2",
   "metadata": {},
   "outputs": [],
   "source": [
    "grid_tune = GridSearchCV(pipe_cnt, model_parameters, cv = 5, scoring = 'roc_auc', verbose = 2, n_jobs=-1)"
   ]
  },
  {
   "cell_type": "code",
   "execution_count": null,
   "id": "f288db75-7a2e-4e80-8c03-2c33cb502c27",
   "metadata": {},
   "outputs": [],
   "source": [
    "%%time\n",
    "grid_tune.fit(train, train_target)\n",
    "grid_tune.best_estimator_"
   ]
  },
  {
   "cell_type": "code",
   "execution_count": null,
   "id": "5fcc15ae-151c-47ec-bb8c-b9fb7d908c4c",
   "metadata": {},
   "outputs": [],
   "source": [
    "grid_tune.best_params_"
   ]
  },
  {
   "cell_type": "code",
   "execution_count": null,
   "id": "153558a8-a70a-4cea-b3b8-ee61227d9c82",
   "metadata": {},
   "outputs": [],
   "source": [
    "grid_tune.best_score_"
   ]
  },
  {
   "cell_type": "markdown",
   "id": "e766706b-058b-404b-b945-ddbb31ff8fc9",
   "metadata": {},
   "source": [
    "Посмотрим на несколько лучших результатов, после чего уточняем параметры и повторяем (несколько раз) GridSearchCV"
   ]
  },
  {
   "cell_type": "code",
   "execution_count": null,
   "id": "f31a0e9e-5111-4867-adb6-16c5cf1b21b7",
   "metadata": {},
   "outputs": [],
   "source": [
    "interested_tune = np.where(grid_tune.cv_results_['rank_test_score'] <= 5)\n",
    "for field in model_parameters.keys():\n",
    "    print(field)\n",
    "    for idx in interested_tune:\n",
    "        print(grid_tune.cv_results_['param_' + field][idx])"
   ]
  },
  {
   "cell_type": "code",
   "execution_count": null,
   "id": "2eaf0ac5-455e-4a22-8977-517954a9b314",
   "metadata": {},
   "outputs": [],
   "source": [
    "grid_tune.cv_results_['mean_test_score'][np.where(grid_tune.cv_results_['rank_test_score'] <= 5)]"
   ]
  },
  {
   "cell_type": "markdown",
   "id": "f8fb46e8-ba55-4d53-b740-2c27b81a8333",
   "metadata": {},
   "source": [
    "Остановимся на следующих параметрах:    \n",
    "TfidfVectorizer    \n",
    "analyzer ='char_wb'    \n",
    "max_df = 0.75    \n",
    "ngram_range = (3, 4)    \n",
    "    \n",
    "LogisticRegression   \n",
    "C =  1.7189473684210526   \n",
    "сlass_weight = {0: 0.5894081632653061, 1: 0.41059183673469385}   \n",
    "max_iter = 50 (возможно, мало итераций т.к. обучались не на всех данных, так что для submission можно попробовать и 75)   \n",
    "penalty = 'l2'   \n",
    "solver = 'liblinear'   \n",
    " "
   ]
  },
  {
   "cell_type": "markdown",
   "id": "35068e68-8a8b-4ddd-9d58-23b81ecd9315",
   "metadata": {},
   "source": [
    "Получим модель и submission для выбранных параметров"
   ]
  },
  {
   "cell_type": "code",
   "execution_count": null,
   "id": "f262624a-7a19-468e-8499-4d40d6b45688",
   "metadata": {},
   "outputs": [],
   "source": []
  },
  {
   "cell_type": "markdown",
   "id": "3d281fb7-cba5-4d09-a79d-0852d734d31d",
   "metadata": {},
   "source": [
    "### Подготавливаем данные для обучения финальной модели и прогноза"
   ]
  },
  {
   "cell_type": "code",
   "execution_count": null,
   "id": "b3c603f1-c77a-417c-bd63-dcf3b37182d2",
   "metadata": {},
   "outputs": [],
   "source": [
    "df_test = pd.read_csv(os.path.join(PATH_DATA, 'products_sentiment_test.tsv'),\n",
    "                        index_col = None,\n",
    "                        sep = '\\t',\n",
    "                     )\n",
    "df_test.shape"
   ]
  },
  {
   "cell_type": "code",
   "execution_count": null,
   "id": "70b5a934-3000-4922-b2ff-d16426af6a51",
   "metadata": {},
   "outputs": [],
   "source": [
    "#df_test.head(), df_test.tail()"
   ]
  },
  {
   "cell_type": "code",
   "execution_count": null,
   "id": "14bee620-0129-47dc-9c21-70243ddda251",
   "metadata": {},
   "outputs": [],
   "source": [
    "subm = pd.read_csv(os.path.join(PATH_DATA, 'products_sentiment_sample_submission.csv'))\n",
    "subm.shape"
   ]
  },
  {
   "cell_type": "code",
   "execution_count": null,
   "id": "660ab72b-b6a8-40b6-9aab-8aea2f4a8025",
   "metadata": {},
   "outputs": [],
   "source": [
    "#subm.head(), subm.tail()"
   ]
  },
  {
   "cell_type": "code",
   "execution_count": null,
   "id": "0f2d09cd-4386-4177-85e1-de839e3c1cba",
   "metadata": {},
   "outputs": [],
   "source": [
    "vectorizer = TfidfVectorizer(analyzer='char_wb', ngram_range=(3, 4), \n",
    "                             max_df=0.75, min_df=1, \n",
    "                             stop_words=None\n",
    "                            )\n",
    "vectorizer.fit(df.text_cl)\n",
    "train_df = vectorizer.transform(df.text_cl)"
   ]
  },
  {
   "cell_type": "code",
   "execution_count": null,
   "id": "3c44d375-a519-4525-9dc2-23aedccd9392",
   "metadata": {},
   "outputs": [],
   "source": [
    "test_df = df_test.text.map(clean_text)\n",
    "test_df = test_df.map(lem_text)\n",
    "test_df = test_df.map(stem_text)\n",
    "test_df = vectorizer.transform(test_df)"
   ]
  },
  {
   "cell_type": "code",
   "execution_count": null,
   "id": "5da2bace-a685-47aa-b8fb-18d6eabdea8b",
   "metadata": {},
   "outputs": [],
   "source": []
  },
  {
   "cell_type": "markdown",
   "id": "59629b89-af97-48a3-a039-babc3b782ac8",
   "metadata": {},
   "source": [
    "### Финальная модель для прогноза и прогноз"
   ]
  },
  {
   "cell_type": "code",
   "execution_count": null,
   "id": "6e87a462-2421-4d7e-b9d2-2c8e91498c99",
   "metadata": {},
   "outputs": [],
   "source": [
    "model = LogisticRegression(solver = 'liblinear',   \n",
    "                           penalty = 'l2',\n",
    "                           C = 1.7189473684210526,\n",
    "                           class_weight = {0: 0.5894081632653061, 1: 0.41059183673469385},\n",
    "                           max_iter = 75, #75\n",
    ")"
   ]
  },
  {
   "cell_type": "code",
   "execution_count": null,
   "id": "4dcf2bde-69d6-43d7-882a-3ed37c49e518",
   "metadata": {},
   "outputs": [],
   "source": [
    "model.fit(train_df, df.target)"
   ]
  },
  {
   "cell_type": "code",
   "execution_count": null,
   "id": "67d9614e-2d0d-4675-a37d-c80090e1be02",
   "metadata": {},
   "outputs": [],
   "source": [
    "pred = model.predict(test_df)\n",
    "subm.y = pred"
   ]
  },
  {
   "cell_type": "code",
   "execution_count": null,
   "id": "19718671-9309-4e2c-b553-c5a4d1712b7d",
   "metadata": {},
   "outputs": [],
   "source": [
    "subm.to_csv(os.path.join(PATH_SUBM, 'tf_st_lm_lr_tuned_75.csv'), index = False)"
   ]
  },
  {
   "cell_type": "code",
   "execution_count": null,
   "id": "1ec538e4-88e4-46ad-a281-81dbca45af48",
   "metadata": {},
   "outputs": [],
   "source": []
  },
  {
   "cell_type": "markdown",
   "id": "6d4c4bcb-67da-4311-a74c-9b6ec76683ce",
   "metadata": {},
   "source": [
    "pb 0.79333"
   ]
  },
  {
   "cell_type": "code",
   "execution_count": null,
   "id": "13fbb650-e30c-4851-8a39-df0ca9433162",
   "metadata": {},
   "outputs": [],
   "source": []
  }
 ],
 "metadata": {
  "kernelspec": {
   "display_name": "Python 3",
   "language": "python",
   "name": "python3"
  },
  "language_info": {
   "codemirror_mode": {
    "name": "ipython",
    "version": 3
   },
   "file_extension": ".py",
   "mimetype": "text/x-python",
   "name": "python",
   "nbconvert_exporter": "python",
   "pygments_lexer": "ipython3",
   "version": "3.7.10"
  }
 },
 "nbformat": 4,
 "nbformat_minor": 5
}
