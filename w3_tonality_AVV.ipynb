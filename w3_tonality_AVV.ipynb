{
 "cells": [
  {
   "cell_type": "code",
   "execution_count": null,
   "id": "aa913ec9-8b9b-4da9-b3e2-29739908e877",
   "metadata": {},
   "outputs": [],
   "source": []
  },
  {
   "cell_type": "markdown",
   "id": "d19998d7-2052-434a-8e8f-2d5b2717817e",
   "metadata": {},
   "source": [
    "# Kagle inclass https://www.kaggle.com/c/simplesentiment/overview"
   ]
  },
  {
   "cell_type": "code",
   "execution_count": 1,
   "id": "854a6403-a7a9-48ab-8724-9749d2c987d7",
   "metadata": {},
   "outputs": [],
   "source": [
    "import os\n",
    "from pathlib import Path\n",
    "\n",
    "import pandas as pd\n",
    "import numpy as np\n",
    "\n",
    "from itertools import product\n",
    "import warnings\n",
    "from tqdm import tqdm\n",
    "\n",
    "import re"
   ]
  },
  {
   "cell_type": "code",
   "execution_count": 2,
   "id": "69475ddb-8fca-424f-8c4b-faf4ed4589b5",
   "metadata": {},
   "outputs": [],
   "source": [
    "import nltk\n",
    "#nltk.download('movie_reviews')\n",
    "#nltk.download('stopwords')\n",
    "#nltk.download('wordnet')\n",
    "#nltk.download('rslp')\n",
    "\n",
    "import nltk.stem as st"
   ]
  },
  {
   "cell_type": "code",
   "execution_count": 3,
   "id": "6886b13f-4308-4529-8ab0-79c07b58d7c9",
   "metadata": {},
   "outputs": [
    {
     "name": "stderr",
     "output_type": "stream",
     "text": [
      "unable to import 'smart_open.gcs', disabling that module\n"
     ]
    }
   ],
   "source": [
    "import spacy\n",
    "\n",
    "#from gensim.models.doc2vec import Doc2Vec, TaggedDocument\n",
    "#from gensim.sklearn_api import W2VTransformer\n",
    "import gensim.downloader as api"
   ]
  },
  {
   "cell_type": "code",
   "execution_count": 4,
   "id": "c4803372-156f-4f0a-9bd7-b92147a81d22",
   "metadata": {},
   "outputs": [],
   "source": [
    "from sklearn.pipeline import Pipeline\n",
    "from sklearn.model_selection import train_test_split\n",
    "\n",
    "#from sklearn.feature_extraction.text import CountVectorizer, TfidfVectorizer\n",
    "\n",
    "from sklearn.linear_model import LogisticRegression, SGDClassifier\n",
    "from sklearn.svm import LinearSVC\n",
    "from sklearn.svm import SVC\n",
    "from sklearn.ensemble import RandomForestClassifier\n",
    "\n",
    "from sklearn.model_selection import GridSearchCV, cross_val_score \n",
    "\n",
    "#from sklearn.metrics import accuracy_score\n",
    "from sklearn.metrics import roc_auc_score\n",
    "from sklearn.metrics import confusion_matrix"
   ]
  },
  {
   "cell_type": "code",
   "execution_count": 5,
   "id": "ad524463-2a53-413f-be4c-6d34a1f4d409",
   "metadata": {},
   "outputs": [],
   "source": [
    "import xgboost as xgb\n",
    "from lightgbm import LGBMClassifier"
   ]
  },
  {
   "cell_type": "code",
   "execution_count": null,
   "id": "d04baa48-ea21-4909-bf90-8070ac37ca79",
   "metadata": {},
   "outputs": [],
   "source": []
  },
  {
   "cell_type": "code",
   "execution_count": 6,
   "id": "fe13466e-b55c-45e2-9104-a68353409c4a",
   "metadata": {},
   "outputs": [],
   "source": [
    "PATH_DATA = os.path.join(Path.cwd(), 'data')\n",
    "PATH_SUBM = os.path.join(Path.cwd(), 'submissions')"
   ]
  },
  {
   "cell_type": "code",
   "execution_count": null,
   "id": "05ba9f60-3cd9-4175-8966-9545f228c0b3",
   "metadata": {},
   "outputs": [],
   "source": []
  },
  {
   "cell_type": "code",
   "execution_count": null,
   "id": "cb26e42a-f8fa-433a-ba40-14bd89d87e14",
   "metadata": {},
   "outputs": [],
   "source": []
  },
  {
   "cell_type": "code",
   "execution_count": 31,
   "id": "1e2f5190-0526-492f-b12a-4d04ab2ec4cf",
   "metadata": {},
   "outputs": [
    {
     "data": {
      "text/plain": [
       "(2000, 2)"
      ]
     },
     "execution_count": 31,
     "metadata": {},
     "output_type": "execute_result"
    }
   ],
   "source": [
    "df = pd.read_csv(os.path.join(PATH_DATA, 'products_sentiment_train.tsv'), \n",
    "                    header = None, \n",
    "                    index_col = None,\n",
    "                    sep = '\\t',\n",
    "                   )\n",
    "df.columns = ['text', 'target']\n",
    "df.shape"
   ]
  },
  {
   "cell_type": "code",
   "execution_count": 32,
   "id": "bc37556f-9c6d-471d-8bad-9450ffe5c5e0",
   "metadata": {},
   "outputs": [
    {
     "data": {
      "text/html": [
       "<div>\n",
       "<style scoped>\n",
       "    .dataframe tbody tr th:only-of-type {\n",
       "        vertical-align: middle;\n",
       "    }\n",
       "\n",
       "    .dataframe tbody tr th {\n",
       "        vertical-align: top;\n",
       "    }\n",
       "\n",
       "    .dataframe thead th {\n",
       "        text-align: right;\n",
       "    }\n",
       "</style>\n",
       "<table border=\"1\" class=\"dataframe\">\n",
       "  <thead>\n",
       "    <tr style=\"text-align: right;\">\n",
       "      <th></th>\n",
       "      <th>text</th>\n",
       "      <th>target</th>\n",
       "    </tr>\n",
       "  </thead>\n",
       "  <tbody>\n",
       "    <tr>\n",
       "      <th>0</th>\n",
       "      <td>2 . take around 10,000 640x480 pictures .</td>\n",
       "      <td>1</td>\n",
       "    </tr>\n",
       "    <tr>\n",
       "      <th>1</th>\n",
       "      <td>i downloaded a trial version of computer assoc...</td>\n",
       "      <td>1</td>\n",
       "    </tr>\n",
       "    <tr>\n",
       "      <th>2</th>\n",
       "      <td>the wrt54g plus the hga7t is a perfect solutio...</td>\n",
       "      <td>1</td>\n",
       "    </tr>\n",
       "    <tr>\n",
       "      <th>3</th>\n",
       "      <td>i dont especially like how music files are uns...</td>\n",
       "      <td>0</td>\n",
       "    </tr>\n",
       "    <tr>\n",
       "      <th>4</th>\n",
       "      <td>i was using the cheapie pail ... and it worked...</td>\n",
       "      <td>1</td>\n",
       "    </tr>\n",
       "  </tbody>\n",
       "</table>\n",
       "</div>"
      ],
      "text/plain": [
       "                                                text  target\n",
       "0          2 . take around 10,000 640x480 pictures .       1\n",
       "1  i downloaded a trial version of computer assoc...       1\n",
       "2  the wrt54g plus the hga7t is a perfect solutio...       1\n",
       "3  i dont especially like how music files are uns...       0\n",
       "4  i was using the cheapie pail ... and it worked...       1"
      ]
     },
     "execution_count": 32,
     "metadata": {},
     "output_type": "execute_result"
    }
   ],
   "source": [
    "df.head()"
   ]
  },
  {
   "cell_type": "code",
   "execution_count": 33,
   "id": "27bfaa9c-a3d8-49c3-afad-7a6b72e29b61",
   "metadata": {},
   "outputs": [
    {
     "name": "stderr",
     "output_type": "stream",
     "text": [
      "C:\\Users\\_v010ch_\\Anaconda3\\lib\\site-packages\\ipykernel\\ipkernel.py:287: DeprecationWarning: `should_run_async` will not call `transform_cell` automatically in the future. Please pass the result to `transformed_cell` argument and any exception that happen during thetransform in `preprocessing_exc_tuple` in IPython 7.17 and above.\n",
      "  and should_run_async(code)\n"
     ]
    },
    {
     "data": {
      "text/plain": [
       "1    1274\n",
       "0     726\n",
       "Name: target, dtype: int64"
      ]
     },
     "execution_count": 33,
     "metadata": {},
     "output_type": "execute_result"
    }
   ],
   "source": [
    "df.target.value_counts()"
   ]
  },
  {
   "cell_type": "markdown",
   "id": "f7ab77d4-4390-4185-aee3-cdb8fe6f543b",
   "metadata": {},
   "source": [
    "Классы явно не сбалансированы.   \n",
    "Т.к. мы работаем с текстами есть следующие варианты:   \n",
    "    1. добавить негативные примеры. + увеличение выборки, баланс классов. - необходимо найти размеченную, подходящую под тематику, выборку   \n",
    "    2. дублировать некоторые строки, например те, в которых ошибается модель   \n",
    "    3. настроить параметр class_weights\n",
    "    "
   ]
  },
  {
   "cell_type": "markdown",
   "id": "b47ea4a2-bc6b-4447-a45f-7ca11aa3ff7c",
   "metadata": {},
   "source": [
    "### Приводим к строчным (на всякий) и очищаем по порядку:"
   ]
  },
  {
   "cell_type": "code",
   "execution_count": 34,
   "id": "c632dfbc-c6c1-4f68-ac08-b4785d1ee9ce",
   "metadata": {},
   "outputs": [],
   "source": [
    "# - все спецсимволы\n",
    "# - все цифры\n",
    "# - заменяем множественные пробелы на единичные"
   ]
  },
  {
   "cell_type": "code",
   "execution_count": 35,
   "id": "a2b4a766-4c49-4d30-8664-95012ce0e204",
   "metadata": {},
   "outputs": [],
   "source": [
    "clean_text = lambda x: re.sub(r\"\\s+\", ' ', \n",
    "                              re.sub(r\"[\\d+]\", '',\n",
    "                                     re.sub(r\"[^\\w\\s]\", '', x.lower()).strip()\n",
    "                                    )\n",
    "                             )"
   ]
  },
  {
   "cell_type": "code",
   "execution_count": 36,
   "id": "1a2bfa07-89ff-4daa-a37d-55b27e124d18",
   "metadata": {},
   "outputs": [],
   "source": [
    "df['text_cl'] = df.text.map(clean_text)"
   ]
  },
  {
   "cell_type": "code",
   "execution_count": null,
   "id": "03bd0db8-a7b3-4fdf-8e15-6fcdfd109955",
   "metadata": {},
   "outputs": [],
   "source": []
  },
  {
   "cell_type": "code",
   "execution_count": 37,
   "id": "25bec617-8b6c-443d-8ac7-44cc8d859289",
   "metadata": {},
   "outputs": [],
   "source": [
    "#tagged_data[:5]"
   ]
  },
  {
   "cell_type": "code",
   "execution_count": 38,
   "id": "4ebe910c-215e-4ee7-8bc2-bebd8b8c378c",
   "metadata": {},
   "outputs": [],
   "source": [
    "#lem_text(\"don't\"), lem_text(\"i'll\")"
   ]
  },
  {
   "cell_type": "code",
   "execution_count": 39,
   "id": "45767ae7-4aca-450c-86ad-49edd2f18fdd",
   "metadata": {},
   "outputs": [],
   "source": [
    "#stem_text(\"don't\"), stem_text(\"i'll\")"
   ]
  },
  {
   "cell_type": "markdown",
   "id": "f03e0355-6acc-4e2a-8104-b00938f79e81",
   "metadata": {},
   "source": [
    "### Лемматизация & стемминг"
   ]
  },
  {
   "cell_type": "code",
   "execution_count": 40,
   "id": "90f3667d-dc06-4f32-9a51-2cf9c92afe78",
   "metadata": {},
   "outputs": [],
   "source": [
    "lemm = st.WordNetLemmatizer()\n",
    "lem_text = lambda x: ' '.join([lemm.lemmatize(el) for el in x.split()])\n",
    "\n",
    "\n",
    "stemm = st.RSLPStemmer()\n",
    "stem_text = lambda x: ' '.join([stemm.stem(el) for el in x.split()])"
   ]
  },
  {
   "cell_type": "code",
   "execution_count": 41,
   "id": "9dc61288-9788-4db3-8452-dac9012b55ff",
   "metadata": {},
   "outputs": [],
   "source": [
    "df['text_cl'] = df.text.map(clean_text)\n",
    "#df['text_cl'] = df.text_cl.map(lem_text)\n",
    "#df['text_cl'] = df.text_cl.map(stem_text)"
   ]
  },
  {
   "cell_type": "code",
   "execution_count": 42,
   "id": "05617b59-46d5-400c-a81d-688db183f3df",
   "metadata": {},
   "outputs": [],
   "source": [
    "df['text_cl'] = df.text_cl.map(lambda x: x.split())"
   ]
  },
  {
   "cell_type": "code",
   "execution_count": 43,
   "id": "d258fa2d-f5c4-45b4-8458-99b6452f57dc",
   "metadata": {},
   "outputs": [
    {
     "data": {
      "text/html": [
       "<div>\n",
       "<style scoped>\n",
       "    .dataframe tbody tr th:only-of-type {\n",
       "        vertical-align: middle;\n",
       "    }\n",
       "\n",
       "    .dataframe tbody tr th {\n",
       "        vertical-align: top;\n",
       "    }\n",
       "\n",
       "    .dataframe thead th {\n",
       "        text-align: right;\n",
       "    }\n",
       "</style>\n",
       "<table border=\"1\" class=\"dataframe\">\n",
       "  <thead>\n",
       "    <tr style=\"text-align: right;\">\n",
       "      <th></th>\n",
       "      <th>text</th>\n",
       "      <th>target</th>\n",
       "      <th>text_cl</th>\n",
       "    </tr>\n",
       "  </thead>\n",
       "  <tbody>\n",
       "    <tr>\n",
       "      <th>0</th>\n",
       "      <td>2 . take around 10,000 640x480 pictures .</td>\n",
       "      <td>1</td>\n",
       "      <td>[take, around, x, pictures]</td>\n",
       "    </tr>\n",
       "    <tr>\n",
       "      <th>1</th>\n",
       "      <td>i downloaded a trial version of computer assoc...</td>\n",
       "      <td>1</td>\n",
       "      <td>[i, downloaded, a, trial, version, of, compute...</td>\n",
       "    </tr>\n",
       "    <tr>\n",
       "      <th>2</th>\n",
       "      <td>the wrt54g plus the hga7t is a perfect solutio...</td>\n",
       "      <td>1</td>\n",
       "      <td>[the, wrtg, plus, the, hgat, is, a, perfect, s...</td>\n",
       "    </tr>\n",
       "    <tr>\n",
       "      <th>3</th>\n",
       "      <td>i dont especially like how music files are uns...</td>\n",
       "      <td>0</td>\n",
       "      <td>[i, dont, especially, like, how, music, files,...</td>\n",
       "    </tr>\n",
       "    <tr>\n",
       "      <th>4</th>\n",
       "      <td>i was using the cheapie pail ... and it worked...</td>\n",
       "      <td>1</td>\n",
       "      <td>[i, was, using, the, cheapie, pail, and, it, w...</td>\n",
       "    </tr>\n",
       "  </tbody>\n",
       "</table>\n",
       "</div>"
      ],
      "text/plain": [
       "                                                text  target  \\\n",
       "0          2 . take around 10,000 640x480 pictures .       1   \n",
       "1  i downloaded a trial version of computer assoc...       1   \n",
       "2  the wrt54g plus the hga7t is a perfect solutio...       1   \n",
       "3  i dont especially like how music files are uns...       0   \n",
       "4  i was using the cheapie pail ... and it worked...       1   \n",
       "\n",
       "                                             text_cl  \n",
       "0                        [take, around, x, pictures]  \n",
       "1  [i, downloaded, a, trial, version, of, compute...  \n",
       "2  [the, wrtg, plus, the, hgat, is, a, perfect, s...  \n",
       "3  [i, dont, especially, like, how, music, files,...  \n",
       "4  [i, was, using, the, cheapie, pail, and, it, w...  "
      ]
     },
     "execution_count": 43,
     "metadata": {},
     "output_type": "execute_result"
    }
   ],
   "source": [
    "df.head()"
   ]
  },
  {
   "cell_type": "code",
   "execution_count": null,
   "id": "952b8c6e-32cd-45c2-a453-1f8d5ab02581",
   "metadata": {},
   "outputs": [],
   "source": []
  },
  {
   "cell_type": "code",
   "execution_count": null,
   "id": "de5cbb90-92e0-4abb-bc2b-a8893dcf4d64",
   "metadata": {},
   "outputs": [],
   "source": []
  },
  {
   "cell_type": "markdown",
   "id": "8e394ce1-4bae-4ead-b7dc-77a72adb1760",
   "metadata": {},
   "source": [
    "Загружаем готовый wordvector"
   ]
  },
  {
   "cell_type": "markdown",
   "id": "7c53edeb-b8cd-49ce-9faa-99e0e4abd098",
   "metadata": {},
   "source": [
    "https://github.com/RaRe-Technologies/gensim-data"
   ]
  },
  {
   "cell_type": "code",
   "execution_count": 126,
   "id": "489ffca8-f5af-487c-a775-35e907b3a138",
   "metadata": {},
   "outputs": [
    {
     "name": "stderr",
     "output_type": "stream",
     "text": [
      "C:\\Users\\_v010ch_\\Anaconda3\\lib\\site-packages\\gensim\\models\\keyedvectors.py:1498: ResourceWarning: unclosed file <_io.BufferedReader name='C:\\\\Users\\\\_v010ch_/gensim-data\\\\word2vec-google-news-300\\\\word2vec-google-news-300.gz'>\n",
      "  limit=limit, datatype=datatype)\n",
      "ResourceWarning: Enable tracemalloc to get the object allocation traceback\n"
     ]
    }
   ],
   "source": [
    "#word_vectors = api.load(\"glove-wiki-gigaword-300\")\n",
    "#word_vectors = api.load(\"glove-twitter-200\")#, return_path = True\n",
    "word_vectors = api.load(\"word2vec-google-news-300\")"
   ]
  },
  {
   "cell_type": "code",
   "execution_count": 127,
   "id": "2d59f780-c962-47c9-bb95-cf7574816e6c",
   "metadata": {},
   "outputs": [
    {
     "name": "stderr",
     "output_type": "stream",
     "text": [
      "C:\\Users\\_v010ch_\\Anaconda3\\lib\\site-packages\\ipykernel\\ipkernel.py:287: DeprecationWarning: `should_run_async` will not call `transform_cell` automatically in the future. Please pass the result to `transformed_cell` argument and any exception that happen during thetransform in `preprocessing_exc_tuple` in IPython 7.17 and above.\n",
      "  and should_run_async(code)\n"
     ]
    },
    {
     "data": {
      "text/plain": [
       "<gensim.models.keyedvectors.Word2VecKeyedVectors at 0x1d50891d848>"
      ]
     },
     "execution_count": 127,
     "metadata": {},
     "output_type": "execute_result"
    }
   ],
   "source": [
    "word_vectors"
   ]
  },
  {
   "cell_type": "markdown",
   "id": "3a86cbca-be5d-436b-9f39-79f8898d9cd4",
   "metadata": {},
   "source": [
    "'C:\\\\Users\\\\****/gensim-data\\\\glove-wiki-gigaword-300\\\\glove-wiki-gigaword-300.gz'"
   ]
  },
  {
   "cell_type": "code",
   "execution_count": null,
   "id": "88359805-f595-43a6-b3d4-b4241208fd87",
   "metadata": {},
   "outputs": [],
   "source": []
  },
  {
   "cell_type": "markdown",
   "id": "9f874b41-7609-48d0-b42d-5f2a1163eea8",
   "metadata": {},
   "source": [
    "### Подготавливаем к обучению по сетке"
   ]
  },
  {
   "cell_type": "code",
   "execution_count": 107,
   "id": "e4fc99e2-a08f-48e4-af55-fc5f8cada4c0",
   "metadata": {},
   "outputs": [],
   "source": [
    "train, test, train_target, test_target = train_test_split(df.text_cl, df.target, \n",
    "                                                          test_size = 0.2, \n",
    "                                                          stratify = df.target, \n",
    "                                                          random_state = 52138,\n",
    "                                                         )"
   ]
  },
  {
   "cell_type": "code",
   "execution_count": null,
   "id": "d446bd07-6793-4161-9fc8-80a96ed18521",
   "metadata": {},
   "outputs": [],
   "source": []
  },
  {
   "cell_type": "markdown",
   "id": "a23086a0-c1c1-4e8f-ac6b-a948fcff3e64",
   "metadata": {},
   "source": [
    "### Параметры для перебора"
   ]
  },
  {
   "cell_type": "code",
   "execution_count": 108,
   "id": "da8553dc-f6cc-4668-b7f3-6926480f91bc",
   "metadata": {},
   "outputs": [
    {
     "name": "stderr",
     "output_type": "stream",
     "text": [
      "C:\\Users\\_v010ch_\\Anaconda3\\lib\\site-packages\\ipykernel\\ipkernel.py:287: DeprecationWarning: `should_run_async` will not call `transform_cell` automatically in the future. Please pass the result to `transformed_cell` argument and any exception that happen during thetransform in `preprocessing_exc_tuple` in IPython 7.17 and above.\n",
      "  and should_run_async(code)\n"
     ]
    }
   ],
   "source": [
    "pipe_cnt = Pipeline([#('w2v', W2VTransformer(size=100, min_count=1, seed=1)),\n",
    "                     ('clf', LogisticRegression()),\n",
    "                      ])"
   ]
  },
  {
   "cell_type": "code",
   "execution_count": 109,
   "id": "029fa072-2d02-424e-943d-61f83dc184af",
   "metadata": {},
   "outputs": [],
   "source": [
    "parameters_v0 = {\n",
    "        'clf': [#LogisticRegression(), \n",
    "                LinearSVC(),\n",
    "                #SGDClassifier(), \n",
    "                #RandomForestClassifier(),\n",
    "                #xgb.XGBClassifier(tree_method='gpu_hist', gpu_id=0),\n",
    "                #xgb.XGBClassifier(eval_metric = 'auc'),\n",
    "               ],\n",
    "    }"
   ]
  },
  {
   "cell_type": "code",
   "execution_count": 116,
   "id": "e4a4affa-47ae-44a7-afbc-b87ea3a73a67",
   "metadata": {},
   "outputs": [],
   "source": [
    "parameters = [\n",
    "            {'clf': [LogisticRegression(max_iter = 150)]}, \n",
    "            {'clf': [LinearSVC(max_iter = 1500)]},\n",
    "            {'clf': [SGDClassifier()]}, \n",
    "            {'clf': [RandomForestClassifier()]},\n",
    "            {'clf': [xgb.XGBClassifier(eval_metric = 'auc', use_label_encoder=False)]},\n",
    "                     #xgb.XGBClassifier(tree_method='gpu_hist', gpu_id=0),\n",
    "            {'clf': [LGBMClassifier()]},\n",
    "]"
   ]
  },
  {
   "cell_type": "code",
   "execution_count": null,
   "id": "57311b4e-95a0-443f-8ee8-3503867fbe03",
   "metadata": {},
   "outputs": [],
   "source": []
  },
  {
   "cell_type": "code",
   "execution_count": 117,
   "id": "757b51ac-a6e0-45cb-afea-f3d0c5cf0ff5",
   "metadata": {},
   "outputs": [],
   "source": [
    "# Трансфорование данных (отзыва) в вектор\n",
    "# требуется исключить слова, которые не встречались, т.к. выдаст ошибку\n",
    "# и полученные вектораотзыва усредняем по столбцам\n",
    "def transform_x2v(inp_model, inp_series):\n",
    "    transformed_ndarray = np.ndarray((inp_series.shape[0], inp_model.gensim_model.vector_size))\n",
    "    \n",
    "    for row, idx in enumerate(inp_series.index):\n",
    "        \n",
    "        tr_string = ''\n",
    "        for wrd in inp_series[idx]:\n",
    "            if wrd in inp_model.gensim_model.wv.vocab:\n",
    "                tr_string = ' '.join([tr_string, wrd])\n",
    "\n",
    "        transformed_ndarray[row] = np.mean(inp_model.transform(tr_string.split()), axis = 0)\n",
    "    \n",
    "    return transformed_ndarray"
   ]
  },
  {
   "cell_type": "code",
   "execution_count": 118,
   "id": "2ff01a6a-9759-45e1-a7f7-6a80595f6548",
   "metadata": {},
   "outputs": [],
   "source": [
    "# Трансфорование данных (отзыва) в вектор\n",
    "# требуется исключить слова, которые не встречались, т.к. выдаст ошибку\n",
    "# и полученные вектораотзыва усредняем по столбцам\n",
    "def transform_x2v_kv(inp_wv, inp_series):\n",
    "    transformed_ndarray = np.ndarray((inp_series.shape[0], inp_wv.vector_size))\n",
    "    \n",
    "    for row, idx in enumerate(inp_series.index):\n",
    "        vect = []    \n",
    "        for wrd in inp_series[idx]:\n",
    "            if wrd in inp_wv:\n",
    "                vect.append(inp_wv.get_vector(wrd))\n",
    "\n",
    "        transformed_ndarray[row] = np.mean(vect, axis = 0)\n",
    "    \n",
    "    return transformed_ndarray"
   ]
  },
  {
   "cell_type": "code",
   "execution_count": 131,
   "id": "05a71ef3-4489-4f08-9818-e21fae17f9a2",
   "metadata": {},
   "outputs": [
    {
     "name": "stdout",
     "output_type": "stream",
     "text": [
      "Fitting 5 folds for each of 6 candidates, totalling 30 fits\n",
      "Wall time: 13.4 s\n"
     ]
    }
   ],
   "source": [
    "%%time\n",
    "#warnings.filterwarnings(\"ignore\")\n",
    "\n",
    "train_x2v = np.nan_to_num(transform_x2v_kv(word_vectors, train))\n",
    "\n",
    "grid = GridSearchCV(pipe_cnt, parameters, cv = 5, scoring = 'roc_auc', verbose = 1, n_jobs=-1)\n",
    "ret = grid.fit(train_x2v, train_target)\n",
    "\n",
    "\n",
    "#warnings.filterwarnings(\"always\")\n",
    "#warnings.filterwarnings(\"default\")"
   ]
  },
  {
   "cell_type": "markdown",
   "id": "4e75a063-805a-49ee-957a-5994434eb010",
   "metadata": {},
   "source": [
    "Посмотрим на несколько лучших результатов"
   ]
  },
  {
   "cell_type": "code",
   "execution_count": 132,
   "id": "fe329c1a-0ec2-4bfd-81a9-672f6983066b",
   "metadata": {},
   "outputs": [
    {
     "name": "stderr",
     "output_type": "stream",
     "text": [
      "C:\\Users\\_v010ch_\\Anaconda3\\lib\\site-packages\\ipykernel\\ipkernel.py:287: DeprecationWarning: `should_run_async` will not call `transform_cell` automatically in the future. Please pass the result to `transformed_cell` argument and any exception that happen during thetransform in `preprocessing_exc_tuple` in IPython 7.17 and above.\n",
      "  and should_run_async(code)\n"
     ]
    },
    {
     "data": {
      "text/plain": [
       "(0.8636084672595828, sklearn.svm._classes.LinearSVC)"
      ]
     },
     "execution_count": 132,
     "metadata": {},
     "output_type": "execute_result"
    }
   ],
   "source": [
    "grid.best_score_, grid.best_estimator_['clf'].__class__"
   ]
  },
  {
   "cell_type": "code",
   "execution_count": 133,
   "id": "4b302814-e2a9-4523-ad47-57413ba3623f",
   "metadata": {},
   "outputs": [
    {
     "data": {
      "text/plain": [
       "[(0.8625631242771201, {'clf': LogisticRegression(max_iter=150)}),\n",
       " (0.8636084672595828, {'clf': LinearSVC(max_iter=1500)}),\n",
       " (0.8592270108750839, {'clf': SGDClassifier()}),\n",
       " (0.8326044476145895, {'clf': RandomForestClassifier()}),\n",
       " (0.8438609086428558,\n",
       "  {'clf': XGBClassifier(base_score=None, booster=None, colsample_bylevel=None,\n",
       "                 colsample_bynode=None, colsample_bytree=None, eval_metric='auc',\n",
       "                 gamma=None, gpu_id=None, importance_type='gain',\n",
       "                 interaction_constraints=None, learning_rate=None,\n",
       "                 max_delta_step=None, max_depth=None, min_child_weight=None,\n",
       "                 missing=nan, monotone_constraints=None, n_estimators=100,\n",
       "                 n_jobs=None, num_parallel_tree=None, random_state=None,\n",
       "                 reg_alpha=None, reg_lambda=None, scale_pos_weight=None,\n",
       "                 subsample=None, tree_method=None, use_label_encoder=False,\n",
       "                 validate_parameters=None, verbosity=None)}),\n",
       " (0.8457348235492252, {'clf': LGBMClassifier()})]"
      ]
     },
     "execution_count": 133,
     "metadata": {},
     "output_type": "execute_result"
    }
   ],
   "source": [
    "[(el0, el1) for el0, el1 in zip(grid.cv_results_['mean_test_score'], grid.cv_results_['params'])]"
   ]
  },
  {
   "cell_type": "code",
   "execution_count": null,
   "id": "2380346e-cd14-4f56-8fd2-92cad3064908",
   "metadata": {},
   "outputs": [],
   "source": []
  },
  {
   "cell_type": "raw",
   "id": "22350265-ace7-426b-a08f-7d352e0f1619",
   "metadata": {},
   "source": [
    "word2vec-google-news-300\n",
    "\n",
    "[(0.8625631242771201, {'clf': LogisticRegression(max_iter=150)}),\n",
    " (0.8636084672595828, {'clf': LinearSVC(max_iter=1500)}),\n",
    " (0.858903773711076, {'clf': SGDClassifier()}),\n",
    " (0.8193513369096534, {'clf': RandomForestClassifier()}),\n",
    " (0.8438609086428558,\n",
    "  {'clf': XGBClassifier(base_score=None, booster=None, colsample_bylevel=None,\n",
    "                 colsample_bynode=None, colsample_bytree=None, eval_metric='auc',\n",
    "                 gamma=None, gpu_id=None, importance_type='gain',\n",
    "                 interaction_constraints=None, learning_rate=None,\n",
    "                 max_delta_step=None, max_depth=None, min_child_weight=None,\n",
    "                 missing=nan, monotone_constraints=None, n_estimators=100,\n",
    "                 n_jobs=None, num_parallel_tree=None, random_state=None,\n",
    "                 reg_alpha=None, reg_lambda=None, scale_pos_weight=None,\n",
    "                 subsample=None, tree_method=None, use_label_encoder=False,\n",
    "                 validate_parameters=None, verbosity=None)}),\n",
    " (0.8457348235492252, {'clf': LGBMClassifier()})]"
   ]
  },
  {
   "cell_type": "raw",
   "id": "4bee0074-4c21-4930-b236-aab6e1c96337",
   "metadata": {},
   "source": [
    "glove-twitter-200\n",
    "\n",
    "[(0.8583412586962285, {'clf': LogisticRegression(max_iter=150)}),\n",
    " (0.8469416148422233, {'clf': LinearSVC(max_iter=1500)}),\n",
    " (0.847100122100122, {'clf': SGDClassifier()}),\n",
    " (0.8061515366535652, {'clf': RandomForestClassifier()}),\n",
    " (0.829008004616524,\n",
    "  {'clf': XGBClassifier(base_score=None, booster=None, colsample_bylevel=None,\n",
    "                 colsample_bynode=None, colsample_bytree=None, eval_metric='auc',\n",
    "                 gamma=None, gpu_id=None, importance_type='gain',\n",
    "                 interaction_constraints=None, learning_rate=None,\n",
    "                 max_delta_step=None, max_depth=None, min_child_weight=None,\n",
    "                 missing=nan, monotone_constraints=None, n_estimators=100,\n",
    "                 n_jobs=None, num_parallel_tree=None, random_state=None,\n",
    "                 reg_alpha=None, reg_lambda=None, scale_pos_weight=None,\n",
    "                 subsample=None, tree_method=None, use_label_encoder=False,\n",
    "                 validate_parameters=None, verbosity=None)}),\n",
    " (0.8343619897118882, {'clf': LGBMClassifier()})]"
   ]
  },
  {
   "cell_type": "raw",
   "id": "4499a985-f4e9-43e8-9f8f-748d0478bd77",
   "metadata": {},
   "source": [
    "glove-wiki-gigaword-300\n",
    "\n",
    "[(0.855325131821075, {'clf': LogisticRegression()}),\n",
    " (0.8418739025229897, {'clf': LinearSVC(max_iter=1500)}),\n",
    " (0.838749947370637, {'clf': SGDClassifier()}),\n",
    " (0.802623171284429, {'clf': RandomForestClassifier()}),\n",
    " (0.8253392891197151,\n",
    "  {'clf': XGBClassifier(base_score=None, booster=None, colsample_bylevel=None,\n",
    "                 colsample_bynode=None, colsample_bytree=None, eval_metric='auc',\n",
    "                 gamma=None, gpu_id=None, importance_type='gain',\n",
    "                 interaction_constraints=None, learning_rate=None,\n",
    "                 max_delta_step=None, max_depth=None, min_child_weight=None,\n",
    "                 missing=nan, monotone_constraints=None, n_estimators=100,\n",
    "                 n_jobs=None, num_parallel_tree=None, random_state=None,\n",
    "                 reg_alpha=None, reg_lambda=None, scale_pos_weight=None,\n",
    "                 subsample=None, tree_method=None, use_label_encoder=False,\n",
    "                 validate_parameters=None, verbosity=None)}),\n",
    " (0.8239905688181549, {'clf': LGBMClassifier()})]"
   ]
  },
  {
   "cell_type": "code",
   "execution_count": null,
   "id": "4b856009-dcb4-4aee-ae8c-fd6711edcf9a",
   "metadata": {},
   "outputs": [],
   "source": []
  },
  {
   "cell_type": "code",
   "execution_count": null,
   "id": "4a103bfe-ca40-4f26-bc1f-44e4d00e25e4",
   "metadata": {},
   "outputs": [],
   "source": []
  },
  {
   "cell_type": "markdown",
   "id": "1b11149c-70c8-484b-952a-455f7185a3a2",
   "metadata": {},
   "source": []
  },
  {
   "cell_type": "code",
   "execution_count": null,
   "id": "f1f29de7-7b58-42b7-9d39-f9295099db44",
   "metadata": {},
   "outputs": [],
   "source": []
  },
  {
   "cell_type": "markdown",
   "id": "70796698-0a61-4cd9-a709-759e07534c64",
   "metadata": {},
   "source": [
    "### Попробуем определить причины ошибок по тесту"
   ]
  },
  {
   "cell_type": "code",
   "execution_count": 139,
   "id": "860e09bf-763d-4b4d-970c-6881cb39be62",
   "metadata": {},
   "outputs": [
    {
     "data": {
      "text/plain": [
       "LinearSVC(max_iter=2500)"
      ]
     },
     "execution_count": 139,
     "metadata": {},
     "output_type": "execute_result"
    }
   ],
   "source": [
    "#train_x2v = np.nan_to_num(transform_x2v(model_x2v, train))\n",
    "\n",
    "model = LinearSVC(max_iter = 2500)\n",
    "model.fit(train_x2v, train_target)"
   ]
  },
  {
   "cell_type": "code",
   "execution_count": 142,
   "id": "3fed59ea-e51b-4aba-9b6c-baf5ccb45a4d",
   "metadata": {},
   "outputs": [],
   "source": [
    "test_pred = model.predict(np.nan_to_num(transform_x2v_kv(word_vectors, test)))"
   ]
  },
  {
   "cell_type": "code",
   "execution_count": 143,
   "id": "232faca2-3a87-40eb-8348-d6ff568a3589",
   "metadata": {},
   "outputs": [
    {
     "name": "stderr",
     "output_type": "stream",
     "text": [
      "C:\\Users\\_v010ch_\\Anaconda3\\lib\\site-packages\\ipykernel\\ipkernel.py:287: DeprecationWarning: `should_run_async` will not call `transform_cell` automatically in the future. Please pass the result to `transformed_cell` argument and any exception that happen during thetransform in `preprocessing_exc_tuple` in IPython 7.17 and above.\n",
      "  and should_run_async(code)\n"
     ]
    },
    {
     "data": {
      "text/plain": [
       "array([[ 91,  54],\n",
       "       [ 39, 216]], dtype=int64)"
      ]
     },
     "execution_count": 143,
     "metadata": {},
     "output_type": "execute_result"
    }
   ],
   "source": [
    "confusion_matrix(test_target, test_pred)"
   ]
  },
  {
   "cell_type": "markdown",
   "id": "1ddad068-288d-4da1-90e0-e1ddb47e9f3c",
   "metadata": {},
   "source": [
    "только половина отрицательных отзывов, посмотрим их"
   ]
  },
  {
   "cell_type": "code",
   "execution_count": 144,
   "id": "dae13fe2-6412-40ed-89d8-7368720723e7",
   "metadata": {
    "tags": []
   },
   "outputs": [
    {
     "name": "stdout",
     "output_type": "stream",
     "text": [
      "1585 0 although i find it more convenient to use 1-touch dialing , this phone does not have voice dialing . \n",
      "1736 0 it is slightly larger than an ipod , no doubt about it . \n",
      "1650 0 the gprs web access is sloooooooooooooow !\n",
      "617 1 no skips , and it hasn 't faltered once ( despite your inevitable drop or two .\n",
      "506 1 however , the battery life is good enough you should n't be overly concerned with turning this phone off . \n",
      "931 1 it is the most bang-for-the-buck out there . \n",
      "315 1 norton pops up a window about the intrusions and gives me as much detail as possible about where the intrusion is coming from .\n",
      "207 1 so far it has been very durable ( other than the little pads on the earbuds ) , but those aren 't really necessary as i find them comfortable on their own .\n",
      "966 0 recenly the variable speed control went out .\n",
      "1972 1 my first impression was positive . \n",
      "1777 0 it also has a stock tracking app built in ( also useless ) and a somewhat useful application which converts all types of metrics ( currency , length , area , etc ) . \n",
      "358 1 but it comes with a tank of a case and if you cut a piece out where the screen is you can always keep it in the case and still access everything . \n",
      "1624 0 bluetooth does not work on this phone .\n",
      "800 0 2 ) not very ergonomical - you 'll find even for a point-and-shoot lens ) \n",
      "1550 0 is not as intuitive as i would like .\n",
      "1722 0 even the \" shorter \" battery life , though , has not impaired my positive experience with the zen micro in any way .\n",
      "754 0 i would have liked to have given it 4 1/2 stars docking that 1/2 star only for the size . \n",
      "797 1 i still give the ipod five stars , though , as it could have been something i did incorrectly during the install ( though i did follow the onscreen prompts ) so i 'll give apple the benefit of the doubt .\n",
      "1867 1 i had no problems following their installation instructions . \n",
      "1704 0 this isn 't uncommon in cameras , though , just as long as you bring your charger and spare batteries , you should be fine .\n",
      "743 0 limitations : - not a lot of original accessories like the ipod .\n",
      "1909 0 the zoom lens unit feels fragile and it is worth buying a good camera bag if you are going put to carry it round a lot . \n",
      "1202 0 nagatives of the player itself : you need to do a little work before having full enjoyement of this player .\n",
      "108 1 at first i had a problem with some smell , then i realized if you flip the lid back and always keep the same side facing in - then there is no smell at all !\n",
      "1236 0 i can not find a carrier for this phone i like , end up just tossing it in my purse .\n",
      "1593 0 3 ) with mediasource being so easy , i found no use for the bundled nomad explorer software . \n",
      "1952 1 in a week of use i 've never had to reboot the router .\n",
      "419 1 the wood can be pushed thru fast or slow with little bog .\n",
      "1433 0 first of all , i 've never been big on earbuds - they 're just not that comfortable .\n",
      "759 0 however , configuration of my system and actual setup of the router for wireless use took me more than 3 hours , and briefly made me reconsider my choice to forego the airport and its notoriously easy setup .\n",
      "1230 1 as opposed to the nomad ii or any other flash based player , the songs load extremely fast ... about one or two seconds per song .\n",
      "1992 1 the player does seem to play dvds adequately enough . \n",
      "923 1 the controls are on the side instead of on the front , which i like , because that 's where my thumb is when i hold the thing ! \n",
      "1974 0 i purchased a jukebox , it got fried while being recharged , they asked for $ 20usd just to look at it and said that they would charge me for repaing the damned thing . \n",
      "1435 0 on average , indoor shots with a flash are not quite as good as 35mm . \n",
      "223 1 i would have given this phone 5 stars if it wasn 't for the fact that i would rather use my 3330 to do all the most common things you do with a phone .\n",
      "640 0 fm receiver - it has none . \n",
      "794 0 the dynamic playlists ( \" now playing \" , i belive creative calls it ) feels very awkward at times and some menus simply take to long to get to and operate .. . \n",
      "135 1 reviews for sound quality are generally ( but not universally ) positive . \n",
      "960 1 the camera is as easy to use as a point and shoot , and with instant review on the lcd screen , you can retake any flubbed shots on the spot .\n",
      "1248 1 the manual does a fine job filling in any blanks that remain . \n",
      "564 0 i could hardly use it without a recharge in 2 days !\n",
      "987 1 it is no more heavy than any other powerful router and not as bad as some porter cable models i tried .\n",
      "78 0 essentially , the cd included with the package is , for the most part , worthless .\n",
      "1749 1 the more i use it and figure out how to do things , the more i like it .\n",
      "773 0 it is some protection for the unit , but for useability , forget it . \n",
      "1069 0 i would not be inclined to purchase an apex product again . \n",
      "1201 0 the back of the ipod is in a chrome finish , and this surface is prone to scratches .\n",
      "865 1 goes ~ 3 days after a charge .\n",
      "1329 1 first , the battery is replacable by the user , because creative intended it to be - unlike apple with the ipod . \n",
      "285 0 respectable , solid , but not awe-inspiring .\n",
      "626 0 that is , you cannot access the internet at all .\n",
      "1473 1 this router does everything that it is supposed to do , so i dont really know how to talk that bad about it .\n",
      "1271 0 this is not an enterprise piece of hardware that you will find in an office or corporate environment .\n",
      "540 0 - radio quality : weak reception\n",
      "926 0 on occasion i 'm not able to connect to the phone with isync via bluetooth but i found that rebooting the phone seems to solve this problem .\n",
      "1252 1 their website had a download that helped remove those , although i had to manually remove a good number of files from the \" programs \" directory .\n",
      "292 1 i find all of the controls well-placed and not flimsy in the least . \n",
      "515 0 the quick sync is n't any good becuase it either needs to be configured properly or just is n't very useful . \n",
      "1986 0 1 . pictures wo n't transfer to pc directly from the camera using the included transfer cable . \n",
      "326 0 you can 't change the battery , so i don 't know what i 'm going to do in a year or so .\n",
      "269 0 i must say , this one is quite slow to open an application .\n",
      "380 0 6 . the zen nx battery requires the ac adapter to recharge ; it does not charge by usb cable ; this is not tragic , but usb recharging would be a convenient ( additional ) choice . \n",
      "1239 0 1 no direct firewire to the camera . \n",
      "688 1 i upgraded both my card and router and really had no problems with installation on my sony vaio laptop ( xp operating system ) .\n",
      "1163 0 a little weighty ( 9 ounces ... no biggie ) , but otherwise fine . \n",
      "1063 0 for example , in auto mode you can 't use the flash redeye reduction , you must be in manual mode for that .\n",
      "991 1 i 've used the speakerphone for almost two hours once and the battery did not even go down one single bar . \n",
      "891 1 i 'm not sure why all the bad reviews , my computer isn 't especially slowed down and i have win ' 98 .\n",
      "1849 1 anted to rate the router higher than 1 star , due to its security , easy of use , etc .\n",
      "1789 0 when i hooked it up it only produced sound - a cd played fine , but with a dvd i only got the audio - no picture ! \n",
      "672 0 the player feels very delicate , as if i 'm holding an actual hard drive . \n",
      "270 1 seriously , this thing has everything that a pro or expert amateur could want . \n",
      "653 1 hold button-- suprisingly not all mp3s have this ; this allows you to have all the buttons unusable , so that you don 't accidently hit something in your pocket .\n",
      "250 0 granted , i have only used this dvd player for about 2 hours setting it up for my mom for christmas , but that was long enough for me to find problems with this dvd player . \n",
      "24 0 the creative mediasource software that comes with the zen micro is cluttered , and excludes my favorite feature in itunes , the ability to automatically copy everything you import into a certain folder .\n",
      "1122 1 the cool thing about the ad-2600 it plays alot of different file like mp3 , wma cds , jpeg and kodak picture cds , dvd 's , dvd - / + r 's . \n",
      "1705 0 regarding pc software support nokia suite does not work with some versions of xp as i tried to connect my phone via infrared port on my laptop . \n",
      "1762 0 i will never buy a creative product again . \n",
      "827 1 - equipment included is average , but that is n't a big deal since thats not what you are buying it for . \n",
      "919 1 it was so easy my toddler would dispose of her on diapers .\n",
      "309 0 it would spin , read , spin some more and then show on the display that there was no disc . \n",
      "1022 0 remote buttons are small and closely spaced , especially with the menu buttons . \n",
      "1492 0 i have to move pictures off of it every day so i have room for more pictures the next , and i don 't have enough money to buy the 256 meg card that i 've had my eye on for a while .\n",
      "1444 1 have used it frequently and have had no problems . \n",
      "1135 0 again , this doesn 't affect regular mp3 files - just subscription drm-encoded files , like those from napster-to-go or yahoo music unlimited .\n",
      "236 1 but it ; you won 't regret it .\n",
      "1745 0 i have excellent hearing but the volume level on this phone is especially quiet . \n",
      "1733 0 navigation could be better , but there is n't really anything the zen xtra can 't do once you 've gotten comfortable with it . \n",
      "908 1 the headphone earbuds are average , so just use your regular pair instead . \n",
      "257 0 it also has unproven battery life . \n",
      "1863 0 doesn 't have alot of good games on it .\n",
      "1821 1 the eax settings are somewhat superfluous but not really a negative . \n"
     ]
    },
    {
     "name": "stderr",
     "output_type": "stream",
     "text": [
      "C:\\Users\\_v010ch_\\Anaconda3\\lib\\site-packages\\ipykernel\\ipkernel.py:287: DeprecationWarning: `should_run_async` will not call `transform_cell` automatically in the future. Please pass the result to `transformed_cell` argument and any exception that happen during thetransform in `preprocessing_exc_tuple` in IPython 7.17 and above.\n",
      "  and should_run_async(code)\n"
     ]
    }
   ],
   "source": [
    "for idx in range(test.shape[0]):\n",
    "    if test_pred[idx] != test_target[test.index[idx]]:\n",
    "        print(test.index[idx],test_target[test.index[idx]], df.loc[test.index[idx]].text)"
   ]
  },
  {
   "cell_type": "markdown",
   "id": "770cdb3d-5f80-4994-b68d-7de9eed8c4b5",
   "metadata": {},
   "source": [
    "Если посмотреть на отзывы, в которых модель ошиблась - то в них нет ничего необычного.   \n",
    "Большая часть однозначно определяется как положительные или отрицательные.   \n",
    "Предполагаю, что влияют 2 фактора: несбалансированность класса и не больша выборка для обучения\n",
    "Попробуем исправить, настроив class_weights"
   ]
  },
  {
   "cell_type": "code",
   "execution_count": null,
   "id": "06ff906e-1c61-48e1-b4c0-a776d0b0a3ed",
   "metadata": {},
   "outputs": [],
   "source": []
  },
  {
   "cell_type": "markdown",
   "id": "c52196d5-eabc-402f-8660-3b37b660f2a1",
   "metadata": {},
   "source": [
    "# Пробуем настроить параметры алгоритма"
   ]
  },
  {
   "cell_type": "markdown",
   "id": "b69287d8-4966-4960-9ea8-3459dd9531f9",
   "metadata": {},
   "source": [
    "#### в 3-4 итерации. в начале ищем приближенные лучшие значения(закомментированные параметры ниже),   \n",
    "#### потом их уточняем"
   ]
  },
  {
   "cell_type": "code",
   "execution_count": 145,
   "id": "13f9721d-87f6-421d-9194-2c0043bb9774",
   "metadata": {},
   "outputs": [],
   "source": [
    "pipe_cnt = Pipeline([('clf', SVC()),\n",
    "                      ])"
   ]
  },
  {
   "cell_type": "code",
   "execution_count": 168,
   "id": "9ad641c7-38dc-4771-a719-c79d7ddf15d0",
   "metadata": {},
   "outputs": [],
   "source": [
    "model_parameters = {\n",
    "    'clf__max_iter' : [2500, 2000],# 1500],\n",
    "    'clf__kernel': ['rbf', 'linear'], #'poly', 'sigmoid',],\n",
    "    #'clf__C': np.logspace(-1, 2, 20),\n",
    "    'clf__C': np.linspace(3.5, 4, 10),\n",
    "    'clf__class_weight': [{0: 0.53 - shift, 1:0.47 + shift} for shift in np.linspace(-0.01, 0.01, 20)] + ['balanced'],\n",
    "    #'clf__class_weight': [{0: 0.56 - shift, 1:0.44 + shift} for shift in np.linspace(-0.01, 0.01, 20)]# + ['balanced'],\n",
    "}"
   ]
  },
  {
   "cell_type": "code",
   "execution_count": null,
   "id": "f700f585-94ff-4703-950f-309e7af31ce1",
   "metadata": {},
   "outputs": [],
   "source": []
  },
  {
   "cell_type": "code",
   "execution_count": 169,
   "id": "f288db75-7a2e-4e80-8c03-2c33cb502c27",
   "metadata": {},
   "outputs": [
    {
     "name": "stdout",
     "output_type": "stream",
     "text": [
      "Fitting 5 folds for each of 840 candidates, totalling 4200 fits\n",
      "Wall time: 14min 59s\n"
     ]
    },
    {
     "data": {
      "text/plain": [
       "Pipeline(steps=[('clf',\n",
       "                 SVC(C=3.6666666666666665,\n",
       "                     class_weight={0: 0.531578947368421, 1: 0.4684210526315789},\n",
       "                     max_iter=2500))])"
      ]
     },
     "execution_count": 169,
     "metadata": {},
     "output_type": "execute_result"
    }
   ],
   "source": [
    "%%time\n",
    "\n",
    "train_x2v = np.nan_to_num(transform_x2v_kv(word_vectors, train))\n",
    "\n",
    "grid_tune = GridSearchCV(pipe_cnt, model_parameters, cv = 5, scoring = 'roc_auc', verbose = 1, n_jobs=-1)\n",
    "grid_tune.fit(train_x2v, train_target)\n",
    "grid_tune.best_estimator_"
   ]
  },
  {
   "cell_type": "code",
   "execution_count": 170,
   "id": "5fcc15ae-151c-47ec-bb8c-b9fb7d908c4c",
   "metadata": {},
   "outputs": [
    {
     "name": "stderr",
     "output_type": "stream",
     "text": [
      "C:\\Users\\_v010ch_\\Anaconda3\\lib\\site-packages\\ipykernel\\ipkernel.py:287: DeprecationWarning: `should_run_async` will not call `transform_cell` automatically in the future. Please pass the result to `transformed_cell` argument and any exception that happen during thetransform in `preprocessing_exc_tuple` in IPython 7.17 and above.\n",
      "  and should_run_async(code)\n"
     ]
    },
    {
     "data": {
      "text/plain": [
       "{'clf__C': 3.6666666666666665,\n",
       " 'clf__class_weight': {0: 0.531578947368421, 1: 0.4684210526315789},\n",
       " 'clf__kernel': 'rbf',\n",
       " 'clf__max_iter': 2500}"
      ]
     },
     "execution_count": 170,
     "metadata": {},
     "output_type": "execute_result"
    }
   ],
   "source": [
    "grid_tune.best_params_"
   ]
  },
  {
   "cell_type": "code",
   "execution_count": 171,
   "id": "153558a8-a70a-4cea-b3b8-ee61227d9c82",
   "metadata": {},
   "outputs": [
    {
     "data": {
      "text/plain": [
       "0.8729543895365397"
      ]
     },
     "execution_count": 171,
     "metadata": {},
     "output_type": "execute_result"
    }
   ],
   "source": [
    "grid_tune.best_score_"
   ]
  },
  {
   "cell_type": "markdown",
   "id": "d8a06065-84f7-4d53-bf4b-e22b99f70f2c",
   "metadata": {},
   "source": [
    "0.8729543895365397\n",
    "{'clf__C': 3.6666666666666665,\n",
    " 'clf__class_weight': {0: 0.531578947368421, 1: 0.4684210526315789},\n",
    " 'clf__kernel': 'rbf',\n",
    " 'clf__max_iter': 2500}\n",
    "\n",
    "0.8729120383785698\n",
    "{'clf__C': 3.7368421052631575,\n",
    " 'clf__class_weight': {0: 0.5342105263157895, 1: 0.46578947368421053},\n",
    " 'clf__kernel': 'rbf',\n",
    " 'clf__max_iter': 2500}\n",
    " \n",
    "0.8729205209935433\n",
    "('clf', SVC(C=3.79269019073225,\n",
    "class_weight={0: 0.5368421052631579, : 0.4631578947368421},\n",
    "max_iter=2500))"
   ]
  },
  {
   "cell_type": "raw",
   "id": "57313f74-67d6-474c-924e-d1bd692980ed",
   "metadata": {},
   "source": []
  },
  {
   "cell_type": "markdown",
   "id": "e766706b-058b-404b-b945-ddbb31ff8fc9",
   "metadata": {},
   "source": [
    "Посмотрим на несколько лучших результатов, после чего уточняем параметры и повторяем (несколько раз) GridSearchCV"
   ]
  },
  {
   "cell_type": "code",
   "execution_count": 173,
   "id": "f31a0e9e-5111-4867-adb6-16c5cf1b21b7",
   "metadata": {},
   "outputs": [
    {
     "name": "stdout",
     "output_type": "stream",
     "text": [
      "clf__max_iter\n",
      "[2500 2000 2500 2000 2500 2000]\n",
      "clf__kernel\n",
      "['rbf' 'rbf' 'rbf' 'rbf' 'rbf' 'rbf']\n",
      "clf__C\n",
      "[3.611111111111111 3.611111111111111 3.6666666666666665 3.6666666666666665\n",
      " 3.7777777777777777 3.7777777777777777]\n",
      "clf__class_weight\n",
      "[{0: 0.5305263157894737, 1: 0.46947368421052627}\n",
      " {0: 0.5305263157894737, 1: 0.46947368421052627}\n",
      " {0: 0.531578947368421, 1: 0.4684210526315789}\n",
      " {0: 0.531578947368421, 1: 0.4684210526315789}\n",
      " {0: 0.5378947368421053, 1: 0.4621052631578947}\n",
      " {0: 0.5378947368421053, 1: 0.4621052631578947}]\n"
     ]
    }
   ],
   "source": [
    "interested_tune = np.where(grid_tune.cv_results_['rank_test_score'] <= 5)\n",
    "for field in model_parameters.keys():\n",
    "    print(field)\n",
    "    for idx in interested_tune:\n",
    "        print(grid_tune.cv_results_['param_' + field][idx])"
   ]
  },
  {
   "cell_type": "code",
   "execution_count": 174,
   "id": "2eaf0ac5-455e-4a22-8977-517954a9b314",
   "metadata": {},
   "outputs": [
    {
     "data": {
      "text/plain": [
       "array([0.8729291 , 0.8729291 , 0.87295439, 0.87295439, 0.8729373 ,\n",
       "       0.8729373 ])"
      ]
     },
     "execution_count": 174,
     "metadata": {},
     "output_type": "execute_result"
    }
   ],
   "source": [
    "grid_tune.cv_results_['mean_test_score'][np.where(grid_tune.cv_results_['rank_test_score'] <= 5)]"
   ]
  },
  {
   "cell_type": "raw",
   "id": "0b53b249-70c0-4b61-a4db-8e05142ecaf1",
   "metadata": {},
   "source": []
  },
  {
   "cell_type": "code",
   "execution_count": null,
   "id": "bae98688-89b4-4582-8106-66c19334b451",
   "metadata": {},
   "outputs": [],
   "source": []
  },
  {
   "cell_type": "code",
   "execution_count": null,
   "id": "9779dc70-8f39-4349-9f9b-44e162c9b898",
   "metadata": {},
   "outputs": [],
   "source": []
  },
  {
   "cell_type": "markdown",
   "id": "f8fb46e8-ba55-4d53-b740-2c27b81a8333",
   "metadata": {},
   "source": [
    "Остановимся на следующих параметрах:    \n",
    "\n",
    "word_vectors - \"word2vec-google-news-300\"   \n",
    "SVC\n",
    "kernel = 'rbf'\n",
    "C =  3.6666666666666665\n",
    "сlass_weight = {0: 0.531578947368421, 1: 0.4684210526315789}\n",
    "max_iter = 2500"
   ]
  },
  {
   "cell_type": "markdown",
   "id": "35068e68-8a8b-4ddd-9d58-23b81ecd9315",
   "metadata": {},
   "source": [
    "Получим модель и submission для выбранных параметров"
   ]
  },
  {
   "cell_type": "code",
   "execution_count": null,
   "id": "f262624a-7a19-468e-8499-4d40d6b45688",
   "metadata": {},
   "outputs": [],
   "source": []
  },
  {
   "cell_type": "markdown",
   "id": "3d281fb7-cba5-4d09-a79d-0852d734d31d",
   "metadata": {},
   "source": [
    "### Подготавливаем данные для обучения финальной модели и прогноза"
   ]
  },
  {
   "cell_type": "code",
   "execution_count": 175,
   "id": "b3c603f1-c77a-417c-bd63-dcf3b37182d2",
   "metadata": {},
   "outputs": [
    {
     "data": {
      "text/plain": [
       "(500, 2)"
      ]
     },
     "execution_count": 175,
     "metadata": {},
     "output_type": "execute_result"
    }
   ],
   "source": [
    "df_test = pd.read_csv(os.path.join(PATH_DATA, 'products_sentiment_test.tsv'),\n",
    "                        index_col = None,\n",
    "                        sep = '\\t',\n",
    "                     )\n",
    "df_test.shape"
   ]
  },
  {
   "cell_type": "code",
   "execution_count": 176,
   "id": "70b5a934-3000-4922-b2ff-d16426af6a51",
   "metadata": {},
   "outputs": [],
   "source": [
    "#df_test.head(), df_test.tail()"
   ]
  },
  {
   "cell_type": "code",
   "execution_count": 177,
   "id": "14bee620-0129-47dc-9c21-70243ddda251",
   "metadata": {},
   "outputs": [
    {
     "data": {
      "text/plain": [
       "(500, 2)"
      ]
     },
     "execution_count": 177,
     "metadata": {},
     "output_type": "execute_result"
    }
   ],
   "source": [
    "subm = pd.read_csv(os.path.join(PATH_DATA, 'products_sentiment_sample_submission.csv'))\n",
    "subm.shape"
   ]
  },
  {
   "cell_type": "code",
   "execution_count": 178,
   "id": "660ab72b-b6a8-40b6-9aab-8aea2f4a8025",
   "metadata": {},
   "outputs": [],
   "source": [
    "#subm.head(), subm.tail()"
   ]
  },
  {
   "cell_type": "code",
   "execution_count": 179,
   "id": "3c44d375-a519-4525-9dc2-23aedccd9392",
   "metadata": {},
   "outputs": [],
   "source": [
    "test_df = df_test.text.map(clean_text)\n",
    "#test_df = test_df.map(lem_text)\n",
    "#test_df = test_df.map(stem_text)\n",
    "test_df = test_df.map(lambda x: x.split())"
   ]
  },
  {
   "cell_type": "code",
   "execution_count": 180,
   "id": "e63ae80d-f80b-40d5-9be7-6819ebf90ce4",
   "metadata": {},
   "outputs": [],
   "source": [
    "test_x2v = np.nan_to_num(transform_x2v_kv(word_vectors, test_df))"
   ]
  },
  {
   "cell_type": "code",
   "execution_count": null,
   "id": "5da2bace-a685-47aa-b8fb-18d6eabdea8b",
   "metadata": {},
   "outputs": [],
   "source": []
  },
  {
   "cell_type": "markdown",
   "id": "59629b89-af97-48a3-a039-babc3b782ac8",
   "metadata": {},
   "source": [
    "### Финальная модель для прогноза и прогноз"
   ]
  },
  {
   "cell_type": "code",
   "execution_count": null,
   "id": "b948b97e-f426-452c-9388-dfb814a0c355",
   "metadata": {},
   "outputs": [],
   "source": []
  },
  {
   "cell_type": "code",
   "execution_count": 181,
   "id": "67d9614e-2d0d-4675-a37d-c80090e1be02",
   "metadata": {},
   "outputs": [],
   "source": [
    "pred = grid_tune.best_estimator_.predict(test_x2v)\n",
    "subm.y = pred"
   ]
  },
  {
   "cell_type": "code",
   "execution_count": 183,
   "id": "19718671-9309-4e2c-b553-c5a4d1712b7d",
   "metadata": {},
   "outputs": [],
   "source": [
    "subm.to_csv(os.path.join(PATH_SUBM, 'gensim_w2v_gglnews300_svc_tuned_no_ls.csv'), index = False)"
   ]
  },
  {
   "cell_type": "code",
   "execution_count": null,
   "id": "1ec538e4-88e4-46ad-a281-81dbca45af48",
   "metadata": {},
   "outputs": [],
   "source": []
  },
  {
   "cell_type": "markdown",
   "id": "6d4c4bcb-67da-4311-a74c-9b6ec76683ce",
   "metadata": {},
   "source": [
    "pb 0.80888"
   ]
  },
  {
   "cell_type": "code",
   "execution_count": null,
   "id": "13fbb650-e30c-4851-8a39-df0ca9433162",
   "metadata": {},
   "outputs": [],
   "source": []
  }
 ],
 "metadata": {
  "kernelspec": {
   "display_name": "Python 3",
   "language": "python",
   "name": "python3"
  },
  "language_info": {
   "codemirror_mode": {
    "name": "ipython",
    "version": 3
   },
   "file_extension": ".py",
   "mimetype": "text/x-python",
   "name": "python",
   "nbconvert_exporter": "python",
   "pygments_lexer": "ipython3",
   "version": "3.7.10"
  }
 },
 "nbformat": 4,
 "nbformat_minor": 5
}
