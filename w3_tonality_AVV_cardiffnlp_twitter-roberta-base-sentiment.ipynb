{
 "cells": [
  {
   "cell_type": "code",
   "execution_count": null,
   "id": "aa913ec9-8b9b-4da9-b3e2-29739908e877",
   "metadata": {
    "id": "aa913ec9-8b9b-4da9-b3e2-29739908e877"
   },
   "outputs": [],
   "source": []
  },
  {
   "cell_type": "markdown",
   "id": "d19998d7-2052-434a-8e8f-2d5b2717817e",
   "metadata": {
    "id": "d19998d7-2052-434a-8e8f-2d5b2717817e"
   },
   "source": [
    "# Kagle inclass https://www.kaggle.com/c/simplesentiment/overview"
   ]
  },
  {
   "cell_type": "markdown",
   "id": "L5lPePf6LlFS",
   "metadata": {
    "id": "L5lPePf6LlFS"
   },
   "source": [
    "Работа выполнена в colab.   \n",
    "\n",
    "При предсказании, по неустановленной на данный момент причине, модель не справляется с объемом 500 строк и падает по памяти. Поэтому данная часть повторяется несколько раз: загрузка модели, обработка части строк, сохранение результата. После обработки всех строк результат объединяется.   \n",
    "Для прода такой подхож не подходит, а для kaggle сгодится. Хотя, полагаю в проде оценивается по 1 отзыву за раз."
   ]
  },
  {
   "cell_type": "markdown",
   "id": "b1VtRTMJMpzR",
   "metadata": {
    "id": "b1VtRTMJMpzR"
   },
   "source": [
    "ОБщая часть: загрузка библиотек, данных. Настройка окружения kaggle."
   ]
  },
  {
   "cell_type": "code",
   "execution_count": 1,
   "id": "854a6403-a7a9-48ab-8724-9749d2c987d7",
   "metadata": {
    "executionInfo": {
     "elapsed": 238,
     "status": "ok",
     "timestamp": 1631071997554,
     "user": {
      "displayName": "Владимир Ахременко",
      "photoUrl": "",
      "userId": "12488346382028371111"
     },
     "user_tz": -180
    },
    "id": "854a6403-a7a9-48ab-8724-9749d2c987d7"
   },
   "outputs": [],
   "source": [
    "import os\n",
    "from pathlib import Path\n",
    "import json\n",
    "\n",
    "import pandas as pd\n",
    "import numpy as np\n",
    "import pickle as pkl\n",
    "\n",
    "import re\n",
    "import random"
   ]
  },
  {
   "cell_type": "code",
   "execution_count": 3,
   "id": "jpkYqtKwDORT",
   "metadata": {
    "executionInfo": {
     "elapsed": 4053,
     "status": "ok",
     "timestamp": 1631072003007,
     "user": {
      "displayName": "Владимир Ахременко",
      "photoUrl": "",
      "userId": "12488346382028371111"
     },
     "user_tz": -180
    },
    "id": "jpkYqtKwDORT"
   },
   "outputs": [],
   "source": [
    "import torch"
   ]
  },
  {
   "cell_type": "code",
   "execution_count": 4,
   "id": "ooWk0_E5a936",
   "metadata": {
    "colab": {
     "base_uri": "https://localhost:8080/"
    },
    "executionInfo": {
     "elapsed": 4760,
     "status": "ok",
     "timestamp": 1631072007760,
     "user": {
      "displayName": "Владимир Ахременко",
      "photoUrl": "",
      "userId": "12488346382028371111"
     },
     "user_tz": -180
    },
    "id": "ooWk0_E5a936",
    "outputId": "06e0ffaa-9761-4ed0-f60d-e4b2bd65e155"
   },
   "outputs": [
    {
     "name": "stdout",
     "output_type": "stream",
     "text": [
      "Requirement already satisfied: transformers in /usr/local/lib/python3.7/dist-packages (4.10.0)\n",
      "Requirement already satisfied: requests in /usr/local/lib/python3.7/dist-packages (from transformers) (2.23.0)\n",
      "Requirement already satisfied: numpy>=1.17 in /usr/local/lib/python3.7/dist-packages (from transformers) (1.19.5)\n",
      "Requirement already satisfied: regex!=2019.12.17 in /usr/local/lib/python3.7/dist-packages (from transformers) (2019.12.20)\n",
      "Requirement already satisfied: filelock in /usr/local/lib/python3.7/dist-packages (from transformers) (3.0.12)\n",
      "Requirement already satisfied: sacremoses in /usr/local/lib/python3.7/dist-packages (from transformers) (0.0.45)\n",
      "Requirement already satisfied: pyyaml>=5.1 in /usr/local/lib/python3.7/dist-packages (from transformers) (5.4.1)\n",
      "Requirement already satisfied: tokenizers<0.11,>=0.10.1 in /usr/local/lib/python3.7/dist-packages (from transformers) (0.10.3)\n",
      "Requirement already satisfied: tqdm>=4.27 in /usr/local/lib/python3.7/dist-packages (from transformers) (4.62.0)\n",
      "Requirement already satisfied: importlib-metadata in /usr/local/lib/python3.7/dist-packages (from transformers) (4.6.4)\n",
      "Requirement already satisfied: packaging in /usr/local/lib/python3.7/dist-packages (from transformers) (21.0)\n",
      "Requirement already satisfied: huggingface-hub>=0.0.12 in /usr/local/lib/python3.7/dist-packages (from transformers) (0.0.16)\n",
      "Requirement already satisfied: typing-extensions in /usr/local/lib/python3.7/dist-packages (from huggingface-hub>=0.0.12->transformers) (3.7.4.3)\n",
      "Requirement already satisfied: pyparsing>=2.0.2 in /usr/local/lib/python3.7/dist-packages (from packaging->transformers) (2.4.7)\n",
      "Requirement already satisfied: zipp>=0.5 in /usr/local/lib/python3.7/dist-packages (from importlib-metadata->transformers) (3.5.0)\n",
      "Requirement already satisfied: chardet<4,>=3.0.2 in /usr/local/lib/python3.7/dist-packages (from requests->transformers) (3.0.4)\n",
      "Requirement already satisfied: urllib3!=1.25.0,!=1.25.1,<1.26,>=1.21.1 in /usr/local/lib/python3.7/dist-packages (from requests->transformers) (1.24.3)\n",
      "Requirement already satisfied: idna<3,>=2.5 in /usr/local/lib/python3.7/dist-packages (from requests->transformers) (2.10)\n",
      "Requirement already satisfied: certifi>=2017.4.17 in /usr/local/lib/python3.7/dist-packages (from requests->transformers) (2021.5.30)\n",
      "Requirement already satisfied: six in /usr/local/lib/python3.7/dist-packages (from sacremoses->transformers) (1.15.0)\n",
      "Requirement already satisfied: click in /usr/local/lib/python3.7/dist-packages (from sacremoses->transformers) (7.1.2)\n",
      "Requirement already satisfied: joblib in /usr/local/lib/python3.7/dist-packages (from sacremoses->transformers) (1.0.1)\n"
     ]
    }
   ],
   "source": [
    "!pip install transformers"
   ]
  },
  {
   "cell_type": "code",
   "execution_count": 5,
   "id": "ad524463-2a53-413f-be4c-6d34a1f4d409",
   "metadata": {
    "executionInfo": {
     "elapsed": 4887,
     "status": "ok",
     "timestamp": 1631072012640,
     "user": {
      "displayName": "Владимир Ахременко",
      "photoUrl": "",
      "userId": "12488346382028371111"
     },
     "user_tz": -180
    },
    "id": "ad524463-2a53-413f-be4c-6d34a1f4d409"
   },
   "outputs": [],
   "source": [
    "#import transformers\n",
    "from transformers import AutoTokenizer\n",
    "from transformers import AutoModelForSequenceClassification\n",
    "\n",
    "from transformers.file_utils import is_tf_available, is_torch_available"
   ]
  },
  {
   "cell_type": "code",
   "execution_count": 6,
   "id": "d04baa48-ea21-4909-bf90-8070ac37ca79",
   "metadata": {
    "executionInfo": {
     "elapsed": 41,
     "status": "ok",
     "timestamp": 1631072012651,
     "user": {
      "displayName": "Владимир Ахременко",
      "photoUrl": "",
      "userId": "12488346382028371111"
     },
     "user_tz": -180
    },
    "id": "d04baa48-ea21-4909-bf90-8070ac37ca79"
   },
   "outputs": [],
   "source": []
  },
  {
   "cell_type": "code",
   "execution_count": 7,
   "id": "fe13466e-b55c-45e2-9104-a68353409c4a",
   "metadata": {
    "executionInfo": {
     "elapsed": 42,
     "status": "ok",
     "timestamp": 1631072012654,
     "user": {
      "displayName": "Владимир Ахременко",
      "photoUrl": "",
      "userId": "12488346382028371111"
     },
     "user_tz": -180
    },
    "id": "fe13466e-b55c-45e2-9104-a68353409c4a"
   },
   "outputs": [],
   "source": [
    "PATH_DATA = os.path.join(Path.cwd(), 'data')\n",
    "PATH_SUBM = os.path.join(Path.cwd(), 'submissions')"
   ]
  },
  {
   "cell_type": "code",
   "execution_count": 7,
   "id": "05ba9f60-3cd9-4175-8966-9545f228c0b3",
   "metadata": {
    "executionInfo": {
     "elapsed": 40,
     "status": "ok",
     "timestamp": 1631072012654,
     "user": {
      "displayName": "Владимир Ахременко",
      "photoUrl": "",
      "userId": "12488346382028371111"
     },
     "user_tz": -180
    },
    "id": "05ba9f60-3cd9-4175-8966-9545f228c0b3"
   },
   "outputs": [],
   "source": []
  },
  {
   "cell_type": "code",
   "execution_count": 8,
   "id": "FGhLP_IImvR1",
   "metadata": {
    "colab": {
     "base_uri": "https://localhost:8080/"
    },
    "executionInfo": {
     "elapsed": 1630,
     "status": "ok",
     "timestamp": 1631072014245,
     "user": {
      "displayName": "Владимир Ахременко",
      "photoUrl": "",
      "userId": "12488346382028371111"
     },
     "user_tz": -180
    },
    "id": "FGhLP_IImvR1",
    "outputId": "833c034c-849b-46d2-8976-c1e8bc2a9f56"
   },
   "outputs": [
    {
     "name": "stdout",
     "output_type": "stream",
     "text": [
      "usage: kaggle config [-h] {view,set,unset} ...\n",
      "kaggle config: error: argument command: invalid choice: 'path' (choose from 'view', 'set', 'unset')\n"
     ]
    }
   ],
   "source": [
    "!mkdir .kaggle\n",
    "!touch .kaggle/kaggle.json\n",
    "\n",
    "api_token = {\"username\":\"user\",\"key\":\"api-key\"}\n",
    "\n",
    "with open('/content/.kaggle/kaggle.json', 'w') as file:\n",
    "    json.dump(api_token, file)\n",
    "\n",
    "!chmod 600 /content/.kaggle/kaggle.json\n",
    "!kaggle config path -p /content"
   ]
  },
  {
   "cell_type": "code",
   "execution_count": 9,
   "id": "1t7_unoymrJd",
   "metadata": {
    "colab": {
     "base_uri": "https://localhost:8080/"
    },
    "executionInfo": {
     "elapsed": 402,
     "status": "ok",
     "timestamp": 1631072015042,
     "user": {
      "displayName": "Владимир Ахременко",
      "photoUrl": "",
      "userId": "12488346382028371111"
     },
     "user_tz": -180
    },
    "id": "1t7_unoymrJd",
    "outputId": "59d64e7b-203b-4a50-c9ba-178e542fb47d"
   },
   "outputs": [
    {
     "name": "stdout",
     "output_type": "stream",
     "text": [
      "mv: cannot move '.kaggle' to '/root/.kaggle': Directory not empty\n"
     ]
    }
   ],
   "source": [
    "!mv .kaggle /root/"
   ]
  },
  {
   "cell_type": "code",
   "execution_count": 10,
   "id": "c5MRen9qmnV8",
   "metadata": {
    "colab": {
     "base_uri": "https://localhost:8080/"
    },
    "executionInfo": {
     "elapsed": 2547,
     "status": "ok",
     "timestamp": 1631072018609,
     "user": {
      "displayName": "Владимир Ахременко",
      "photoUrl": "",
      "userId": "12488346382028371111"
     },
     "user_tz": -180
    },
    "id": "c5MRen9qmnV8",
    "outputId": "e434edd9-7478-4d4c-e6e7-9b30d24fa983"
   },
   "outputs": [
    {
     "name": "stdout",
     "output_type": "stream",
     "text": [
      "Warning: Looks like you're using an outdated API Version, please consider updating (server 1.5.12 / client 1.5.4)\n",
      "products_sentiment_train.tsv: Skipping, found more recently modified local copy (use --force to force download)\n",
      "products_sentiment_sample_submission.csv: Skipping, found more recently modified local copy (use --force to force download)\n",
      "products_sentiment_test.tsv: Skipping, found more recently modified local copy (use --force to force download)\n"
     ]
    }
   ],
   "source": [
    "!kaggle competitions download -c simplesentiment"
   ]
  },
  {
   "cell_type": "markdown",
   "id": "9b82f1b0-9407-4705-8df6-68b4f979140d",
   "metadata": {
    "id": "9b82f1b0-9407-4705-8df6-68b4f979140d"
   },
   "source": [
    "Получаем верные метки. Для второй части нас здесь интересует df.target, seed и лямбда функция clean_text."
   ]
  },
  {
   "cell_type": "code",
   "execution_count": 11,
   "id": "wYDy2YeANYx-",
   "metadata": {
    "executionInfo": {
     "elapsed": 231,
     "status": "ok",
     "timestamp": 1631072023707,
     "user": {
      "displayName": "Владимир Ахременко",
      "photoUrl": "",
      "userId": "12488346382028371111"
     },
     "user_tz": -180
    },
    "id": "wYDy2YeANYx-"
   },
   "outputs": [],
   "source": [
    "def set_seed(seed: int):\n",
    "    \"\"\"\n",
    "    Helper function for reproducible behavior to set the seed in ``random``, ``numpy``, ``torch`` and/or ``tf`` (if\n",
    "    installed).\n",
    "\n",
    "    Args:\n",
    "        seed (:obj:`int`): The seed to set.\n",
    "    \"\"\"\n",
    "    random.seed(seed)\n",
    "    np.random.seed(seed)\n",
    "    if is_torch_available():\n",
    "        torch.manual_seed(seed)\n",
    "        torch.cuda.manual_seed_all(seed)\n",
    "        # ^^ safe to call this function even if cuda is not available\n",
    "    if is_tf_available():\n",
    "        import tensorflow as tf\n",
    "\n",
    "        tf.random.set_seed(seed)"
   ]
  },
  {
   "cell_type": "code",
   "execution_count": 12,
   "id": "h6F1xM0HNcXp",
   "metadata": {
    "executionInfo": {
     "elapsed": 252,
     "status": "ok",
     "timestamp": 1631072026777,
     "user": {
      "displayName": "Владимир Ахременко",
      "photoUrl": "",
      "userId": "12488346382028371111"
     },
     "user_tz": -180
    },
    "id": "h6F1xM0HNcXp"
   },
   "outputs": [],
   "source": [
    "set_seed(16041961)"
   ]
  },
  {
   "cell_type": "code",
   "execution_count": 13,
   "id": "d446bd07-6793-4161-9fc8-80a96ed18521",
   "metadata": {
    "colab": {
     "base_uri": "https://localhost:8080/"
    },
    "executionInfo": {
     "elapsed": 266,
     "status": "ok",
     "timestamp": 1631072028297,
     "user": {
      "displayName": "Владимир Ахременко",
      "photoUrl": "",
      "userId": "12488346382028371111"
     },
     "user_tz": -180
    },
    "id": "d446bd07-6793-4161-9fc8-80a96ed18521",
    "outputId": "4af00468-d19e-4fdb-f7ad-6dcba8966c5e"
   },
   "outputs": [
    {
     "data": {
      "text/plain": [
       "(2000, 2)"
      ]
     },
     "execution_count": 13,
     "metadata": {},
     "output_type": "execute_result"
    }
   ],
   "source": [
    "df = pd.read_csv(os.path.join('./', 'products_sentiment_train.tsv'), \n",
    "                    header = None, \n",
    "                    index_col = None,\n",
    "                    sep = '\\t',\n",
    "                   )\n",
    "df.columns = ['text', 'target']\n",
    "df.shape"
   ]
  },
  {
   "cell_type": "code",
   "execution_count": 14,
   "id": "e99981a8-cd4b-481c-849f-5aedeabb1e87",
   "metadata": {
    "executionInfo": {
     "elapsed": 5,
     "status": "ok",
     "timestamp": 1631072029304,
     "user": {
      "displayName": "Владимир Ахременко",
      "photoUrl": "",
      "userId": "12488346382028371111"
     },
     "user_tz": -180
    },
    "id": "e99981a8-cd4b-481c-849f-5aedeabb1e87"
   },
   "outputs": [],
   "source": [
    "clean_text = lambda x: re.sub(r\"\\s+\", ' ', \n",
    "                              re.sub(r\"[\\d+]\", '',\n",
    "                                     re.sub(r\"[^\\w\\s]\", '', x.lower()).strip()\n",
    "                                    )\n",
    "                             )"
   ]
  },
  {
   "cell_type": "markdown",
   "id": "p4TK9ua3Nn_o",
   "metadata": {
    "id": "p4TK9ua3Nn_o"
   },
   "source": [
    "Загружаем tokenizer."
   ]
  },
  {
   "cell_type": "code",
   "execution_count": 15,
   "id": "25b897cf-bf01-49c8-ae62-4b8a8b00a004",
   "metadata": {
    "executionInfo": {
     "elapsed": 3719,
     "status": "ok",
     "timestamp": 1631072051718,
     "user": {
      "displayName": "Владимир Ахременко",
      "photoUrl": "",
      "userId": "12488346382028371111"
     },
     "user_tz": -180
    },
    "id": "25b897cf-bf01-49c8-ae62-4b8a8b00a004"
   },
   "outputs": [],
   "source": [
    "PRE_TRAINED_MODEL_NAME = \"cardiffnlp/twitter-roberta-base-sentiment\"\n",
    "tokenizer = AutoTokenizer.from_pretrained(PRE_TRAINED_MODEL_NAME)"
   ]
  },
  {
   "cell_type": "code",
   "execution_count": 16,
   "id": "ff9c7826-32a8-4214-830d-68beaad80d2c",
   "metadata": {
    "executionInfo": {
     "elapsed": 233,
     "status": "ok",
     "timestamp": 1631072059391,
     "user": {
      "displayName": "Владимир Ахременко",
      "photoUrl": "",
      "userId": "12488346382028371111"
     },
     "user_tz": -180
    },
    "id": "ff9c7826-32a8-4214-830d-68beaad80d2c"
   },
   "outputs": [],
   "source": [
    "max_length = 96"
   ]
  },
  {
   "cell_type": "code",
   "execution_count": 17,
   "id": "0e219d2a-384e-4622-a257-4a9d9d047fc1",
   "metadata": {
    "colab": {
     "base_uri": "https://localhost:8080/"
    },
    "executionInfo": {
     "elapsed": 252,
     "status": "ok",
     "timestamp": 1631072066221,
     "user": {
      "displayName": "Владимир Ахременко",
      "photoUrl": "",
      "userId": "12488346382028371111"
     },
     "user_tz": -180
    },
    "id": "0e219d2a-384e-4622-a257-4a9d9d047fc1",
    "outputId": "e6aea2c0-c1dc-498a-ac4b-4a7f6048db8b"
   },
   "outputs": [
    {
     "data": {
      "text/plain": [
       "{'input_ids': [[0, 42891, 82, 11901, 26749, 2], [0, 8331, 2, 1, 1, 1]], 'attention_mask': [[1, 1, 1, 1, 1, 1], [1, 1, 1, 0, 0, 0]]}"
      ]
     },
     "execution_count": 17,
     "metadata": {},
     "output_type": "execute_result"
    }
   ],
   "source": [
    "tokenizer(['hello people twinky', 'world'], truncation=True, padding=True, max_length=max_length)"
   ]
  },
  {
   "cell_type": "code",
   "execution_count": 17,
   "id": "b2063154-ceb0-4a73-ba6c-881b276b3236",
   "metadata": {
    "executionInfo": {
     "elapsed": 376,
     "status": "ok",
     "timestamp": 1631072068442,
     "user": {
      "displayName": "Владимир Ахременко",
      "photoUrl": "",
      "userId": "12488346382028371111"
     },
     "user_tz": -180
    },
    "id": "b2063154-ceb0-4a73-ba6c-881b276b3236"
   },
   "outputs": [],
   "source": []
  },
  {
   "cell_type": "markdown",
   "id": "67J_0XS-OeEo",
   "metadata": {
    "id": "67J_0XS-OeEo"
   },
   "source": [
    "Загружаем модель."
   ]
  },
  {
   "cell_type": "code",
   "execution_count": 18,
   "id": "6c89fb11-9a1c-452e-80ea-e7524974ca61",
   "metadata": {
    "executionInfo": {
     "elapsed": 16147,
     "status": "ok",
     "timestamp": 1631072084948,
     "user": {
      "displayName": "Владимир Ахременко",
      "photoUrl": "",
      "userId": "12488346382028371111"
     },
     "user_tz": -180
    },
    "id": "6c89fb11-9a1c-452e-80ea-e7524974ca61"
   },
   "outputs": [],
   "source": [
    "model = AutoModelForSequenceClassification.from_pretrained(PRE_TRAINED_MODEL_NAME)"
   ]
  },
  {
   "cell_type": "code",
   "execution_count": null,
   "id": "zxrr38n4Oae9",
   "metadata": {
    "id": "zxrr38n4Oae9"
   },
   "outputs": [],
   "source": []
  },
  {
   "cell_type": "markdown",
   "id": "Z6Q5LMppO3Et",
   "metadata": {
    "id": "Z6Q5LMppO3Et"
   },
   "source": [
    "Данные для прогноза."
   ]
  },
  {
   "cell_type": "code",
   "execution_count": 19,
   "id": "9d30e48e-01d6-44f3-99b1-0d4d7b39877b",
   "metadata": {
    "colab": {
     "base_uri": "https://localhost:8080/"
    },
    "executionInfo": {
     "elapsed": 254,
     "status": "ok",
     "timestamp": 1631072107563,
     "user": {
      "displayName": "Владимир Ахременко",
      "photoUrl": "",
      "userId": "12488346382028371111"
     },
     "user_tz": -180
    },
    "id": "9d30e48e-01d6-44f3-99b1-0d4d7b39877b",
    "outputId": "30d9fcee-f2b1-4a6a-8bd1-d673587e35c4"
   },
   "outputs": [
    {
     "data": {
      "text/plain": [
       "(500, 2)"
      ]
     },
     "execution_count": 19,
     "metadata": {},
     "output_type": "execute_result"
    }
   ],
   "source": [
    "df_subm = pd.read_csv(os.path.join('./', 'products_sentiment_test.tsv'),\n",
    "                        index_col = None,\n",
    "                        sep = '\\t',\n",
    "                     )\n",
    "df_subm.shape"
   ]
  },
  {
   "cell_type": "code",
   "execution_count": 20,
   "id": "gOvuNM-vOD-t",
   "metadata": {
    "executionInfo": {
     "elapsed": 249,
     "status": "ok",
     "timestamp": 1631072109106,
     "user": {
      "displayName": "Владимир Ахременко",
      "photoUrl": "",
      "userId": "12488346382028371111"
     },
     "user_tz": -180
    },
    "id": "gOvuNM-vOD-t"
   },
   "outputs": [],
   "source": [
    "df_subm['text_cl'] = df_subm.text.map(clean_text)"
   ]
  },
  {
   "cell_type": "code",
   "execution_count": 21,
   "id": "z0jTESUcrAQx",
   "metadata": {
    "executionInfo": {
     "elapsed": 4,
     "status": "ok",
     "timestamp": 1631072109476,
     "user": {
      "displayName": "Владимир Ахременко",
      "photoUrl": "",
      "userId": "12488346382028371111"
     },
     "user_tz": -180
    },
    "id": "z0jTESUcrAQx"
   },
   "outputs": [],
   "source": [
    "max_length = 96"
   ]
  },
  {
   "cell_type": "markdown",
   "id": "vRVIgoNaQPB2",
   "metadata": {
    "id": "vRVIgoNaQPB2"
   },
   "source": [
    "Подмассив задаем через idx = 0..4"
   ]
  },
  {
   "cell_type": "code",
   "execution_count": 66,
   "id": "PCufTW8_NvoB",
   "metadata": {
    "colab": {
     "base_uri": "https://localhost:8080/"
    },
    "executionInfo": {
     "elapsed": 397,
     "status": "ok",
     "timestamp": 1631072408047,
     "user": {
      "displayName": "Владимир Ахременко",
      "photoUrl": "",
      "userId": "12488346382028371111"
     },
     "user_tz": -180
    },
    "id": "PCufTW8_NvoB",
    "outputId": "34954c3a-4eec-4804-bc71-82dd159d8045"
   },
   "outputs": [
    {
     "name": "stdout",
     "output_type": "stream",
     "text": [
      "CPU times: user 13.1 ms, sys: 7.72 ms, total: 20.8 ms\n",
      "Wall time: 22.2 ms\n"
     ]
    }
   ],
   "source": [
    "%%time\n",
    "#idx = 0..4\n",
    "idx = 4\n",
    "subm_tokens = tokenizer(list(df_subm['text_cl'].values[idx*100:(idx + 1)*100]), \n",
    "#subm_tokens = tokenizer(list(df_subm['text_cl'].values), \n",
    "                        truncation=True, padding=True, max_length=max_length, \n",
    "                        return_tensors=\"pt\"\n",
    "                        )"
   ]
  },
  {
   "cell_type": "code",
   "execution_count": 67,
   "id": "9xk50vvfmmfa",
   "metadata": {
    "executionInfo": {
     "elapsed": 2,
     "status": "ok",
     "timestamp": 1631072408047,
     "user": {
      "displayName": "Владимир Ахременко",
      "photoUrl": "",
      "userId": "12488346382028371111"
     },
     "user_tz": -180
    },
    "id": "9xk50vvfmmfa"
   },
   "outputs": [],
   "source": [
    "#subm_tokens"
   ]
  },
  {
   "cell_type": "markdown",
   "id": "eR7p0pNrPQPf",
   "metadata": {
    "id": "eR7p0pNrPQPf"
   },
   "source": [
    "Предсказываем для выбранного подмассива. Переводим в вероятности. Выбираем класс по максимому."
   ]
  },
  {
   "cell_type": "code",
   "execution_count": 68,
   "id": "CLZ39XfnOJth",
   "metadata": {
    "colab": {
     "base_uri": "https://localhost:8080/"
    },
    "executionInfo": {
     "elapsed": 17863,
     "status": "ok",
     "timestamp": 1631072426308,
     "user": {
      "displayName": "Владимир Ахременко",
      "photoUrl": "",
      "userId": "12488346382028371111"
     },
     "user_tz": -180
    },
    "id": "CLZ39XfnOJth",
    "outputId": "f927a3dd-7c57-40ba-de9e-5b51fb43d27c"
   },
   "outputs": [
    {
     "name": "stdout",
     "output_type": "stream",
     "text": [
      "CPU times: user 17.4 s, sys: 249 ms, total: 17.6 s\n",
      "Wall time: 17.6 s\n"
     ]
    }
   ],
   "source": [
    "%%time\n",
    "outp = model(**subm_tokens)"
   ]
  },
  {
   "cell_type": "code",
   "execution_count": 69,
   "id": "TVpmtCVurNcV",
   "metadata": {
    "executionInfo": {
     "elapsed": 42,
     "status": "ok",
     "timestamp": 1631072426310,
     "user": {
      "displayName": "Владимир Ахременко",
      "photoUrl": "",
      "userId": "12488346382028371111"
     },
     "user_tz": -180
    },
    "id": "TVpmtCVurNcV"
   },
   "outputs": [],
   "source": [
    "#type(outp)"
   ]
  },
  {
   "cell_type": "code",
   "execution_count": 70,
   "id": "Q_Ko4d4fSyPw",
   "metadata": {
    "executionInfo": {
     "elapsed": 40,
     "status": "ok",
     "timestamp": 1631072426311,
     "user": {
      "displayName": "Владимир Ахременко",
      "photoUrl": "",
      "userId": "12488346382028371111"
     },
     "user_tz": -180
    },
    "id": "Q_Ko4d4fSyPw"
   },
   "outputs": [],
   "source": [
    "#outp"
   ]
  },
  {
   "cell_type": "code",
   "execution_count": 71,
   "id": "RF3QHdJnGyg1",
   "metadata": {
    "executionInfo": {
     "elapsed": 38,
     "status": "ok",
     "timestamp": 1631072426312,
     "user": {
      "displayName": "Владимир Ахременко",
      "photoUrl": "",
      "userId": "12488346382028371111"
     },
     "user_tz": -180
    },
    "id": "RF3QHdJnGyg1"
   },
   "outputs": [],
   "source": [
    "outp = outp[0].softmax(1)"
   ]
  },
  {
   "cell_type": "markdown",
   "id": "T5osDJmzQhlA",
   "metadata": {
    "id": "T5osDJmzQhlA"
   },
   "source": [
    "Сохраняем не класс, а все три вероятности. На случай если будем настраивать порог."
   ]
  },
  {
   "cell_type": "code",
   "execution_count": 72,
   "id": "plGInpW3Q6w5",
   "metadata": {
    "executionInfo": {
     "elapsed": 38,
     "status": "ok",
     "timestamp": 1631072426313,
     "user": {
      "displayName": "Владимир Ахременко",
      "photoUrl": "",
      "userId": "12488346382028371111"
     },
     "user_tz": -180
    },
    "id": "plGInpW3Q6w5"
   },
   "outputs": [],
   "source": [
    "with open(os.path.join('./', f'outp_p{idx}.pkl'), 'wb') as fd:\n",
    "    pkl.dump(outp, fd)"
   ]
  },
  {
   "cell_type": "code",
   "execution_count": 73,
   "id": "NTtHa84BQc96",
   "metadata": {
    "executionInfo": {
     "elapsed": 36,
     "status": "ok",
     "timestamp": 1631072426313,
     "user": {
      "displayName": "Владимир Ахременко",
      "photoUrl": "",
      "userId": "12488346382028371111"
     },
     "user_tz": -180
    },
    "id": "NTtHa84BQc96"
   },
   "outputs": [],
   "source": [
    "#outp"
   ]
  },
  {
   "cell_type": "markdown",
   "id": "nBL_48u6RSB5",
   "metadata": {
    "id": "nBL_48u6RSB5"
   },
   "source": [
    "Загружаем все подготовленные веростности."
   ]
  },
  {
   "cell_type": "code",
   "execution_count": 79,
   "id": "5an4DYI5ReEm",
   "metadata": {
    "executionInfo": {
     "elapsed": 239,
     "status": "ok",
     "timestamp": 1631072557379,
     "user": {
      "displayName": "Владимир Ахременко",
      "photoUrl": "",
      "userId": "12488346382028371111"
     },
     "user_tz": -180
    },
    "id": "5an4DYI5ReEm"
   },
   "outputs": [],
   "source": [
    "submit_y = list()\n",
    "for idx in range(5):\n",
    "    with open(os.path.join('./', f'outp_p{idx}.pkl'), 'rb') as fd:\n",
    "        outp = pkl.load(fd)\n",
    "  \n",
    "     #submit_y += list(map(lambda x: x.argmax().item(), outp))\n",
    "     submit_y += list(map(lambda x: 0 if x[0] > x[2] else 1, outp))"
   ]
  },
  {
   "cell_type": "code",
   "execution_count": 75,
   "id": "PN52TExNVsaQ",
   "metadata": {
    "colab": {
     "base_uri": "https://localhost:8080/"
    },
    "executionInfo": {
     "elapsed": 231,
     "status": "ok",
     "timestamp": 1631072435651,
     "user": {
      "displayName": "Владимир Ахременко",
      "photoUrl": "",
      "userId": "12488346382028371111"
     },
     "user_tz": -180
    },
    "id": "PN52TExNVsaQ",
    "outputId": "f6ef3dbe-1350-4a2d-bd92-001f17b4955c"
   },
   "outputs": [
    {
     "data": {
      "text/plain": [
       "500"
      ]
     },
     "execution_count": 75,
     "metadata": {},
     "output_type": "execute_result"
    }
   ],
   "source": [
    "len(submit_y)"
   ]
  },
  {
   "cell_type": "code",
   "execution_count": 81,
   "id": "wxhEEdeKfoBd",
   "metadata": {
    "colab": {
     "base_uri": "https://localhost:8080/"
    },
    "executionInfo": {
     "elapsed": 231,
     "status": "ok",
     "timestamp": 1631072596226,
     "user": {
      "displayName": "Владимир Ахременко",
      "photoUrl": "",
      "userId": "12488346382028371111"
     },
     "user_tz": -180
    },
    "id": "wxhEEdeKfoBd",
    "outputId": "41cc78c9-6685-4636-9fa9-320a1126c7f0"
   },
   "outputs": [
    {
     "data": {
      "text/plain": [
       "(191, 309)"
      ]
     },
     "execution_count": 81,
     "metadata": {},
     "output_type": "execute_result"
    }
   ],
   "source": [
    "submit_y.count(0), submit_y.count(1),"
   ]
  },
  {
   "cell_type": "code",
   "execution_count": 82,
   "id": "16pSYPZiFa42",
   "metadata": {
    "executionInfo": {
     "elapsed": 266,
     "status": "ok",
     "timestamp": 1631072610094,
     "user": {
      "displayName": "Владимир Ахременко",
      "photoUrl": "",
      "userId": "12488346382028371111"
     },
     "user_tz": -180
    },
    "id": "16pSYPZiFa42"
   },
   "outputs": [],
   "source": [
    "#outp_p1[0].softmax(1)[5].argmax().item()"
   ]
  },
  {
   "cell_type": "code",
   "execution_count": 83,
   "id": "wb-lzPPOOmba",
   "metadata": {
    "colab": {
     "base_uri": "https://localhost:8080/"
    },
    "executionInfo": {
     "elapsed": 10,
     "status": "ok",
     "timestamp": 1631072610477,
     "user": {
      "displayName": "Владимир Ахременко",
      "photoUrl": "",
      "userId": "12488346382028371111"
     },
     "user_tz": -180
    },
    "id": "wb-lzPPOOmba",
    "outputId": "5777a114-27e5-4ef1-f723-39960d78088f"
   },
   "outputs": [
    {
     "data": {
      "text/plain": [
       "(500, 2)"
      ]
     },
     "execution_count": 83,
     "metadata": {},
     "output_type": "execute_result"
    }
   ],
   "source": [
    "subm = pd.read_csv(os.path.join('./', 'products_sentiment_sample_submission.csv'))\n",
    "subm.shape"
   ]
  },
  {
   "cell_type": "code",
   "execution_count": 84,
   "id": "_zyEwg0yspPO",
   "metadata": {
    "executionInfo": {
     "elapsed": 249,
     "status": "ok",
     "timestamp": 1631072611747,
     "user": {
      "displayName": "Владимир Ахременко",
      "photoUrl": "",
      "userId": "12488346382028371111"
     },
     "user_tz": -180
    },
    "id": "_zyEwg0yspPO"
   },
   "outputs": [],
   "source": [
    "subm.y = submit_y"
   ]
  },
  {
   "cell_type": "code",
   "execution_count": 85,
   "id": "63-fjY_LOuRp",
   "metadata": {
    "executionInfo": {
     "elapsed": 240,
     "status": "ok",
     "timestamp": 1631072633439,
     "user": {
      "displayName": "Владимир Ахременко",
      "photoUrl": "",
      "userId": "12488346382028371111"
     },
     "user_tz": -180
    },
    "id": "63-fjY_LOuRp"
   },
   "outputs": [],
   "source": [
    "subm.to_csv(os.path.join('./', 'twitter-roberta-base.csv'), index = False)"
   ]
  },
  {
   "cell_type": "code",
   "execution_count": 1,
   "id": "Wax25HDQqh0Q",
   "metadata": {
    "colab": {
     "base_uri": "https://localhost:8080/"
    },
    "executionInfo": {
     "elapsed": 408,
     "status": "ok",
     "timestamp": 1630701085515,
     "user": {
      "displayName": "Владимир Ахременко",
      "photoUrl": "",
      "userId": "12488346382028371111"
     },
     "user_tz": -180
    },
    "id": "Wax25HDQqh0Q",
    "outputId": "25492957-7945-4dcb-9db4-75736876bc91"
   },
   "outputs": [],
   "source": [
    "#!ls"
   ]
  },
  {
   "cell_type": "code",
   "execution_count": null,
   "id": "1Vvzg41-r1kV",
   "metadata": {
    "id": "1Vvzg41-r1kV"
   },
   "outputs": [],
   "source": []
  },
  {
   "cell_type": "code",
   "execution_count": null,
   "id": "lLu9hKcLXLUc",
   "metadata": {
    "id": "lLu9hKcLXLUc"
   },
   "outputs": [],
   "source": []
  },
  {
   "cell_type": "code",
   "execution_count": 86,
   "id": "wYA3894cXLXn",
   "metadata": {
    "colab": {
     "base_uri": "https://localhost:8080/",
     "height": 17
    },
    "executionInfo": {
     "elapsed": 247,
     "status": "ok",
     "timestamp": 1631072639122,
     "user": {
      "displayName": "Владимир Ахременко",
      "photoUrl": "",
      "userId": "12488346382028371111"
     },
     "user_tz": -180
    },
    "id": "wYA3894cXLXn",
    "outputId": "5e600993-c701-4ec0-ac11-de1f572fa351"
   },
   "outputs": [
    {
     "data": {
      "application/javascript": [
       "\n",
       "    async function download(id, filename, size) {\n",
       "      if (!google.colab.kernel.accessAllowed) {\n",
       "        return;\n",
       "      }\n",
       "      const div = document.createElement('div');\n",
       "      const label = document.createElement('label');\n",
       "      label.textContent = `Downloading \"${filename}\": `;\n",
       "      div.appendChild(label);\n",
       "      const progress = document.createElement('progress');\n",
       "      progress.max = size;\n",
       "      div.appendChild(progress);\n",
       "      document.body.appendChild(div);\n",
       "\n",
       "      const buffers = [];\n",
       "      let downloaded = 0;\n",
       "\n",
       "      const channel = await google.colab.kernel.comms.open(id);\n",
       "      // Send a message to notify the kernel that we're ready.\n",
       "      channel.send({})\n",
       "\n",
       "      for await (const message of channel.messages) {\n",
       "        // Send a message to notify the kernel that we're ready.\n",
       "        channel.send({})\n",
       "        if (message.buffers) {\n",
       "          for (const buffer of message.buffers) {\n",
       "            buffers.push(buffer);\n",
       "            downloaded += buffer.byteLength;\n",
       "            progress.value = downloaded;\n",
       "          }\n",
       "        }\n",
       "      }\n",
       "      const blob = new Blob(buffers, {type: 'application/binary'});\n",
       "      const a = document.createElement('a');\n",
       "      a.href = window.URL.createObjectURL(blob);\n",
       "      a.download = filename;\n",
       "      div.appendChild(a);\n",
       "      a.click();\n",
       "      div.remove();\n",
       "    }\n",
       "  "
      ],
      "text/plain": [
       "<IPython.core.display.Javascript object>"
      ]
     },
     "metadata": {},
     "output_type": "display_data"
    },
    {
     "data": {
      "application/javascript": [
       "download(\"download_a47cc737-e972-465d-b1e0-21e8f442dc58\", \"twitter-roberta-base.csv\", 2895)"
      ],
      "text/plain": [
       "<IPython.core.display.Javascript object>"
      ]
     },
     "metadata": {},
     "output_type": "display_data"
    }
   ],
   "source": [
    "from google.colab import files\n",
    "files.download('twitter-roberta-base.csv') "
   ]
  },
  {
   "cell_type": "code",
   "execution_count": null,
   "id": "wKoo-5NoXNxR",
   "metadata": {
    "id": "wKoo-5NoXNxR"
   },
   "outputs": [],
   "source": [
    "pb 0.89111"
   ]
  }
 ],
 "metadata": {
  "colab": {
   "collapsed_sections": [],
   "name": "w3_tonality_AVV_cardiffnlp_twitter-roberta-base-sentiment.ipynb",
   "provenance": [
    {
     "file_id": "1MaqlWvf2fbH34T85XvFcZ5Lzv35zff-c",
     "timestamp": 1630732462271
    }
   ]
  },
  "kernelspec": {
   "display_name": "Python 3",
   "language": "python",
   "name": "python3"
  },
  "language_info": {
   "codemirror_mode": {
    "name": "ipython",
    "version": 3
   },
   "file_extension": ".py",
   "mimetype": "text/x-python",
   "name": "python",
   "nbconvert_exporter": "python",
   "pygments_lexer": "ipython3",
   "version": "3.7.10"
  }
 },
 "nbformat": 4,
 "nbformat_minor": 5
}
