{
 "cells": [
  {
   "cell_type": "code",
   "execution_count": null,
   "id": "dba64a9e-d4f9-4f4c-a2c3-73072147fb8d",
   "metadata": {},
   "outputs": [],
   "source": []
  },
  {
   "cell_type": "markdown",
   "id": "20a3aeab-c267-4091-a671-8827387eed9c",
   "metadata": {},
   "source": [
    "# Kagle inclass https://www.kaggle.com/c/simplesentiment/overview"
   ]
  },
  {
   "cell_type": "code",
   "execution_count": 1,
   "id": "5fd0aee2-23d9-4d9c-8238-20d672118c1d",
   "metadata": {},
   "outputs": [],
   "source": [
    "import os\n",
    "from pathlib import Path\n",
    "\n",
    "import pandas as pd\n",
    "import numpy as np\n",
    "\n",
    "from itertools import product\n",
    "#import warnings\n",
    "#from tqdm import tqdm\n",
    "\n",
    "import pickle as pkl\n",
    "import re"
   ]
  },
  {
   "cell_type": "code",
   "execution_count": 2,
   "id": "64dfe291-b2e9-4ce1-869f-103e6732e7b9",
   "metadata": {},
   "outputs": [],
   "source": [
    "#import nltk\n",
    "import nltk.stem as st"
   ]
  },
  {
   "cell_type": "code",
   "execution_count": 3,
   "id": "beb40fff-6669-4f2c-a18e-19b295ab9f02",
   "metadata": {},
   "outputs": [],
   "source": [
    "#from gensim.sklearn_api import W2VTransformer\n",
    "#import gensim.downloader as api"
   ]
  },
  {
   "cell_type": "code",
   "execution_count": 4,
   "id": "04ea30e3-3a4f-4961-9732-14453b7aeb0c",
   "metadata": {},
   "outputs": [],
   "source": [
    "#from sklearn.pipeline import Pipeline\n",
    "#from sklearn.model_selection import train_test_split\n",
    "\n",
    "from sklearn.feature_extraction.text import TfidfVectorizer\n",
    "\n",
    "from sklearn.linear_model import LogisticRegression#, SGDClassifier\n",
    "#from sklearn.svm import LinearSVC\n",
    "#from sklearn.svm import SVC\n",
    "#from sklearn.ensemble import RandomForestClassifier\n",
    "\n",
    "#from sklearn.model_selection import GridSearchCV, cross_val_score \n",
    "\n",
    "#from sklearn.metrics import accuracy_score\n",
    "from sklearn.metrics import roc_auc_score\n",
    "from sklearn.metrics import confusion_matrix"
   ]
  },
  {
   "cell_type": "code",
   "execution_count": null,
   "id": "0bf730f4-2390-4b56-8d81-efb575de0842",
   "metadata": {},
   "outputs": [],
   "source": []
  },
  {
   "cell_type": "code",
   "execution_count": 5,
   "id": "475aae84-937a-4624-9eac-f585ed7c9acc",
   "metadata": {},
   "outputs": [],
   "source": [
    "PATH_DATA = os.path.join(Path.cwd(), 'data')\n",
    "PATH_SUBM = os.path.join(Path.cwd(), 'submissions')\n",
    "PATH_MODL = os.path.join(Path.cwd(), 'models')"
   ]
  },
  {
   "cell_type": "code",
   "execution_count": null,
   "id": "4879cb77-b0e3-40b9-8d7e-0e874f62413a",
   "metadata": {},
   "outputs": [],
   "source": []
  },
  {
   "cell_type": "code",
   "execution_count": 21,
   "id": "709d34d5-3987-4cea-b108-f8c360866531",
   "metadata": {},
   "outputs": [
    {
     "data": {
      "text/plain": [
       "(500, 2)"
      ]
     },
     "execution_count": 21,
     "metadata": {},
     "output_type": "execute_result"
    }
   ],
   "source": [
    "df = pd.read_csv(os.path.join(PATH_DATA, 'products_sentiment_train.tsv'), \n",
    "                    header = None, \n",
    "                    index_col = None,\n",
    "                    sep = '\\t',\n",
    "                   )\n",
    "df.columns = ['text', 'target']\n",
    "df.shape"
   ]
  },
  {
   "cell_type": "code",
   "execution_count": 7,
   "id": "7332fb32-ef18-4876-a776-aada7af1dc0c",
   "metadata": {},
   "outputs": [],
   "source": [
    "clean_text = lambda x: re.sub(r\"\\s+\", ' ', \n",
    "                              re.sub(r\"[\\d+]\", '',\n",
    "                                     re.sub(r\"[^\\w\\s]\", '', x.lower()).strip()\n",
    "                                    )\n",
    "                             )\n",
    "\n",
    "lemm = st.WordNetLemmatizer()\n",
    "lem_text = lambda x: ' '.join([lemm.lemmatize(el) for el in x.split()])\n",
    "\n",
    "#stemm = st.ISRIStemmer()\n",
    "stemm = st.RSLPStemmer()\n",
    "stem_text = lambda x: ' '.join([stemm.stem(el) for el in x.split()])"
   ]
  },
  {
   "cell_type": "code",
   "execution_count": 8,
   "id": "dc76ebba-7d14-471d-851e-b1e611e4b9f6",
   "metadata": {},
   "outputs": [],
   "source": [
    "df['text_cl'] = df.text.map(clean_text)\n",
    "df['text_cl'] = df.text_cl.map(lem_text)\n",
    "df['text_cl'] = df.text_cl.map(stem_text)"
   ]
  },
  {
   "cell_type": "code",
   "execution_count": null,
   "id": "a00ad470-1237-47ea-b3f4-fb31322f9b6b",
   "metadata": {},
   "outputs": [],
   "source": []
  },
  {
   "cell_type": "markdown",
   "id": "d540f21a-a24e-42c1-b811-bb8f38c804dd",
   "metadata": {},
   "source": [
    "### Создаем и сохраняем модель и токенайзер для загрузки в демонстрацию на flask"
   ]
  },
  {
   "cell_type": "code",
   "execution_count": 9,
   "id": "ba09bd4e-3db5-4fe9-9e80-0cb5c5885237",
   "metadata": {},
   "outputs": [],
   "source": [
    "vectorizer = TfidfVectorizer(analyzer='char_wb', ngram_range=(3, 4), \n",
    "                             max_df=0.75, min_df=1, \n",
    "                             stop_words=None\n",
    "                            )\n",
    "vectorizer.fit(df.text_cl)\n",
    "train = vectorizer.transform(df.text_cl)"
   ]
  },
  {
   "cell_type": "code",
   "execution_count": 10,
   "id": "098a2c6a-a82c-49f3-8166-97b2036c0d94",
   "metadata": {},
   "outputs": [
    {
     "data": {
      "text/plain": [
       "LogisticRegression(C=1.7189473684210526,\n",
       "                   class_weight={0: 0.5894081632653061, 1: 0.41059183673469385},\n",
       "                   max_iter=75, random_state=111111, solver='liblinear')"
      ]
     },
     "execution_count": 10,
     "metadata": {},
     "output_type": "execute_result"
    }
   ],
   "source": [
    "model = LogisticRegression(penalty = 'l2',\n",
    "                           solver = 'liblinear',\n",
    "                           C = 1.7189473684210526,\n",
    "                           class_weight = {0: 0.5894081632653061, 1: 0.41059183673469385},\n",
    "                           max_iter = 75,\n",
    "                           random_state = 111111, \n",
    ")\n",
    "model.fit(train, df.target)"
   ]
  },
  {
   "cell_type": "code",
   "execution_count": 11,
   "id": "6f593d8e-82ea-44de-be5a-949f2ea6223b",
   "metadata": {},
   "outputs": [],
   "source": [
    "with open(os.path.join(PATH_MODL, 'tfidf_lr_model.pkl'), 'wb') as fd:\n",
    "    pkl.dump(model, fd)\n",
    "    \n",
    "with open(os.path.join(PATH_MODL, 'tfidf_lr_token.pkl'), 'wb') as fd:\n",
    "    pkl.dump(vectorizer, fd)"
   ]
  },
  {
   "cell_type": "code",
   "execution_count": null,
   "id": "fe520806-dad3-4a5b-b3f0-195880b3cd86",
   "metadata": {},
   "outputs": [],
   "source": []
  },
  {
   "cell_type": "code",
   "execution_count": 13,
   "id": "162e624f-5048-49d2-9d5b-2913b3842a05",
   "metadata": {},
   "outputs": [],
   "source": [
    "pred_train_tfidf = model.predict(train)"
   ]
  },
  {
   "cell_type": "code",
   "execution_count": 14,
   "id": "b60cd3bd-29d2-4636-b4a3-9f92983edd39",
   "metadata": {},
   "outputs": [
    {
     "data": {
      "text/plain": [
       "0.8936528839126241"
      ]
     },
     "execution_count": 14,
     "metadata": {},
     "output_type": "execute_result"
    }
   ],
   "source": [
    "roc_auc_score(df.target, pred_train_tfidf)"
   ]
  },
  {
   "cell_type": "code",
   "execution_count": 15,
   "id": "88992df5-52bc-450d-9594-638e56b2cf53",
   "metadata": {},
   "outputs": [
    {
     "data": {
      "text/plain": [
       "array([[ 628,   98],\n",
       "       [  99, 1175]], dtype=int64)"
      ]
     },
     "execution_count": 15,
     "metadata": {},
     "output_type": "execute_result"
    }
   ],
   "source": [
    "confusion_matrix(df.target, pred_train_tfidf)"
   ]
  },
  {
   "cell_type": "code",
   "execution_count": null,
   "id": "5f9f58db-5b35-455e-aa41-3e15fbfaea3f",
   "metadata": {},
   "outputs": [],
   "source": []
  }
 ],
 "metadata": {
  "kernelspec": {
   "display_name": "Python 3",
   "language": "python",
   "name": "python3"
  },
  "language_info": {
   "codemirror_mode": {
    "name": "ipython",
    "version": 3
   },
   "file_extension": ".py",
   "mimetype": "text/x-python",
   "name": "python",
   "nbconvert_exporter": "python",
   "pygments_lexer": "ipython3",
   "version": "3.7.10"
  }
 },
 "nbformat": 4,
 "nbformat_minor": 5
}
