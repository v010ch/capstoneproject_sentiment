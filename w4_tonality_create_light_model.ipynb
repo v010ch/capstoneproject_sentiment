{
 "cells": [
  {
   "cell_type": "code",
   "execution_count": null,
   "id": "dba64a9e-d4f9-4f4c-a2c3-73072147fb8d",
   "metadata": {},
   "outputs": [],
   "source": []
  },
  {
   "cell_type": "markdown",
   "id": "20a3aeab-c267-4091-a671-8827387eed9c",
   "metadata": {},
   "source": [
    "# Kagle inclass https://www.kaggle.com/c/simplesentiment/overview"
   ]
  },
  {
   "cell_type": "code",
   "execution_count": 1,
   "id": "5fd0aee2-23d9-4d9c-8238-20d672118c1d",
   "metadata": {},
   "outputs": [],
   "source": [
    "import os\n",
    "from pathlib import Path\n",
    "\n",
    "import pandas as pd\n",
    "import numpy as np\n",
    "\n",
    "from itertools import product\n",
    "#import warnings\n",
    "#from tqdm import tqdm\n",
    "\n",
    "import pickle as pkl\n",
    "import re"
   ]
  },
  {
   "cell_type": "code",
   "execution_count": 2,
   "id": "64dfe291-b2e9-4ce1-869f-103e6732e7b9",
   "metadata": {},
   "outputs": [],
   "source": [
    "import nltk\n",
    "import nltk.stem as st"
   ]
  },
  {
   "cell_type": "code",
   "execution_count": 3,
   "id": "99119000-e9df-4fb8-bb36-9d716dbba2ce",
   "metadata": {},
   "outputs": [
    {
     "name": "stderr",
     "output_type": "stream",
     "text": [
      "[nltk_data] Downloading package omw-1.4 to\n",
      "[nltk_data]     C:\\Users\\_v010ch_\\AppData\\Roaming\\nltk_data...\n",
      "[nltk_data]   Package omw-1.4 is already up-to-date!\n"
     ]
    },
    {
     "data": {
      "text/plain": [
       "True"
      ]
     },
     "execution_count": 3,
     "metadata": {},
     "output_type": "execute_result"
    }
   ],
   "source": [
    "nltk.download('omw-1.4')"
   ]
  },
  {
   "cell_type": "code",
   "execution_count": 4,
   "id": "04ea30e3-3a4f-4961-9732-14453b7aeb0c",
   "metadata": {},
   "outputs": [],
   "source": [
    "from sklearn.feature_extraction.text import TfidfVectorizer\n",
    "\n",
    "from sklearn.linear_model import LogisticRegression#, SGDClassifier\n",
    "from sklearn.metrics import roc_auc_score\n",
    "from sklearn.metrics import confusion_matrix"
   ]
  },
  {
   "cell_type": "code",
   "execution_count": null,
   "id": "0bf730f4-2390-4b56-8d81-efb575de0842",
   "metadata": {},
   "outputs": [],
   "source": []
  },
  {
   "cell_type": "markdown",
   "id": "333e205e-472c-4ce0-a26b-d37e877f0313",
   "metadata": {},
   "source": [
    "# Выставляем переменные"
   ]
  },
  {
   "cell_type": "code",
   "execution_count": 5,
   "id": "475aae84-937a-4624-9eac-f585ed7c9acc",
   "metadata": {},
   "outputs": [],
   "source": [
    "PATH_DATA = os.path.join(Path.cwd(), 'data')\n",
    "PATH_SUBM = os.path.join(Path.cwd(), 'submissions')\n",
    "PATH_MODL = os.path.join(Path.cwd(), 'models')"
   ]
  },
  {
   "cell_type": "code",
   "execution_count": null,
   "id": "4879cb77-b0e3-40b9-8d7e-0e874f62413a",
   "metadata": {},
   "outputs": [],
   "source": []
  },
  {
   "cell_type": "markdown",
   "id": "48055ffd-7e4a-4450-b482-d7c5e34cb3f3",
   "metadata": {},
   "source": [
    "# Загрузка и очистка данных"
   ]
  },
  {
   "cell_type": "code",
   "execution_count": 6,
   "id": "709d34d5-3987-4cea-b108-f8c360866531",
   "metadata": {},
   "outputs": [
    {
     "data": {
      "text/plain": [
       "(4850, 6)"
      ]
     },
     "execution_count": 6,
     "metadata": {},
     "output_type": "execute_result"
    }
   ],
   "source": [
    "#df = pd.read_csv(os.path.join(PATH_DATA, 'products_sentiment_train.tsv'), \n",
    "df = pd.read_csv(os.path.join(PATH_DATA, 'ru_train.csv'), \n",
    "                    #header = None, \n",
    "                    #index_col = None,\n",
    "                    #sep = '\\t',\n",
    "                   )\n",
    "#df.columns = ['text', 'target']\n",
    "df.shape"
   ]
  },
  {
   "cell_type": "code",
   "execution_count": 7,
   "id": "220b485b-0d97-42c2-b100-d182a4e3f5b0",
   "metadata": {},
   "outputs": [
    {
     "data": {
      "text/html": [
       "<div>\n",
       "<style scoped>\n",
       "    .dataframe tbody tr th:only-of-type {\n",
       "        vertical-align: middle;\n",
       "    }\n",
       "\n",
       "    .dataframe tbody tr th {\n",
       "        vertical-align: top;\n",
       "    }\n",
       "\n",
       "    .dataframe thead th {\n",
       "        text-align: right;\n",
       "    }\n",
       "</style>\n",
       "<table border=\"1\" class=\"dataframe\">\n",
       "  <thead>\n",
       "    <tr style=\"text-align: right;\">\n",
       "      <th></th>\n",
       "      <th>Unnamed: 0</th>\n",
       "      <th>phone</th>\n",
       "      <th>review</th>\n",
       "      <th>rating</th>\n",
       "      <th>link</th>\n",
       "      <th>review_length</th>\n",
       "    </tr>\n",
       "  </thead>\n",
       "  <tbody>\n",
       "    <tr>\n",
       "      <th>0</th>\n",
       "      <td>5</td>\n",
       "      <td>Смартфон Apple iPhone 12 Pro Max</td>\n",
       "      <td>Добрый всем,\\nПоявилось желание рассказать о н...</td>\n",
       "      <td>3.0</td>\n",
       "      <td>https://irecommend.ru/content/bez-vostorga-ot-...</td>\n",
       "      <td>387</td>\n",
       "    </tr>\n",
       "    <tr>\n",
       "      <th>1</th>\n",
       "      <td>12</td>\n",
       "      <td>Смартфон Apple iPhone 12 Pro Max</td>\n",
       "      <td>Очень хотела себе 12 pro max и вот мечта сбыла...</td>\n",
       "      <td>2.0</td>\n",
       "      <td>https://irecommend.ru/content/chuda-ne-sluchil...</td>\n",
       "      <td>83</td>\n",
       "    </tr>\n",
       "    <tr>\n",
       "      <th>2</th>\n",
       "      <td>29</td>\n",
       "      <td>Смартфон Apple iPhone 12 Pro Max</td>\n",
       "      <td>Оригинальный чехол был приобретен на белый 11 ...</td>\n",
       "      <td>1.0</td>\n",
       "      <td>https://irecommend.ru/content/ne-berite-77</td>\n",
       "      <td>137</td>\n",
       "    </tr>\n",
       "    <tr>\n",
       "      <th>3</th>\n",
       "      <td>31</td>\n",
       "      <td>Смартфон Apple iPhone 12 Pro Max</td>\n",
       "      <td>Всем привет, сегодня я хочу поделиться с вами ...</td>\n",
       "      <td>5.0</td>\n",
       "      <td>https://irecommend.ru/content/pochemu-ya-ne-ku...</td>\n",
       "      <td>334</td>\n",
       "    </tr>\n",
       "    <tr>\n",
       "      <th>4</th>\n",
       "      <td>32</td>\n",
       "      <td>Смартфон Apple iPhone 12 Pro Max</td>\n",
       "      <td>Когда-то я уже писала отзыв на айфон xr. Это б...</td>\n",
       "      <td>5.0</td>\n",
       "      <td>https://irecommend.ru/content/ispolzuyu-tretii...</td>\n",
       "      <td>397</td>\n",
       "    </tr>\n",
       "  </tbody>\n",
       "</table>\n",
       "</div>"
      ],
      "text/plain": [
       "   Unnamed: 0                             phone  \\\n",
       "0           5  Смартфон Apple iPhone 12 Pro Max   \n",
       "1          12  Смартфон Apple iPhone 12 Pro Max   \n",
       "2          29  Смартфон Apple iPhone 12 Pro Max   \n",
       "3          31  Смартфон Apple iPhone 12 Pro Max   \n",
       "4          32  Смартфон Apple iPhone 12 Pro Max   \n",
       "\n",
       "                                              review  rating  \\\n",
       "0  Добрый всем,\\nПоявилось желание рассказать о н...     3.0   \n",
       "1  Очень хотела себе 12 pro max и вот мечта сбыла...     2.0   \n",
       "2  Оригинальный чехол был приобретен на белый 11 ...     1.0   \n",
       "3  Всем привет, сегодня я хочу поделиться с вами ...     5.0   \n",
       "4  Когда-то я уже писала отзыв на айфон xr. Это б...     5.0   \n",
       "\n",
       "                                                link  review_length  \n",
       "0  https://irecommend.ru/content/bez-vostorga-ot-...            387  \n",
       "1  https://irecommend.ru/content/chuda-ne-sluchil...             83  \n",
       "2         https://irecommend.ru/content/ne-berite-77            137  \n",
       "3  https://irecommend.ru/content/pochemu-ya-ne-ku...            334  \n",
       "4  https://irecommend.ru/content/ispolzuyu-tretii...            397  "
      ]
     },
     "execution_count": 7,
     "metadata": {},
     "output_type": "execute_result"
    }
   ],
   "source": [
    "df.head()"
   ]
  },
  {
   "cell_type": "code",
   "execution_count": 8,
   "id": "7ff2e9dd-4007-43c9-ade3-5b44b0841a5e",
   "metadata": {},
   "outputs": [],
   "source": [
    "df['target'] = df.rating.apply(lambda x: 1 if int(x) >= 4 else 2)"
   ]
  },
  {
   "cell_type": "code",
   "execution_count": 9,
   "id": "7332fb32-ef18-4876-a776-aada7af1dc0c",
   "metadata": {},
   "outputs": [],
   "source": [
    "clean_text = lambda x: re.sub(r\"\\s+\", ' ', \n",
    "                              re.sub(r\"[\\d+]\", '',\n",
    "                                     re.sub(r\"[^\\w\\s]\", '', x.lower()).strip()\n",
    "                                    )\n",
    "                             )\n",
    "\n",
    "# приведение к начальным формам\n",
    "lemm = st.WordNetLemmatizer()\n",
    "lem_text = lambda x: ' '.join([lemm.lemmatize(el) for el in x.split()])\n",
    "\n",
    "#stemm = st.ISRIStemmer()\n",
    "stemm = st.RSLPStemmer()\n",
    "stem_text = lambda x: ' '.join([stemm.stem(el) for el in x.split()])"
   ]
  },
  {
   "cell_type": "code",
   "execution_count": 10,
   "id": "dc76ebba-7d14-471d-851e-b1e611e4b9f6",
   "metadata": {},
   "outputs": [
    {
     "name": "stdout",
     "output_type": "stream",
     "text": [
      "CPU times: total: 57.5 s\n",
      "Wall time: 57.9 s\n"
     ]
    }
   ],
   "source": [
    "%%time\n",
    "df['text_cl'] = df.review.map(clean_text)\n",
    "df['text_cl'] = df.text_cl.map(lem_text)\n",
    "df['text_cl'] = df.text_cl.map(stem_text)"
   ]
  },
  {
   "cell_type": "markdown",
   "id": "8f23f08d-b1e1-40aa-b6db-574343656ab5",
   "metadata": {},
   "source": [
    "Перемешиваем отзывы"
   ]
  },
  {
   "cell_type": "code",
   "execution_count": 11,
   "id": "428a017e-642e-4ef1-8318-8240408ae0d8",
   "metadata": {},
   "outputs": [
    {
     "data": {
      "text/html": [
       "<div>\n",
       "<style scoped>\n",
       "    .dataframe tbody tr th:only-of-type {\n",
       "        vertical-align: middle;\n",
       "    }\n",
       "\n",
       "    .dataframe tbody tr th {\n",
       "        vertical-align: top;\n",
       "    }\n",
       "\n",
       "    .dataframe thead th {\n",
       "        text-align: right;\n",
       "    }\n",
       "</style>\n",
       "<table border=\"1\" class=\"dataframe\">\n",
       "  <thead>\n",
       "    <tr style=\"text-align: right;\">\n",
       "      <th></th>\n",
       "      <th>phone</th>\n",
       "      <th>review</th>\n",
       "      <th>rating</th>\n",
       "      <th>link</th>\n",
       "      <th>review_length</th>\n",
       "      <th>target</th>\n",
       "      <th>text_cl</th>\n",
       "    </tr>\n",
       "  </thead>\n",
       "  <tbody>\n",
       "    <tr>\n",
       "      <th>0</th>\n",
       "      <td>Смартфон ZTE Blade A7 2020</td>\n",
       "      <td>Ку, родной irecommend.Давно меня тут не было.\\...</td>\n",
       "      <td>2.0</td>\n",
       "      <td>https://irecommend.ru/content/ne-stoit-dazhe-k...</td>\n",
       "      <td>322</td>\n",
       "      <td>2</td>\n",
       "      <td>ку родной irecommendдавно меня тут не было как...</td>\n",
       "    </tr>\n",
       "    <tr>\n",
       "      <th>1</th>\n",
       "      <td>Смартфон Samsung Galaxy A12</td>\n",
       "      <td>Привет всем) не пишу обычно отзывы, но тут не ...</td>\n",
       "      <td>1.0</td>\n",
       "      <td>https://irecommend.ru/content/ne-stoit-ego-brat-2</td>\n",
       "      <td>133</td>\n",
       "      <td>2</td>\n",
       "      <td>привет всем не пишу обычно отзывы но тут не уд...</td>\n",
       "    </tr>\n",
       "    <tr>\n",
       "      <th>2</th>\n",
       "      <td>Мобильный телефон Samsung Galaxy A31 4/64GB Bl...</td>\n",
       "      <td>Привет!\\nПисать отзыв меня заставила банальная...</td>\n",
       "      <td>3.0</td>\n",
       "      <td>https://irecommend.ru/content/ty-menya-slyshis...</td>\n",
       "      <td>523</td>\n",
       "      <td>2</td>\n",
       "      <td>привет писать отзыв меня заставила банальная т...</td>\n",
       "    </tr>\n",
       "  </tbody>\n",
       "</table>\n",
       "</div>"
      ],
      "text/plain": [
       "                                               phone  \\\n",
       "0                         Смартфон ZTE Blade A7 2020   \n",
       "1                        Смартфон Samsung Galaxy A12   \n",
       "2  Мобильный телефон Samsung Galaxy A31 4/64GB Bl...   \n",
       "\n",
       "                                              review  rating  \\\n",
       "0  Ку, родной irecommend.Давно меня тут не было.\\...     2.0   \n",
       "1  Привет всем) не пишу обычно отзывы, но тут не ...     1.0   \n",
       "2  Привет!\\nПисать отзыв меня заставила банальная...     3.0   \n",
       "\n",
       "                                                link  review_length  target  \\\n",
       "0  https://irecommend.ru/content/ne-stoit-dazhe-k...            322       2   \n",
       "1  https://irecommend.ru/content/ne-stoit-ego-brat-2            133       2   \n",
       "2  https://irecommend.ru/content/ty-menya-slyshis...            523       2   \n",
       "\n",
       "                                             text_cl  \n",
       "0  ку родной irecommendдавно меня тут не было как...  \n",
       "1  привет всем не пишу обычно отзывы но тут не уд...  \n",
       "2  привет писать отзыв меня заставила банальная т...  "
      ]
     },
     "execution_count": 11,
     "metadata": {},
     "output_type": "execute_result"
    }
   ],
   "source": [
    "df = df.sample(frac=1).reset_index(drop=True)\n",
    "df.drop(['Unnamed: 0'], axis = 1, inplace = True)\n",
    "df.head(3)"
   ]
  },
  {
   "cell_type": "code",
   "execution_count": null,
   "id": "9ef8639c-831b-4585-89a0-87177298c6d4",
   "metadata": {},
   "outputs": [],
   "source": []
  },
  {
   "cell_type": "markdown",
   "id": "d540f21a-a24e-42c1-b811-bb8f38c804dd",
   "metadata": {},
   "source": [
    "# Создание и сохранение модели и токенайзер для загрузки в демонстрацию на flask"
   ]
  },
  {
   "cell_type": "markdown",
   "id": "b68630d2-4125-449d-8d0d-062d2cb6c3a0",
   "metadata": {},
   "source": [
    "Очищенные отзывы векторизуем через tf-idf.   \n",
    "Посимвольно, длинною 3 или 4 без исключения стопслов.    \n",
    "мин частота - 1, макс частота - 0.75.   \n",
    "Полученные векторы в LogReg с подобранными параметрами"
   ]
  },
  {
   "cell_type": "code",
   "execution_count": 12,
   "id": "ba09bd4e-3db5-4fe9-9e80-0cb5c5885237",
   "metadata": {},
   "outputs": [],
   "source": [
    "vectorizer = TfidfVectorizer(analyzer = 'char_wb', ngram_range = (3, 4), \n",
    "                             max_df = 0.75, min_df = 1, \n",
    "                             stop_words = None\n",
    "                            )\n",
    "vectorizer.fit(df.text_cl)\n",
    "train = vectorizer.transform(df.text_cl)"
   ]
  },
  {
   "cell_type": "code",
   "execution_count": 13,
   "id": "098a2c6a-a82c-49f3-8166-97b2036c0d94",
   "metadata": {},
   "outputs": [
    {
     "data": {
      "text/plain": [
       "LogisticRegression(C=1.7189473684210526,\n",
       "                   class_weight={1: 0.5894081632653061, 2: 0.41059183673469385},\n",
       "                   max_iter=75, random_state=111111, solver='liblinear')"
      ]
     },
     "execution_count": 13,
     "metadata": {},
     "output_type": "execute_result"
    }
   ],
   "source": [
    "model = LogisticRegression(penalty = 'l2',\n",
    "                           solver = 'liblinear',\n",
    "                           C = 1.7189473684210526,\n",
    "                           class_weight = {1: 0.5894081632653061, 2: 0.41059183673469385},\n",
    "                           max_iter = 75,\n",
    "                           random_state = 111111, \n",
    ")\n",
    "model.fit(train, df.target)"
   ]
  },
  {
   "cell_type": "code",
   "execution_count": 14,
   "id": "6f593d8e-82ea-44de-be5a-949f2ea6223b",
   "metadata": {},
   "outputs": [],
   "source": [
    "with open(os.path.join(PATH_MODL, 'tfidf_lr_model.pkl'), 'wb') as fd:\n",
    "    pkl.dump(model, fd)\n",
    "    \n",
    "with open(os.path.join(PATH_MODL, 'tfidf_lr_token.pkl'), 'wb') as fd:\n",
    "    pkl.dump(vectorizer, fd)"
   ]
  },
  {
   "cell_type": "code",
   "execution_count": null,
   "id": "fe520806-dad3-4a5b-b3f0-195880b3cd86",
   "metadata": {},
   "outputs": [],
   "source": []
  },
  {
   "cell_type": "markdown",
   "id": "8d1c4d54-90e0-4523-9140-83f8dd70aed5",
   "metadata": {},
   "source": [
    "# Посмотрим на результат обучения на трейне"
   ]
  },
  {
   "cell_type": "code",
   "execution_count": 15,
   "id": "162e624f-5048-49d2-9d5b-2913b3842a05",
   "metadata": {},
   "outputs": [],
   "source": [
    "pred_train_tfidf = model.predict(train)"
   ]
  },
  {
   "cell_type": "code",
   "execution_count": 16,
   "id": "b60cd3bd-29d2-4636-b4a3-9f92983edd39",
   "metadata": {},
   "outputs": [
    {
     "data": {
      "text/plain": [
       "0.8881304288117554"
      ]
     },
     "execution_count": 16,
     "metadata": {},
     "output_type": "execute_result"
    }
   ],
   "source": [
    "roc_auc_score(df.target, pred_train_tfidf)"
   ]
  },
  {
   "cell_type": "code",
   "execution_count": 17,
   "id": "88992df5-52bc-450d-9594-638e56b2cf53",
   "metadata": {},
   "outputs": [
    {
     "data": {
      "text/plain": [
       "array([[2609,   51],\n",
       "       [ 448, 1742]], dtype=int64)"
      ]
     },
     "execution_count": 17,
     "metadata": {},
     "output_type": "execute_result"
    }
   ],
   "source": [
    "confusion_matrix(df.target, pred_train_tfidf)"
   ]
  },
  {
   "cell_type": "code",
   "execution_count": null,
   "id": "b3043af0-7103-44ed-b677-ec455b2913a3",
   "metadata": {},
   "outputs": [],
   "source": []
  }
 ],
 "metadata": {
  "kernelspec": {
   "display_name": "Python 3 (ipykernel)",
   "language": "python",
   "name": "python3"
  },
  "language_info": {
   "codemirror_mode": {
    "name": "ipython",
    "version": 3
   },
   "file_extension": ".py",
   "mimetype": "text/x-python",
   "name": "python",
   "nbconvert_exporter": "python",
   "pygments_lexer": "ipython3",
   "version": "3.9.12"
  }
 },
 "nbformat": 4,
 "nbformat_minor": 5
}
